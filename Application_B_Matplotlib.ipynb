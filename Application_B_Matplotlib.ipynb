{
 "cells": [
  {
   "attachments": {},
   "cell_type": "markdown",
   "metadata": {},
   "source": [
    "## Matplotlib\n",
    "\n",
    "### Généralités\n",
    "\n",
    "Jusque ce tutoriel, vous avez peut-être été un peu frustrés des affichages que nous avons utilisés, car bon, afficher des longues listes de données de manière brute n'est pas toujours drôle ... Dans ce tutoriel, nous allons enfin apprendre à tracer des graphes :\n",
    "\n",
    "* en commençant par la base : un tracé d'une ligne.\n",
    "* on verra ensuite comment formater les figures pour les rendre plus belles.\n",
    "* on examinera ensuite comment faire des tracés plus avancés : les images, les `scatter`, les `patch` et les surfaces 3d.\n",
    "* on regardera comment exporter ces figures en un format utilisable ailleurs\n",
    "* et enfin on évoquera les tracés animés ou interactifs sous Jupyter.\n",
    "\n",
    "Les tracés sous Matplotlib sont gérés par le sous-module `matplotlib.pyplot`, que nous devons tout d'abord importer avant de tracer quoi que ce soit. Ce sous-module contient des objets de type `Figure`, `Axes`, `Lines`, qui sont les briques élémentaires nous permettant de construire un graphe. Les `Figure` peuvent contenir un ou plusieurs `Axes`, qui sont des zones de tracés [vous pouvez les voir comme des paires d'axes $(Oxy)$ ou $(Oxyz)$], qui eux-mêmes peuvent contenir chacun plusieurs `Lines` (ou d'ailleurs, d'autres objets). Le diagramme ci-dessous vous indique, à gauche, les liens _logiques_ qui existent entre ces différents _objets_ : les `Axes`, par exemple, _appartiennent_ à un objet `Figure` qui est son _parent_, et _possèdent_ des objets `Lines` qui sont leurs _enfants_. À droite, j'ai indiqué la hiérarchie _visuelle_ entre ces objets : les lignes sont bien tracées le long d'une paire d'axes, qui est elle-même placées dans la `Figure` générale. \n",
    "\n",
    "![img](./resources/figure_hierarchy.png)"
   ]
  },
  {
   "attachments": {},
   "cell_type": "markdown",
   "metadata": {},
   "source": [
    "------------------------------------------------------------\n",
    "\n",
    "### Tracé d'une figure simple avec `.plot()`\n",
    "\n",
    "_\"Comment est-ce que tout cela fonctionne en pratique si je veux juste tracer mes données ?_\", me direz-vous ? Eh bien, allons-y : \n",
    "\n",
    "* on va d'abord créer une `Figure` avec la commande `plt.figure()` directement \n",
    "* on va ensuite y ajouter des `Axes`: on appelle pour cela une _méthode_ des `Figure` nommée `add_axes()`.\n",
    "* et pour _tracer_ des données dans des `Axes`, on va appeler une _méthode_ des `Axes`, par exemple simplement `plot`.\n"
   ]
  },
  {
   "cell_type": "markdown",
   "metadata": {},
   "source": [
    "\n",
    "La méthode `add_axes()` nécessite un argument obligatoire en entrée, qui la position de l'objet `Axes` dans la `Figure` selon la convention `[bord gauche, bord bas, largeur, hauteur] `. Tous ces paramètres prennent des valeurs relatives de 0 à 1:\n",
    "* pour le bord gauche, $0$ va placer les axes tout à gauche, et $1$ va placer les axes tout à droite. \n",
    "* pour le bord du bas, c'est $0$ tout en bas et $1$ tout en haut\n",
    "* pour la largeur, $0$ est infiniment fin et $1$ prend toute la largeur\n",
    "* et il en va de même pour la hauteur des `Axes`\n",
    "Je vous conseille de laisser de la marge aux bords pour les axes, notamment si vous voulez donner un nom à l'axe $x$ et $y$ de vos `Axes`. Un choix raisonnable de valeurs est : `[0.15,0.15,0.7,0.7]`. \n",
    "\n",
    "On appelle ensuite la méthode `.plot()` des axes. Celle-ci peut prendre en entrée des tableaux Numpy, __mais s'en sort également bien avec les colonnes de tableaux Pandas, des listes en Python pur, etc__, donc il est relativement indépendant de la manière dont vous gérez vos nombres sous Python. \n",
    "\n",
    "Ma méthode est peut-être un peu pédestre pour les habitués de MATLAB, mais vous verrez, cela va nous éviter de nous emmêler les pinceaux plus tard si on veut rajouter des choses dans des graphes :-). "
   ]
  },
  {
   "cell_type": "code",
   "execution_count": null,
   "metadata": {},
   "outputs": [],
   "source": [
    "import matplotlib.pyplot as plt\n",
    "import numpy as np\n",
    "\n",
    "x = np.linspace(0,2*np.pi,500)\n",
    "y = np.cos(x)\n",
    "\n",
    "my_fig = plt.figure()\n",
    "my_ax = my_fig.add_axes([0.15,0.15,0.7,0.7])\n",
    "my_line = my_ax.plot(x,y)"
   ]
  },
  {
   "cell_type": "markdown",
   "metadata": {},
   "source": [
    "Même sans rien demander, notre environnement de travail a compris qu'il fallait à un moment afficher notre figure. Sympa, non ? Vous pouvez ensuite tout à fait ajouter des nouvelles lignes à vos `Axes` initiaux depuis une nouvelle cellule, mais dans ce cas il va vous falloir demander de re-tracer une nouvelle fois la `Figure` qui contient ces `Axes`. On peut faire ça en écrivant juste `my_fig` en dernier dans la cellule :"
   ]
  },
  {
   "cell_type": "code",
   "execution_count": null,
   "metadata": {},
   "outputs": [],
   "source": [
    "z = np.sin(x)\n",
    "my_other_line = my_ax.plot(x,z)\n",
    "my_fig"
   ]
  },
  {
   "cell_type": "markdown",
   "metadata": {},
   "source": [
    "Certains d'entre vous, les plus hackeurs probablement, vont paniquer : les bords des axes ont disparu ! En fait, non, ne vous inquiétez pas. Si vous avez choisi un thème _sombre_ pour votre éditeur de code, sachez que lors de l'appel à `my_fig`, le pourtour de la figure est transparent. Les nombres des axes étant noirs, ils deviennent invisibles lors de l'affichage... Gloups ! C'est peut-être le moment de changer pour le magnifique thème [Solarized-light](https://ethanschoonover.com/solarized/) :-) . \n",
    "\n",
    "Si vous voulez aller un peu plus vite et obtenir directement une `Figure` et des `Axes`, vous pouvez utiliser la commande `plt.subplots()` avec un `s` à la fin. Dans ce cas, Matplotlib va placer l'`Axes` automatiquement. Une chose en moins à gérer ! "
   ]
  },
  {
   "cell_type": "code",
   "execution_count": null,
   "metadata": {},
   "outputs": [],
   "source": [
    "fig, ax = plt.subplots()\n",
    "line = ax.plot(x,3*z)"
   ]
  },
  {
   "attachments": {},
   "cell_type": "markdown",
   "metadata": {},
   "source": [
    "-----------------------------------------------\n",
    "\n",
    "### Formater les figures \n",
    "\n",
    "Dans la figure précédente, on a laissé Matplotlib faire plein de choix au niveau de la taille des figures à l'épaisseur des lignes. Mais sachez que quasiment tout dans ces figures est modifiable. Nous allons voir dans cette section ce que l'on peut modifier dans les `Lines`, puis les `Axes`, puis les `Figure` et même `Matplotlib.pyplot()` lui-même (si si !). Si vous voulez une antisèche rapide, jetez un oeil au graphe ci-dessous, qui liste la plupart des propriétés que vous voudrez éditer et la manière d'y accéder. \n"
   ]
  },
  {
   "cell_type": "markdown",
   "metadata": {},
   "source": [
    "#### Les Lignes\n",
    "\n",
    "Il est possible de régler l'aspect de chaque ligne, son épaisseur, les éventuels marqueurs ainsi que la couleur de tous ces objets. Voyons donc dans l'ordre comment régler toutes ces choses !"
   ]
  },
  {
   "cell_type": "markdown",
   "metadata": {},
   "source": [
    "##### Épaisseur, tirets, marqueurs\n",
    "\n",
    "Pour changer le format de votre ligne, vous pouvez l'effectuer lors de l'appel à `.plot()`, en lui passant l'argument `'linestyle'`. Vous avez alors le choix entre une ligne pleine `'-'`, des tirets `'--'`, des pointillés `':'`, ou un trait mixte `'-.'`, voire rien du tout avec `'None'`. "
   ]
  },
  {
   "cell_type": "code",
   "execution_count": null,
   "metadata": {},
   "outputs": [],
   "source": [
    "import numpy as np\n",
    "import matplotlib.pyplot as plt\n",
    "\n",
    "x = np.linspace(0,4*np.pi,100)\n",
    "fig, ax = plt.subplots()\n",
    "line = ax.plot(x,np.sin(x), linestyle =':')"
   ]
  },
  {
   "cell_type": "markdown",
   "metadata": {},
   "source": [
    "Pour changer l'épaisseur de votre trait, rajoutez l'argument `linewidth` lors de l'appel à `.plot()`. Par défaut, l'épaisseur de 1 choisie par Matplotlib est en effet un peu grosse : "
   ]
  },
  {
   "cell_type": "code",
   "execution_count": null,
   "metadata": {},
   "outputs": [],
   "source": [
    "x = np.linspace(0,4*np.pi,100)\n",
    "fig, ax = plt.subplots()\n",
    "line = ax.plot(x,np.sin(x), linewidth=0.5)"
   ]
  },
  {
   "cell_type": "markdown",
   "metadata": {},
   "source": [
    "Vous pouvez décider également d'ajouter des marqueurs, en ajoutant l'option `'marker'`. Vous avez alors le choix entre `'x'` (un x), `'+'` (un +, pardi), `'*'` (une étoile, bien sûr), `'s'` (un carré), `'d'` (un losange), `'o'` (un cercle), `'v'`, `'>'`, `'<'`, `'^'` (des triangles qui pointent dans diverse directions), [et bien d'autres ...](https://matplotlib.org/stable/api/markers_api.html). Si vous voulez tracer juste les marqueurs et non la ligne qui va avec, n'oubliez pas de préciser `linestyle='None'` !"
   ]
  },
  {
   "cell_type": "code",
   "execution_count": null,
   "metadata": {},
   "outputs": [],
   "source": [
    "x = np.linspace(0,4*np.pi,50)\n",
    "fig, ax = plt.subplots()\n",
    "line = ax.plot(x,np.sin(x), marker='d', linestyle ='None')"
   ]
  },
  {
   "cell_type": "markdown",
   "metadata": {},
   "source": [
    "##### Couleurs\n",
    "\n",
    "Vous pouvez également spécifier la couleur d'une ligne au moment où vous la tracez. Pour spécifier une couleur de ligne lors du tracé, ajoutez l'option `color` et précisez-lui une couleur. Vous pouvez spécifier les couleurs : \n",
    "\n",
    "* Par un nom _bref_ d'une lettre à la façon de MATLAB, avec `'b'` (bleu), `'r'` (rouge), `'g'` (vert), `'y'` (jaune), `'c'` (cyan), `'m'` (magenta), `'w'` (blanc), `'k'` (noir)\n",
    "* Via un nom de couleur HTML, par exemple `'orchid'` ou `'peru'` (_si, si !_). La liste complète de ces couleurs est [disponible ici](https://www.w3schools.com/colors/colors_names.asp).\n",
    "* En précisant un code hexadécimal pour la couleur. Ces codes sont du type `#RRGGBB` au format hexadécimal, c'est à dire en base 16. Vous pouvez rapidement convertir des triplets `R,G,B` (chacun allant de 0 à 255) en code hexadécimal, même [sur Google](https://www.google.com/search?q=rgb+to+hex). Ce code devra être compris entre des guillemets pour être correctement interprété."
   ]
  },
  {
   "cell_type": "code",
   "execution_count": null,
   "metadata": {},
   "outputs": [],
   "source": [
    "import numpy as np\n",
    "import matplotlib.pyplot as plt\n",
    "\n",
    "x = np.linspace(0,4*np.pi,100)\n",
    "fig, ax = plt.subplots()\n",
    "line = ax.plot(x,np.sin(x), color='r')                     # MATLAB-style color\n",
    "line = ax.plot(x,np.sin(x+np.pi/3), color='goldenrod')     # HTML named color : yes, goldenrod is a color !\n",
    "line = ax.plot(x,np.sin(x+2*np.pi/3), color='#55aaFF')     # RGB values if you want maximum flexibility "
   ]
  },
  {
   "cell_type": "markdown",
   "metadata": {},
   "source": [
    "Si vous avez des marqueurs, comment est-ce que ça marche ? L'option `color` va remplir la ligne et le marqueur d'une couleur uniforme. Mais, si vous êtes un esthète comme moi, vous aurez peut-être plus envie de préciser une couleur pour _le bord_ du marqueur appelée `markeredgecolor`, et une autre pour le _fond_ de celui-ci `markerfacecolor`. Si vous êtes encore plus un furieux, sachez que vous pouvez également régler l'épaisseur _du trait du bord du marqueur_, `markeredgewidth`, qui vaut également 1 par défaut. Certains marqueurs, comme `'+'` et `'x'`, n'ont pas d'_intérieur_, il n'est donc pas nécessaire de régler leur `markerfacecolor`. \n",
    "\n",
    "Essayez de jouer avec la figure suivante pour la rendre moins moche ! Une bonne approche consiste à choisir comme couleur de bord une version 'un peu plus sombre' de la couleur du fond du marqueur. "
   ]
  },
  {
   "cell_type": "code",
   "execution_count": null,
   "metadata": {},
   "outputs": [],
   "source": [
    "x = np.linspace(0,4*np.pi,50)\n",
    "fig, ax = plt.subplots()\n",
    "line = ax.plot(x,np.sin(x), linestyle='--', marker='s', markeredgecolor='teal', markerfacecolor='orange', markeredgewidth=3)      "
   ]
  },
  {
   "cell_type": "markdown",
   "metadata": {},
   "source": [
    "__Exercice__ : \n",
    "\n",
    "* Que se passe-t-il si je précise à la fois `color`, `markeredgecolor` et `markerfacecolor` ? Est-ce que certains choix de couleurs sont 'écrasées' en fonction de l'ordre d'appel des arguments ?"
   ]
  },
  {
   "cell_type": "markdown",
   "metadata": {},
   "source": [
    "#### Les Axes \n",
    "\n",
    "Les Axes sont le coeur de Matplotlib, donc ne soyez pas épouvanté.e.s devant la longue liste de choses qu'il est possible d'éditer. Nous allons nous concentrer sur certaines propriétés-clé, sachant que nous avons déjà vu comment _placer_ nos `Axes` dans la figure*. Contrairement aux objets `Lines`, il est plus utile de formater les axes _après_ les avoir créés. On va donc appeler tout un tas de _méthodes_ du type `ax.set_machin()` afin de rendre nos figures encore plus belles !\n",
    "\n",
    "<small>* si vous n'êtes pas content de la position de vos axes, vous pouvez les bouger avec la méthode `ax.set_position()` après avoir tracé vos données </small>"
   ]
  },
  {
   "cell_type": "markdown",
   "metadata": {},
   "source": [
    "##### Limites en x et y\n",
    "\n",
    "Préciser les limites de vos axes est assez simple ! Pour cela, vous pouvez utiliser les méthodes `ax.set_xlim()` et `ax.set_ylim()`. Ceux-ci prennent en entrée une liste de deux nombres, le second étant, vous l'aurez deviné, plus grand que le premier... logique. Étant une personne très positive, je n'aime pas trop la partie négative des graphes, je choisis donc : "
   ]
  },
  {
   "cell_type": "code",
   "execution_count": null,
   "metadata": {},
   "outputs": [],
   "source": [
    "import numpy as np\n",
    "import matplotlib.pyplot as plt\n",
    "\n",
    "x = np.linspace(0,4*np.pi,100)\n",
    "fig, ax = plt.subplots()\n",
    "line = ax.plot(x,np.sin(x))\n",
    "ax.set_xlim([0,6])\n",
    "ax.set_ylim([0,1])"
   ]
  },
  {
   "cell_type": "markdown",
   "metadata": {},
   "source": [
    "__Exercice__ : Rétablissez l'équilibre cosmique de l'axe $y$, et essayez de choisir une valeur de $x$ maximale qui tombe exactement sur une (demi)-période de ma fonction."
   ]
  },
  {
   "cell_type": "markdown",
   "metadata": {},
   "source": [
    "##### Etiquettes des axes et titre\n",
    "\n",
    "Les étiquettes de données et les titres ne sont pas des simples chaînes de caractères, et les objets qui leur correspondent sont en fait assez difficiles à trouver dans la hiérarchie des figures. Matplotlib nous fournit donc gracieusement les trois méthodes `ax.set_xlabel()`, `ax.set_ylabel()` et `ax.set_title()` pour préciser les étiquettes des données des axes $x$ et $y$ et le titre. Voyons leur effet en action : "
   ]
  },
  {
   "cell_type": "code",
   "execution_count": null,
   "metadata": {},
   "outputs": [],
   "source": [
    "import numpy as np\n",
    "import matplotlib.pyplot as plt\n",
    "\n",
    "x = np.linspace(0,4*np.pi,50)\n",
    "fig, ax = plt.subplots()\n",
    "line = ax.plot(x,np.arctan(x))\n",
    "xlb = ax.set_xlabel('Kittens')\n",
    "ylb = ax.set_ylabel('Happiness')\n",
    "ttl = ax.set_title('Kitten Yield Curve')"
   ]
  },
  {
   "cell_type": "markdown",
   "metadata": {},
   "source": [
    "Vous pouvez mettre un peu de $\\LaTeX$ dans vos étiquettes de données, Matplotlib le comprend un peu. Mais faites attention, avant d'être interprétée par $\\LaTeX$, la chaîne que vous écrivez va être évaluée (l'équivalent de la fonction `print()`). Donc si vous voulez écrire du code $\\TeX$ avec des barres obliques  `'\\'`, vous devrez les doubler dans votre chaîne Python originale ! Voyez donc dans l'exemple suivant, ce à quoi ressemble mon `ytex_label` une fois que je l'affiche : "
   ]
  },
  {
   "cell_type": "code",
   "execution_count": null,
   "metadata": {},
   "outputs": [],
   "source": [
    "x = np.linspace(0,4*np.pi,50)\n",
    "fig, ax = plt.subplots()\n",
    "line = ax.plot(x,np.sin(x))\n",
    "\n",
    "ytex_label = '$x - \\\\frac{x^3}{3!} + \\\\frac{x^5}{5!} - \\\\ldots$'    # Will be\n",
    "xtex_label = '$x$'\n",
    "print(ytex_label)\n",
    "xlb = ax.set_xlabel(xtex_label)\n",
    "ylb = ax.set_ylabel(ytex_label)"
   ]
  },
  {
   "cell_type": "markdown",
   "metadata": {},
   "source": [
    "##### Les graduations, pour les gens ayant des tic(k)s\n",
    "\n",
    "Cette fois-ci, on va se concentrer sur les graduations de vos graphes. Elles sont composées de _trois_ éléments, les `major ticks`, les `major tick labels` et les `minor ticks`. Je vais délaisser les `minor ticks` et ne voux expliquer que le fonctionnement des autres. La manière la plus simple de choisir la position de vos `major ticks` est d'utiliser la méthode `ax.set_xticks()` et de lui donner en entrée la liste des valeurs (en Python, donc) à laquelle vous voulez voir des graduations. Par défaut, Matplotlib va afficher la valeur de $x$ correspondant à la position de la graduation : si on met une graduation à $x = 9$, eh bien il va afficher ... $9$, sans surprise. \n",
    "\n",
    "Vous pouvez modifier ce comportement en utilisant la méthode `ax.set_xticklabels()`. Celle-ci prend en entrée un tableau de chaînes de caractères (`str`) de la même longueur que celui passé à `set_xticks()`, mais hormis cela vous pouvez être très créatifs :"
   ]
  },
  {
   "cell_type": "code",
   "execution_count": null,
   "metadata": {},
   "outputs": [],
   "source": [
    "import numpy as np\n",
    "import matplotlib.pyplot as plt\n",
    "\n",
    "x = np.linspace(0,4*np.pi,100)\n",
    "fig, ax = plt.subplots()\n",
    "line = ax.plot(x,np.sin(x), color='r')                     # MATLAB-style color\n",
    "line = ax.plot(x,np.sin(x+np.pi/3), color='goldenrod')     # HTML named color : yes, goldenrod is a color !\n",
    "line = ax.plot(x,np.sin(x+2*np.pi/3), color='#55aaFF')     # RGB values if you want maximum flexibility \n",
    "\n",
    "xtck = ax.set_xticks([0,1,3,9,12])\n",
    "ytck = ax.set_yticks([-1,-0.5,0.0,0.5,1])\n",
    "xtlb = ax.set_xticklabels(['jean', 'paul', 'firmin', 'olivia', 'layella'])"
   ]
  },
  {
   "cell_type": "markdown",
   "metadata": {},
   "source": [
    "Si vous voulez éditer plus en détail les graduations de votre tracé, vous pouvez vous réferer à [la page Matplotlib permettant de les formater](https://matplotlib.org/stable/api/_as_gen/matplotlib.axes.Axes.tick_params.html).\n",
    "\n",
    "__Exercice__ : Soyez un très bon élève et placez des `x major ticks` pour tous les multiples de $\\pi$, puis affichez explicitement ces valeurs comme $\\pi, 2\\pi, 3\\pi$ en $\\LaTeX$ dans les `x major tick labels` de la figure ci-dessus."
   ]
  },
  {
   "cell_type": "markdown",
   "metadata": {},
   "source": [
    "##### Axes Logarithmiques\n",
    "\n",
    "Si vous êtes astrophysicien.ne, vous ne jurez probablement que par les axes en échelle logarithmique car vos données sont de toute manière trop peu précises pour ne pas juste ressembler à un fouillis en échelle normale. De la même manière, les rhéologues apprécient de pouvoir examiner la réponse de leurs fondus de polymères sur de nombreuses décades en $x$. Matplotlib est là pour nous, une fois de plus, avec les méthodes `ax.set_xscale()` et `ax.set_yscale()`, qui prennent en entrée des chaînes de caractère, principalement `'lin'` ou `'log'` [(voir ici pour d'autres choix si vous êtes un original)](https://matplotlib.org/stable/gallery/scales/scales.html)."
   ]
  },
  {
   "cell_type": "code",
   "execution_count": null,
   "metadata": {},
   "outputs": [],
   "source": [
    "import numpy as np\n",
    "import matplotlib.pyplot as plt\n",
    "\n",
    "x = np.logspace(-3,3,1000) # A linspace but in log scale. Neat ! \n",
    "fig, ax = plt.subplots()\n",
    "ax.plot(x,1 + x**0.5)\n",
    "ax.set_xscale('log')\n",
    "ax.set_yscale('log')"
   ]
  },
  {
   "cell_type": "markdown",
   "metadata": {},
   "source": [
    "__Exercice__ : Trouvez un jeu d'axes $x$ et $y$ (`'log'` ou `'lin'`) pour lequel les données `x` et `y` suivantes s'alignent selon une droite : "
   ]
  },
  {
   "cell_type": "code",
   "execution_count": null,
   "metadata": {},
   "outputs": [],
   "source": [
    "import matplotlib.pyplot as plt\n",
    "\n",
    "x = [65.0, 18.6, 28.1, 39.0, 114.8, 11.1, 15.3, 24.0, 20.5, 78.9, 59.2, 33.8, 46.1,94.1, 12.2]\n",
    "y = [4.17, 2.92, 3.37, 3.69, 4.70 , 2.40, 2.74, 3.18, 3.02, 4.31, 4.02, 3.5, 3.83, 4.54, 2.50]\n",
    "\n",
    "fig, ax = plt.subplots()\n",
    "plt = ax.plot(x,y, 'kx')"
   ]
  },
  {
   "cell_type": "markdown",
   "metadata": {},
   "source": [
    "##### Grille et couleur de fond\n",
    "\n",
    "Vous pouvez enfin rajouter une grille dans vos axes afin de vraiment avoir cet aspect distingué qu'ont certains graphes Excel ou infographies. Comment ? Tout simplement grâce à la méthode `ax.grid`, à laquelle vous pouvez renvoyer `True` ou `False`. Sinon, vous pouvez lui donner en argument : \n",
    "* les axes sur lesquelles la grille s'applique avec `which`, qui peut être égal à `'x'` ou `'y'` ou `'both'` \n",
    "* une couleur avec `color`  \n",
    "* un style de ligne avec `linestyle`\n",
    "* une épaisseur de ligne avec `linewidth`\n",
    "\n",
    "La couleur du fond des `Axes`, se règle avec `ax.set_facecolor()` (il est _de retour_). On peut donc produire la merveille suivante : "
   ]
  },
  {
   "cell_type": "code",
   "execution_count": null,
   "metadata": {},
   "outputs": [],
   "source": [
    "import numpy as np\n",
    "import matplotlib.pyplot as plt\n",
    "\n",
    "x = np.linspace(-3,3,100) \n",
    "fig, ax = plt.subplots()\n",
    "ax.plot(x,1 + np.cbrt(x), color='lightcoral', linewidth=4)\n",
    "ax.set_facecolor('lime')\n",
    "ax.grid(which='both', color='darkorchid', linestyle='--', linewidth=3)\n",
    "ttl = ax.set_title('My Masterpiece')"
   ]
  },
  {
   "cell_type": "markdown",
   "metadata": {},
   "source": [
    "#### Les figures\n",
    "\n",
    "Les figures ont comparativement moins d'options que vous pouvez paramétrer. Les deux principales propriétés de ces figures sont leur largeur, donnée par `fig.set_figwidth()` et sa hauteur, `fig.set_figheight()`. _Par défaut_, la taille de ces figures est de 6.4 pouces de large et 4.8 pouces de haut (merci les États-Uniens ...), ce qui fait 16.3 cm par 12.2 pour les personnes civilisées."
   ]
  },
  {
   "cell_type": "code",
   "execution_count": null,
   "metadata": {},
   "outputs": [],
   "source": [
    "import numpy as np\n",
    "import matplotlib.pyplot as plt\n",
    "\n",
    "f, ax = plt.subplots()\n",
    "f.set_figwidth(3)\n",
    "f.set_figheight(2)\n",
    "\n",
    "x = np.linspace(-3,3,100)\n",
    "lin = ax.plot(x, 1/(1+x**2))"
   ]
  },
  {
   "attachments": {},
   "cell_type": "markdown",
   "metadata": {},
   "source": [
    "#### Pyplot _lui-meme_ : les feuilles de style!\n",
    "\n",
    "Il est possible de modifier le comportement de `pyplot` lui-même : dans ce cas, _tous_ les graphes que vous tracerez ensuite seront affectés. Bien souvent, il faut aller trifouiller dans une boîte de paramètres généraux de `matplotlib.pyplot` appelée `rcParams`. Cet objet ressemble à un dictionnaire et possède de _très nombreuses_ clés, et est très puissante. Un aperçu de ce que vous pouvez faire avec `rcParams` [est disponible en suivant ce lien](\n",
    "https://matplotlib.org/stable/tutorials/introductory/customizing.html). Dans cette section, je vais volontairement éviter d'utiliser cette boîte à outils compliquée et simplement évoquer les _feuilles de style_ (qui ne passent pas par `rcParams`).\n",
    "\n",
    "La fonction `plt.style.use()` vous permet de choisir parmi une des [diverses feuilles de style disponibles](https://matplotlib.org/stable/gallery/style_sheets/style_sheets_reference.html) sous Matplotlib. Si vous êtes un esthète (vous avez raison) et que vous voulez utiliser le magnifique thème `'Solarize_Light2'` (pas de `d`, un `_` et un `2`), vous pouvez alors enfin avoir vos graphes et votre interface en harmonie. De même, si vous êtes un hacker® et que vous voulez des graphes sur fond noir, le thème `'dark_background'` est fait pour vous."
   ]
  },
  {
   "cell_type": "code",
   "execution_count": null,
   "metadata": {},
   "outputs": [],
   "source": [
    "import numpy as np\n",
    "import matplotlib.pyplot as plt\n",
    "\n",
    "plt.style.use('Solarize_Light2')\n",
    "x = np.linspace(-3,3,100)\n",
    "\n",
    "f1, ax1 = plt.subplots()\n",
    "f1.set_figwidth(3), \n",
    "f1.set_figheight(2)\n",
    "lin11 = ax1.plot(x, 1/(1+x**2))\n",
    "lin12 = ax1.plot(x, x/(1+x**2))\n",
    "\n",
    "f2, ax2 = plt.subplots()\n",
    "f2.set_figwidth(3), \n",
    "f2.set_figheight(2)\n",
    "for i in range(7):\n",
    "    ln = ax2.plot(x, x**2 - i*x)"
   ]
  },
  {
   "cell_type": "markdown",
   "metadata": {},
   "source": [
    "#### Antisèche \n",
    "\n",
    "Je reprends ici une antisèche listant les diverses méthodes qui s'appliquent à votre figure (gracieusement reprise depuis le site de Matplotlib)\n"
   ]
  },
  {
   "cell_type": "markdown",
   "metadata": {},
   "source": [
    "![img](./resources/matplotlib_figure.png)"
   ]
  },
  {
   "attachments": {},
   "cell_type": "markdown",
   "metadata": {},
   "source": [
    "--------------------------------------------\n",
    "\n",
    "### Tracés avancés\n",
    "\n",
    "Tracer des lignes et des séries de symboles, c'est fort joli, mais parfois, il va vous falloir tracer _autre chose_. Comment se débrouille-t-on dans le cas d'une _image_, d'une _surface_, ... ? Nous allons nous charger de ces cas un peu plus récalcitrants dans cette section."
   ]
  },
  {
   "cell_type": "markdown",
   "metadata": {},
   "source": [
    "#### Les images\n",
    "\n",
    "Afficher des images s'effectue avec la méthode `ax.imshow()`, qui prend en entrée un tableau 2d de coordonnées. Simple, non ? Pour les amateurs de MATLAB, cette fonction ressemble beaucoup à `imagesc`."
   ]
  },
  {
   "cell_type": "code",
   "execution_count": null,
   "metadata": {},
   "outputs": [],
   "source": [
    "import numpy as np\n",
    "import matplotlib.pyplot as plt\n",
    "\n",
    "fig, ax = plt.subplots()\n",
    "plt.style.use('default')\n",
    "\n",
    "x = np.linspace(-3,3,1000)\n",
    "y = np.linspace(-3,3,1000)\n",
    "[X,Y] = np.meshgrid(x,y)   # Building 2d X and Y scales both spanning from -5 to 5\n",
    "Z = np.sinc(X**2 + Y**2)   # Complicated but circular function \n",
    "im = ax.imshow(Z)"
   ]
  },
  {
   "attachments": {},
   "cell_type": "markdown",
   "metadata": {},
   "source": [
    "Oh ! La belle bleue. Mais ... mais ... attendez ! Qui a choisi les couleurs ? Et mes axes ? Mauvaise nouvelle, on ne peut pas juste donner à `imshow()` des coordonnées $X$ et $Y$ à 2d pour qu'il trace les pixels aux bons endroits. Si vous voulez _vraiment_ faire ça, vous pouvez utiliser à la place la fonction `ax.pcolor()`, mais sachez qu'elle est _lente_ quand vos tableaux de données deviennent grands !"
   ]
  },
  {
   "cell_type": "markdown",
   "metadata": {},
   "source": [
    "##### Placer ses axes avec `ax.imshow()`\n",
    "\n",
    "Le choix de vos axes va s'effectuer en ajoutant une option nommée `extent` lors de l'appel à `ax.imshow()`. Vous pouvez alors préciser les limites en $x$ et $y$ de vos données, avec une liste ou un tableau du type `[bord_gauche, bord_droite, bord_bas, bord_haut]`. Dans notre cas, il est assez raisonnable de choisir comme bords les valeurs extrémales de $X$ et $Y$ : "
   ]
  },
  {
   "cell_type": "code",
   "execution_count": null,
   "metadata": {},
   "outputs": [],
   "source": [
    "import numpy as np\n",
    "import matplotlib.pyplot as plt\n",
    "\n",
    "fig, ax = plt.subplots()\n",
    "\n",
    "x = np.linspace(-5,5,300)\n",
    "[X,Y] = np.meshgrid(x,x)   # Building 2d X and Y scales both spanning from -5 to 5\n",
    "my_bounds = [np.min(X), np.max(X), np.min(Y), np.max(Y)]\n",
    "\n",
    "Z = np.sinc(np.sqrt(X**2 + Y**2))   # Complicated but circular function \n",
    "im = ax.imshow(Z, extent=my_bounds)"
   ]
  },
  {
   "cell_type": "markdown",
   "metadata": {},
   "source": [
    "##### Choisir ses couleurs \n",
    "\n",
    "Vous pouvez changer deux choses si vous voulez régler les couleurs de votre image. La première chose qui vient à l'esprit consiste à changer de _palette_ de couleurs (_colormaps_ en anglais). Il en existe à nouveau de [très nombreuses _colormaps_](https://matplotlib.org/stable/tutorials/colors/colormaps.html), j'en liste seulement quelques-unes d'intérêt ici. __Attention aux majuscules et minuscules__ ! \n",
    "\n",
    "![img](./resources/mpl_cmaps.png)\n",
    "\n",
    "Vous pouvez alors, soit appeler la fonction `ax.imshow()` et lui préciser en argument supplémentaire l'option `cmap` avec une des palettes disponibles, par exemple `'Magma'`. À l'inverse, si l'image est déjà tracée, vous pouvez utiliser la méthode `im.set_cmap()` de l'image elle-même pour changer la palette, en lui donnant à nouveau à 'manger' la palette de vos rêves. "
   ]
  },
  {
   "cell_type": "code",
   "execution_count": null,
   "metadata": {},
   "outputs": [],
   "source": [
    "im.set_cmap('hsv')\n",
    "fig"
   ]
  },
  {
   "cell_type": "markdown",
   "metadata": {},
   "source": [
    "__Exercice__ : Amusez-vous à changer la palette de couleurs et essayez de trouver la plus adaptée et la moins adaptée afin de comprendre à quoi ressemble notre fonction ${\\rm sinc}$. "
   ]
  },
  {
   "attachments": {},
   "cell_type": "markdown",
   "metadata": {},
   "source": [
    "Par défaut, l'échelle de couleurs s'étend du minimum au maximum de la plage de données que vous lui donnez à manger : par exemple, le bleu très foncé de `viridis` va correspondre à `min(Z)` et le jaune fluo à l'autre extrémité de la palette va correspondre à `max(Z)`. Si vous voulez que les couleurs extrêmes de vos palettes correspondent à la place à des valeurs que vous précisez explicitement, vous pouvez utiliser les options `vmin` et `vmax` lors de l'appel à la méthode `.imshow()`, par exemple : "
   ]
  },
  {
   "cell_type": "code",
   "execution_count": null,
   "metadata": {},
   "outputs": [],
   "source": [
    "im = ax.imshow(Z, cmap='Spectral', extent=my_bounds, vmin=-0.5, vmax=0.5)\n",
    "fig"
   ]
  },
  {
   "attachments": {},
   "cell_type": "markdown",
   "metadata": {},
   "source": [
    "Avec notre choix de `cmap`, `vmin` et `vmax`, on voit ici mieux les lobes positifs (bleus) et négatifs (orange / rouge) de notre fonction ${\\rm sinc(r)}$.\n",
    "\n",
    "__Exercice__ : à l'heure actuelle, il n'est pas possible d'avoir plus d'un objet `.imshow()` par axe, mais vous pouvez très bien ajouter des lignes par dessus votre image ! Essayez par exemple de superposer à l'image précédente des cercles correspondant aux changements de signe de la fonction ${\\rm sinc}$ : notez qu'elle est définie ici comme $\\sin(\\pi r) / (\\pi r)$."
   ]
  },
  {
   "cell_type": "code",
   "execution_count": null,
   "metadata": {},
   "outputs": [],
   "source": [
    "# Chop chop !"
   ]
  },
  {
   "attachments": {},
   "cell_type": "markdown",
   "metadata": {},
   "source": [
    "##### Les colorbars\n",
    "\n",
    "Les barres de couleurs sont là pour aider le lecteur de la figure afin qu'il sache à quelle plage de données correspondent les couleurs. C'est une forme _visuelle_ de ce qu'on a codé avec les arguments `vmin` et `vmax` et `cmap`. On peut demander à Matplotlib de l'afficher pour nous.\n",
    "\n",
    "Les objets `colorbar` sont en fait des axes et appartiennent à la figure. On va donc les créer avec `fig.colorbar()`. Nous allons alors indiquer en option l'image que nous venons d'afficher, et Matplotlib se débrouillera pour comprendre la palette de couleurs utilisée et les valeurs de `vmin` et `vmax`. On peut préciser un `label` à l'objet `colorbar`, qui indiquera quelle quantité physique correspond à l'échelle de couleurs.\n",
    "\n",
    "Plus d'informations à ce sujet [en suivant ce lien](https://matplotlib.org/stable/api/_as_gen/matplotlib.pyplot.colorbar.html) !"
   ]
  },
  {
   "cell_type": "code",
   "execution_count": null,
   "metadata": {},
   "outputs": [],
   "source": [
    "import numpy as np\n",
    "import matplotlib.pyplot as plt\n",
    "\n",
    "fig, ax = plt.subplots()\n",
    "\n",
    "x = np.linspace(-5,5,300)\n",
    "[X,Y] = np.meshgrid(x,x)   # Building 2d X and Y scales both spanning from -5 to 5\n",
    "my_bounds = [np.min(X), np.max(X), np.min(Y), np.max(Y)]\n",
    "\n",
    "Z = np.sinc(np.sqrt(X**2 + Y**2))   # Complicated but circular function \n",
    "im = ax.imshow(Z, extent=my_bounds, vmin=-1, vmax=1, cmap='RdYlBu')\n",
    "\n",
    "cb = fig.colorbar(im, label='Z-value')"
   ]
  },
  {
   "attachments": {},
   "cell_type": "markdown",
   "metadata": {},
   "source": [
    "#### Aires sous la courbe (ou entre courbes)\n",
    "\n",
    "Si vous êtes un fanatique de mathématiques ou d'Isaac Newton, vous aurez peut-être envie dans votre vie de colorer l'aire sous une courbe, voire entre deux courbes. Sous Matplotlib, c'est très simple. Tracez d'abord vos deux lignes en question, puis utilisez la méthode `.fill_between()`. Donnez-lui à manger l'échelle des $x$ puis les deux séries $y_1$, $y_2$, et le tour est joué !"
   ]
  },
  {
   "cell_type": "code",
   "execution_count": null,
   "metadata": {},
   "outputs": [],
   "source": [
    "import numpy as np\n",
    "import matplotlib.pyplot as plt\n",
    "\n",
    "x = np.linspace(-5,5, 300)\n",
    "y1 = np.exp(-x**2/2)/(np.sqrt(2*np.pi))\n",
    "y2 = 1/np.pi/(1 + x**2)\n",
    "\n",
    "fig, ax = plt.subplots()\n",
    "ax.plot(x, y1, label='Normal')\n",
    "ax.plot(x, y2, label='Lorentz')\n",
    "ax.fill_between(x, y1, y2, color='gold', label='Difference')\n",
    "\n",
    "lgd = ax.legend()"
   ]
  },
  {
   "attachments": {},
   "cell_type": "markdown",
   "metadata": {},
   "source": [
    "__Exercices__ : \n",
    "\n",
    "* Trouvez un moyen _bête et rapide_ pour tracer l'aire sous la courbe Lorentzienne, soit entre $y=0$ et cette courbe.\n",
    "* Faites en sorte que les aires aient une couleur différente si la Lorentzienne est plus grande que la loi normale et inversement. Aidez-vous éventuellement de la [documentation en ligne](https://matplotlib.org/stable/api/_as_gen/matplotlib.pyplot.fill_between.html)."
   ]
  },
  {
   "attachments": {},
   "cell_type": "markdown",
   "metadata": {},
   "source": [
    "#### Histogrammes\n",
    "\n",
    "La syntaxe de tracé des histogrammes sous Matplotlib reprend celle de [Numpy](./Application_A_Numpy.ipynb#Histogrammes), et va directement tracer l'histogramme à partir de votre série de données et des 'boîtes' (_bins_) que Numpy ou vous-même avez spécifiées. Il est également à nouveau possible de passer l'option `density` pour obtenir une distribution de probabilité (pdf). La méthode `ax.hist()` renvoie les boîtes (`bins`) et les fréquences d'occurrence (les `counts`) en plus de l'objet 'histogramme' à l'utilisateur. On peut donc écrire, pour des valeurs distribuées selon une loi normale : "
   ]
  },
  {
   "cell_type": "code",
   "execution_count": null,
   "metadata": {},
   "outputs": [],
   "source": [
    "import numpy as np\n",
    "import matplotlib.pyplot as plt\n",
    "\n",
    "dat = np.random.normal(scale=1, size=int(1e3))\n",
    "\n",
    "fig, ax = plt.subplots()\n",
    "counts, bins, my_hist = ax.hist(dat, bins=np.arange(-4,4,0.1), density=True) # bins and counts are also returned if you want to use them"
   ]
  },
  {
   "attachments": {},
   "cell_type": "markdown",
   "metadata": {},
   "source": [
    "__Exercice__ : Superposez la loi normale théorique : \n",
    "\n",
    "$$ \\mathcal{N}(x) = \\frac{1}{\\sqrt{2 \\pi}} \\exp \\left ( - \\frac{x^2}{2}\\right ) $$\n",
    "\n",
    "à la distribution expérimentale. À partir de combien d'échantillons la distribution expérimentale est-elle en bon accord (visuel) avec la loi théorique ?"
   ]
  },
  {
   "attachments": {},
   "cell_type": "markdown",
   "metadata": {},
   "source": [
    "#### Nuages de points : les `.scatter()`\n",
    "\n",
    "À première vue, il semble superflu de proposer une fonction permettant de tracer des nuages de points, car ... cela est possible simplement avec la méthode `.plot()` et en retirant les lignes, non ? Vous avez parfaitement raison. Mais, parfois, il est intéressant de coder des informations supplémentaires dans la taille ou la couleur de vos marqueurs, de manière individuelle. Et, malheureusement, `.plot()` n'en est pas vraiment capable, mais coup de chance, c'est précisément le rôle de `.scatter()` !"
   ]
  },
  {
   "attachments": {},
   "cell_type": "markdown",
   "metadata": {},
   "source": [
    "\n",
    "Prenons un exemple concret de données de développement entre pays fournies gracieusement par l'[ONU à l'adresse suivante](https://hdr.undp.org/data-center/human-development-index#/indicies/HDI). Ce jeu de données contient de nombreux indicateurs, comme l'espérance de vie à la naissance, la consommation de CO2 par habitant, le PIB par habitant, l'indice (agrégé) de développement humain, la durée moyenne de l'éducation des élèves, ... et ce pour deux années, 1990 et 2021. \n",
    "\n",
    "Avec _scatter_, je peux afficher plus que deux informations en même temps : \n",
    "* je peux regarder si, par exemple, les émissions de CO2 (axe Y) sont corrélées à un PIB plus élevé (axe X) et à un indice de développement humain plus élevé (couleurs) en tenant compte de la taille de chaque population (taille des marqueurs)\n",
    "* je peux regarder si la progression de l'indice de développement humain (HDI) des hommes et des femmes est corrélée de 1990 à 2021, tout en affichant le 'point de départ' (l'HDI moyen en 1990) de ces pays via les couleurs des symboles. \n",
    "\n",
    "Les deux options `c` (pour `color`) et `s` (pour `size`, en tant qu'_aire_ du marqueur) que l'on peut préciser dans `scatter()` prennent en entrée soient une couleur unique, soit un tableau de couleurs (par exemple au format HTML), soit un tableau de valeurs numériques de la même taille que la série de données initiale. Plus d'informations [en suivant ce lien](https://matplotlib.org/stable/api/_as_gen/matplotlib.pyplot.scatter.html).\n",
    "\n",
    "_Note_ : Cette cellule utilise [Pandas](pandas.pydata.org/), dont je décris en détail le fonctionnement dans [l'Application D](./Application_D_Pandas.ipynb) pour gérer les données."
   ]
  },
  {
   "cell_type": "code",
   "execution_count": null,
   "metadata": {},
   "outputs": [],
   "source": [
    "import pandas as pd\n",
    "import matplotlib.pyplot as plt\n",
    "\n",
    "dat = pd.read_csv('./resources/un_hdr_data.csv')\n",
    "\n",
    "fig, ax = plt.subplots()\n",
    "\n",
    "sct = ax.scatter(dat['gnipc_2021'], dat['co2_prod_2021'], c=dat['hdi_2021'], s=np.sqrt(dat['pop']), edgecolor='k')  # Here I put sqrt(population) otherwise China too big !\n",
    "ax.set_xscale('log')\n",
    "ax.set_yscale('log')\n",
    "ax.set_xlabel('GDP per capita (PPP dollars)')\n",
    "ax.set_ylabel('CO2 emissions per capita (tonnes)')\n",
    "cb = fig.colorbar(sct, label='Human development Index')"
   ]
  },
  {
   "attachments": {},
   "cell_type": "markdown",
   "metadata": {},
   "source": [
    "On voit ici assez nettement que les pays les plus pauvres émettent moins ce CO2 par habitant que les pays les plus riches, et que pour les plus riches, on commence à voir un ralentissement, voire un début de plateau (tant mieux pour la planète ...). Les couleurs nous indiquent en outre que les pays les plus riches sont également les plus développés (d'uh ... sachant que la richesse par habitant fait partie de l'indice de développement). Les deux énormes points que sont l'Inde et la Chine ne font pas particulièrement exception dans ce graphique.\n",
    "\n",
    "Pour ce qui est du second tracé : "
   ]
  },
  {
   "cell_type": "code",
   "execution_count": null,
   "metadata": {},
   "outputs": [],
   "source": [
    "import pandas as pd\n",
    "import matplotlib.pyplot as plt\n",
    "\n",
    "dat = pd.read_csv('./resources/un_hdr_data.csv')\n",
    "\n",
    "hdi_f_prog = dat['hdi_f_2021'] - dat['hdi_f_1990']\n",
    "hdi_m_prog = dat['hdi_m_2021'] - dat['hdi_m_1990']\n",
    "\n",
    "fig, ax = plt.subplots()\n",
    "\n",
    "# Call to scatter. NOTE : You can specify the color 'range' vmin, vmax directly in scatter(), and the color map ! Yay\n",
    "sct = ax.scatter(hdi_f_prog, hdi_m_prog, c=dat['hdi_1990'], s=dat['pop']**0.5, edgecolor='k', cmap='magma', vmin=0.2, vmax=0.9)   \n",
    "ax.plot([0,0.3], [0,0.3],  'k:')\n",
    "\n",
    "ax.set_xlabel('Change in F HDI (1990-2021)')\n",
    "ax.set_ylabel('Change in M HDI (1990-2021)')\n",
    "\n",
    "fig.set_size_inches([8,6])\n",
    "cb = fig.colorbar(sct, label='HDI (1990)')"
   ]
  },
  {
   "attachments": {},
   "cell_type": "markdown",
   "metadata": {},
   "source": [
    "On voit que sur les 30 dernières années, quasiment tous les hommes et femmes ont vu leur HDI progresser en 30 ans, hormis les hommes d'un seul pays (la Syrie, malheureusement ...). Les femmes ont vu leur HDI augmenter plus vite que celui des hommes, ce qui est plutôt une bonne nouvelle. Les pays déjà développés ont évolué un peu moins vite que leurs homologues moins développés, ce qui est assez normal, même s'il y a quelques exceptions (le Lesotho et le Yémen). À l'inverse, deux pays ont complètement _explosé_ les scores au niveau féminin ... la Chine et le Bangladesh ! \n",
    "\n",
    "On notera enfin que de nombreux pays ne disposaient pas de statistiques de l'HDI par genre en 1990. De nombreux pays sont donc absents de ce tracé, et il faut y faire attention !"
   ]
  },
  {
   "attachments": {},
   "cell_type": "markdown",
   "metadata": {},
   "source": [
    "#### Surfaces\n",
    "\n",
    "Tracer des surfaces fait toujours joli, même si mon avis personnel est que celles-ci sont rarement lisibles. Je vais donc vous montrer ici comment _limiter les dégâts_ :-). Le tracé d'une surface s'effectue avec la méthode `ax.plot_surface()` et se trace sur une grille (_mesh_) 2D de coordonnées $X$ et $Y$."
   ]
  },
  {
   "attachments": {},
   "cell_type": "markdown",
   "metadata": {},
   "source": [
    "##### Premiers pas\n",
    "\n",
    "Avant de commencer, sachez que : \n",
    "\n",
    "* vous ne pouvez pas directement créer votre figure et vos axes avec `plt.subplots`, car __il faut passer l'option `projection='3d'` lors de la création de l'objet `Axes`__ (à l'aide de `fig.add_subplot()` ou `fig.add_axes()`).\n",
    "* votre figure, par défaut, sera assez minuscule. N'hésitez pas à grossir votre figure pour y voir quelque chose.\n",
    "* vous pouvez coder les valeurs de $Z$ avec des couleurs en utilisant l'option `cmap` lors de l'appel à `plot_surface()`. Si vous voulez coder autre chose que $Z$ avec vos couleurs, je vous laisse regarder le [tutoriel de Matplotlib suivant](https://matplotlib.org/stable/gallery/mplot3d/custom_shaded_3d_surface.html#sphx-glr-gallery-mplot3d-custom-shaded-3d-surface-py).\n",
    "* vous pouvez indiquer la couleur des lignes entre chaque bout de surface (un polygone, en fait) avec l'option `edgecolor`, et l'épaisseur de ces lignes avec `linewidth`.\n",
    "\n",
    "Il est enfin tout à fait possible d'afficher la `colorbar` correspondant à votre tracé de surface. Allez jeter un oeil [à la section correspondante](#les-colorbars) !"
   ]
  },
  {
   "cell_type": "code",
   "execution_count": null,
   "metadata": {},
   "outputs": [],
   "source": [
    "import numpy as np\n",
    "import matplotlib.pyplot as plt\n",
    "\n",
    "# Generating the mesh of (X,Y) coordinates\n",
    "x = np.linspace(-5,5,50)\n",
    "[X,Y] = np.meshgrid(x,x)\n",
    "\n",
    "# Creating a wacky function\n",
    "Z = 3*np.sinc(np.sqrt(X**2+Y**2)) + np.arctan(X+Y)\n",
    "\n",
    "fig = plt.figure(figsize=[9,8])\n",
    "ax = fig.add_axes([0.1,0.1,0.9,0.9], projection='3d')\n",
    "sf = ax.plot_surface(X, Y, Z, cmap='Spectral_r', linewidth=0, rstride=1, cstride=1)"
   ]
  },
  {
   "attachments": {},
   "cell_type": "markdown",
   "metadata": {},
   "source": [
    "\n",
    "Pour économiser du temps de calcul et de rendu des surfaces, Matplotlib se permet de ne pas tracer toutes les valeurs de votre surface, en particulier lorsque vous avez beaucoup de points (plus de 100 x 100). Si vous voulez _forcer_ Matplotlib à tout tracer, vous pouvez changer les options `rstride` qui représente l'espacement entre deux numéros de ligne $X$ qui vont faire partie de la surface affichée, et `cstride` qui fait la même chose pour les lignes de $Y$."
   ]
  },
  {
   "attachments": {},
   "cell_type": "markdown",
   "metadata": {},
   "source": [
    "##### Changer de point de vue avec `.view_init()` et `%matplotlib widget`\n",
    "\n",
    "Notre figure est belle, mais maintenant on aurait _vraiment_ envie de pouvoir voir cette surface dans tous les sens, non ? Bonne nouvelle, c'est possible, et de deux manières différentes. La manière simple, avec `.view_init()` va juste bouger la position de la caméra avant d'afficher notre figure. Cette méthode prend deux options en entrée : l'assiette `elev` va vous indiquer si la caméra pointe 'vers le bas' (pour `elev` > 0) ou vers le haut, tandis que `azim` va représenter le 'lacet', c'est à dire en gros de combien on fait tourner la figure autour de l'axe $z$ ici dans notre affichage. Regardez ce qui arrive à notre figure quand on change ces valeurs n'importe comment ..."
   ]
  },
  {
   "cell_type": "code",
   "execution_count": null,
   "metadata": {},
   "outputs": [],
   "source": [
    "ax.view_init(elev=-80, azim=70) # Modify me ! :-)\n",
    "fig"
   ]
  },
  {
   "attachments": {},
   "cell_type": "markdown",
   "metadata": {},
   "source": [
    "La manière plus sophistiquée permet d'interagir à la souris avec la figure. C'est possible dans notre environnement de travail ([Jupyter](./FAQ.md)) ! Pour cela, on va ajouter une 'ligne magique' de code qui va modifier le fonctinnement de Matplotlib, __`%matplotlib widget`__. Je vous laisse le rajouter dans la cellule ci-dessus où l'on définit la figure. Si vous voulez revenir au fonctionnement d'origine, remettez `%matplotlib inline` à la place dans le code. Je vous conseille de mettre ce bout de code avant la construction de votre figure."
   ]
  },
  {
   "attachments": {},
   "cell_type": "markdown",
   "metadata": {},
   "source": [
    "#####  Tracés de formes plus complexes \n",
    "\n",
    "Certains esprits chagrins pourront se dire \"comment tracer des objets tels que des boules ou des bulles qui ne respectent rien et où on peut avoir plusieurs $Z$ pour un même doublet $(X,Y)$ ?\". C'est souvent le cas lorsque l'équation initiale définissant la forme de mon objet était formulée (par exemple) en coordonnées sphériques. En fait, Matplotlib s'en sort très bien tant qu'on lui passe un triplet $X$, $Y$ et un $Z$. Essayons de tracer une boule, par exemple : "
   ]
  },
  {
   "cell_type": "code",
   "execution_count": null,
   "metadata": {},
   "outputs": [],
   "source": [
    "import numpy as np\n",
    "import matplotlib.pyplot as plt\n",
    "\n",
    "# First, create all the (2d) values of theta and phi\n",
    "theta, phi = np.linspace(0, np.pi, 90), np.linspace(0, 2*np.pi, 90)\n",
    "[THT,PHI] = np.meshgrid(theta, phi)\n",
    "\n",
    "# Compute the values of R. You can add dependences in Theta and Phi !\n",
    "R = 1.1\n",
    "\n",
    "# Convert everything to cartesian coordinates\n",
    "Z = R*np.cos(THT)\n",
    "X = R*np.sin(THT)*np.cos(PHI)\n",
    "Y = R*np.sin(THT)*np.sin(PHI)\n",
    "\n",
    "# Generate figure\n",
    "fig = plt.figure(figsize=[9,7])\n",
    "ax = fig.add_subplot(projection='3d')\n",
    "sf = ax.plot_surface(X,Y,Z, cmap='Spectral')"
   ]
  },
  {
   "attachments": {},
   "cell_type": "markdown",
   "metadata": {},
   "source": [
    "Si votre échantillonnage n'est pas régulier ou que vous avez une forme _vraiment_ très biscornue, vous pouvez toujours vous essayer à la fonction [`plt.plot_trisurf()`](https://matplotlib.org/stable/gallery/mplot3d/trisurf3d_2.html), qui cette fois-ci prend trois listes de points $x,y,z$ (1d chacune) et tente de faire au mieux !"
   ]
  },
  {
   "attachments": {},
   "cell_type": "markdown",
   "metadata": {},
   "source": [
    "---------------------------------------------\n",
    "\n",
    "### Exporter ses figures \n",
    "\n",
    "Maintenant que votre figure est belle, vous avez probablement envie de l'exporter pour que le monde puisse enfin comprendre votre talent. Je vous comprends :-). Il existe deux manières d'exporter vos figures depuis Matplotlib, la première et la plus simple étant par la commande `savefig()`, tandis que la deuxième s'effectue en utilisant le module externe `tikzplotlib`."
   ]
  },
  {
   "attachments": {},
   "cell_type": "markdown",
   "metadata": {},
   "source": [
    "#### La commande `fig.savefig()`\n",
    "\n",
    "Celle-ci fonctionne peu ou prou comme la méthode `.show()`, donc jusqu'ici rien de neuf, et elle prend un argument obligatoire, c'est le nom du fichier créé [ce qui paraît _assez normal_ :-)]. Il faut cependant faire attention à certaines choses pour que votre figure ne devienne pas une monstrosité à l'export. Voyez donc plutôt ce qui arrive lorsqu'on exporte avec les options 'par défaut' alors que je mets des magnifiques labels en $\\LaTeX$ : "
   ]
  },
  {
   "cell_type": "code",
   "execution_count": null,
   "metadata": {},
   "outputs": [],
   "source": [
    "import matplotlib.pyplot as plt\n",
    "import numpy as np\n",
    "\n",
    "# Create data\n",
    "x = np.linspace(-np.pi, np.pi, 500)\n",
    "y = np.sin(3*x)\n",
    "z = np.tanh(x)\n",
    "\n",
    "# Create figure & add plots & labels\n",
    "fig, ax = plt.subplots()\n",
    "ax.plot(x, y, color='orchid')\n",
    "ax.plot(x, z, color='darkgreen', linestyle='--')\n",
    "ax.set_xlabel('$\\\\theta$ (rad)')\n",
    "ax.set_ylabel('$y$ (1)')\n",
    "\n",
    "# Save figure\n",
    "fig.savefig('my_figure.png') # Export in .jpg, ... also possible"
   ]
  },
  {
   "attachments": {},
   "cell_type": "markdown",
   "metadata": {},
   "source": [
    "Si vous regardez dans votre explorateur de fichiers à gauche <---, vous pouvez constater qu'un fichier `.png` a bien été créé. Si vous l'ouvrez, vous pourrez probablement constater les problèmes suivants : \n",
    "\n",
    "1. La figure est petite et pixellisée. Par défaut, sa taille fait 432 x 288 pixels, ce qui est peu ...\n",
    "2. L'étiquette des axes $y$ est coupée à gauche.\n",
    "3. Les polices à l'export ne correspondent pas à celle de Latex.\n",
    "\n",
    "Nous allons remédier à ces trois problèmes dans l'ordre. Pour s'en sortir, on va devoir -- entre autres -- modifier les paramètres par défaut de Matplotlib, le `plt.rcParams` que j'avais évoqué [précédemment](#pyplot-lui-meme--les-feuilles-de-style). \n"
   ]
  },
  {
   "attachments": {},
   "cell_type": "markdown",
   "metadata": {},
   "source": [
    "##### Réglage de la taille de la figure\n",
    "\n",
    "Pour régler la taille générale de la figure, on peut utiliser l'option `figsize` lors de la création d'une figure avec `plt.figure()`, ou la régler plus tard avec `fig.set_size_inches()`, qui prennent en entrée les mêmes tableaux à deux éléments `[width, height]`, en _pouces_ (_inches_ en anglais ; 1 pouce = 2.54 cm). Cette taille est la place que devra prendre votre figure dans le document dans lequel elle sera incluse, par exemple votre rapport de stage. \n",
    "\n",
    "_Note_ : Pour les amateurs de $\\LaTeX$, sachez que vous pouvez connaître la largeur de votre colonne ou de votre texte en écrivant dans votre document $\\LaTeX$ les commandes : `\\the\\columnwidth` ou `\\the\\textwidth`. Celle-ci vous sera alors donnée en points typographiques (1/72 de pouce ... mais qui donc invente ces unités ?!?). Je vous mets un tableau de conversion ici : \n",
    "\n",
    "| Name | cm     | pt    | inch   |\n",
    "|------|--------|-------|--------|\n",
    "| cm   | 1      | 28.35 | 0.394  |  \n",
    "| pt   | 0.0353 | 1     | 0.0139 |  \n",
    "| inch | 2.54   | 72    | 1      |\n",
    "\n",
    "Ensuite, à _taille donnée_ de figure, vous pouvez augmenter la _résolution d'impression_ de l'image, c'est à dire le nombre de pixels ou de _points par pouce_ (_dots per inch_ ou `dpi` en anglais, `ppp` en français). Cette option est passée lors de l'appel à `fig.savefig()`. N'hésitez pas à changer la valeur par défaut de $72$ à $200$, voire $250$ ! Reprenons notre code de tout à l'heure :\n"
   ]
  },
  {
   "cell_type": "code",
   "execution_count": null,
   "metadata": {},
   "outputs": [],
   "source": [
    "import matplotlib.pyplot as plt\n",
    "import numpy as np\n",
    "\n",
    "# Create data\n",
    "x = np.linspace(-np.pi, np.pi, 500)\n",
    "y = np.sin(3*x)\n",
    "z = np.tanh(x)\n",
    "\n",
    "# Create figure & add plots & labels\n",
    "fig, ax = plt.subplots()\n",
    "fig.set_size_inches([10/2.54,7/2.54])   # I want my figure to be 10 x 7 cm \n",
    "ax.plot(x, y, color='orchid')\n",
    "ax.plot(x, z, color='darkgreen', linestyle='--')\n",
    "ax.set_xlabel('$\\\\theta$ (rad)')\n",
    "ax.set_ylabel('$y$ (1)')\n",
    "\n",
    "# Save figure\n",
    "plt.tight_layout()\n",
    "fig.savefig('my_figure.png', dpi=250) # Export in .jpg, ... also possible"
   ]
  },
  {
   "attachments": {},
   "cell_type": "markdown",
   "metadata": {},
   "source": [
    "##### Garder les labels en entier\n",
    "\n",
    "Maintenant que notre figure n'est plus pixellisée, nous pouvons passer aux `labels`. Il existe en fait une solution simple pour éviter que ceux-ci ne soient tronqués. Elle consiste à appeler la fonction `plt.tight_layout()` juste avant d'exporter votre figure. Celle-ci va _décaler tous vos axes_ d'une petite quantité jusqu'à ce que tous les `labels` rentrent dans la `figure`. Cette fonction ne va donc pas changer la taille (en pixels) de votre figure finale. Je vous laisse le placer dans le code ci-dessus et examiner le résultat :-)"
   ]
  },
  {
   "attachments": {},
   "cell_type": "markdown",
   "metadata": {},
   "source": [
    "##### Obtenir des belles polices \n",
    "\n",
    "Enfin, si vous voulez que votre texte soit beau dans le style par défaut de $\\LaTeX$, il va falloir trifouiller dans `plt.rcParams`. Cet objet fonctionne un peu comme un dictionnaire, et __s'applique à toutes les figures__. Les clés qui nous intéressent sont : \n",
    "\n",
    "* `'text.usetex'` pour afficher le code mathématique $\\LaTeX$ en joli (on va le changer de `False` à `True`). Cela va également changer la police des nombres sur les graduations pour les afficher en `Computer Modern`, la police de $\\LaTeX$.\n",
    "* `'font.family'` pour choisir la police de caractères de la figure en dehors du code $\\LaTeX$. Vous pouvez alors choisir entre les familles sans empattement (`sans-serif`), avec empattement (`serif`) , à espacement fixe (`monospace`), ... \n",
    "* `'font.size'` pour choisir la taille par défaut de la police. Le choix malin est de prendre la même taille que celle de votre document $\\LaTeX$ :-) \n",
    "\n",
    "Pour modifier `plt.rcParams`, on lui applique la méthode `.update()` et on lui passe un dictionnaire des valeurs que nous voulons mettre à jour. Et comme il change le fonctionnement de tout Matplotlib, on n'a pas besoin de l'appeler pour chacune des prochaines figures. Essayez par exemple de supprimer les lignes de code associées à `plt.rcParams` une fois exécutées au moins une fois :"
   ]
  },
  {
   "cell_type": "code",
   "execution_count": null,
   "metadata": {},
   "outputs": [],
   "source": [
    "import matplotlib.pyplot as plt\n",
    "import numpy as np\n",
    "\n",
    "# New Matplotlib parameters #######\n",
    "new_params = {'text.usetex':True,\n",
    "              'font.family':'serif',\n",
    "              'font.size':11}\n",
    "plt.rcParams.update(new_params)\n",
    "###################################\n",
    "\n",
    "# Create data\n",
    "x = np.linspace(-np.pi, np.pi, 500)\n",
    "y = np.sin(3*x)\n",
    "z = np.tanh(x)\n",
    "\n",
    "# Create figure & add plots & labels\n",
    "fig, ax = plt.subplots()\n",
    "fig.set_size_inches([10/2.54,7/2.54])   # I want my figure to be 10 x 7 cm \n",
    "ax.plot(x, y, color='orchid')\n",
    "ax.plot(x, z, color='darkgreen', linestyle='--')\n",
    "ax.set_xlabel('$\\\\theta$ (rad)')\n",
    "ax.set_ylabel('$y$ (1)')\n",
    "\n",
    "# Save figure\n",
    "plt.tight_layout()\n",
    "fig.savefig('my_figure.pdf', dpi=250) # Export in .jpg, ... also possible"
   ]
  },
  {
   "attachments": {},
   "cell_type": "markdown",
   "metadata": {},
   "source": [
    "__Et voilà__, notre figure est bien belle !\n",
    "\n",
    "##### Un dernier mot \n",
    "\n",
    "Rien ne vous empêche d'enregistrer votre figure dans un format différent de `.png`. Les plus esthètes d'entre vous peuvent exporter __dans des formats 'vectoriels' pour un résultat encore plus propre à l'impression de votre document final__, comme par exemple le `.pdf` (qui impose les polices utilisées par Matplotlib dans votre document final) et le `.eps` (qui lui va essayer d'utiliser les polices de votre document final dans la figure). "
   ]
  },
  {
   "attachments": {},
   "cell_type": "markdown",
   "metadata": {},
   "source": [
    "#### Le module `tikzplotlib`\n",
    "\n",
    "Si, comme moi, vous êtes particulièrement _névrosé_ des figures, vous aurez peut-être envie de les modifier directement dans $\\LaTeX$ avant de les inclure dans votre document final. Il n'est pas possible de faire directement cela sous Matplotlib, mais ... il existe ce module fort sympathique qui remédie au problème ! On crée notre figure comme précédemment, et au lieu d'appeler `.savefig()`, on appelle `tikzplotlib.save()` à qui on donne un nom de fichier qui va donc se finir en `.tex`. \n",
    "\n",
    "Le module étant encore à un stade peu avancé, il est possible qu'il y ait des bugs. Par exemple, je ne peux pas exporter ma figure si elle contient des pointillés ou des lignes tiretées. Mais vous pourrez très vite remettre tout ça au propre sous TikZ !"
   ]
  },
  {
   "cell_type": "code",
   "execution_count": null,
   "metadata": {},
   "outputs": [],
   "source": [
    "import tikzplotlib \n",
    "import matplotlib.pyplot as plt\n",
    "import numpy as np\n",
    "\n",
    "# Create data\n",
    "x = np.linspace(-np.pi, np.pi, 100)\n",
    "y = np.sin(3*x)\n",
    "z = np.tanh(x)\n",
    "\n",
    "# Create figure & add plots & labels\n",
    "fig, ax = plt.subplots()\n",
    "fig.set_size_inches([10/2.54,7/2.54])   # I want my figure to be 10 x 7 cm \n",
    "ax.plot(x, y, color='orchid')\n",
    "ax.plot(x, z, color='darkgreen')\n",
    "ax.set_xlabel('$\\\\theta$ (rad)')\n",
    "ax.set_ylabel('$y$ (1)')\n",
    "\n",
    "# Save figure\n",
    "plt.tight_layout()\n",
    "tikzplotlib.save('my_tikz_fig.tex')"
   ]
  },
  {
   "attachments": {},
   "cell_type": "markdown",
   "metadata": {},
   "source": [
    "Si vous jetez un oeil à votre fichier exporté, il devrait ressembler à cela :\n",
    "\n",
    "![img](./resources/Tikz_export_matplotlib.png)\n",
    "\n",
    "Les options et le formatage des `Axes` se trouve dans l'encadré vert, et les options et le formatage des `Lines` se trouve après l'instruction `\\addplot`, auquel vous pouvez rajouter, par exemple, un `line style=dashed` ou `line style=dotted` qui passe très bien. Si vous êtes motivés, vous pouvez vous référer au manuel fort intimidant, mais quand même excellent de [Pgfplots](https://pgfplots.sourceforge.net/).\n",
    "\n",
    "Si vous voulez que ce code $\\LaTeX$ compile, il va falloir lui ajouter un préambule. Vous pouvez par exemple copier celui que j'utilise en général, et qui est assez exhaustif : \n",
    "\n",
    "```\n",
    "\\documentclass[border=1mm]{standalone}\n",
    "\\usepackage[utf8]{inputenc}\n",
    "\\usepackage{tikz}\n",
    "\\usepackage{pgfplots}\n",
    "\\usepackage{graphicx}\n",
    "\\usepackage{amssymb}\n",
    "\\pgfplotsset{compat=1.17}\n",
    "\\usetikzlibrary{arrows.meta}\n",
    "\\usepgfplotslibrary{colorbrewer}\n",
    "\\usetikzlibrary{decorations}\n",
    "\\usepgfplotslibrary{fillbetween}\n",
    "\\begin{document}\n",
    "\n",
    "```\n",
    "N'oubliez pas d'ajouter _également_ un `\\end{document}` tout en bas de votre fichier TikZ, en tout cas après le `\\end{tikzpicture}`."
   ]
  },
  {
   "attachments": {},
   "cell_type": "markdown",
   "metadata": {},
   "source": [
    "----------------------------------------------\n",
    "\n",
    "### Animations et figures interactives\n",
    "\n",
    "Impossible n'est pas Matplotlib ! Celui-ci est en effet capable de tracer __dans notre environnement__ (cf [FAQ](./FAQ.md)) des figures animées, et des figures interactives, c'est à dire qui vont se mettre à jour quand l'utilisateur va cliquer sur un bouton, régler une valeur, etc. Ces fonctionnalités _avancées_ ne demandent pas beaucoup plus de code, mais prennent généralement un petit bout de temps avant de s'exécuter, il vaut mieux donc être prudent :-)\n",
    "\n",
    "Dans tous les cas, nous __sommes obligés__ d'utiliser la commande `%matplotlib widget` pour que les animations ou les tracés interactifs fonctionnent correctement. "
   ]
  },
  {
   "cell_type": "code",
   "execution_count": null,
   "metadata": {},
   "outputs": [],
   "source": [
    "import matplotlib.pyplot as plt\n",
    "%matplotlib widget"
   ]
  },
  {
   "attachments": {},
   "cell_type": "markdown",
   "metadata": {},
   "source": [
    "#### Figures animées \n",
    "\n",
    "Les figures animées font directement partie de Matplotlib dans le sous-module `matplotlib.animation`. Il va donc falloir que nous l'importions en premier lieu. La syntaxe est ensuite un peu étrange : on va créer la figure, puis une fonction qui va la mettre à jour en fonction d'un indice $i$. Dans mon cas, `update_figure()` va aller écraser les données $x$, $y$ et $z$ dans l'objet `l3d` déjà existant grâce à la méthode `.set.data()` (pour $x$ et $y$) et `set_3d_properties()` (pour $z$). __Elle doit renvoyer tous les objets qui sont mis à jour dans l'animation ; vous pouvez les mettre ensemble dans un tuple, ou dans une liste__.\n",
    "\n",
    "Il nous reste ensuite à appeler la fonction `anim.FuncAnimation`, qui prend en entrée : \n",
    "* la figure à animer, chez nous `fig`.\n",
    "* `func`, la fonction qui sert à mettre à jour la figure, chez nous on aura `func=update_figure`.\n",
    "* `frames`, le nombre d'images à calculer, qui peut être un entier ou une liste de valeurs.\n",
    "* `interval`, l'intervalle (si l'ordinateur est suffisamment rapide) entre deux images en ms.\n",
    "* `repeat` (vrai ou faux) pour répéter l'animation.\n",
    "* `blit` (vrai ou faux), pour ne pas retracer l'image en entier à chaque pas d'animation."
   ]
  },
  {
   "cell_type": "code",
   "execution_count": null,
   "metadata": {},
   "outputs": [],
   "source": [
    "import numpy as np\n",
    "import matplotlib.pyplot as plt\n",
    "import matplotlib.animation as anim\n",
    "import numpy as np\n",
    "\n",
    "%matplotlib widget\n",
    "\n",
    "# Function that computes z = f(x,y), works if x, y are scalars, 1d or 2d\n",
    "def height(X,Y):\n",
    "    return 3*np.sinc(np.sqrt(X**2+Y**2)) + np.arctan(X+Y)\n",
    "\n",
    "# Generating surface and line data\n",
    "x1 = np.linspace(-5,5,200)\n",
    "y1 = 0*x1\n",
    "z1 = height(x1,y1)             # Basically z = f(x,0) for my line\n",
    "[X,Y] = np.meshgrid(x1,x1)    # Creating the mesh with big, 2D X and Y\n",
    "Z = height(X,Y)             \n",
    "\n",
    "# Creating the figure, axes, surface and line\n",
    "fig = plt.figure(figsize=[10,8])\n",
    "ax = fig.add_subplot(projection='3d')\n",
    "sf = ax.plot_surface(X,Y,Z, cmap='Spectral', alpha=0.5)             # Alpha = 0.5 for transparency\n",
    "ln1, = ax.plot3D(x1, y1, z1, color='black', linewidth=2)\n",
    "\n",
    "# Creating a function to update the figure that will be called by the FuncAnimation function\n",
    "# Basically our function applies a new x, y, z for the line and a nice slow rotation of the camera\n",
    "def update_figure(frame):           \n",
    "    y1 = frame*np.ones_like(x1)               # Transforming y value into y 1D array\n",
    "    ln1.set_data(x1,y1) \n",
    "    ln1.set_3d_properties(height(x1,y1))\n",
    "    return [ln1,]                            # Send back the updated line for FuncAnimation (used below) as a list                           \n",
    "\n",
    "# Call the animation\n",
    "my_anim = anim.FuncAnimation(fig, func=update_figure, frames=np.linspace(-5,5,200), interval=50)"
   ]
  },
  {
   "attachments": {},
   "cell_type": "markdown",
   "metadata": {},
   "source": [
    "__Exercice__ : Ajoutez une deuxième ligne animée perpendiculaire à la première et de couleur grise. Essayez également de coder une belle \"rotation\" de votre tracé en même temps que la ligne noire se déplace.\n",
    "\n",
    "_Note_ : La fonction `animation.FuncAnimation` ne vous renverra pas d'erreurs même si la fonction `func`  (dans notre cas, `update_figure()`) plante ... oups ! Si vous voulez être sûr qu'elle ne déocnne pas, commentez la ligne de l'animation et appelez directement `func()` avec une valeur de `frame` au pif. Vous verrez alors si votre fonction passée à `animation.FuncAnimation` plante."
   ]
  },
  {
   "attachments": {},
   "cell_type": "markdown",
   "metadata": {},
   "source": [
    "Vous pouvez ensuite transformer votre figure en vidéo, si vous le souhaitez. Dans ce cas, appliquez la méthode `.to_html5_video()` à votre animation, et appelez le tout avec la fonction `HTML` du sous-module `IPython.display` (Jupyter est basé sur IPython). Vous pouvez ensuite sauver l'animation sous format vidéo via les trois points verticaux en bas à droite de l'animation. Parfois, les animations sont un peu saccadées quand il y a beaucoup de choses à afficher, mais ces soucis disparaissent à l'export en vidéo :-)"
   ]
  },
  {
   "cell_type": "code",
   "execution_count": null,
   "metadata": {},
   "outputs": [],
   "source": [
    "from IPython.display import HTML\n",
    "HTML(my_anim.to_html5_video())"
   ]
  },
  {
   "attachments": {},
   "cell_type": "markdown",
   "metadata": {},
   "source": [
    "#### Tracés interactifs\n",
    "\n",
    "Les tracés ci-dessus sont _animés_, mais pas vraiment _interactifs_ : par exemple, je ne peux pas décider de régler la position de ma ligne noire à la souris. Dans cette section, nous allons voir comment faire pour mettre en place des boutons, des ascenseurs, etc., qu'on appelle `widgets` qui nous permettent de modifier des parties d'une figure _une fois tracée_. On va commencer simplement. La syntaxe du programme suivant est assez proche de celle utilisée pour l'animation : \n",
    "\n",
    "* on crée les parties statiques de la figure, ici ce qu'il y a sous la fonction `my_gaussian()`\n",
    "* on crée une fonction qui met à jour la figure / les axes / la ligne à partir de valeurs (ici, `update_figure()` à nouveau)\n",
    "\n",
    "À la différence de `animation.FuncAnimation`, on va ici appeler la fonction `interact` du module `ipywidgets`. Elle prend en entrée la fonction qui met à jour la figure, `update_figure()`, et on lui passe ensuite tous les paramètres qu'on veut pouvoir régler dans l'animation un par un, dans notre cas `avg` et `std`. \n",
    "\n",
    "Vous devrez spécifier les _plages_ de valeurs que peuvent prendre ces paramètres. En fonction de la manière dont vous les spécifiez, `ipywidgets.interact()` va choisir des boutons, des listes déroulantes pour s'adapter au contenu : \n",
    "\n",
    "* pour avoir une glissière (_slider_), vous devez écrire `avg=(low_val, hi_val, step)`\n",
    "* pour obtenir une liste déroulante, vous pouvez lui préciser une `list`, un `range` ou un `np.ndarray` ...\n",
    "* pour avoir une case à cocher, précisez simplement `True` ou `False`\n",
    "\n",
    "_Note_ : certains de ces widgets ne fonctionnent pas sous Visual Studio Code mais fonctionnent bien depuis votre navigateur internet. "
   ]
  },
  {
   "cell_type": "code",
   "execution_count": 3,
   "metadata": {},
   "outputs": [
    {
     "data": {
      "application/vnd.jupyter.widget-view+json": {
       "model_id": "56004971ecd94423b478dcd41dcc30c7",
       "version_major": 2,
       "version_minor": 0
      },
      "text/plain": [
       "interactive(children=(FloatSlider(value=0.0, description='avg', max=5.0, min=-5.0), FloatSlider(value=1.0, des…"
      ]
     },
     "metadata": {},
     "output_type": "display_data"
    },
    {
     "data": {
      "application/vnd.jupyter.widget-view+json": {
       "model_id": "1a44c6f161514950a912ae510b75a08f",
       "version_major": 2,
       "version_minor": 0
      },
      "image/png": "[encoded data removed]",
      "text/html": [
       "\n",
       "            <div style=\"display: inline-block;\">\n",
       "                <div class=\"jupyter-widgets widget-label\" style=\"text-align: center;\">\n",
       "                    Figure\n",
       "                </div>\n",
       "                <img src='data:image/png;base64,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' width=640.0/>\n",
       "            </div>\n",
       "        "
      ],
      "text/plain": [
       "Canvas(toolbar=Toolbar(toolitems=[('Home', 'Reset original view', 'home', 'home'), ('Back', 'Back to previous …"
      ]
     },
     "metadata": {},
     "output_type": "display_data"
    }
   ],
   "source": [
    "import numpy as np\n",
    "import matplotlib.pyplot as plt\n",
    "from ipywidgets import interact\n",
    "%matplotlib widget\n",
    "\n",
    "# This computes y values of a Gaussian distribution\n",
    "# for a given x and parameters\n",
    "def my_gaussian(x, parameters):\n",
    "    avg, std = parameters\n",
    "    return 1/(2*np.pi)**0.5/std*np.exp(-(x-avg)**2/(2*std**2))\n",
    "\n",
    "# Figure setup\n",
    "fig, ax = plt.subplots()\n",
    "x = np.linspace(-10,10,500)\n",
    "y = my_gaussian(x, [0,1])\n",
    "lin, = ax.plot(x, y, 'k')\n",
    "ax.set_xlim([-10,10])\n",
    "ax.set_ylim([0,1])\n",
    "\n",
    "# Update figure routine\n",
    "def update_figure(avg=0.0, std=1.0):\n",
    "    y = my_gaussian(x, [avg,std])\n",
    "    lin.set_data(x, y)\n",
    "\n",
    "anim = interact(update_figure, avg=(-5,5,0.1), std=(0.1,3,0.1))"
   ]
  },
  {
   "attachments": {},
   "cell_type": "markdown",
   "metadata": {},
   "source": [
    "__Exercice__ : Essayez de rajouter deux fonctionnalités à mon tracé interactif, le style du tracé, choisi selon une liste, et sa couleur, choisie également selon une liste déroulante. Si vous ne travaillez pas sous Visual Studio, vous pouvez également essayer d'inclure une boîte de texte qui va mettre à jour le titre ou le `xlabel` de votre figure. "
   ]
  },
  {
   "attachments": {},
   "cell_type": "markdown",
   "metadata": {},
   "source": [
    "------------------------------\n",
    "\n",
    "__Félicitations__ ! Vous êtes maintenant un professionnel de Matplotlib ! Il existe bien sûr quelques autres types de reorésentation graphiques, mais je pense que vous serez capable de les tracer vous-mêmes en lisant [la documentation en ligne de Matplotlib](https://matplotlib.org/stable/api/index.html). Maintenant, vous pouvez également tester les alternatives de Matplotlib: [Bokeh](https://bokeh.org/), [Plotly](https://plotly.com/), [Altaïr](https://altair-viz.github.io/gallery/diverging_stacked_bar_chart.html), ... 😜"
   ]
  }
 ],
 "metadata": {
  "kernelspec": {
   "display_name": "Python 3 (ipykernel)",
   "language": "python",
   "name": "python3"
  },
  "language_info": {
   "codemirror_mode": {
    "name": "ipython",
    "version": 3
   },
   "file_extension": ".py",
   "mimetype": "text/x-python",
   "name": "python",
   "nbconvert_exporter": "python",
   "pygments_lexer": "ipython3",
   "version": "3.9.7"
  },
  "vscode": {
   "interpreter": {
    "hash": "cb9c252e610b593a3421828f92740a33c32c552b9658c846af1824aa6c7c0cc9"
   }
  }
 },
 "nbformat": 4,
 "nbformat_minor": 4
}
