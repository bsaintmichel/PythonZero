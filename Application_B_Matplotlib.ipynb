{
 "cells": [
  {
   "attachments": {},
   "cell_type": "markdown",
   "metadata": {},
   "source": [
    "## Matplotlib\n",
    "\n",
    "### Généralités\n",
    "\n",
    "Jusque ce tutoriel, vous avez peut-être été un peu frustrés des affichages que nous avons utilisés, car bon, afficher des longues listes de données de manière brute n'est pas toujours drôle ... Dans ce tutoriel, nous allons enfin apprendre à tracer des graphes :\n",
    "\n",
    "* en commençant par la base : un tracé d'une ligne.\n",
    "* on verra ensuite comment formater les figures pour les rendre plus belles.\n",
    "* on examinera ensuite comment faire des tracés plus avancés : les images, les `scatter`, les `patch` et les surfaces 3d.\n",
    "* on regardera comment exporter ces figures en un format utilisable ailleurs\n",
    "* et enfin on évoquera les tracés animés ou interactifs sous Jupyter.\n",
    "\n",
    "Les tracés sous Matplotlib sont gérés par le sous-module `matplotlib.pyplot`, que nous devons tout d'abord importer avant de tracer quoi que ce soit. Ce sous-module contient des objets de type `Figure`, `Axes`, `Lines`, qui sont les briques élémentaires nous permettant de construire un graphe. Les `Figure` peuvent contenir un ou plusieurs `Axes`, qui sont des zones de tracés [vous pouvez les voir comme des paires d'axes $(Oxy)$ ou $(Oxyz)$], qui eux-mêmes peuvent contenir chacun plusieurs `Lines` (ou d'ailleurs, d'autres objets). Le diagramme ci-dessous vous indique, à gauche, les liens _logiques_ qui existent entre ces différents _objets_ : les `Axes`, par exemple, _appartiennent_ à un objet `Figure` qui est son _parent_, et _possèdent_ des objets `Lines` qui sont leurs _enfants_. À droite, j'ai indiqué la hiérarchie _visuelle_ entre ces objets : les lignes sont bien tracées le long d'une paire d'axes, qui est elle-même placées dans la `Figure` générale. \n",
    "\n",
    "![img](./resources/figure_hierarchy.png)"
   ]
  },
  {
   "attachments": {},
   "cell_type": "markdown",
   "metadata": {},
   "source": [
    "------------------------------------------------------------\n",
    "\n",
    "### Tracé d'une figure simple avec `.plot()`\n",
    "\n",
    "_\"Comment est-ce que tout cela fonctionne en pratique si je veux juste tracer mes données ?_\", me direz-vous ? Eh bien, allons-y : \n",
    "\n",
    "* on va d'abord créer une `Figure` avec la commande `plt.figure()` directement \n",
    "* on va ensuite y ajouter des `Axes`: on appelle pour cela une _méthode_ des `Figure` nommée `add_axes()`.\n",
    "* et pour _tracer_ des données dans des `Axes`, on va appeler une _méthode_ des `Axes`, par exemple simplement `plot`.\n"
   ]
  },
  {
   "cell_type": "markdown",
   "metadata": {},
   "source": [
    "\n",
    "La méthode `add_axes()` nécessite un argument obligatoire en entrée, qui la position de l'objet `Axes` dans la `Figure` selon la convention `[bord gauche, bord bas, largeur, hauteur] `. Tous ces paramètres prennent des valeurs relatives de 0 à 1:\n",
    "* pour le bord gauche, $0$ va placer les axes tout à gauche, et $1$ va placer les axes tout à droite. \n",
    "* pour le bord du bas, c'est $0$ tout en bas et $1$ tout en haut\n",
    "* pour la largeur, $0$ est infiniment fin et $1$ prend toute la largeur\n",
    "* et il en va de même pour la hauteur des `Axes`\n",
    "Je vous conseille de laisser de la marge aux bords pour les axes, notamment si vous voulez donner un nom à l'axe $x$ et $y$ de vos `Axes`. Un choix raisonnable de valeurs est : `[0.15,0.15,0.7,0.7]`. \n",
    "\n",
    "On appelle ensuite la méthode `.plot()` des axes. Celle-ci peut prendre en entrée des tableaux Numpy, __mais s'en sort également bien avec les colonnes de tableaux Pandas, des listes en Python pur, etc__, donc il est relativement indépendant de la manière dont vous gérez vos nombres sous Python. \n",
    "\n",
    "Ma méthode est peut-être un peu pédestre pour les habitués de MATLAB, mais vous verrez, cela va nous éviter de nous emmêler les pinceaux plus tard si on veut rajouter des choses dans des graphes :-). "
   ]
  },
  {
   "cell_type": "code",
   "execution_count": null,
   "metadata": {},
   "outputs": [],
   "source": [
    "import matplotlib.pyplot as plt\n",
    "import numpy as np\n",
    "\n",
    "x = np.linspace(0,2*np.pi,500)\n",
    "y = np.cos(x)\n",
    "\n",
    "my_fig = plt.figure()\n",
    "my_ax = my_fig.add_axes([0.15,0.15,0.7,0.7])\n",
    "my_line = my_ax.plot(x,y)"
   ]
  },
  {
   "cell_type": "markdown",
   "metadata": {},
   "source": [
    "Même sans rien demander, notre environnement de travail a compris qu'il fallait à un moment afficher notre figure. Sympa, non ? Vous pouvez ensuite tout à fait ajouter des nouvelles lignes à vos `Axes` initiaux depuis une nouvelle cellule, mais dans ce cas il va vous falloir demander de re-tracer une nouvelle fois la `Figure` qui contient ces `Axes`. On peut faire ça en écrivant juste `my_fig` en dernier dans la cellule :"
   ]
  },
  {
   "cell_type": "code",
   "execution_count": null,
   "metadata": {},
   "outputs": [],
   "source": [
    "z = np.sin(x)\n",
    "my_other_line = my_ax.plot(x,z)\n",
    "my_fig"
   ]
  },
  {
   "cell_type": "markdown",
   "metadata": {},
   "source": [
    "Certains d'entre vous, les plus hackeurs probablement, vont paniquer : les bords des axes ont disparu ! En fait, non, ne vous inquiétez pas. Si vous avez choisi un thème _sombre_ pour votre éditeur de code, sachez que lors de l'appel à `my_fig`, le pourtour de la figure est transparent. Les nombres des axes étant noirs, ils deviennent invisibles lors de l'affichage... Gloups ! C'est peut-être le moment de changer pour le magnifique thème [Solarized-light](https://ethanschoonover.com/solarized/) :-) . \n",
    "\n",
    "Si vous voulez aller un peu plus vite et obtenir directement une `Figure` et des `Axes`, vous pouvez utiliser la commande `plt.subplots()` avec un `s` à la fin. Dans ce cas, Matplotlib va placer l'`Axes` automatiquement. Une chose en moins à gérer ! "
   ]
  },
  {
   "cell_type": "code",
   "execution_count": null,
   "metadata": {},
   "outputs": [],
   "source": [
    "fig, ax = plt.subplots()\n",
    "line = ax.plot(x,3*z)"
   ]
  },
  {
   "attachments": {},
   "cell_type": "markdown",
   "metadata": {},
   "source": [
    "-----------------------------------------------\n",
    "\n",
    "### Formater les figures \n",
    "\n",
    "Dans la figure précédente, on a laissé Matplotlib faire plein de choix au niveau de la taille des figures à l'épaisseur des lignes. Mais sachez que quasiment tout dans ces figures est modifiable. Nous allons voir dans cette section ce que l'on peut modifier dans les `Lines`, puis les `Axes`, puis les `Figure` et même `Matplotlib.pyplot()` lui-même (si si !). Si vous voulez une antisèche rapide, jetez un oeil au graphe ci-dessous, qui liste la plupart des propriétés que vous voudrez éditer et la manière d'y accéder. \n"
   ]
  },
  {
   "cell_type": "markdown",
   "metadata": {},
   "source": [
    "#### Les Lignes\n",
    "\n",
    "Il est possible de régler l'aspect de chaque ligne, son épaisseur, les éventuels marqueurs ainsi que la couleur de tous ces objets. Voyons donc dans l'ordre comment régler toutes ces choses !"
   ]
  },
  {
   "cell_type": "markdown",
   "metadata": {},
   "source": [
    "##### Épaisseur, tirets, marqueurs\n",
    "\n",
    "Pour changer le format de votre ligne, vous pouvez l'effectuer lors de l'appel à `.plot()`, en lui passant l'argument `'linestyle'`. Vous avez alors le choix entre une ligne pleine `'-'`, des tirets `'--'`, des pointillés `':'`, ou un trait mixte `'-.'`, voire rien du tout avec `'None'`. "
   ]
  },
  {
   "cell_type": "code",
   "execution_count": null,
   "metadata": {},
   "outputs": [],
   "source": [
    "import numpy as np\n",
    "import matplotlib.pyplot as plt\n",
    "\n",
    "x = np.linspace(0,4*np.pi,100)\n",
    "fig, ax = plt.subplots()\n",
    "line = ax.plot(x,np.sin(x), linestyle =':')"
   ]
  },
  {
   "cell_type": "markdown",
   "metadata": {},
   "source": [
    "Pour changer l'épaisseur de votre trait, rajoutez l'argument `linewidth` lors de l'appel à `.plot()`. Par défaut, l'épaisseur de 1 choisie par Matplotlib est en effet un peu grosse : "
   ]
  },
  {
   "cell_type": "code",
   "execution_count": null,
   "metadata": {},
   "outputs": [],
   "source": [
    "x = np.linspace(0,4*np.pi,100)\n",
    "fig, ax = plt.subplots()\n",
    "line = ax.plot(x,np.sin(x), linewidth=0.5)"
   ]
  },
  {
   "cell_type": "markdown",
   "metadata": {},
   "source": [
    "Vous pouvez décider également d'ajouter des marqueurs, en ajoutant l'option `'marker'`. Vous avez alors le choix entre `'x'` (un x), `'+'` (un +, pardi), `'*'` (une étoile, bien sûr), `'s'` (un carré), `'d'` (un losange), `'o'` (un cercle), `'v'`, `'>'`, `'<'`, `'^'` (des triangles qui pointent dans diverse directions), [et bien d'autres ...](https://matplotlib.org/stable/api/markers_api.html). Si vous voulez tracer juste les marqueurs et non la ligne qui va avec, n'oubliez pas de préciser `linestyle='None'` !"
   ]
  },
  {
   "cell_type": "code",
   "execution_count": null,
   "metadata": {},
   "outputs": [],
   "source": [
    "x = np.linspace(0,4*np.pi,50)\n",
    "fig, ax = plt.subplots()\n",
    "line = ax.plot(x,np.sin(x), marker='d', linestyle ='None')"
   ]
  },
  {
   "cell_type": "markdown",
   "metadata": {},
   "source": [
    "##### Couleurs\n",
    "\n",
    "Vous pouvez également spécifier la couleur d'une ligne au moment où vous la tracez. Pour spécifier une couleur de ligne lors du tracé, ajoutez l'option `color` et précisez-lui une couleur. Vous pouvez spécifier les couleurs : \n",
    "\n",
    "* Par un nom _bref_ d'une lettre à la façon de MATLAB, avec `'b'` (bleu), `'r'` (rouge), `'g'` (vert), `'y'` (jaune), `'c'` (cyan), `'m'` (magenta), `'w'` (blanc), `'k'` (noir)\n",
    "* Via un nom de couleur HTML, par exemple `'orchid'` ou `'peru'` (_si, si !_). La liste complète de ces couleurs est [disponible ici](https://www.w3schools.com/colors/colors_names.asp).\n",
    "* En précisant un code hexadécimal pour la couleur. Ces codes sont du type `#RRGGBB` au format hexadécimal, c'est à dire en base 16. Vous pouvez rapidement convertir des triplets `R,G,B` (chacun allant de 0 à 255) en code hexadécimal, même [sur Google](https://www.google.com/search?q=rgb+to+hex). Ce code devra être compris entre des guillemets pour être correctement interprété."
   ]
  },
  {
   "cell_type": "code",
   "execution_count": null,
   "metadata": {},
   "outputs": [],
   "source": [
    "import numpy as np\n",
    "import matplotlib.pyplot as plt\n",
    "\n",
    "x = np.linspace(0,4*np.pi,100)\n",
    "fig, ax = plt.subplots()\n",
    "line = ax.plot(x,np.sin(x), color='r')                     # MATLAB-style color\n",
    "line = ax.plot(x,np.sin(x+np.pi/3), color='goldenrod')     # HTML named color : yes, goldenrod is a color !\n",
    "line = ax.plot(x,np.sin(x+2*np.pi/3), color='#55aaFF')     # RGB values if you want maximum flexibility "
   ]
  },
  {
   "cell_type": "markdown",
   "metadata": {},
   "source": [
    "Si vous avez des marqueurs, comment est-ce que ça marche ? L'option `color` va remplir la ligne et le marqueur d'une couleur uniforme. Mais, si vous êtes un esthète comme moi, vous aurez peut-être plus envie de préciser une couleur pour _le bord_ du marqueur appelée `markeredgecolor`, et une autre pour le _fond_ de celui-ci `markerfacecolor`. Si vous êtes encore plus un furieux, sachez que vous pouvez également régler l'épaisseur _du trait du bord du marqueur_, `markeredgewidth`, qui vaut également 1 par défaut. Certains marqueurs, comme `'+'` et `'x'`, n'ont pas d'_intérieur_, il n'est donc pas nécessaire de régler leur `markerfacecolor`. \n",
    "\n",
    "Essayez de jouer avec la figure suivante pour la rendre moins moche ! Une bonne approche consiste à choisir comme couleur de bord une version 'un peu plus sombre' de la couleur du fond du marqueur. "
   ]
  },
  {
   "cell_type": "code",
   "execution_count": null,
   "metadata": {},
   "outputs": [],
   "source": [
    "x = np.linspace(0,4*np.pi,50)\n",
    "fig, ax = plt.subplots()\n",
    "line = ax.plot(x,np.sin(x), linestyle='--', marker='s', markeredgecolor='teal', markerfacecolor='orange', markeredgewidth=3)      "
   ]
  },
  {
   "cell_type": "markdown",
   "metadata": {},
   "source": [
    "__Exercice__ : \n",
    "\n",
    "* Que se passe-t-il si je précise à la fois `color`, `markeredgecolor` et `markerfacecolor` ? Est-ce que certains choix de couleurs sont 'écrasées' en fonction de l'ordre d'appel des arguments ?"
   ]
  },
  {
   "cell_type": "markdown",
   "metadata": {},
   "source": [
    "#### Les Axes \n",
    "\n",
    "Les Axes sont le coeur de Matplotlib, donc ne soyez pas épouvanté.e.s devant la longue liste de choses qu'il est possible d'éditer. Nous allons nous concentrer sur certaines propriétés-clé, sachant que nous avons déjà vu comment _placer_ nos `Axes` dans la figure*. Contrairement aux objets `Lines`, il est plus utile de formater les axes _après_ les avoir créés. On va donc appeler tout un tas de _méthodes_ du type `ax.set_machin()` afin de rendre nos figures encore plus belles !\n",
    "\n",
    "<small>* si vous n'êtes pas content de la position de vos axes, vous pouvez les bouger avec la méthode `ax.set_position()` après avoir tracé vos données </small>"
   ]
  },
  {
   "cell_type": "markdown",
   "metadata": {},
   "source": [
    "##### Limites en x et y\n",
    "\n",
    "Préciser les limites de vos axes est assez simple ! Pour cela, vous pouvez utiliser les méthodes `ax.set_xlim()` et `ax.set_ylim()`. Ceux-ci prennent en entrée une liste de deux nombres, le second étant, vous l'aurez deviné, plus grand que le premier... logique. Étant une personne très positive, je n'aime pas trop la partie négative des graphes, je choisis donc : "
   ]
  },
  {
   "cell_type": "code",
   "execution_count": null,
   "metadata": {},
   "outputs": [],
   "source": [
    "import numpy as np\n",
    "import matplotlib.pyplot as plt\n",
    "\n",
    "x = np.linspace(0,4*np.pi,100)\n",
    "fig, ax = plt.subplots()\n",
    "line = ax.plot(x,np.sin(x))\n",
    "ax.set_xlim([0,6])\n",
    "ax.set_ylim([0,1])"
   ]
  },
  {
   "cell_type": "markdown",
   "metadata": {},
   "source": [
    "__Exercice__ : Rétablissez l'équilibre cosmique de l'axe $y$, et essayez de choisir une valeur de $x$ maximale qui tombe exactement sur une (demi)-période de ma fonction."
   ]
  },
  {
   "cell_type": "markdown",
   "metadata": {},
   "source": [
    "##### Etiquettes des axes et titre\n",
    "\n",
    "Les étiquettes de données et les titres ne sont pas des simples chaînes de caractères, et les objets qui leur correspondent sont en fait assez difficiles à trouver dans la hiérarchie des figures. Matplotlib nous fournit donc gracieusement les trois méthodes `ax.set_xlabel()`, `ax.set_ylabel()` et `ax.set_title()` pour préciser les étiquettes des données des axes $x$ et $y$ et le titre. Voyons leur effet en action : "
   ]
  },
  {
   "cell_type": "code",
   "execution_count": null,
   "metadata": {},
   "outputs": [],
   "source": [
    "import numpy as np\n",
    "import matplotlib.pyplot as plt\n",
    "\n",
    "x = np.linspace(0,4*np.pi,50)\n",
    "fig, ax = plt.subplots()\n",
    "line = ax.plot(x,np.arctan(x))\n",
    "xlb = ax.set_xlabel('Kittens')\n",
    "ylb = ax.set_ylabel('Happiness')\n",
    "ttl = ax.set_title('Kitten Yield Curve')"
   ]
  },
  {
   "cell_type": "markdown",
   "metadata": {},
   "source": [
    "Vous pouvez mettre un peu de $\\LaTeX$ dans vos étiquettes de données, Matplotlib le comprend un peu. Mais faites attention, avant d'être interprétée par $\\LaTeX$, la chaîne que vous écrivez va être évaluée (l'équivalent de la fonction `print()`). Donc si vous voulez écrire du code $\\TeX$ avec des barres obliques  `'\\'`, vous devrez les doubler dans votre chaîne Python originale ! Voyez donc dans l'exemple suivant, ce à quoi ressemble mon `ytex_label` une fois que je l'affiche : "
   ]
  },
  {
   "cell_type": "code",
   "execution_count": null,
   "metadata": {},
   "outputs": [],
   "source": [
    "x = np.linspace(0,4*np.pi,50)\n",
    "fig, ax = plt.subplots()\n",
    "line = ax.plot(x,np.sin(x))\n",
    "\n",
    "ytex_label = '$x - \\\\frac{x^3}{3!} + \\\\frac{x^5}{5!} - \\\\ldots$'    # Will be\n",
    "xtex_label = '$x$'\n",
    "print(ytex_label)\n",
    "xlb = ax.set_xlabel(xtex_label)\n",
    "ylb = ax.set_ylabel(ytex_label)"
   ]
  },
  {
   "cell_type": "markdown",
   "metadata": {},
   "source": [
    "##### Les graduations, pour les gens ayant des tic(k)s\n",
    "\n",
    "Cette fois-ci, on va se concentrer sur les graduations de vos graphes. Elles sont composées de _trois_ éléments, les `major ticks`, les `major tick labels` et les `minor ticks`. Je vais délaisser les `minor ticks` et ne voux expliquer que le fonctionnement des autres. La manière la plus simple de choisir la position de vos `major ticks` est d'utiliser la méthode `ax.set_xticks()` et de lui donner en entrée la liste des valeurs (en Python, donc) à laquelle vous voulez voir des graduations. Par défaut, Matplotlib va afficher la valeur de $x$ correspondant à la position de la graduation : si on met une graduation à $x = 9$, eh bien il va afficher ... $9$, sans surprise. \n",
    "\n",
    "Vous pouvez modifier ce comportement en utilisant la méthode `ax.set_xticklabels()`. Celle-ci prend en entrée un tableau de chaînes de caractères (`str`) de la même longueur que celui passé à `set_xticks()`, mais hormis cela vous pouvez être très créatifs :"
   ]
  },
  {
   "cell_type": "code",
   "execution_count": null,
   "metadata": {},
   "outputs": [],
   "source": [
    "import numpy as np\n",
    "import matplotlib.pyplot as plt\n",
    "\n",
    "x = np.linspace(0,4*np.pi,100)\n",
    "fig, ax = plt.subplots()\n",
    "line = ax.plot(x,np.sin(x), color='r')                     # MATLAB-style color\n",
    "line = ax.plot(x,np.sin(x+np.pi/3), color='goldenrod')     # HTML named color : yes, goldenrod is a color !\n",
    "line = ax.plot(x,np.sin(x+2*np.pi/3), color='#55aaFF')     # RGB values if you want maximum flexibility \n",
    "\n",
    "xtck = ax.set_xticks([0,1,3,9,12])\n",
    "ytck = ax.set_yticks([-1,-0.5,0.0,0.5,1])\n",
    "xtlb = ax.set_xticklabels(['jean', 'paul', 'firmin', 'olivia', 'layella'])"
   ]
  },
  {
   "cell_type": "markdown",
   "metadata": {},
   "source": [
    "Si vous voulez éditer plus en détail les graduations de votre tracé, vous pouvez vous réferer à [la page Matplotlib permettant de les formater](https://matplotlib.org/stable/api/_as_gen/matplotlib.axes.Axes.tick_params.html).\n",
    "\n",
    "__Exercice__ : Soyez un très bon élève et placez des `x major ticks` pour tous les multiples de $\\pi$, puis affichez explicitement ces valeurs comme $\\pi, 2\\pi, 3\\pi$ en $\\LaTeX$ dans les `x major tick labels` de la figure ci-dessus."
   ]
  },
  {
   "cell_type": "markdown",
   "metadata": {},
   "source": [
    "##### Axes Logarithmiques\n",
    "\n",
    "Si vous êtes astrophysicien.ne, vous ne jurez probablement que par les axes en échelle logarithmique car vos données sont de toute manière trop peu précises pour ne pas juste ressembler à un fouillis en échelle normale. De la même manière, les rhéologues apprécient de pouvoir examiner la réponse de leurs fondus de polymères sur de nombreuses décades en $x$. Matplotlib est là pour nous, une fois de plus, avec les méthodes `ax.set_xscale()` et `ax.set_yscale()`, qui prennent en entrée des chaînes de caractère, principalement `'lin'` ou `'log'` [(voir ici pour d'autres choix si vous êtes un original)](https://matplotlib.org/stable/gallery/scales/scales.html)."
   ]
  },
  {
   "cell_type": "code",
   "execution_count": null,
   "metadata": {},
   "outputs": [],
   "source": [
    "import numpy as np\n",
    "import matplotlib.pyplot as plt\n",
    "\n",
    "x = np.logspace(-3,3,1000) # A linspace but in log scale. Neat ! \n",
    "fig, ax = plt.subplots()\n",
    "ax.plot(x,1 + x**0.5)\n",
    "ax.set_xscale('log')\n",
    "ax.set_yscale('log')"
   ]
  },
  {
   "cell_type": "markdown",
   "metadata": {},
   "source": [
    "__Exercice__ : Trouvez un jeu d'axes $x$ et $y$ (`'log'` ou `'lin'`) pour lequel les données `x` et `y` suivantes s'alignent selon une droite : "
   ]
  },
  {
   "cell_type": "code",
   "execution_count": null,
   "metadata": {},
   "outputs": [],
   "source": [
    "import matplotlib.pyplot as plt\n",
    "\n",
    "x = [65.0, 18.6, 28.1, 39.0, 114.8, 11.1, 15.3, 24.0, 20.5, 78.9, 59.2, 33.8, 46.1,94.1, 12.2]\n",
    "y = [4.17, 2.92, 3.37, 3.69, 4.70 , 2.40, 2.74, 3.18, 3.02, 4.31, 4.02, 3.5, 3.83, 4.54, 2.50]\n",
    "\n",
    "fig, ax = plt.subplots()\n",
    "plt = ax.plot(x,y, 'kx')"
   ]
  },
  {
   "cell_type": "markdown",
   "metadata": {},
   "source": [
    "##### Grille et couleur de fond\n",
    "\n",
    "Vous pouvez enfin rajouter une grille dans vos axes afin de vraiment avoir cet aspect distingué qu'ont certains graphes Excel ou infographies. Comment ? Tout simplement grâce à la méthode `ax.grid`, à laquelle vous pouvez renvoyer `True` ou `False`. Sinon, vous pouvez lui donner en argument : \n",
    "* les axes sur lesquelles la grille s'applique avec `which`, qui peut être égal à `'x'` ou `'y'` ou `'both'` \n",
    "* une couleur avec `color`  \n",
    "* un style de ligne avec `linestyle`\n",
    "* une épaisseur de ligne avec `linewidth`\n",
    "\n",
    "La couleur du fond des `Axes`, se règle avec `ax.set_facecolor()` (il est _de retour_). On peut donc produire la merveille suivante : "
   ]
  },
  {
   "cell_type": "code",
   "execution_count": null,
   "metadata": {},
   "outputs": [],
   "source": [
    "import numpy as np\n",
    "import matplotlib.pyplot as plt\n",
    "\n",
    "x = np.linspace(-3,3,100) \n",
    "fig, ax = plt.subplots()\n",
    "ax.plot(x,1 + np.cbrt(x), color='lightcoral', linewidth=4)\n",
    "ax.set_facecolor('lime')\n",
    "ax.grid(which='both', color='darkorchid', linestyle='--', linewidth=3)\n",
    "ttl = ax.set_title('My Masterpiece')"
   ]
  },
  {
   "cell_type": "markdown",
   "metadata": {},
   "source": [
    "#### Les figures\n",
    "\n",
    "Les figures ont comparativement moins d'options que vous pouvez paramétrer. Les deux principales propriétés de ces figures sont leur largeur, donnée par `fig.set_figwidth()` et sa hauteur, `fig.set_figheight()`. _Par défaut_, la taille de ces figures est de 6.4 pouces de large et 4.8 pouces de haut (merci les États-Uniens ...), ce qui fait 16.3 cm par 12.2 pour les personnes civilisées."
   ]
  },
  {
   "cell_type": "code",
   "execution_count": null,
   "metadata": {},
   "outputs": [],
   "source": [
    "import numpy as np\n",
    "import matplotlib.pyplot as plt\n",
    "\n",
    "f, ax = plt.subplots()\n",
    "f.set_figwidth(3)\n",
    "f.set_figheight(2)\n",
    "\n",
    "x = np.linspace(-3,3,100)\n",
    "lin = ax.plot(x, 1/(1+x**2))"
   ]
  },
  {
   "attachments": {},
   "cell_type": "markdown",
   "metadata": {},
   "source": [
    "#### Pyplot _lui-meme_ : les feuilles de style!\n",
    "\n",
    "Il est possible de modifier le comportement de `pyplot` lui-même : dans ce cas, _tous_ les graphes que vous tracerez ensuite seront affectés. Bien souvent, il faut aller trifouiller dans une boîte de paramètres généraux de `matplotlib.pyplot` appelée `rcParams`. Cet objet ressemble à un dictionnaire et possède de _très nombreuses_ clés, et est très puissante. Un aperçu de ce que vous pouvez faire avec `rcParams` [est disponible en suivant ce lien](\n",
    "https://matplotlib.org/stable/tutorials/introductory/customizing.html). Dans cette section, je vais volontairement éviter d'utiliser cette boîte à outils compliquée et simplement évoquer les _feuilles de style_ (qui ne passent pas par `rcParams`).\n",
    "\n",
    "La fonction `plt.style.use()` vous permet de choisir parmi une des [diverses feuilles de style disponibles](https://matplotlib.org/stable/gallery/style_sheets/style_sheets_reference.html) sous Matplotlib. Si vous êtes un esthète (vous avez raison) et que vous voulez utiliser le magnifique thème `'Solarize_Light2'` (pas de `d`, un `_` et un `2`), vous pouvez alors enfin avoir vos graphes et votre interface en harmonie. De même, si vous êtes un hacker® et que vous voulez des graphes sur fond noir, le thème `'dark_background'` est fait pour vous."
   ]
  },
  {
   "cell_type": "code",
   "execution_count": null,
   "metadata": {},
   "outputs": [],
   "source": [
    "import numpy as np\n",
    "import matplotlib.pyplot as plt\n",
    "\n",
    "plt.style.use('Solarize_Light2')\n",
    "x = np.linspace(-3,3,100)\n",
    "\n",
    "f1, ax1 = plt.subplots()\n",
    "f1.set_figwidth(3), \n",
    "f1.set_figheight(2)\n",
    "lin11 = ax1.plot(x, 1/(1+x**2))\n",
    "lin12 = ax1.plot(x, x/(1+x**2))\n",
    "\n",
    "f2, ax2 = plt.subplots()\n",
    "f2.set_figwidth(3), \n",
    "f2.set_figheight(2)\n",
    "for i in range(7):\n",
    "    ln = ax2.plot(x, x**2 - i*x)"
   ]
  },
  {
   "cell_type": "markdown",
   "metadata": {},
   "source": [
    "#### Antisèche \n",
    "\n",
    "Je reprends ici une antisèche listant les diverses méthodes qui s'appliquent à votre figure (gracieusement reprise depuis le site de Matplotlib)\n"
   ]
  },
  {
   "cell_type": "markdown",
   "metadata": {},
   "source": [
    "![img](./resources/matplotlib_figure.png)"
   ]
  },
  {
   "attachments": {},
   "cell_type": "markdown",
   "metadata": {},
   "source": [
    "--------------------------------------------\n",
    "\n",
    "### Tracés avancés\n",
    "\n",
    "Tracer des lignes et des séries de symboles, c'est fort joli, mais parfois, il va vous falloir tracer _autre chose_. Comment se débrouille-t-on dans le cas d'une _image_, d'une _surface_, ... ? Nous allons nous charger de ces cas un peu plus récalcitrants dans cette section."
   ]
  },
  {
   "cell_type": "markdown",
   "metadata": {},
   "source": [
    "#### Les images\n",
    "\n",
    "Afficher des images s'effectue avec la méthode `ax.imshow()`, qui prend en entrée un tableau 2d de coordonnées. Simple, non ? Pour les amateurs de MATLAB, cette fonction ressemble beaucoup à `imagesc`."
   ]
  },
  {
   "cell_type": "code",
   "execution_count": null,
   "metadata": {},
   "outputs": [],
   "source": [
    "import numpy as np\n",
    "import matplotlib.pyplot as plt\n",
    "\n",
    "fig, ax = plt.subplots()\n",
    "plt.style.use('default')\n",
    "\n",
    "x = np.linspace(-3,3,1000)\n",
    "y = np.linspace(-3,3,1000)\n",
    "[X,Y] = np.meshgrid(x,y)   # Building 2d X and Y scales both spanning from -5 to 5\n",
    "Z = np.sinc(X**2 + Y**2)   # Complicated but circular function \n",
    "im = ax.imshow(Z)"
   ]
  },
  {
   "attachments": {},
   "cell_type": "markdown",
   "metadata": {},
   "source": [
    "Oh ! La belle bleue. Mais ... mais ... attendez ! Qui a choisi les couleurs ? Et mes axes ? Mauvaise nouvelle, on ne peut pas juste donner à `imshow()` des coordonnées $X$ et $Y$ à 2d pour qu'il trace les pixels aux bons endroits. Si vous voulez _vraiment_ faire ça, vous pouvez utiliser à la place la fonction `ax.pcolor()`, mais sachez qu'elle est _lente_ quand vos tableaux de données deviennent grands !"
   ]
  },
  {
   "cell_type": "markdown",
   "metadata": {},
   "source": [
    "##### Placer ses axes avec `ax.imshow()`\n",
    "\n",
    "Le choix de vos axes va s'effectuer en ajoutant une option nommée `extent` lors de l'appel à `ax.imshow()`. Vous pouvez alors préciser les limites en $x$ et $y$ de vos données, avec une liste ou un tableau du type `[bord_gauche, bord_droite, bord_bas, bord_haut]`. Dans notre cas, il est assez raisonnable de choisir comme bords les valeurs extrémales de $X$ et $Y$ : "
   ]
  },
  {
   "cell_type": "code",
   "execution_count": null,
   "metadata": {},
   "outputs": [],
   "source": [
    "import numpy as np\n",
    "import matplotlib.pyplot as plt\n",
    "\n",
    "fig, ax = plt.subplots()\n",
    "\n",
    "x = np.linspace(-5,5,300)\n",
    "[X,Y] = np.meshgrid(x,x)   # Building 2d X and Y scales both spanning from -5 to 5\n",
    "my_bounds = [np.min(X), np.max(X), np.min(Y), np.max(Y)]\n",
    "\n",
    "Z = np.sinc(np.sqrt(X**2 + Y**2))   # Complicated but circular function \n",
    "im = ax.imshow(Z, extent=my_bounds)"
   ]
  },
  {
   "cell_type": "markdown",
   "metadata": {},
   "source": [
    "##### Choisir ses couleurs \n",
    "\n",
    "Vous pouvez changer deux choses si vous voulez régler les couleurs de votre image. La première chose qui vient à l'esprit consiste à changer de _palette_ de couleurs (_colormaps_ en anglais). Il en existe à nouveau de [très nombreuses _colormaps_](https://matplotlib.org/stable/tutorials/colors/colormaps.html), j'en liste seulement quelques-unes d'intérêt ici. __Attention aux majuscules et minuscules__ ! \n",
    "\n",
    "![img](./resources/mpl_cmaps.png)\n",
    "\n",
    "Vous pouvez alors, soit appeler la fonction `ax.imshow()` et lui préciser en argument supplémentaire l'option `cmap` avec une des palettes disponibles, par exemple `'Magma'`. À l'inverse, si l'image est déjà tracée, vous pouvez utiliser la méthode `im.set_cmap()` de l'image elle-même pour changer la palette, en lui donnant à nouveau à 'manger' la palette de vos rêves. "
   ]
  },
  {
   "cell_type": "code",
   "execution_count": null,
   "metadata": {},
   "outputs": [],
   "source": [
    "im.set_cmap('hsv')\n",
    "fig"
   ]
  },
  {
   "cell_type": "markdown",
   "metadata": {},
   "source": [
    "__Exercice__ : Amusez-vous à changer la palette de couleurs et essayez de trouver la plus adaptée et la moins adaptée afin de comprendre à quoi ressemble notre fonction ${\\rm sinc}$. "
   ]
  },
  {
   "attachments": {},
   "cell_type": "markdown",
   "metadata": {},
   "source": [
    "Par défaut, l'échelle de couleurs s'étend du minimum au maximum de la plage de données que vous lui donnez à manger : par exemple, le bleu très foncé de `viridis` va correspondre à `min(Z)` et le jaune fluo à l'autre extrémité de la palette va correspondre à `max(Z)`. Si vous voulez que les couleurs extrêmes de vos palettes correspondent à la place à des valeurs que vous précisez explicitement, vous pouvez utiliser les options `vmin` et `vmax` lors de l'appel à la méthode `.imshow()`, par exemple : "
   ]
  },
  {
   "cell_type": "code",
   "execution_count": null,
   "metadata": {},
   "outputs": [],
   "source": [
    "im = ax.imshow(Z, cmap='Spectral', extent=my_bounds, vmin=-0.5, vmax=0.5)\n",
    "fig"
   ]
  },
  {
   "attachments": {},
   "cell_type": "markdown",
   "metadata": {},
   "source": [
    "Avec notre choix de `cmap`, `vmin` et `vmax`, on voit ici mieux les lobes positifs (bleus) et négatifs (orange / rouge) de notre fonction ${\\rm sinc(r)}$.\n",
    "\n",
    "__Exercice__ : à l'heure actuelle, il n'est pas possible d'avoir plus d'un objet `.imshow()` par axe, mais vous pouvez très bien ajouter des lignes par dessus votre image ! Essayez par exemple de superposer à l'image précédente des cercles correspondant aux changements de signe de la fonction ${\\rm sinc}$ : notez qu'elle est définie ici comme $\\sin(\\pi r) / (\\pi r)$."
   ]
  },
  {
   "cell_type": "code",
   "execution_count": null,
   "metadata": {},
   "outputs": [],
   "source": [
    "# Chop chop !"
   ]
  },
  {
   "attachments": {},
   "cell_type": "markdown",
   "metadata": {},
   "source": [
    "##### Les colorbars\n",
    "\n",
    "Les barres de couleurs sont là pour aider le lecteur de la figure afin qu'il sache à quelle plage de données correspondent les couleurs. C'est une forme _visuelle_ de ce qu'on a codé avec les arguments `vmin` et `vmax` et `cmap`. On peut demander à Matplotlib de l'afficher pour nous.\n",
    "\n",
    "Les objets `colorbar` sont en fait des axes et appartiennent à la figure. On va donc les créer avec `fig.colorbar()`. Nous allons alors indiquer en option l'image que nous venons d'afficher, et Matplotlib se débrouillera pour comprendre la palette de couleurs utilisée et les valeurs de `vmin` et `vmax`. On peut préciser un `label` à l'objet `colorbar`, qui indiquera quelle quantité physique correspond à l'échelle de couleurs.\n",
    "\n",
    "Plus d'informations à ce sujet [en suivant ce lien](https://matplotlib.org/stable/api/_as_gen/matplotlib.pyplot.colorbar.html) !"
   ]
  },
  {
   "cell_type": "code",
   "execution_count": null,
   "metadata": {},
   "outputs": [],
   "source": [
    "import numpy as np\n",
    "import matplotlib.pyplot as plt\n",
    "\n",
    "fig, ax = plt.subplots()\n",
    "\n",
    "x = np.linspace(-5,5,300)\n",
    "[X,Y] = np.meshgrid(x,x)   # Building 2d X and Y scales both spanning from -5 to 5\n",
    "my_bounds = [np.min(X), np.max(X), np.min(Y), np.max(Y)]\n",
    "\n",
    "Z = np.sinc(np.sqrt(X**2 + Y**2))   # Complicated but circular function \n",
    "im = ax.imshow(Z, extent=my_bounds, vmin=-1, vmax=1, cmap='RdYlBu')\n",
    "\n",
    "cb = fig.colorbar(im, label='Z-value')"
   ]
  },
  {
   "attachments": {},
   "cell_type": "markdown",
   "metadata": {},
   "source": [
    "#### Aires sous la courbe (ou entre courbes)\n",
    "\n",
    "Si vous êtes un fanatique de mathématiques ou d'Isaac Newton, vous aurez peut-être envie dans votre vie de colorer l'aire sous une courbe, voire entre deux courbes. Sous Matplotlib, c'est très simple. Tracez d'abord vos deux lignes en question, puis utilisez la méthode `.fill_between()`. Donnez-lui à manger l'échelle des $x$ puis les deux séries $y_1$, $y_2$, et le tour est joué !"
   ]
  },
  {
   "cell_type": "code",
   "execution_count": null,
   "metadata": {},
   "outputs": [],
   "source": [
    "import numpy as np\n",
    "import matplotlib.pyplot as plt\n",
    "\n",
    "x = np.linspace(-5,5, 300)\n",
    "y1 = np.exp(-x**2/2)/(np.sqrt(2*np.pi))\n",
    "y2 = 1/np.pi/(1 + x**2)\n",
    "\n",
    "fig, ax = plt.subplots()\n",
    "ax.plot(x, y1, label='Normal')\n",
    "ax.plot(x, y2, label='Lorentz')\n",
    "ax.fill_between(x, y1, y2, color='gold', label='Difference')\n",
    "\n",
    "lgd = ax.legend()"
   ]
  },
  {
   "attachments": {},
   "cell_type": "markdown",
   "metadata": {},
   "source": [
    "__Exercices__ : \n",
    "\n",
    "* Trouvez un moyen _bête et rapide_ pour tracer l'aire sous la courbe Lorentzienne, soit entre $y=0$ et cette courbe.\n",
    "* Faites en sorte que les aires aient une couleur différente si la Lorentzienne est plus grande que la loi normale et inversement. Aidez-vous éventuellement de la [documentation en ligne](https://matplotlib.org/stable/api/_as_gen/matplotlib.pyplot.fill_between.html)."
   ]
  },
  {
   "attachments": {},
   "cell_type": "markdown",
   "metadata": {},
   "source": [
    "#### Histogrammes\n",
    "\n",
    "La syntaxe de tracé des histogrammes sous Matplotlib reprend celle de [Numpy](./Application_A_Numpy.ipynb#Histogrammes), et va directement tracer l'histogramme à partir de votre série de données et des 'boîtes' (_bins_) que Numpy ou vous-même avez spécifiées. Il est également à nouveau possible de passer l'option `density` pour obtenir une distribution de probabilité (pdf). La méthode `ax.hist()` renvoie les boîtes (`bins`) et les fréquences d'occurrence (les `counts`) en plus de l'objet 'histogramme' à l'utilisateur. On peut donc écrire, pour des valeurs distribuées selon une loi normale : "
   ]
  },
  {
   "cell_type": "code",
   "execution_count": null,
   "metadata": {},
   "outputs": [],
   "source": [
    "import numpy as np\n",
    "import matplotlib.pyplot as plt\n",
    "\n",
    "dat = np.random.normal(scale=1, size=int(1e3))\n",
    "\n",
    "fig, ax = plt.subplots()\n",
    "counts, bins, my_hist = ax.hist(dat, bins=np.arange(-4,4,0.1), density=True) # bins and counts are also returned if you want to use them"
   ]
  },
  {
   "attachments": {},
   "cell_type": "markdown",
   "metadata": {},
   "source": [
    "__Exercice__ : Superposez la loi normale théorique : \n",
    "\n",
    "$$ \\mathcal{N}(x) = \\frac{1}{\\sqrt{2 \\pi}} \\exp \\left ( - \\frac{x^2}{2}\\right ) $$\n",
    "\n",
    "à la distribution expérimentale. À partir de combien d'échantillons la distribution expérimentale est-elle en bon accord (visuel) avec la loi théorique ?"
   ]
  },
  {
   "attachments": {},
   "cell_type": "markdown",
   "metadata": {},
   "source": [
    "#### Nuages de points : les `.scatter()`\n",
    "\n",
    "À première vue, il semble superflu de proposer une fonction permettant de tracer des nuages de points, car ... cela est possible simplement avec la méthode `.plot()` et en retirant les lignes, non ? Vous avez parfaitement raison. Mais, parfois, il est intéressant de coder des informations supplémentaires dans la taille ou la couleur de vos marqueurs, de manière individuelle. Et, malheureusement, `.plot()` n'en est pas vraiment capable, mais coup de chance, c'est précisément le rôle de `.scatter()` !"
   ]
  },
  {
   "attachments": {},
   "cell_type": "markdown",
   "metadata": {},
   "source": [
    "\n",
    "Prenons un exemple concret de données de développement entre pays fournies gracieusement par l'[ONU à l'adresse suivante](https://hdr.undp.org/data-center/human-development-index#/indicies/HDI). Ce jeu de données contient de nombreux indicateurs, comme l'espérance de vie à la naissance, la consommation de CO2 par habitant, le PIB par habitant, l'indice (agrégé) de développement humain, la durée moyenne de l'éducation des élèves, ... et ce pour deux années, 1990 et 2021. \n",
    "\n",
    "Avec _scatter_, je peux afficher plus que deux informations en même temps : \n",
    "* je peux regarder si, par exemple, les émissions de CO2 (axe Y) sont corrélées à un PIB plus élevé (axe X) et à un indice de développement humain plus élevé (couleurs) en tenant compte de la taille de chaque population (taille des marqueurs)\n",
    "* je peux regarder si la progression de l'indice de développement humain (HDI) des hommes et des femmes est corrélée de 1990 à 2021, tout en affichant le 'point de départ' (l'HDI moyen en 1990) de ces pays via les couleurs des symboles. \n",
    "\n",
    "Les deux options `c` (pour `color`) et `s` (pour `size`, en tant qu'_aire_ du marqueur) que l'on peut préciser dans `scatter()` prennent en entrée soient une couleur unique, soit un tableau de couleurs (par exemple au format HTML), soit un tableau de valeurs numériques de la même taille que la série de données initiale. Plus d'informations [en suivant ce lien](https://matplotlib.org/stable/api/_as_gen/matplotlib.pyplot.scatter.html).\n",
    "\n",
    "_Note_ : Cette cellule utilise [Pandas](pandas.pydata.org/), dont je décris en détail le fonctionnement dans [l'Application D](./Application_D_Pandas.ipynb) pour gérer les données."
   ]
  },
  {
   "cell_type": "code",
   "execution_count": null,
   "metadata": {},
   "outputs": [],
   "source": [
    "import pandas as pd\n",
    "import matplotlib.pyplot as plt\n",
    "\n",
    "dat = pd.read_csv('./resources/un_hdr_data.csv')\n",
    "\n",
    "fig, ax = plt.subplots()\n",
    "\n",
    "sct = ax.scatter(dat['gnipc_2021'], dat['co2_prod_2021'], c=dat['hdi_2021'], s=np.sqrt(dat['pop']), edgecolor='k')  # Here I put sqrt(population) otherwise China too big !\n",
    "ax.set_xscale('log')\n",
    "ax.set_yscale('log')\n",
    "ax.set_xlabel('GDP per capita (PPP dollars)')\n",
    "ax.set_ylabel('CO2 emissions per capita (tonnes)')\n",
    "cb = fig.colorbar(sct, label='Human development Index')"
   ]
  },
  {
   "attachments": {},
   "cell_type": "markdown",
   "metadata": {},
   "source": [
    "On voit ici assez nettement que les pays les plus pauvres émettent moins ce CO2 par habitant que les pays les plus riches, et que pour les plus riches, on commence à voir un ralentissement, voire un début de plateau (tant mieux pour la planète ...). Les couleurs nous indiquent en outre que les pays les plus riches sont également les plus développés (d'uh ... sachant que la richesse par habitant fait partie de l'indice de développement). Les deux énormes points que sont l'Inde et la Chine ne font pas particulièrement exception dans ce graphique.\n",
    "\n",
    "Pour ce qui est du second tracé : "
   ]
  },
  {
   "cell_type": "code",
   "execution_count": null,
   "metadata": {},
   "outputs": [],
   "source": [
    "import pandas as pd\n",
    "import matplotlib.pyplot as plt\n",
    "\n",
    "dat = pd.read_csv('./resources/un_hdr_data.csv')\n",
    "\n",
    "hdi_f_prog = dat['hdi_f_2021'] - dat['hdi_f_1990']\n",
    "hdi_m_prog = dat['hdi_m_2021'] - dat['hdi_m_1990']\n",
    "\n",
    "fig, ax = plt.subplots()\n",
    "\n",
    "# Call to scatter. NOTE : You can specify the color 'range' vmin, vmax directly in scatter(), and the color map ! Yay\n",
    "sct = ax.scatter(hdi_f_prog, hdi_m_prog, c=dat['hdi_1990'], s=dat['pop']**0.5, edgecolor='k', cmap='magma', vmin=0.2, vmax=0.9)   \n",
    "ax.plot([0,0.3], [0,0.3],  'k:')\n",
    "\n",
    "ax.set_xlabel('Change in F HDI (1990-2021)')\n",
    "ax.set_ylabel('Change in M HDI (1990-2021)')\n",
    "\n",
    "fig.set_size_inches([8,6])\n",
    "cb = fig.colorbar(sct, label='HDI (1990)')"
   ]
  },
  {
   "attachments": {},
   "cell_type": "markdown",
   "metadata": {},
   "source": [
    "On voit que sur les 30 dernières années, quasiment tous les hommes et femmes ont vu leur HDI progresser en 30 ans, hormis les hommes d'un seul pays (la Syrie, malheureusement ...). Les femmes ont vu leur HDI augmenter plus vite que celui des hommes, ce qui est plutôt une bonne nouvelle. Les pays déjà développés ont évolué un peu moins vite que leurs homologues moins développés, ce qui est assez normal, même s'il y a quelques exceptions (le Lesotho et le Yémen). À l'inverse, deux pays ont complètement _explosé_ les scores au niveau féminin ... la Chine et le Bangladesh ! \n",
    "\n",
    "On notera enfin que de nombreux pays ne disposaient pas de statistiques de l'HDI par genre en 1990. De nombreux pays sont donc absents de ce tracé, et il faut y faire attention !"
   ]
  },
  {
   "attachments": {},
   "cell_type": "markdown",
   "metadata": {},
   "source": [
    "#### Surfaces\n",
    "\n",
    "Tracer des surfaces fait toujours joli, même si mon avis personnel est que celles-ci sont rarement lisibles. Je vais donc vous montrer ici comment _limiter les dégâts_ :-). Le tracé d'une surface s'effectue avec la méthode `ax.plot_surface()` et se trace sur une grille (_mesh_) 2D de coordonnées $X$ et $Y$."
   ]
  },
  {
   "attachments": {},
   "cell_type": "markdown",
   "metadata": {},
   "source": [
    "##### Premiers pas\n",
    "\n",
    "Avant de commencer, sachez que : \n",
    "\n",
    "* vous ne pouvez pas directement créer votre figure et vos axes avec `plt.subplots`, car __il faut passer l'option `projection='3d'` lors de la création de l'objet `Axes`__ (à l'aide de `fig.add_subplot()` ou `fig.add_axes()`).\n",
    "* votre figure, par défaut, sera assez minuscule. N'hésitez pas à grossir votre figure pour y voir quelque chose.\n",
    "* vous pouvez coder les valeurs de $Z$ avec des couleurs en utilisant l'option `cmap` lors de l'appel à `plot_surface()`. Si vous voulez coder autre chose que $Z$ avec vos couleurs, je vous laisse regarder le [tutoriel de Matplotlib suivant](https://matplotlib.org/stable/gallery/mplot3d/custom_shaded_3d_surface.html#sphx-glr-gallery-mplot3d-custom-shaded-3d-surface-py).\n",
    "* vous pouvez indiquer la couleur des lignes entre chaque bout de surface (un polygone, en fait) avec l'option `edgecolor`, et l'épaisseur de ces lignes avec `linewidth`.\n",
    "\n",
    "Il est enfin tout à fait possible d'afficher la `colorbar` correspondant à votre tracé de surface. Allez jeter un oeil [à la section correspondante](#les-colorbars) !"
   ]
  },
  {
   "cell_type": "code",
   "execution_count": null,
   "metadata": {},
   "outputs": [],
   "source": [
    "import numpy as np\n",
    "import matplotlib.pyplot as plt\n",
    "\n",
    "# Generating the mesh of (X,Y) coordinates\n",
    "x = np.linspace(-5,5,50)\n",
    "[X,Y] = np.meshgrid(x,x)\n",
    "\n",
    "# Creating a wacky function\n",
    "Z = 3*np.sinc(np.sqrt(X**2+Y**2)) + np.arctan(X+Y)\n",
    "\n",
    "fig = plt.figure(figsize=[9,8])\n",
    "ax = fig.add_axes([0.1,0.1,0.9,0.9], projection='3d')\n",
    "sf = ax.plot_surface(X, Y, Z, cmap='Spectral_r', linewidth=0, rstride=1, cstride=1)"
   ]
  },
  {
   "attachments": {},
   "cell_type": "markdown",
   "metadata": {},
   "source": [
    "\n",
    "Pour économiser du temps de calcul et de rendu des surfaces, Matplotlib se permet de ne pas tracer toutes les valeurs de votre surface, en particulier lorsque vous avez beaucoup de points (plus de 100 x 100). Si vous voulez _forcer_ Matplotlib à tout tracer, vous pouvez changer les options `rstride` qui représente l'espacement entre deux numéros de ligne $X$ qui vont faire partie de la surface affichée, et `cstride` qui fait la même chose pour les lignes de $Y$."
   ]
  },
  {
   "attachments": {},
   "cell_type": "markdown",
   "metadata": {},
   "source": [
    "##### Changer de point de vue avec `.view_init()` et `%matplotlib widget`\n",
    "\n",
    "Notre figure est belle, mais maintenant on aurait _vraiment_ envie de pouvoir voir cette surface dans tous les sens, non ? Bonne nouvelle, c'est possible, et de deux manières différentes. La manière simple, avec `.view_init()` va juste bouger la position de la caméra avant d'afficher notre figure. Cette méthode prend deux options en entrée : l'assiette `elev` va vous indiquer si la caméra pointe 'vers le bas' (pour `elev` > 0) ou vers le haut, tandis que `azim` va représenter le 'lacet', c'est à dire en gros de combien on fait tourner la figure autour de l'axe $z$ ici dans notre affichage. Regardez ce qui arrive à notre figure quand on change ces valeurs n'importe comment ..."
   ]
  },
  {
   "cell_type": "code",
   "execution_count": null,
   "metadata": {},
   "outputs": [],
   "source": [
    "ax.view_init(elev=-80, azim=70) # Modify me ! :-)\n",
    "fig"
   ]
  },
  {
   "attachments": {},
   "cell_type": "markdown",
   "metadata": {},
   "source": [
    "La manière plus sophistiquée permet d'interagir à la souris avec la figure. C'est possible dans notre environnement de travail ([Jupyter](./FAQ.md)) ! Pour cela, on va ajouter une 'ligne magique' de code qui va modifier le fonctinnement de Matplotlib, __`%matplotlib widget`__. Je vous laisse le rajouter dans la cellule ci-dessus où l'on définit la figure. Si vous voulez revenir au fonctionnement d'origine, remettez `%matplotlib inline` à la place dans le code. Je vous conseille de mettre ce bout de code avant la construction de votre figure."
   ]
  },
  {
   "attachments": {},
   "cell_type": "markdown",
   "metadata": {},
   "source": [
    "#####  Tracés de formes plus complexes \n",
    "\n",
    "Certains esprits chagrins pourront se dire \"comment tracer des objets tels que des boules ou des bulles qui ne respectent rien et où on peut avoir plusieurs $Z$ pour un même doublet $(X,Y)$ ?\". C'est souvent le cas lorsque l'équation initiale définissant la forme de mon objet était formulée (par exemple) en coordonnées sphériques. En fait, Matplotlib s'en sort très bien tant qu'on lui passe un triplet $X$, $Y$ et un $Z$. Essayons de tracer une boule, par exemple : "
   ]
  },
  {
   "cell_type": "code",
   "execution_count": null,
   "metadata": {},
   "outputs": [],
   "source": [
    "import numpy as np\n",
    "import matplotlib.pyplot as plt\n",
    "\n",
    "# First, create all the (2d) values of theta and phi\n",
    "theta, phi = np.linspace(0, np.pi, 90), np.linspace(0, 2*np.pi, 90)\n",
    "[THT,PHI] = np.meshgrid(theta, phi)\n",
    "\n",
    "# Compute the values of R. You can add dependences in Theta and Phi !\n",
    "R = 1.1\n",
    "\n",
    "# Convert everything to cartesian coordinates\n",
    "Z = R*np.cos(THT)\n",
    "X = R*np.sin(THT)*np.cos(PHI)\n",
    "Y = R*np.sin(THT)*np.sin(PHI)\n",
    "\n",
    "# Generate figure\n",
    "fig = plt.figure(figsize=[9,7])\n",
    "ax = fig.add_subplot(projection='3d')\n",
    "sf = ax.plot_surface(X,Y,Z, cmap='Spectral')"
   ]
  },
  {
   "attachments": {},
   "cell_type": "markdown",
   "metadata": {},
   "source": [
    "Si votre échantillonnage n'est pas régulier ou que vous avez une forme _vraiment_ très biscornue, vous pouvez toujours vous essayer à la fonction [`plt.plot_trisurf()`](https://matplotlib.org/stable/gallery/mplot3d/trisurf3d_2.html), qui cette fois-ci prend trois listes de points $x,y,z$ (1d chacune) et tente de faire au mieux !"
   ]
  },
  {
   "attachments": {},
   "cell_type": "markdown",
   "metadata": {},
   "source": [
    "---------------------------------------------\n",
    "\n",
    "### Exporter ses figures \n",
    "\n",
    "Maintenant que votre figure est belle, vous avez probablement envie de l'exporter pour que le monde puisse enfin comprendre votre talent. Je vous comprends :-). Il existe deux manières d'exporter vos figures depuis Matplotlib, la première et la plus simple étant par la commande `savefig()`, tandis que la deuxième s'effectue en utilisant le module externe `tikzplotlib`."
   ]
  },
  {
   "attachments": {},
   "cell_type": "markdown",
   "metadata": {},
   "source": [
    "#### La commande `fig.savefig()`\n",
    "\n",
    "Celle-ci fonctionne peu ou prou comme la méthode `.show()`, donc jusqu'ici rien de neuf, et elle prend un argument obligatoire, c'est le nom du fichier créé [ce qui paraît _assez normal_ :-)]. Il faut cependant faire attention à certaines choses pour que votre figure ne devienne pas une monstrosité à l'export. Voyez donc plutôt ce qui arrive lorsqu'on exporte avec les options 'par défaut' alors que je mets des magnifiques labels en $\\LaTeX$ : "
   ]
  },
  {
   "cell_type": "code",
   "execution_count": null,
   "metadata": {},
   "outputs": [],
   "source": [
    "import matplotlib.pyplot as plt\n",
    "import numpy as np\n",
    "\n",
    "# Create data\n",
    "x = np.linspace(-np.pi, np.pi, 500)\n",
    "y = np.sin(3*x)\n",
    "z = np.tanh(x)\n",
    "\n",
    "# Create figure & add plots & labels\n",
    "fig, ax = plt.subplots()\n",
    "ax.plot(x, y, color='orchid')\n",
    "ax.plot(x, z, color='darkgreen', linestyle='--')\n",
    "ax.set_xlabel('$\\\\theta$ (rad)')\n",
    "ax.set_ylabel('$y$ (1)')\n",
    "\n",
    "# Save figure\n",
    "fig.savefig('my_figure.png') # Export in .jpg, ... also possible"
   ]
  },
  {
   "attachments": {},
   "cell_type": "markdown",
   "metadata": {},
   "source": [
    "Si vous regardez dans votre explorateur de fichiers à gauche <---, vous pouvez constater qu'un fichier `.png` a bien été créé. Si vous l'ouvrez, vous pourrez probablement constater les problèmes suivants : \n",
    "\n",
    "1. La figure est petite et pixellisée. Par défaut, sa taille fait 432 x 288 pixels, ce qui est peu ...\n",
    "2. L'étiquette des axes $y$ est coupée à gauche.\n",
    "3. Les polices à l'export ne correspondent pas à celle de Latex.\n",
    "\n",
    "Nous allons remédier à ces trois problèmes dans l'ordre. Pour s'en sortir, on va devoir -- entre autres -- modifier les paramètres par défaut de Matplotlib, le `plt.rcParams` que j'avais évoqué [précédemment](#pyplot-lui-meme--les-feuilles-de-style). \n"
   ]
  },
  {
   "attachments": {},
   "cell_type": "markdown",
   "metadata": {},
   "source": [
    "##### Réglage de la taille de la figure\n",
    "\n",
    "Pour régler la taille générale de la figure, on peut utiliser l'option `figsize` lors de la création d'une figure avec `plt.figure()`, ou la régler plus tard avec `fig.set_size_inches()`, qui prennent en entrée les mêmes tableaux à deux éléments `[width, height]`, en _pouces_ (_inches_ en anglais ; 1 pouce = 2.54 cm). Cette taille est la place que devra prendre votre figure dans le document dans lequel elle sera incluse, par exemple votre rapport de stage. \n",
    "\n",
    "_Note_ : Pour les amateurs de $\\LaTeX$, sachez que vous pouvez connaître la largeur de votre colonne ou de votre texte en écrivant dans votre document $\\LaTeX$ les commandes : `\\the\\columnwidth` ou `\\the\\textwidth`. Celle-ci vous sera alors donnée en points typographiques (1/72 de pouce ... mais qui donc invente ces unités ?!?). Je vous mets un tableau de conversion ici : \n",
    "\n",
    "| Name | cm     | pt    | inch   |\n",
    "|------|--------|-------|--------|\n",
    "| cm   | 1      | 28.35 | 0.394  |  \n",
    "| pt   | 0.0353 | 1     | 0.0139 |  \n",
    "| inch | 2.54   | 72    | 1      |\n",
    "\n",
    "Ensuite, à _taille donnée_ de figure, vous pouvez augmenter la _résolution d'impression_ de l'image, c'est à dire le nombre de pixels ou de _points par pouce_ (_dots per inch_ ou `dpi` en anglais, `ppp` en français). Cette option est passée lors de l'appel à `fig.savefig()`. N'hésitez pas à changer la valeur par défaut de $72$ à $200$, voire $250$ ! Reprenons notre code de tout à l'heure :\n"
   ]
  },
  {
   "cell_type": "code",
   "execution_count": null,
   "metadata": {},
   "outputs": [],
   "source": [
    "import matplotlib.pyplot as plt\n",
    "import numpy as np\n",
    "\n",
    "# Create data\n",
    "x = np.linspace(-np.pi, np.pi, 500)\n",
    "y = np.sin(3*x)\n",
    "z = np.tanh(x)\n",
    "\n",
    "# Create figure & add plots & labels\n",
    "fig, ax = plt.subplots()\n",
    "fig.set_size_inches([10/2.54,7/2.54])   # I want my figure to be 10 x 7 cm \n",
    "ax.plot(x, y, color='orchid')\n",
    "ax.plot(x, z, color='darkgreen', linestyle='--')\n",
    "ax.set_xlabel('$\\\\theta$ (rad)')\n",
    "ax.set_ylabel('$y$ (1)')\n",
    "\n",
    "# Save figure\n",
    "plt.tight_layout()\n",
    "fig.savefig('my_figure.png', dpi=250) # Export in .jpg, ... also possible"
   ]
  },
  {
   "attachments": {},
   "cell_type": "markdown",
   "metadata": {},
   "source": [
    "##### Garder les labels en entier\n",
    "\n",
    "Maintenant que notre figure n'est plus pixellisée, nous pouvons passer aux `labels`. Il existe en fait une solution simple pour éviter que ceux-ci ne soient tronqués. Elle consiste à appeler la fonction `plt.tight_layout()` juste avant d'exporter votre figure. Celle-ci va _décaler tous vos axes_ d'une petite quantité jusqu'à ce que tous les `labels` rentrent dans la `figure`. Cette fonction ne va donc pas changer la taille (en pixels) de votre figure finale. Je vous laisse le placer dans le code ci-dessus et examiner le résultat :-)"
   ]
  },
  {
   "attachments": {},
   "cell_type": "markdown",
   "metadata": {},
   "source": [
    "##### Obtenir des belles polices \n",
    "\n",
    "Enfin, si vous voulez que votre texte soit beau dans le style par défaut de $\\LaTeX$, il va falloir trifouiller dans `plt.rcParams`. Cet objet fonctionne un peu comme un dictionnaire, et __s'applique à toutes les figures__. Les clés qui nous intéressent sont : \n",
    "\n",
    "* `'text.usetex'` pour afficher le code mathématique $\\LaTeX$ en joli (on va le changer de `False` à `True`). Cela va également changer la police des nombres sur les graduations pour les afficher en `Computer Modern`, la police de $\\LaTeX$.\n",
    "* `'font.family'` pour choisir la police de caractères de la figure en dehors du code $\\LaTeX$. Vous pouvez alors choisir entre les familles sans empattement (`sans-serif`), avec empattement (`serif`) , à espacement fixe (`monospace`), ... \n",
    "* `'font.size'` pour choisir la taille par défaut de la police. Le choix malin est de prendre la même taille que celle de votre document $\\LaTeX$ :-) \n",
    "\n",
    "Pour modifier `plt.rcParams`, on lui applique la méthode `.update()` et on lui passe un dictionnaire des valeurs que nous voulons mettre à jour. Et comme il change le fonctionnement de tout Matplotlib, on n'a pas besoin de l'appeler pour chacune des prochaines figures. Essayez par exemple de supprimer les lignes de code associées à `plt.rcParams` une fois exécutées au moins une fois :"
   ]
  },
  {
   "cell_type": "code",
   "execution_count": null,
   "metadata": {},
   "outputs": [],
   "source": [
    "import matplotlib.pyplot as plt\n",
    "import numpy as np\n",
    "\n",
    "# New Matplotlib parameters #######\n",
    "new_params = {'text.usetex':True,\n",
    "              'font.family':'serif',\n",
    "              'font.size':11}\n",
    "plt.rcParams.update(new_params)\n",
    "###################################\n",
    "\n",
    "# Create data\n",
    "x = np.linspace(-np.pi, np.pi, 500)\n",
    "y = np.sin(3*x)\n",
    "z = np.tanh(x)\n",
    "\n",
    "# Create figure & add plots & labels\n",
    "fig, ax = plt.subplots()\n",
    "fig.set_size_inches([10/2.54,7/2.54])   # I want my figure to be 10 x 7 cm \n",
    "ax.plot(x, y, color='orchid')\n",
    "ax.plot(x, z, color='darkgreen', linestyle='--')\n",
    "ax.set_xlabel('$\\\\theta$ (rad)')\n",
    "ax.set_ylabel('$y$ (1)')\n",
    "\n",
    "# Save figure\n",
    "plt.tight_layout()\n",
    "fig.savefig('my_figure.pdf', dpi=250) # Export in .jpg, ... also possible"
   ]
  },
  {
   "attachments": {},
   "cell_type": "markdown",
   "metadata": {},
   "source": [
    "__Et voilà__, notre figure est bien belle !\n",
    "\n",
    "##### Un dernier mot \n",
    "\n",
    "Rien ne vous empêche d'enregistrer votre figure dans un format différent de `.png`. Les plus esthètes d'entre vous peuvent exporter __dans des formats 'vectoriels' pour un résultat encore plus propre à l'impression de votre document final__, comme par exemple le `.pdf` (qui impose les polices utilisées par Matplotlib dans votre document final) et le `.eps` (qui lui va essayer d'utiliser les polices de votre document final dans la figure). "
   ]
  },
  {
   "attachments": {},
   "cell_type": "markdown",
   "metadata": {},
   "source": [
    "#### Le module `tikzplotlib`\n",
    "\n",
    "Si, comme moi, vous êtes particulièrement _névrosé_ des figures, vous aurez peut-être envie de les modifier directement dans $\\LaTeX$ avant de les inclure dans votre document final. Il n'est pas possible de faire directement cela sous Matplotlib, mais ... il existe ce module fort sympathique qui remédie au problème ! On crée notre figure comme précédemment, et au lieu d'appeler `.savefig()`, on appelle `tikzplotlib.save()` à qui on donne un nom de fichier qui va donc se finir en `.tex`. \n",
    "\n",
    "Le module étant encore à un stade peu avancé, il est possible qu'il y ait des bugs. Par exemple, je ne peux pas exporter ma figure si elle contient des pointillés ou des lignes tiretées. Mais vous pourrez très vite remettre tout ça au propre sous TikZ !"
   ]
  },
  {
   "cell_type": "code",
   "execution_count": null,
   "metadata": {},
   "outputs": [],
   "source": [
    "import tikzplotlib \n",
    "import matplotlib.pyplot as plt\n",
    "import numpy as np\n",
    "\n",
    "# Create data\n",
    "x = np.linspace(-np.pi, np.pi, 100)\n",
    "y = np.sin(3*x)\n",
    "z = np.tanh(x)\n",
    "\n",
    "# Create figure & add plots & labels\n",
    "fig, ax = plt.subplots()\n",
    "fig.set_size_inches([10/2.54,7/2.54])   # I want my figure to be 10 x 7 cm \n",
    "ax.plot(x, y, color='orchid')\n",
    "ax.plot(x, z, color='darkgreen')\n",
    "ax.set_xlabel('$\\\\theta$ (rad)')\n",
    "ax.set_ylabel('$y$ (1)')\n",
    "\n",
    "# Save figure\n",
    "plt.tight_layout()\n",
    "tikzplotlib.save('my_tikz_fig.tex')"
   ]
  },
  {
   "attachments": {},
   "cell_type": "markdown",
   "metadata": {},
   "source": [
    "Si vous jetez un oeil à votre fichier exporté, il devrait ressembler à cela :\n",
    "\n",
    "![img](./resources/Tikz_export_matplotlib.png)\n",
    "\n",
    "Les options et le formatage des `Axes` se trouve dans l'encadré vert, et les options et le formatage des `Lines` se trouve après l'instruction `\\addplot`, auquel vous pouvez rajouter, par exemple, un `line style=dashed` ou `line style=dotted` qui passe très bien. Si vous êtes motivés, vous pouvez vous référer au manuel fort intimidant, mais quand même excellent de [Pgfplots](https://pgfplots.sourceforge.net/).\n",
    "\n",
    "Si vous voulez que ce code $\\LaTeX$ compile, il va falloir lui ajouter un préambule. Vous pouvez par exemple copier celui que j'utilise en général, et qui est assez exhaustif : \n",
    "\n",
    "```\n",
    "\\documentclass[border=1mm]{standalone}\n",
    "\\usepackage[utf8]{inputenc}\n",
    "\\usepackage{tikz}\n",
    "\\usepackage{pgfplots}\n",
    "\\usepackage{graphicx}\n",
    "\\usepackage{amssymb}\n",
    "\\pgfplotsset{compat=1.17}\n",
    "\\usetikzlibrary{arrows.meta}\n",
    "\\usepgfplotslibrary{colorbrewer}\n",
    "\\usetikzlibrary{decorations}\n",
    "\\usepgfplotslibrary{fillbetween}\n",
    "\\begin{document}\n",
    "\n",
    "```\n",
    "N'oubliez pas d'ajouter _également_ un `\\end{document}` tout en bas de votre fichier TikZ, en tout cas après le `\\end{tikzpicture}`."
   ]
  },
  {
   "attachments": {},
   "cell_type": "markdown",
   "metadata": {},
   "source": [
    "----------------------------------------------\n",
    "\n",
    "### Animations et figures interactives\n",
    "\n",
    "Impossible n'est pas Matplotlib ! Celui-ci est en effet capable de tracer __dans notre environnement__ (cf [FAQ](./FAQ.md)) des figures animées, et des figures interactives, c'est à dire qui vont se mettre à jour quand l'utilisateur va cliquer sur un bouton, régler une valeur, etc. Ces fonctionnalités _avancées_ ne demandent pas beaucoup plus de code, mais prennent généralement un petit bout de temps avant de s'exécuter, il vaut mieux donc être prudent :-)\n",
    "\n",
    "Dans tous les cas, nous __sommes obligés__ d'utiliser la commande `%matplotlib widget` pour que les animations ou les tracés interactifs fonctionnent correctement. "
   ]
  },
  {
   "cell_type": "code",
   "execution_count": null,
   "metadata": {},
   "outputs": [],
   "source": [
    "import matplotlib.pyplot as plt\n",
    "%matplotlib widget"
   ]
  },
  {
   "attachments": {},
   "cell_type": "markdown",
   "metadata": {},
   "source": [
    "#### Figures animées \n",
    "\n",
    "Les figures animées font directement partie de Matplotlib dans le sous-module `matplotlib.animation`. Il va donc falloir que nous l'importions en premier lieu. La syntaxe est ensuite un peu étrange : on va créer la figure, puis une fonction qui va la mettre à jour en fonction d'un indice $i$. Dans mon cas, `update_figure()` va aller écraser les données $x$, $y$ et $z$ dans l'objet `l3d` déjà existant grâce à la méthode `.set.data()` (pour $x$ et $y$) et `set_3d_properties()` (pour $z$). __Elle doit renvoyer tous les objets qui sont mis à jour dans l'animation ; vous pouvez les mettre ensemble dans un tuple, ou dans une liste__.\n",
    "\n",
    "Il nous reste ensuite à appeler la fonction `anim.FuncAnimation`, qui prend en entrée : \n",
    "* la figure à animer, chez nous `fig`.\n",
    "* `func`, la fonction qui sert à mettre à jour la figure, chez nous on aura `func=update_figure`.\n",
    "* `frames`, le nombre d'images à calculer, qui peut être un entier ou une liste de valeurs.\n",
    "* `interval`, l'intervalle (si l'ordinateur est suffisamment rapide) entre deux images en ms.\n",
    "* `repeat` (vrai ou faux) pour répéter l'animation.\n",
    "* `blit` (vrai ou faux), pour ne pas retracer l'image en entier à chaque pas d'animation."
   ]
  },
  {
   "cell_type": "code",
   "execution_count": null,
   "metadata": {},
   "outputs": [],
   "source": [
    "import numpy as np\n",
    "import matplotlib.pyplot as plt\n",
    "import matplotlib.animation as anim\n",
    "import numpy as np\n",
    "\n",
    "%matplotlib widget\n",
    "\n",
    "# Function that computes z = f(x,y), works if x, y are scalars, 1d or 2d\n",
    "def height(X,Y):\n",
    "    return 3*np.sinc(np.sqrt(X**2+Y**2)) + np.arctan(X+Y)\n",
    "\n",
    "# Generating surface and line data\n",
    "x1 = np.linspace(-5,5,200)\n",
    "y1 = 0*x1\n",
    "z1 = height(x1,y1)             # Basically z = f(x,0) for my line\n",
    "[X,Y] = np.meshgrid(x1,x1)    # Creating the mesh with big, 2D X and Y\n",
    "Z = height(X,Y)             \n",
    "\n",
    "# Creating the figure, axes, surface and line\n",
    "fig = plt.figure(figsize=[10,8])\n",
    "ax = fig.add_subplot(projection='3d')\n",
    "sf = ax.plot_surface(X,Y,Z, cmap='Spectral', alpha=0.5)             # Alpha = 0.5 for transparency\n",
    "ln1, = ax.plot3D(x1, y1, z1, color='black', linewidth=2)\n",
    "\n",
    "# Creating a function to update the figure that will be called by the FuncAnimation function\n",
    "# Basically our function applies a new x, y, z for the line and a nice slow rotation of the camera\n",
    "def update_figure(frame):           \n",
    "    y1 = frame*np.ones_like(x1)               # Transforming y value into y 1D array\n",
    "    ln1.set_data(x1,y1) \n",
    "    ln1.set_3d_properties(height(x1,y1))\n",
    "    return [ln1,]                            # Send back the updated line for FuncAnimation (used below) as a list                           \n",
    "\n",
    "# Call the animation\n",
    "my_anim = anim.FuncAnimation(fig, func=update_figure, frames=np.linspace(-5,5,200), interval=50)"
   ]
  },
  {
   "attachments": {},
   "cell_type": "markdown",
   "metadata": {},
   "source": [
    "__Exercice__ : Ajoutez une deuxième ligne animée perpendiculaire à la première et de couleur grise. Essayez également de coder une belle \"rotation\" de votre tracé en même temps que la ligne noire se déplace.\n",
    "\n",
    "_Note_ : La fonction `animation.FuncAnimation` ne vous renverra pas d'erreurs même si la fonction `func`  (dans notre cas, `update_figure()`) plante ... oups ! Si vous voulez être sûr qu'elle ne déocnne pas, commentez la ligne de l'animation et appelez directement `func()` avec une valeur de `frame` au pif. Vous verrez alors si votre fonction passée à `animation.FuncAnimation` plante."
   ]
  },
  {
   "attachments": {},
   "cell_type": "markdown",
   "metadata": {},
   "source": [
    "Vous pouvez ensuite transformer votre figure en vidéo, si vous le souhaitez. Dans ce cas, appliquez la méthode `.to_html5_video()` à votre animation, et appelez le tout avec la fonction `HTML` du sous-module `IPython.display` (Jupyter est basé sur IPython). Vous pouvez ensuite sauver l'animation sous format vidéo via les trois points verticaux en bas à droite de l'animation. Parfois, les animations sont un peu saccadées quand il y a beaucoup de choses à afficher, mais ces soucis disparaissent à l'export en vidéo :-)"
   ]
  },
  {
   "cell_type": "code",
   "execution_count": null,
   "metadata": {},
   "outputs": [],
   "source": [
    "from IPython.display import HTML\n",
    "HTML(my_anim.to_html5_video())"
   ]
  },
  {
   "attachments": {},
   "cell_type": "markdown",
   "metadata": {},
   "source": [
    "#### Tracés interactifs\n",
    "\n",
    "Les tracés ci-dessus sont _animés_, mais pas vraiment _interactifs_ : par exemple, je ne peux pas décider de régler la position de ma ligne noire à la souris. Dans cette section, nous allons voir comment faire pour mettre en place des boutons, des ascenseurs, etc., qu'on appelle `widgets` qui nous permettent de modifier des parties d'une figure _une fois tracée_. On va commencer simplement. La syntaxe du programme suivant est assez proche de celle utilisée pour l'animation : \n",
    "\n",
    "* on crée les parties statiques de la figure, ici ce qu'il y a sous la fonction `my_gaussian()`\n",
    "* on crée une fonction qui met à jour la figure / les axes / la ligne à partir de valeurs (ici, `update_figure()` à nouveau)\n",
    "\n",
    "À la différence de `animation.FuncAnimation`, on va ici appeler la fonction `interact` du module `ipywidgets`. Elle prend en entrée la fonction qui met à jour la figure, `update_figure()`, et on lui passe ensuite tous les paramètres qu'on veut pouvoir régler dans l'animation un par un, dans notre cas `avg` et `std`. \n",
    "\n",
    "Vous devrez spécifier les _plages_ de valeurs que peuvent prendre ces paramètres. En fonction de la manière dont vous les spécifiez, `ipywidgets.interact()` va choisir des boutons, des listes déroulantes pour s'adapter au contenu : \n",
    "\n",
    "* pour avoir une glissière (_slider_), vous devez écrire `avg=(low_val, hi_val, step)`\n",
    "* pour obtenir une liste déroulante, vous pouvez lui préciser une `list`, un `range` ou un `np.ndarray` ...\n",
    "* pour avoir une case à cocher, précisez simplement `True` ou `False`\n",
    "\n",
    "_Note_ : certains de ces widgets ne fonctionnent pas sous Visual Studio Code mais fonctionnent bien depuis votre navigateur internet. "
   ]
  },
  {
   "cell_type": "code",
   "execution_count": 23,
   "metadata": {},
   "outputs": [
    {
     "data": {
      "application/vnd.jupyter.widget-view+json": {
       "model_id": "b8c7b77d78f04526a2eae1ce980a80e2",
       "version_major": 2,
       "version_minor": 0
      },
      "text/plain": [
       "interactive(children=(FloatSlider(value=0.0, description='avg', max=5.0, min=-5.0), FloatSlider(value=1.0, des…"
      ]
     },
     "metadata": {},
     "output_type": "display_data"
    },
    {
     "data": {
      "application/vnd.jupyter.widget-view+json": {
       "model_id": "6bb8fe2332fc4618b5a425777ba6246d",
       "version_major": 2,
       "version_minor": 0
      },
      "image/png": "[encoded data removed]",
      "text/html": [
       "\n",
       "            <div style=\"display: inline-block;\">\n",
       "                <div class=\"jupyter-widgets widget-label\" style=\"text-align: center;\">\n",
       "                    Figure\n",
       "                </div>\n",
       "                <img src='data:image/png;base64,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' width=640.0/>\n",
       "            </div>\n",
       "        "
      ],
      "text/plain": [
       "Canvas(toolbar=Toolbar(toolitems=[('Home', 'Reset original view', 'home', 'home'), ('Back', 'Back to previous …"
      ]
     },
     "metadata": {},
     "output_type": "display_data"
    }
   ],
   "source": [
    "import numpy as np\n",
    "import matplotlib.pyplot as plt\n",
    "from ipywidgets import interact\n",
    "%matplotlib widget\n",
    "\n",
    "# This computes y values of a Gaussian distribution\n",
    "# for a given x and parameters\n",
    "def my_gaussian(x, parameters):\n",
    "    avg, std = parameters\n",
    "    return 1/(2*np.pi)**0.5/std*np.exp(-(x-avg)**2/(2*std**2))\n",
    "\n",
    "# Figure setup\n",
    "fig, ax = plt.subplots()\n",
    "x = np.linspace(-10,10,500)\n",
    "y = my_gaussian(x, [0,1])\n",
    "lin, = ax.plot(x, y, 'k')\n",
    "ax.set_xlim([-10,10])\n",
    "ax.set_ylim([0,1])\n",
    "\n",
    "# Update figure routine\n",
    "def update_figure(avg=0.0, std=1.0):\n",
    "    y = my_gaussian(x, [avg,std])\n",
    "    lin.set_data(x, y)\n",
    "\n",
    "anim = interact(update_figure, avg=(-5,5,0.1), std=(0.1,3,0.1))"
   ]
  },
  {
   "attachments": {},
   "cell_type": "markdown",
   "metadata": {},
   "source": [
    "__Exercice__ : Essayez de rajouter deux fonctionnalités à mon tracé interactif, le style du tracé, choisi selon une liste, et sa couleur, choisie également selon une liste déroulante. Si vous ne travaillez pas sous Visual Studio, vous pouvez également essayer d'inclure une boîte de texte qui va mettre à jour le titre ou le `xlabel` de votre figure. "
   ]
  },
  {
   "attachments": {},
   "cell_type": "markdown",
   "metadata": {},
   "source": [
    "------------------------------\n",
    "\n",
    "__Félicitations__ ! Vous êtes maintenant un professionnel de Matplotlib ! Il existe bien sûr quelques autres types de reorésentation graphiques, mais je pense que vous serez capable de les tracer vous-mêmes en lisant [la documentation en ligne de Matplotlib](https://matplotlib.org/stable/api/index.html). Maintenant, vous pouvez également tester les alternatives de Matplotlib: [Bokeh](https://bokeh.org/), [Plotly](https://plotly.com/), [Altaïr](https://altair-viz.github.io/gallery/diverging_stacked_bar_chart.html), ... 😜"
   ]
  }
 ],
 "metadata": {
  "kernelspec": {
   "display_name": "Python 3 (ipykernel)",
   "language": "python",
   "name": "python3"
  },
  "language_info": {
   "codemirror_mode": {
    "name": "ipython",
    "version": 3
   },
   "file_extension": ".py",
   "mimetype": "text/x-python",
   "name": "python",
   "nbconvert_exporter": "python",
   "pygments_lexer": "ipython3",
   "version": "3.9.7 (tags/v3.9.7:1016ef3, Aug 30 2021, 20:19:38) [MSC v.1929 64 bit (AMD64)]"
  },
  "vscode": {
   "interpreter": {
    "hash": "cb9c252e610b593a3421828f92740a33c32c552b9658c846af1824aa6c7c0cc9"
   }
  }
 },
 "nbformat": 4,
 "nbformat_minor": 4
}
