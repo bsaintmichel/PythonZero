{
 "cells": [
  {
   "cell_type": "markdown",
   "metadata": {},
   "source": [
    "## Matplotlib\n",
    "\n",
    "### Généralités\n",
    "\n",
    "Jusque ce tutoriel, vous avez peut-être été un peu frustrés des affichages que nous avons utilisés, car bon, afficher des longues listes de données de manière brute n'est pas toujours drôle ... Dans ce tutoriel, nous allons enfin apprendre à tracer des graphes :\n",
    "\n",
    "* en commençant par la base : un tracé d'une ligne.\n",
    "* on verra ensuite comment formater les figures pour les rendre plus belles.\n",
    "* on examinera ensuite comment faire des tracés plus avancés : les images, les `scatter`, les `patch` et les surfaces 3d.\n",
    "* on regardera comment exporter ces figures en un format utilisable ailleurs\n",
    "* et enfin on évoquera les tracés animés ou interactifs sous Jupyter.\n",
    "\n",
    "Les tracés sous Matplotlib sont gérés par le sous-module `matplotlib.pyplot`, que nous devons tout d'abord importer avant de tracer quoi que ce soit. Ce sous-module contient des objets de type `Figure`, `Axes`, `Lines`, qui sont les briques élémentaires nous permettant de construire un graphe. Les `Figure` peuvent contenir un ou plusieurs `Axes`, qui sont des zones de tracés [vous pouvez les voir comme des paires d'axes $(Oxy)$ ou $(Oxyz)$], qui eux-mêmes peuvent contenir chacun plusieurs `Lines` (ou d'ailleurs, d'autres objets). Le diagramme ci-dessous vous indique, à gauche, les liens _logiques_ qui existent entre ces différents _objets_ : les `Axes`, par exemple, _appartiennent_ à un objet `Figure` qui est son _parent_, et _possèdent_ des objets `Lines` qui sont leurs _enfants_. À droite, j'ai indiqué la hiérarchie _visuelle_ entre ces objets : les lignes sont bien tracées le long d'une paire d'axes, qui est elle-même placées dans la `Figure` générale. \n",
    "\n",
    "![img](./resources/figure_hierarchy.png)"
   ]
  },
  {
   "cell_type": "markdown",
   "metadata": {},
   "source": [
    "### Tracé d'une figure simple avec `.plot()`\n",
    "\n",
    "_\"Comment est-ce que tout cela fonctionne en pratique si je veux juste tracer mes données ?_\", me direz-vous ? Eh bien, allons-y : \n",
    "\n",
    "* on va d'abord créer une `Figure` avec la commande `plt.figure()` directement \n",
    "* on va ensuite y ajouter des `Axes`: on appelle pour cela une _méthode_ des `Figure` nommée `add_axes()`.\n",
    "* et pour _tracer_ des données dans des `Axes`, on va appeler une _méthode_ des `Axes`, par exemple simplement `plot`.\n"
   ]
  },
  {
   "cell_type": "markdown",
   "metadata": {},
   "source": [
    "\n",
    "La méthode `add_axes()` nécessite un argument obligatoire en entrée, qui la position de l'objet `Axes` dans la `Figure` selon la convention `[bord gauche, bord bas, largeur, hauteur] `. Tous ces paramètres prennent des valeurs relatives de 0 à 1:\n",
    "* pour le bord gauche, $0$ va placer les axes tout à gauche, et $1$ va placer les axes tout à droite. \n",
    "* pour le bord du bas, c'est $0$ tout en bas et $1$ tout en haut\n",
    "* pour la largeur, $0$ est infiniment fin et $1$ prend toute la largeur\n",
    "* et il en va de même pour la hauteur des `Axes`\n",
    "Je vous conseille de laisser de la marge aux bords pour les axes, notamment si vous voulez donner un nom à l'axe $x$ et $y$ de vos `Axes`. Un choix raisonnable de valeurs est : `[0.15,0.15,0.7,0.7]`. \n",
    "\n",
    "On appelle ensuite la méthode `.plot()` des axes. Celle-ci peut prendre en entrée des tableaux Numpy, __mais s'en sort également bien avec les colonnes de tableaux Pandas, des listes en Python pur, etc__, donc il est relativement indépendant de la manière dont vous gérez vos nombres sous Python. \n",
    "\n",
    "Ma méthode est peut-être un peu pédestre pour les habitués de MATLAB, mais vous verrez, cela va nous éviter de nous emmêler les pinceaux plus tard si on veut rajouter des choses dans des graphes :-). "
   ]
  },
  {
   "cell_type": "code",
   "execution_count": null,
   "metadata": {},
   "outputs": [],
   "source": [
    "import matplotlib.pyplot as plt\n",
    "import numpy as np\n",
    "\n",
    "x = np.linspace(0,2*np.pi,500)\n",
    "y = np.cos(x)\n",
    "\n",
    "my_fig = plt.figure()\n",
    "my_ax = my_fig.add_axes([0.15,0.15,0.7,0.7])\n",
    "my_line = my_ax.plot(x,y)"
   ]
  },
  {
   "cell_type": "markdown",
   "metadata": {},
   "source": [
    "Même sans rien demander, notre environnement de travail a compris qu'il fallait à un moment afficher notre figure. Sympa, non ? Vous pouvez ensuite tout à fait ajouter des nouvelles lignes à vos `Axes` initiaux depuis une nouvelle cellule, mais dans ce cas il va vous falloir demander de re-tracer une nouvelle fois la `Figure` qui contient ces `Axes`. On peut faire ça en écrivant juste `my_fig` en dernier dans la cellule :"
   ]
  },
  {
   "cell_type": "code",
   "execution_count": null,
   "metadata": {},
   "outputs": [],
   "source": [
    "z = np.sin(x)\n",
    "my_other_line = my_ax.plot(x,z)\n",
    "my_fig"
   ]
  },
  {
   "cell_type": "markdown",
   "metadata": {},
   "source": [
    "Certains d'entre vous, les plus hackeurs probablement, vont paniquer : les bords des axes ont disparu ! En fait, non, ne vous inquiétez pas. Si vous avez choisi un thème _sombre_ pour votre éditeur de code, sachez que lors de l'appel à `my_fig`, le pourtour de la figure est transparent. Les nombres des axes étant noirs, ils deviennent invisibles lors de l'affichage... Gloups ! C'est peut-être le moment de changer pour le magnifique thème [Solarized-light](https://ethanschoonover.com/solarized/) :-) . \n",
    "\n",
    "Si vous voulez aller un peu plus vite et obtenir directement une `Figure` et des `Axes`, vous pouvez utiliser la commande `plt.subplots()` avec un `s` à la fin. Dans ce cas, Matplotlib va placer l'`Axes` automatiquement. Une chose en moins à gérer ! "
   ]
  },
  {
   "cell_type": "code",
   "execution_count": null,
   "metadata": {},
   "outputs": [],
   "source": [
    "fig, ax = plt.subplots()\n",
    "line = ax.plot(x,3*z)"
   ]
  },
  {
   "cell_type": "markdown",
   "metadata": {},
   "source": [
    "### Formater les figures \n",
    "\n",
    "Dans la figure précédente, on a laissé Matplotlib faire plein de choix au niveau de la taille des figures à l'épaisseur des lignes. Mais sachez que quasiment tout dans ces figures est modifiable. Nous allons voir dans cette section ce que l'on peut modifier dans les `Lines`, puis les `Axes`, puis les `Figure` et même `Matplotlib.pyplot()` lui-même (si si !). Si vous voulez une antisèche rapide, jetez un oeil au graphe ci-dessous, qui liste la plupart des propriétés que vous voudrez éditer et la manière d'y accéder. \n"
   ]
  },
  {
   "cell_type": "markdown",
   "metadata": {},
   "source": [
    "#### Les Lignes\n",
    "\n",
    "Il est possible de régler l'aspect de chaque ligne, son épaisseur, les éventuels marqueurs ainsi que la couleur de tous ces objets. Voyons donc dans l'ordre comment régler toutes ces choses !"
   ]
  },
  {
   "cell_type": "markdown",
   "metadata": {},
   "source": [
    "##### Épaisseur, tirets, marqueurs\n",
    "\n",
    "Pour changer le format de votre ligne, vous pouvez l'effectuer lors de l'appel à `.plot()`, en lui passant l'argument `'linestyle'`. Vous avez alors le choix entre une ligne pleine `'-'`, des tirets `'--'`, des pointillés `':'`, ou un trait mixte `'-.'`, voire rien du tout avec `'None'`. "
   ]
  },
  {
   "cell_type": "code",
   "execution_count": null,
   "metadata": {},
   "outputs": [],
   "source": [
    "import numpy as np\n",
    "import matplotlib.pyplot as plt\n",
    "\n",
    "x = np.linspace(0,4*np.pi,100)\n",
    "fig, ax = plt.subplots()\n",
    "line = ax.plot(x,np.sin(x), linestyle =':')"
   ]
  },
  {
   "cell_type": "markdown",
   "metadata": {},
   "source": [
    "Pour changer l'épaisseur de votre trait, rajoutez l'argument `linewidth` lors de l'appel à `.plot()`. Par défaut, l'épaisseur de 1 choisie par Matplotlib est en effet un peu grosse : "
   ]
  },
  {
   "cell_type": "code",
   "execution_count": null,
   "metadata": {},
   "outputs": [],
   "source": [
    "x = np.linspace(0,4*np.pi,100)\n",
    "fig, ax = plt.subplots()\n",
    "line = ax.plot(x,np.sin(x), linewidth=0.5)"
   ]
  },
  {
   "cell_type": "markdown",
   "metadata": {},
   "source": [
    "Vous pouvez décider également d'ajouter des marqueurs, en ajoutant l'option `'marker'`. Vous avez alors le choix entre `'x'` (un x), `'+'` (un +, pardi), `'*'` (une étoile, bien sûr), `'s'` (un carré), `'d'` (un losange), `'o'` (un cercle), `'v'`, `'>'`, `'<'`, `'^'` (des triangles qui pointent dans diverse directions), [et bien d'autres ...](https://matplotlib.org/stable/api/markers_api.html). Si vous voulez tracer juste les marqueurs et non la ligne qui va avec, n'oubliez pas de préciser `linestyle='None'` !"
   ]
  },
  {
   "cell_type": "code",
   "execution_count": null,
   "metadata": {},
   "outputs": [],
   "source": [
    "x = np.linspace(0,4*np.pi,50)\n",
    "fig, ax = plt.subplots()\n",
    "line = ax.plot(x,np.sin(x), marker='d', linestyle ='None')"
   ]
  },
  {
   "cell_type": "markdown",
   "metadata": {},
   "source": [
    "##### Couleurs\n",
    "\n",
    "Vous pouvez également spécifier la couleur d'une ligne au moment où vous la tracez. Pour spécifier une couleur de ligne lors du tracé, ajoutez l'option `color` et précisez-lui une couleur. Vous pouvez spécifier les couleurs : \n",
    "\n",
    "* Par un nom _bref_ d'une lettre à la façon de MATLAB, avec `'b'` (bleu), `'r'` (rouge), `'g'` (vert), `'y'` (jaune), `'c'` (cyan), `'m'` (magenta), `'w'` (blanc), `'k'` (noir)\n",
    "* Via un nom de couleur HTML, par exemple `'orchid'` ou `'peru'` (_si, si !_). La liste complète de ces couleurs est [disponible ici](https://www.w3schools.com/colors/colors_names.asp).\n",
    "* En précisant un code hexadécimal pour la couleur. Ces codes sont du type `#RRGGBB` au format hexadécimal, c'est à dire en base 16. Vous pouvez rapidement convertir des triplets `R,G,B` (chacun allant de 0 à 255) en code hexadécimal, même [sur Google](https://www.google.com/search?q=rgb+to+hex). Ce code devra être compris entre des guillemets pour être correctement interprété."
   ]
  },
  {
   "cell_type": "code",
   "execution_count": null,
   "metadata": {},
   "outputs": [],
   "source": [
    "import numpy as np\n",
    "import matplotlib.pyplot as plt\n",
    "\n",
    "x = np.linspace(0,4*np.pi,100)\n",
    "fig, ax = plt.subplots()\n",
    "line = ax.plot(x,np.sin(x), color='r')                     # MATLAB-style color\n",
    "line = ax.plot(x,np.sin(x+np.pi/3), color='goldenrod')     # HTML named color : yes, goldenrod is a color !\n",
    "line = ax.plot(x,np.sin(x+2*np.pi/3), color='#55aaFF')     # RGB values if you want maximum flexibility "
   ]
  },
  {
   "cell_type": "markdown",
   "metadata": {},
   "source": [
    "Si vous avez des marqueurs, comment est-ce que ça marche ? L'option `color` va remplir la ligne et le marqueur d'une couleur uniforme. Mais, si vous êtes un esthète comme moi, vous aurez peut-être plus envie de préciser une couleur pour _le bord_ du marqueur appelée `markeredgecolor`, et une autre pour le _fond_ de celui-ci `markerfacecolor`. Si vous êtes encore plus un furieux, sachez que vous pouvez également régler l'épaisseur _du trait du bord du marqueur_, `markeredgewidth`, qui vaut également 1 par défaut. Certains marqueurs, comme `'+'` et `'x'`, n'ont pas d'_intérieur_, il n'est donc pas nécessaire de régler leur `markerfacecolor`. \n",
    "\n",
    "Essayez de jouer avec la figure suivante pour la rendre moins moche ! Une bonne approche consiste à choisir comme couleur de bord une version 'un peu plus sombre' de la couleur du fond du marqueur. "
   ]
  },
  {
   "cell_type": "code",
   "execution_count": null,
   "metadata": {},
   "outputs": [],
   "source": [
    "x = np.linspace(0,4*np.pi,50)\n",
    "fig, ax = plt.subplots()\n",
    "line = ax.plot(x,np.sin(x), linestyle='--', marker='s', markeredgecolor='teal', markerfacecolor='orange', markeredgewidth=3)      "
   ]
  },
  {
   "cell_type": "markdown",
   "metadata": {},
   "source": [
    "__Exercice__ : \n",
    "\n",
    "* Que se passe-t-il si je précise à la fois `color`, `markeredgecolor` et `markerfacecolor` ? Est-ce que certains choix de couleurs sont 'écrasées' en fonction de l'ordre d'appel des arguments ?"
   ]
  },
  {
   "cell_type": "markdown",
   "metadata": {},
   "source": [
    "#### Les Axes \n",
    "\n",
    "Les Axes sont le coeur de Matplotlib, donc ne soyez pas épouvanté.e.s devant la longue liste de choses qu'il est possible d'éditer. Nous allons nous concentrer sur certaines propriétés-clé, sachant que nous avons déjà vu comment _placer_ nos `Axes` dans la figure*. Contrairement aux objets `Lines`, il est plus utile de formater les axes _après_ les avoir créés. On va donc appeler tout un tas de _méthodes_ du type `ax.set_machin()` afin de rendre nos figures encore plus belles !\n",
    "\n",
    "<small>* si vous n'êtes pas content de la position de vos axes, vous pouvez les bouger avec la méthode `ax.set_position()` après avoir tracé vos données </small>"
   ]
  },
  {
   "cell_type": "markdown",
   "metadata": {},
   "source": [
    "##### Limites en x et y\n",
    "\n",
    "Préciser les limites de vos axes est assez simple ! Pour cela, vous pouvez utiliser les méthodes `ax.set_xlim()` et `ax.set_ylim()`. Ceux-ci prennent en entrée une liste de deux nombres, le second étant, vous l'aurez deviné, plus grand que le premier... logique. Étant une personne très positive, je n'aime pas trop la partie négative des graphes, je choisis donc : "
   ]
  },
  {
   "cell_type": "code",
   "execution_count": null,
   "metadata": {},
   "outputs": [],
   "source": [
    "import numpy as np\n",
    "import matplotlib.pyplot as plt\n",
    "\n",
    "x = np.linspace(0,4*np.pi,100)\n",
    "fig, ax = plt.subplots()\n",
    "line = ax.plot(x,np.sin(x))\n",
    "ax.set_xlim([0,6])\n",
    "ax.set_ylim([0,1])"
   ]
  },
  {
   "cell_type": "markdown",
   "metadata": {},
   "source": [
    "__Exercice__ : Rétablissez l'équilibre cosmique de l'axe $y$, et essayez de choisir une valeur de $x$ maximale qui tombe exactement sur une (demi)-période de ma fonction."
   ]
  },
  {
   "cell_type": "markdown",
   "metadata": {},
   "source": [
    "##### Etiquettes des axes et titre\n",
    "\n",
    "Les étiquettes de données et les titres ne sont pas des simples chaînes de caractères, et les objets qui leur correspondent sont en fait assez difficiles à trouver dans la hiérarchie des figures. Matplotlib nous fournit donc gracieusement les trois méthodes `ax.set_xlabel()`, `ax.set_ylabel()` et `ax.set_title()` pour préciser les étiquettes des données des axes $x$ et $y$ et le titre. Voyons leur effet en action : "
   ]
  },
  {
   "cell_type": "code",
   "execution_count": null,
   "metadata": {},
   "outputs": [],
   "source": [
    "import numpy as np\n",
    "import matplotlib.pyplot as plt\n",
    "\n",
    "x = np.linspace(0,4*np.pi,50)\n",
    "fig, ax = plt.subplots()\n",
    "line = ax.plot(x,np.arctan(x))\n",
    "xlb = ax.set_xlabel('Kittens')\n",
    "ylb = ax.set_ylabel('Happiness')\n",
    "ttl = ax.set_title('Kitten Yield Curve')"
   ]
  },
  {
   "cell_type": "markdown",
   "metadata": {},
   "source": [
    "Vous pouvez mettre un peu de $\\LaTeX$ dans vos étiquettes de données, Matplotlib le comprend un peu. Mais faites attention, avant d'être interprétée par $\\LaTeX$, la chaîne que vous écrivez va être évaluée (l'équivalent de la fonction `print()`). Donc si vous voulez écrire du code $\\TeX$ avec des barres obliques  `'\\'`, vous devrez les doubler dans votre chaîne Python originale ! Voyez donc dans l'exemple suivant, ce à quoi ressemble mon `ytex_label` une fois que je l'affiche : "
   ]
  },
  {
   "cell_type": "code",
   "execution_count": null,
   "metadata": {},
   "outputs": [],
   "source": [
    "x = np.linspace(0,4*np.pi,50)\n",
    "fig, ax = plt.subplots()\n",
    "line = ax.plot(x,np.sin(x))\n",
    "\n",
    "ytex_label = '$x - \\\\frac{x^3}{3!} + \\\\frac{x^5}{5!} - \\\\ldots$'    # Will be\n",
    "xtex_label = '$x$'\n",
    "print(ytex_label)\n",
    "xlb = ax.set_xlabel(xtex_label)\n",
    "ylb = ax.set_ylabel(ytex_label)"
   ]
  },
  {
   "cell_type": "markdown",
   "metadata": {},
   "source": [
    "##### Les graduations, pour les gens ayant des tic(k)s\n",
    "\n",
    "Cette fois-ci, on va se concentrer sur les graduations de vos graphes. Elles sont composées de _trois_ éléments, les `major ticks`, les `major tick labels` et les `minor ticks`. Je vais délaisser les `minor ticks` et ne voux expliquer que le fonctionnement des autres. La manière la plus simple de choisir la position de vos `major ticks` est d'utiliser la méthode `ax.set_xticks()` et de lui donner en entrée la liste des valeurs (en Python, donc) à laquelle vous voulez voir des graduations. Par défaut, Matplotlib va afficher la valeur de $x$ correspondant à la position de la graduation : si on met une graduation à $x = 9$, eh bien il va afficher ... $9$, sans surprise. \n",
    "\n",
    "Vous pouvez modifier ce comportement en utilisant la méthode `ax.set_xticklabels()`. Celle-ci prend en entrée un tableau de chaînes de caractères (`str`) de la même longueur que celui passé à `set_xticks()`, mais hormis cela vous pouvez être très créatifs :"
   ]
  },
  {
   "cell_type": "code",
   "execution_count": null,
   "metadata": {},
   "outputs": [],
   "source": [
    "import numpy as np\n",
    "import matplotlib.pyplot as plt\n",
    "\n",
    "x = np.linspace(0,4*np.pi,100)\n",
    "fig, ax = plt.subplots()\n",
    "line = ax.plot(x,np.sin(x), color='r')                     # MATLAB-style color\n",
    "line = ax.plot(x,np.sin(x+np.pi/3), color='goldenrod')     # HTML named color : yes, goldenrod is a color !\n",
    "line = ax.plot(x,np.sin(x+2*np.pi/3), color='#55aaFF')     # RGB values if you want maximum flexibility \n",
    "\n",
    "xtck = ax.set_xticks([0,1,3,9,12])\n",
    "ytck = ax.set_yticks([-1,-0.5,0.0,0.5,1])\n",
    "xtlb = ax.set_xticklabels(['jean', 'paul', 'firmin', 'olivia', 'layella'])"
   ]
  },
  {
   "cell_type": "markdown",
   "metadata": {},
   "source": [
    "Si vous voulez éditer plus en détail les graduations de votre tracé, vous pouvez vous réferer à [la page Matplotlib permettant de les formater](https://matplotlib.org/stable/api/_as_gen/matplotlib.axes.Axes.tick_params.html).\n",
    "\n",
    "__Exercice__ : Soyez un très bon élève et placez des `x major ticks` pour tous les multiples de $\\pi$, puis affichez explicitement ces valeurs comme $\\pi, 2\\pi, 3\\pi$ en $\\LaTeX$ dans les `x major tick labels` de la figure ci-dessus."
   ]
  },
  {
   "cell_type": "markdown",
   "metadata": {},
   "source": [
    "##### Axes Logarithmiques\n",
    "\n",
    "Si vous êtes astrophysicien.ne, vous ne jurez probablement que par les axes en échelle logarithmique car vos données sont de toute manière trop peu précises pour ne pas juste ressembler à un fouillis en échelle normale. De la même manière, les rhéologues apprécient de pouvoir examiner la réponse de leurs fondus de polymères sur de nombreuses décades en $x$. Matplotlib est là pour nous, une fois de plus, avec les méthodes `ax.set_xscale()` et `ax.set_yscale()`, qui prennent en entrée des chaînes de caractère, principalement `'lin'` ou `'log'` [(voir ici pour d'autres choix si vous êtes un original)](https://matplotlib.org/stable/gallery/scales/scales.html)."
   ]
  },
  {
   "cell_type": "code",
   "execution_count": null,
   "metadata": {},
   "outputs": [],
   "source": [
    "import numpy as np\n",
    "import matplotlib.pyplot as plt\n",
    "\n",
    "x = np.logspace(-3,3,1000) # A linspace but in log scale. Neat ! \n",
    "fig, ax = plt.subplots()\n",
    "ax.plot(x,1 + x**0.5)\n",
    "ax.set_xscale('log')\n",
    "ax.set_yscale('log')"
   ]
  },
  {
   "cell_type": "markdown",
   "metadata": {},
   "source": [
    "__Exercice__ : Trouvez un jeu d'axes $x$ et $y$ (`'log'` ou `'lin'`) pour lequel les données `x` et `y` suivantes s'alignent selon une droite : "
   ]
  },
  {
   "cell_type": "code",
   "execution_count": null,
   "metadata": {},
   "outputs": [],
   "source": [
    "import matplotlib.pyplot as plt\n",
    "\n",
    "x = [65.0, 18.6, 28.1, 39.0, 114.8, 11.1, 15.3, 24.0, 20.5, 78.9, 59.2, 33.8, 46.1,94.1, 12.2]\n",
    "y = [4.17, 2.92, 3.37, 3.69, 4.70 , 2.40, 2.74, 3.18, 3.02, 4.31, 4.02, 3.5, 3.83, 4.54, 2.50]\n",
    "\n",
    "fig, ax = plt.subplots()\n",
    "plt = ax.plot(x,y, 'kx')"
   ]
  },
  {
   "cell_type": "markdown",
   "metadata": {},
   "source": [
    "##### Grille et couleur de fond\n",
    "\n",
    "Vous pouvez enfin rajouter une grille dans vos axes afin de vraiment avoir cet aspect distingué qu'ont certains graphes Excel ou infographies. Comment ? Tout simplement grâce à la méthode `ax.grid`, à laquelle vous pouvez renvoyer `True` ou `False`. Sinon, vous pouvez lui donner en argument : \n",
    "* les axes sur lesquelles la grille s'applique avec `which`, qui peut être égal à `'x'` ou `'y'` ou `'both'` \n",
    "* une couleur avec `color`  \n",
    "* un style de ligne avec `linestyle`\n",
    "* une épaisseur de ligne avec `linewidth`\n",
    "\n",
    "La couleur du fond des `Axes`, se règle avec `ax.set_facecolor()` (il est _de retour_). On peut donc produire la merveille suivante : "
   ]
  },
  {
   "cell_type": "code",
   "execution_count": null,
   "metadata": {},
   "outputs": [],
   "source": [
    "import numpy as np\n",
    "import matplotlib.pyplot as plt\n",
    "\n",
    "x = np.linspace(-3,3,100) \n",
    "fig, ax = plt.subplots()\n",
    "ax.plot(x,1 + np.cbrt(x), color='lightcoral', linewidth=4)\n",
    "ax.set_facecolor('lime')\n",
    "ax.grid(which='both', color='darkorchid', linestyle='--', linewidth=3)\n",
    "ttl = ax.set_title('My Masterpiece')"
   ]
  },
  {
   "cell_type": "markdown",
   "metadata": {},
   "source": [
    "##### Les cycles de couleurs\n",
    "\n",
    "Vous pouvez enfin agir sur la manière dont les couleurs cyclent lorsque vous effectuez des tracés successifs."
   ]
  },
  {
   "cell_type": "code",
   "execution_count": null,
   "metadata": {},
   "outputs": [],
   "source": [
    "ax.color_cycle(['r', 'g', 'b'])"
   ]
  },
  {
   "cell_type": "code",
   "execution_count": null,
   "metadata": {},
   "outputs": [],
   "source": [
    "import numpy as np\n",
    "import matplotlib.pyplot as plt\n",
    "\n",
    "x = np.linspace(-3,3,100) \n",
    "fig, ax = plt.subplots()\n",
    "ax.color_cycle(['r', 'g', 'b'])x\n",
    "ax.plot(x,1 + np.cbrt(x), color='lightcoral', linewidth=4)\n",
    "ax.set_facecolor('lime')\n",
    "ax.grid(which='both', color='darkorchid', linestyle='--', linewidth=3)\n",
    "ttl = ax.set_title('My Masterpiece')"
   ]
  },
  {
   "cell_type": "markdown",
   "metadata": {},
   "source": [
    "#### Les figures\n",
    "\n",
    "Les figures ont comparativement moins d'options que vous pouvez paramétrer. Les deux principales propriétés de ces figures sont leur largeur, donnée par `fig.set_figwidth()` et sa hauteur, `fig.set_figheight()`. _Par défaut_, la taille de ces figures est de 6.4 pouces de large et 4.8 pouces de haut (merci les États-Uniens ...), ce qui fait 16.3 cm par 12.2 pour les personnes civilisées."
   ]
  },
  {
   "cell_type": "code",
   "execution_count": null,
   "metadata": {},
   "outputs": [],
   "source": [
    "import numpy as np\n",
    "import matplotlib.pyplot as plt\n",
    "\n",
    "f, ax = plt.subplots()\n",
    "f.set_figwidth(3)\n",
    "f.set_figheight(2)\n",
    "\n",
    "x = np.linspace(-3,3,100)\n",
    "lin = ax.plot(x, 1/(1+x**2))"
   ]
  },
  {
   "cell_type": "markdown",
   "metadata": {},
   "source": [
    "#### Pyplot _lui-même_ : les feuilles de style!\n",
    "\n",
    "Il est possible de modifier le comportement de `pyplot` lui-même : dans ce cas, _tous_ les graphes que vous tracerez ensuite seront affectés. Bien souvent, il faut aller trifouiller dans une boîte de paramètres généraux de `matplotlib.pyplot` appelée `rcParams`. Cet objet ressemble à un dictionnaire et possède de _très nombreuses_ clés, et est très puissante. Un aperçu de ce que vous pouvez faire avec `rcParams` [est disponible en suivant ce lien](\n",
    "https://matplotlib.org/stable/tutorials/introductory/customizing.html). Dans cette section, je vais volontairement éviter d'utiliser cette boîte à outils compliquée et simplement évoquer les _feuilles de style_ (qui ne passent pas par `rcParams`).\n",
    "\n",
    "La fonction `plt.style.use()` vous permet de choisir parmi une des [diverses feuilles de style disponibles](https://matplotlib.org/stable/gallery/style_sheets/style_sheets_reference.html) sous Matplotlib. Si vous êtes un esthète (vous avez raison) et que vous voulez utiliser le magnifique thème `'Solarize_Light2'` (pas de `d`, un `_` et un `2`), vous pouvez alors enfin avoir vos graphes et votre interface en harmonie. De même, si vous êtes un hacker® et que vous voulez des graphes sur fond noir, le thème `'dark_background'` est fait pour vous."
   ]
  },
  {
   "cell_type": "code",
   "execution_count": null,
   "metadata": {},
   "outputs": [],
   "source": [
    "import numpy as np\n",
    "import matplotlib.pyplot as plt\n",
    "\n",
    "plt.style.use('Solarize_Light2')\n",
    "x = np.linspace(-3,3,100)\n",
    "\n",
    "f1, ax1 = plt.subplots()\n",
    "f1.set_figwidth(3), \n",
    "f1.set_figheight(2)\n",
    "lin11 = ax1.plot(x, 1/(1+x**2))\n",
    "lin12 = ax1.plot(x, x/(1+x**2))\n",
    "\n",
    "f2, ax2 = plt.subplots()\n",
    "f2.set_figwidth(3), \n",
    "f2.set_figheight(2)\n",
    "for i in range(7):\n",
    "    ln = ax2.plot(x, x**2 - i*x)"
   ]
  },
  {
   "cell_type": "markdown",
   "metadata": {},
   "source": [
    "#### Antisèche \n",
    "\n",
    "Je reprends ici une antisèche listant les diverses méthodes qui s'appliquent à votre figure (gracieusement reprise depuis le site de Matplotlib)\n"
   ]
  },
  {
   "cell_type": "markdown",
   "metadata": {},
   "source": [
    "![img](./resources/matplotlib_figure.png)"
   ]
  },
  {
   "cell_type": "markdown",
   "metadata": {},
   "source": [
    "### Tracés avancés\n",
    "\n",
    "Tracer des lignes et des séries de symboles, c'est fort joli, mais parfois, il va vous falloir tracer _autre chose_. Comment se débrouille-t-on dans le cas d'une _image_, d'une _surface_, ... ? Nous allons nous charger de ces cas un peu plus récalcitrants dans cette section."
   ]
  },
  {
   "cell_type": "markdown",
   "metadata": {},
   "source": [
    "#### Les images\n",
    "\n",
    "Afficher des images s'effectue avec la méthode `ax.imshow()`, qui prend en entrée un tableau 2d de coordonnées. Simple, non ? Pour les amateurs de MATLAB, cette fonction ressemble beaucoup à `imagesc`."
   ]
  },
  {
   "cell_type": "code",
   "execution_count": null,
   "metadata": {},
   "outputs": [],
   "source": [
    "import numpy as np\n",
    "import matplotlib.pyplot as plt\n",
    "\n",
    "fig, ax = plt.subplots()\n",
    "plt.style.use('default')\n",
    "\n",
    "x = np.linspace(-3,3,1000)\n",
    "y = np.linspace(-3,3,1000)\n",
    "[X,Y] = np.meshgrid(x,y)   # Building 2d X and Y scales both spanning from -5 to 5\n",
    "Z = np.sinc(X**2 + Y**2)   # Complicated but circular function \n",
    "im = ax.imshow(Z)"
   ]
  },
  {
   "cell_type": "markdown",
   "metadata": {},
   "source": [
    "Oh ! La belle bleue. Mais ... mais ... attendez ! Qui a choisi les couleurs ? Et mes axes ? Mauvaise nouvelle, on ne peut pas juste donner à `imshow()` des coordonnées $X$ et $Y$ à 2d. Si vous voulez _vraiment_ faire ça, vous pouvez utiliser à la place la fonction `ax.pcolor()`, mais sachez qu'elle est _lente_ quand vos tableaux de données deviennent grands !"
   ]
  },
  {
   "cell_type": "markdown",
   "metadata": {},
   "source": [
    "##### Placer ses axes avec `ax.imshow()`\n",
    "\n",
    "Le choix de vos axes va s'effectuer en ajoutant une option nommée `extent` lors de l'appel à `ax.imshow()`. Vous pouvez alors préciser les limites en $x$ et $y$ de vos données, avec une liste ou un tableau du type `[bord_gauche, bord_droite, bord_bas, bord_haut]`. Dans notre cas, il est assez raisonnable de choisir comme bords les valeurs extrémales de $X$ et $Y$ : "
   ]
  },
  {
   "cell_type": "code",
   "execution_count": null,
   "metadata": {},
   "outputs": [],
   "source": [
    "import numpy as np\n",
    "import matplotlib.pyplot as plt\n",
    "\n",
    "fig, ax = plt.subplots()\n",
    "plt.style.use('default')\n",
    "\n",
    "x = np.linspace(-3,3,1000)\n",
    "[X,Y] = np.meshgrid(x,x)   # Building 2d X and Y scales both spanning from -5 to 5\n",
    "my_bounds = [np.min(X), np.max(X), np.min(Y), np.max(Y)]\n",
    "\n",
    "Z = np.sinc(X**2 + Y**2)   # Complicated but circular function \n",
    "im = ax.imshow(Z, extent=my_bounds)"
   ]
  },
  {
   "cell_type": "markdown",
   "metadata": {},
   "source": [
    "##### Choisir ses couleurs \n",
    "\n",
    "Vous pouvez changer deux choses si vous voulez régler les couleurs de votre image. La première chose qui vient à l'esprit consiste à changer de _palette_ de couleurs (_colormaps_ en anglais). Il en existe à nouveau de [très nombreuses _colormaps_](https://matplotlib.org/stable/tutorials/colors/colormaps.html), j'en liste seulement quelques-unes d'intérêt ici. __Attention aux majuscules et minuscules__ ! \n",
    "\n",
    "![img](./resources/mpl_cmaps.png)\n",
    "\n",
    "Vous pouvez alors, soit appeler la fonction `ax.imshow()` et lui préciser en argument supplémentaire l'option `cmap` avec une des palettes disponibles, par exemple `'Magma'`. À l'inverse, si l'image est déjà tracée, vous pouvez utiliser la méthode `im.set_cmap()` de l'image elle-même pour changer la palette, en lui donnant à nouveau à 'manger' la palette de vos rêves. "
   ]
  },
  {
   "cell_type": "code",
   "execution_count": null,
   "metadata": {},
   "outputs": [],
   "source": [
    "im.set_cmap('twilight')\n",
    "fig"
   ]
  },
  {
   "cell_type": "markdown",
   "metadata": {},
   "source": [
    "__Exercice__ : Amusez-vous à changer la palette de couleurs et essayez de trouver la plus adaptée et la moins adaptée afin de comprendre à quoi ressemble notre fonction ${\\rm sinc}$. "
   ]
  },
  {
   "cell_type": "markdown",
   "metadata": {},
   "source": [
    "Par défaut, l'échelle de couleurs s'étend de "
   ]
  }
 ],
 "metadata": {
  "kernelspec": {
   "display_name": "Python 3 (ipykernel)",
   "language": "python",
   "name": "python3"
  },
  "language_info": {
   "codemirror_mode": {
    "name": "ipython",
    "version": 3
   },
   "file_extension": ".py",
   "mimetype": "text/x-python",
   "name": "python",
   "nbconvert_exporter": "python",
   "pygments_lexer": "ipython3",
   "version": "3.9.7"
  },
  "vscode": {
   "interpreter": {
    "hash": "cb9c252e610b593a3421828f92740a33c32c552b9658c846af1824aa6c7c0cc9"
   }
  }
 },
 "nbformat": 4,
 "nbformat_minor": 4
}
