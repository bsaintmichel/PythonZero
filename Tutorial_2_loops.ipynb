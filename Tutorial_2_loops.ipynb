{
 "cells": [
  {
   "cell_type": "markdown",
   "metadata": {},
   "source": [
    "# Boucles, instructions conditionnelles, comparaisons\n",
    "\n",
    "Les ordinateurs sont en général utilisés pour effectuer des tâches répétitives que leurs utilisateurs n'ont pas envie d'effectuer. Mais pour l'instant, notre maîtrise de Python ne nous permet pas vraiment de tirer parti de la puissance de notre ordinateur !\n",
    "\n",
    "Nous allons remédier à cela en étudiant un peu les _boucles_ et instructions conditionnelles. \n",
    "\n",
    "## Boucle `for`\n",
    "\n",
    "La boucle `for` est une des plus simples à comprendre. Prenons un exemple."
   ]
  },
  {
   "cell_type": "code",
   "execution_count": null,
   "metadata": {},
   "outputs": [],
   "source": []
  },
  {
   "cell_type": "markdown",
   "metadata": {},
   "source": [
    "## Bibliothèques, imports\n",
    "\n",
    "![image](resources/python.png)\n",
    "\n",
    "Récupéré sur [xkcd](www.xkcd.com), le site de Randall Munroe."
   ]
  },
  {
   "cell_type": "code",
   "execution_count": null,
   "metadata": {},
   "outputs": [
    {
     "ename": "NameError",
     "evalue": "name 'pi' is not defined",
     "output_type": "error",
     "traceback": [
      "\u001b[1;31m---------------------------------------------------------------------------\u001b[0m\n",
      "\u001b[1;31mNameError\u001b[0m                                 Traceback (most recent call last)\n",
      "\u001b[1;32mC:\\Users\\SAINT-~1\\AppData\\Local\\Temp/ipykernel_11496/1330398928.py\u001b[0m in \u001b[0;36m<module>\u001b[1;34m\u001b[0m\n",
      "\u001b[1;32m----> 1\u001b[1;33m \u001b[1;36m1\u001b[0m \u001b[1;33m+\u001b[0m \u001b[0mpi\u001b[0m\u001b[1;33m\u001b[0m\u001b[1;33m\u001b[0m\u001b[0m\n",
      "\u001b[0m\n",
      "\u001b[1;31mNameError\u001b[0m: name 'pi' is not defined"
     ]
    }
   ],
   "source": [
    "1 + pi"
   ]
  },
  {
   "cell_type": "markdown",
   "metadata": {},
   "source": [
    "Horreur ! Du texte rouge apparaît, avec un `NameError` disgracieux. En fait, contrairement à `print`, qui est automatiquement reconnu par Python, $\\pi$ ne l'est pas. Python, par défaut, contient très peu de fonctionnalités, il est assez _minimaliste_, et s'appuie à la place sur des _paquets_ que l'on peut appeler à la rescousse pour rajouter des fonctions. "
   ]
  },
  {
   "cell_type": "code",
   "execution_count": null,
   "metadata": {},
   "outputs": [],
   "source": []
  }
 ],
 "metadata": {
  "kernelspec": {
   "display_name": "Python 3.9.7 64-bit",
   "language": "python",
   "name": "python3"
  },
  "language_info": {
   "codemirror_mode": {
    "name": "ipython",
    "version": 3
   },
   "file_extension": ".py",
   "mimetype": "text/x-python",
   "name": "python",
   "nbconvert_exporter": "python",
   "pygments_lexer": "ipython3",
   "version": "3.9.7"
  },
  "orig_nbformat": 4,
  "vscode": {
   "interpreter": {
    "hash": "cb9c252e610b593a3421828f92740a33c32c552b9658c846af1824aa6c7c0cc9"
   }
  }
 },
 "nbformat": 4,
 "nbformat_minor": 2
}
