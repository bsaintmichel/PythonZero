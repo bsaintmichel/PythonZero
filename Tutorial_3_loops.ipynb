{
 "cells": [
  {
   "cell_type": "markdown",
   "metadata": {},
   "source": [
    "## Boucles et instructions conditionnelles \n",
    "\n",
    "Les ordinateurs sont en général utilisés pour effectuer des tâches répétitives que leurs utilisateurs n'ont pas envie d'effectuer. Nous allons remédier à cela en étudiant un peu les _boucles_ et instructions conditionnelles, qui vont nous permettre d'éviter d'alléger considérablement notre code.\n"
   ]
  },
  {
   "cell_type": "markdown",
   "metadata": {},
   "source": [
    "\n",
    "### Boucle `for`\n",
    "\n",
    "La boucle `for` est relativement simple à comprendre. Voyons l'exemple suivant : "
   ]
  },
  {
   "cell_type": "code",
   "execution_count": 1,
   "metadata": {},
   "outputs": [
    {
     "name": "stdout",
     "output_type": "stream",
     "text": [
      "1\n",
      "two\n",
      "3\n",
      "FOUR\n"
     ]
    }
   ],
   "source": [
    "my_list = [1, 'two', 3, 'FOUR']\n",
    "for item in my_list:\n",
    "    print(item)"
   ]
  },
  {
   "cell_type": "markdown",
   "metadata": {},
   "source": [
    "La boucle `for` a effectué une _itération_ sur chacun des éléments de `my_list`. La variable `item` devient donc tour à tour chacun des éléments de `my_list`, et je demande de l'afficher à chaque exécution de ma boucle, d'où le résultat affiché à l'écran. Vous conviendrez donc qu'il doit être possible d'itérer sur l'objet `my_list`. Pour l'instant, voyez cette propriété comme _grosso modo_ le fait de pouvoir indexer `my_list`."
   ]
  },
  {
   "cell_type": "markdown",
   "metadata": {},
   "source": [
    "#### Syntaxe \n",
    "\n",
    "Le reste de la syntaxe est commune à toutes les boucles et instructions conditionnelles: \n",
    "* Deux points `:` à la fin de la ligne où la boucle for est appelée \n",
    "* Une _indentation_ du code (décalage vers la droite) contenu dans la boucle, _par défaut de 4 espaces_\n",
    "* __Aucune__ marque de fin de boucle, si ce n'est la fin de l'indentation. Pas de `end for` ou de `end`.\n"
   ]
  },
  {
   "cell_type": "markdown",
   "metadata": {},
   "source": [
    "#### Objets de type `Range` \n",
    "\n",
    "Notre boucle n'est pour l'instant pas très utile, elle ne fait qu'afficher du texte qu'on aurait pu afficher d'une manière assez similaire en utilisant simplement `print(str(my_list))`. Voyons maintenant un exemple un peu plus intéressant, dans lequel on va calculer les vingt premiers éléments de la _suite de Fibonacci_, définie par :\n",
    "\n",
    "$$ f_0 = 0, f_1 = 1, f_{n+2} = f_{n+1} + f_{n}$$"
   ]
  },
  {
   "cell_type": "code",
   "execution_count": 2,
   "metadata": {},
   "outputs": [
    {
     "name": "stdout",
     "output_type": "stream",
     "text": [
      "[0, 1, 1, 2, 3, 5, 8, 13, 21, 34, 55, 89, 144, 233, 377, 610, 987, 1597, 2584, 4181, 6765, 10946]\n"
     ]
    }
   ],
   "source": [
    "fib = [0,1]\n",
    "for idx in range(20):\n",
    "    fib.append(fib[-2] + fib[-1])\n",
    "print(fib)"
   ]
  },
  {
   "cell_type": "markdown",
   "metadata": {},
   "source": [
    "L'objet [`range`](https://docs.python.org/3/library/functions.html#func-range) est une nouvelle classe d'objets qui peut être insérée _telle quelle_ dans la boucle. Dans le cas de notre boucle ci-dessus, elle vient indiquer qu'on va exécuter la boucle pour des valeurs de `idx` entières comprises entre 0 _inclus_ et 20 _exclus_, comme pour les tranches ! Il est d'ailleurs tout à fait possible de créer de ne considérer que les valeurs $a, a + n, a + 2n, \\ldots, b$ en écrivant à la place :\n",
    "\n",
    "``` \n",
    "y = range(a, b, n)\n",
    "```\n",
    "\n",
    "Les `range` sont des objets _itérables_. Mais vous remarquerez que si vous essayez de l'indexer, cela ne fonctionne pas. Et si vous essayez de les afficher à l'écran avec `print()`, il ne se passe pas grand-chose. Vous pouvez cependant facilement les convertir en `list` qui seront peut-être plus intuitives pour vous. Les `range`, comme les tuples et contrairement aux listes, ne sont _pas mutables_.\n",
    "\n",
    "Vous remarquerez que l'instruction `print(fib)` n'est pas indentée est n'est donc exécutée qu'une fois. Vous pouvez essayer de l'indenter en utilisant la touche `Tab` de votre clavier pour regarder ce que cela change une fois le code lancé. \n",
    "\n",
    "_Note_ : sur les bons éditeurs de code, vous pouvez indenter des blocs de code (multiples lignes) en les sélectionnant et en appuyant sur `Tab`. Vous pouvez également _dé-indenter_ les mêmes blocs de code en les sélectionnant puis en appuyant sur `Shift` et `Tab` en même temps. Cela vous fera gagner pas mal de temps en Python !\n"
   ]
  },
  {
   "cell_type": "markdown",
   "metadata": {},
   "source": [
    "#### Compter ses objets avec `enumerate`\n",
    "\n",
    "Revenons à notre groupe de TD factice. Je voudrais trier mes élèves par ordre alphabétique et leur donner un numéro d'ordre. [TD2](./Tutorial_2_ListsTuplesDicts.ipynb). Comment peut-on faire ? \n",
    "\n",
    "* Une méthode qui marche dans tous les langages, mais qui n'est pas très élégante, est de définir une variable `counter` en dehors de la boucle, et de l'incrémenter à chaque exécution de la boucle\n",
    "* Une autre méthode est de modifier notre ligne de code avec `for` pour inclure un appel à la fonction Python de base [`enumerate`](https://docs.python.org/3/library/functions.html#enumerate).\n",
    "\n",
    "Examinez donc le code ci-dessous, qui présente les deux méthodes à la fois : "
   ]
  },
  {
   "cell_type": "code",
   "execution_count": 3,
   "metadata": {},
   "outputs": [
    {
     "name": "stdout",
     "output_type": "stream",
     "text": [
      "---- Old method ---\n",
      "Name n°1 : Antoine\n",
      "Name n°2 : Lyes\n",
      "Name n°3 : Mathilde\n",
      "Name n°4 : Paul\n",
      "Name n°5 : Roberto\n",
      "Name n°6 : Xavier\n",
      "Name n°7 : Yacine\n",
      "---- New method ---\n",
      "Name n°1 : Antoine\n",
      "Name n°2 : Lyes\n",
      "Name n°3 : Mathilde\n",
      "Name n°4 : Paul\n",
      "Name n°5 : Roberto\n",
      "Name n°6 : Xavier\n",
      "Name n°7 : Yacine\n"
     ]
    }
   ],
   "source": [
    "# From last tutorial\n",
    "my_students = {'Mathilde':13, 'Lyes':11, 'Yacine':8, 'Xavier':7, 'Antoine':15, 'Paul':11, 'Roberto':9}\n",
    "names = list(my_students.keys()) \n",
    "names.sort()\n",
    "\n",
    "# Display alphabetic rank, ugly method\n",
    "print('---- Old method ---')\n",
    "rank = 0\n",
    "for name in names:\n",
    "    print('Name n°' + str(rank+1) + ' : ' + name)\n",
    "    rank = rank + 1 # I add one to the counter each time the loop is run\n",
    "\n",
    "# Display alphabetic rank, better method\n",
    "print('---- New method ---')\n",
    "for rank, name in enumerate(names):\n",
    "    print('Name n°' + str(rank+1) + ' : ' + name)"
   ]
  },
  {
   "cell_type": "markdown",
   "metadata": {},
   "source": [
    "Les deux méthodes produisent bien le même résultat, mais la deuxième permet d'économiser deux lignes de code. La fonction `enumerate` transforme en fait une liste ou un tuple (n'importe quel _itérable_) de type :\n",
    "```\n",
    "x = [a, b, c, d, e]\n",
    "```\n",
    "En une deuxième objet itérable du type: \n",
    "```\n",
    "y = [(0,a), (1,b), (2,c), (3,d), (4,e)]\n",
    "```\n",
    "Il est alors possible de faire une boucle `for` sur la variable `y`, qui à chaque exécution de la boucle renvoie un tuple contenant deux éléments, `(0,a)`. Python étant _très_ flexible, on a en fait le droit d'écrire : \n",
    "```\n",
    "index,value=(0,a)\n",
    "```\n",
    "Dans le cas de notre code ci-dessus pour notre groupe de TD, on va donc pouvoir obliger `rank` à prendre les valeurs $0,1,2,3, \\ldots$ et à `name` de prendre les valeurs `'Antoine'`, `'Lyes'`, `'Mathilde'`, ... \n"
   ]
  },
  {
   "cell_type": "markdown",
   "metadata": {},
   "source": [
    "------------------------\n",
    "\n",
    "### Instructions et boucles conditionnelles "
   ]
  },
  {
   "cell_type": "markdown",
   "metadata": {},
   "source": [
    "#### Instruction If\n",
    "\n",
    "Afin de comprendre l'intérêt d'avoir des instructions conditionnelles, examinons un problème fort célèbre, la _conjecture de Syracuse_. Celle-ci stipule assez simplement qu'on choisit un nombre entier $u_0$ et qu'on lui applique la transformation suivante  :\n",
    "\n",
    "$$ \\left \\lbrace \\begin{array}{rcll} s_{n+1} &=& 3 s_n + 1 &\\text{ si } s_n \\text{ impair} \\\\ s_{n+1} &=& s_n / 2 &\\text{ si } s_n \\text{ pair} \\end{array} \\right .$$ \n",
    "\n",
    "Comment peut-on écrire une telle suite en Python ? Il nous _faut_ une instruction qui est l'équivalent de notre _si_ en français ... et vous ne serez donc pas surpris de voir qu'elle s'appelle `if` en anglais. Au niveau de la syntaxe, `if` fonctionne comme une boucle `for`, avec une même indentation du code qui est cette-fois ci exécuté uniquement si la condition associée au `if` est remplie. N'oubliez pas également les deux points `:` à la fin de la ligne où le `if` est présent. \n",
    "\n",
    "L'instruction conditionnelle demande, par nature, une condition, qui peut être vraie ou fausse ! On peut pour cela lui donner une variable booléenne à évaluer, comme celles que nous avons détaillées dans [la leçon n°1](./Tutorial_1_SimpleThings.ipynb). Mais vous pouvez lui donner 'à manger' d'autres choses, et sachez que par défaut, `if` est très laxiste. Voyez par exemple : "
   ]
  },
  {
   "cell_type": "code",
   "execution_count": null,
   "metadata": {},
   "outputs": [],
   "source": [
    "if True:  # This is probably true\n",
    "    print('True is true')\n",
    "\n",
    "if 'toto': # Uhhhh ?\n",
    "    print('Toto is true')\n",
    "\n",
    "if -5: # ?!?!?\n",
    "    print('-5 is True ')\n",
    "\n",
    "if []: # JUST STOP IT !\n",
    "    print('[] is True')"
   ]
  },
  {
   "cell_type": "markdown",
   "metadata": {},
   "source": [
    "Vous l'aurez constaté, beaucoup de choses sont _vraies_ pour Python, et seuls `''`, `0`, `{}`, `[]`,`()`,`False` et `None` comptent réellement comme des choses fausses, de la même manière que pour [les fonctions `any` et `all`](./Tutorial_2_ListsTuplesDicts.ipynb#Un-pour-tous-et-tous-pour-un-:-les-cas-any-et-all). \n",
    "\n",
    "Revenons à notre suite de Syracuse. Une première version naïve pour calculer $u_{n+1} = f(u_n)$ ressemblerait donc au code suivant, qui utilise deux `if` l'un à la suite de l'autre. Vous l'avez peut-être manqué dans la [leçon n°1](./Tutorial_1_SimpleThings.ipynb), mais le reste de la division euclidienne de $a$ par $b$ s'écrit `a%b`, ce qui est assez pratique pour définir nos conditions : "
   ]
  },
  {
   "cell_type": "code",
   "execution_count": null,
   "metadata": {},
   "outputs": [],
   "source": [
    "val = 6\n",
    "if val%2 == 0: # First condition\n",
    "    val = val//2\n",
    "if val%2 == 1:\n",
    "    val = 3*val+1\n",
    "\n",
    "print(val)"
   ]
  },
  {
   "cell_type": "markdown",
   "metadata": {},
   "source": [
    "Aïe ! Le résultat de notre opération $u_{n+1}$ ne vaut ni $u_n/2$, ni $3 u_n + 1$ ! En fait, l'ordinateur est un peu bête, il va exécuter le code séquentiellement, vérifier la première instruction `if` (vraie ici), exécuter le code à l'intérieur, puis vérifier la deuxième instruction `if` (également vraie, car _val_ a été modifié dans le premier bloc) et exécuter le code du deuxième bloc. Pour éviter ce genre de tracas, on peut combiner `if` avec d'autres instructions:\n",
    "\n",
    "* `else` : si la condition du `if` n'est pas respectée, alors le programme exécutera le bloc de code associé à `else` à la place. Sinon, le code associé au `else` ne sera pas exécuté.\n",
    "* `elif`, qui est la contraction de `else if`: si la première condition n'est pas respectée, on peut alors _proposer_ une deuxième condition  à évaluer, et si celle-ci est respectée, alors le code associé s'exécutera.\n",
    "\n",
    "Notre code devient: "
   ]
  },
  {
   "cell_type": "code",
   "execution_count": null,
   "metadata": {},
   "outputs": [],
   "source": [
    "val = 6\n",
    "if val%2 == 0:\n",
    "    val = val//2\n",
    "elif val%2 == 1: # Elif and else cannot exist without a previous if\n",
    "    val = 3*val+1\n",
    "else:\n",
    "    print('Uh ?')"
   ]
  },
  {
   "cell_type": "markdown",
   "metadata": {},
   "source": [
    "On aurait pu utiliser simplement un `if` et un `else` à la place du `elif`, mais le code actuel permet d'éviter des surprises, si par exemple un utilisateur mal intentionné décide de tester $3.141592$ comme valeur en entrée, voire même l'infini ! Sachez que ce genre de surprise peut provoquer de sérieux maux de têtes et incompréhensions dans des codes plus longs ! \n"
   ]
  },
  {
   "cell_type": "markdown",
   "metadata": {},
   "source": [
    "#### Boucle `while`\n",
    "\n",
    "La boucle `while` est un étrange mélange de ses aînées, la boucle `for` et l'instruction `if`. Elle va s'exécuter tant qu'une condition est vérifiée, et s'arrêter ensuite si la condition n'est plus respectée. Cela est pratique, par exemple, pour notre suite de Syracuse, qui, selon la conjecture bien connue, _s'arrête_ toujours sur le cycle $4,2,1,4,2,1\\ldots$. Tant que notre valeur n'est donc pas $1$, on peut donc continuer la partie 'intéressante' de notre boucle.\n",
    "\n",
    "On peut sans problème imbriquer des boucles dans des boucles et y inclure des instructions `if` ... `else`. Il y aura plusieurs degrés d'indentation du code, mais n'ayez pas peur :-)"
   ]
  },
  {
   "cell_type": "code",
   "execution_count": null,
   "metadata": {},
   "outputs": [],
   "source": [
    "val = 33\n",
    "while val != 1:\n",
    "    print(val)\n",
    "    if val%2 == 0:\n",
    "        val = val//2\n",
    "    elif val%2 == 1:\n",
    "        val = 3*val+1\n",
    "    else:\n",
    "        print('Uh ?')"
   ]
  },
  {
   "cell_type": "markdown",
   "metadata": {},
   "source": [
    "#### Sortez-moi de là ! L'instruction `break`\n",
    "\n",
    "L'instruction `break` permet de sortir d'une boucle, généralement quand quelque chose d'un peu imprévu se produit. Par exemple, vous avez peut-être essayé (et regretté) d'exécuter le code précédent en changeant `val` pour une valeur non entière. Dans ce cas, la boucle tourne à l'infini et affiche une infinité de `'Uh ?'`, ce qui fait planter l'ordinateur... On utilise alors `break` pour sortir de la boucle. Il est possible de sortir des boucles `for` et `while` et même des instructions `if` ... `else`.\n",
    "\n",
    "Enfin, sachez qu'il est également possible de prendre en charge ce genre de situation directement au niveau de la déclaration de la boucle `while`, par exemple en spécifiant que `val` doit être un entier. Mais ce n'est pas possible tout le temps. Les deux codes suivants sont donc presque équivalents : ils font exactement la même chose pour `val` entier, et font _grosso modo_ la même chose quand ce n'est plus le cas."
   ]
  },
  {
   "cell_type": "code",
   "execution_count": null,
   "metadata": {},
   "outputs": [],
   "source": [
    "val = 29\n",
    "val2 = val\n",
    "\n",
    "# First code\n",
    "print('Test n°1')\n",
    "while val > 1 and type(val) == int:\n",
    "    print(val)\n",
    "    if val%2 == 0:\n",
    "        val = val//2\n",
    "    else: # Integers can only have x%2 = 0 or x%2 = 1, so no need for elif\n",
    "        val = 3*val+1\n",
    "\n",
    "# Second code\n",
    "print('Test n°2')\n",
    "while val2 > 1:\n",
    "    print(val2)\n",
    "    if val2%2 == 0:\n",
    "        val2 = val2//2\n",
    "    elif val2%2 == 1:\n",
    "        val2 = 3*val2 + 1\n",
    "    else: \n",
    "        print('Uh ?')\n",
    "        break"
   ]
  },
  {
   "cell_type": "markdown",
   "metadata": {},
   "source": [
    "__Quiz__ :\n",
    "\n",
    "* Essayez de re-programmer la suite de Fibonacci, mais cette fois-ci avec une boucle `while` et en obligeant le code à s'arrêter quand $f_n$ dépasse 100 000. Essayez en outre d'expliciter le nombre d'itérations pour lequel on dépasse cette valeur. Vous pourrez également tenter de calculer la suite associée : \n",
    "\n",
    "$$\\phi_n = \\frac{f_{n+1}}{f_{n}}$$\n",
    "\n",
    "* Examinons la suite 'babylonienne', qui s'initialise avec $a$ entier, $b_0 = 0$ et se définit par récurrence:\n",
    "\n",
    "$$ b_{n+1} = \\frac{b_n^2 + a}{2 b_n}$$\n",
    "\n",
    "avec $a$ un entier ou un nombre flottant. La suite converge-t-elle pour tout $a$ ? Essayez de programmer une telle boucle pour qu'elle s'arrête lorsqu'on arrive suffisamment près de la valeur à laquelle elle converge, c'est à dire lorsque :  $$ \\left | \\frac{b_{n+1} - b_{n}}{b_{n}} \\right | \\leq 10^{-6}$$\n",
    "\n",
    "* (difficile !) Pour la suite de Syracuse, écrivez une boucle donnant le _temps de vol_ pour une valeur en entrée $s_0$ donnée, c'est à dire le premier indice $N$ pour lequel $s_N = 1$. Renvoyez ensuite, pour des valeurs initiales de 1 à 100, celle ayant le plus long temps de vol ainsi que le plus long temps de vol en question, $N_{\\rm max}$.\n",
    "\n",
    "* (difficile !) Inspirez-vous des exercices du livre de [Patrick Fuchs et Pierre Poulain](https://python.sdv.univ-paris-diderot.fr/) pour créer des lignes successives d'étoiles alignées à gauche et à droite, du type :\n",
    "\n",
    "```\n",
    "*\n",
    "**\n",
    "***\n",
    "****\n",
    "*****\n",
    "******\n",
    "```\n",
    "\n",
    "et \n",
    "\n",
    "```\n",
    "      *\n",
    "     **\n",
    "    ***\n",
    "   ****\n",
    "  *****\n",
    " ******\n",
    "*******\n",
    "```\n"
   ]
  },
  {
   "cell_type": "code",
   "execution_count": null,
   "metadata": {},
   "outputs": [],
   "source": [
    "# You can do this !"
   ]
  }
 ],
 "metadata": {
  "kernelspec": {
   "display_name": "Python 3.9.7 64-bit",
   "language": "python",
   "name": "python3"
  },
  "language_info": {
   "codemirror_mode": {
    "name": "ipython",
    "version": 3
   },
   "file_extension": ".py",
   "mimetype": "text/x-python",
   "name": "python",
   "nbconvert_exporter": "python",
   "pygments_lexer": "ipython3",
   "version": "3.9.7"
  },
  "orig_nbformat": 4,
  "vscode": {
   "interpreter": {
    "hash": "cb9c252e610b593a3421828f92740a33c32c552b9658c846af1824aa6c7c0cc9"
   }
  }
 },
 "nbformat": 4,
 "nbformat_minor": 2
}
