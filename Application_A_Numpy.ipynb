{
 "cells": [
  {
   "cell_type": "markdown",
   "metadata": {},
   "source": [
    "## NumPy\n",
    "\n",
    "### Généralités\n",
    "\n",
    "Nous avons brièvement importé le paquet Numpy dans le [tutoriel 4](./Tutorial_4_Imports_functions.ipynb) afin de permettre de diviser une liste d'entiers par un nombre de manière efficace et pratique, alors que ces opérations ne fonctionnent pas sur des objets `list`. Mais NumPy contient beaucoup d'autres choses, notamment : \n",
    "\n",
    "* Des définitions pour quasiment toutes les fonctions usuelles, y compris les fonctions hyperboliques et leurs réciproques (par exemple `arctanh`)\n",
    "* Des méthodes permettant de créer des vecteurs et des matrices, puis ensuite de les manipuler. Les amateurs de MATLAB seront heureux de les retrouver :-)\n",
    "* Quelques \n",
    "\n",
    "### Les objets `np.ndarray`\n",
    "\n",
    "Nous l'avons brièvement aperçue précédemment. Quand les éléments des `np.ndarray` sont des nombres, les `np.ndarray` représentent des vecteurs, des matrices ou même des tenseurs d'ordre (de dimension) plus élevée. Ils fonctionnent presque comme les listes, et toute la syntaxe associée va donc leur ressembler fortement, __hormis leur comportement avec les opérateurs usuels (+, *, -, / et **) et leur indexation__. On crée de tels objets assez simplement par exemple à partir d'une liste et de la fonction `np.array()`: "
   ]
  },
  {
   "cell_type": "code",
   "execution_count": null,
   "metadata": {},
   "outputs": [],
   "source": [
    "import numpy as np\n",
    "x = np.array([3,4,5])\n",
    "\n",
    "print(x)\n",
    "print(type(x))"
   ]
  },
  {
   "cell_type": "markdown",
   "metadata": {},
   "source": [
    "#### Indexation et _coupes_ /!\\\\\n",
    "\n",
    "Les `np.ndarray` s'indexent d'une manière différente que les objets `list` en Python. Pour les tableaux à une dimension, toutefois, rien de bien méchant, on peut facilement récupérer un élément, ou une _coupe_ ([cf Tutoriel 2](./Tutorial_2_ListsTuplesDicts.ipynb#Coupes)) et les résultats sont identiques à ceux obtenus pour les listes :"
   ]
  },
  {
   "cell_type": "code",
   "execution_count": null,
   "metadata": {},
   "outputs": [],
   "source": [
    "my_list = [1,2,6,9,11,-3]\n",
    "my_array = np.array(my_list)\n",
    "print(my_list[5])\n",
    "print(my_array[5])\n",
    "print(my_list[2:4])\n",
    "print(my_array[2:4])"
   ]
  },
  {
   "cell_type": "markdown",
   "metadata": {},
   "source": [
    "Maintenant, _supposons_ que j'aie une liste de 3 listes contenant chacune 3 nombres appelée `mylist_of_lists` (cf ci-dessous). Ma liste de listes peut être vue comme une matrice $3 \\times 3$. Je voudrais faire une _coupe_  de cette matrice et ne garder que le bloc $2\\times 2$ correspondant au nombres 'en bas à droite' de la matrice initiale. \n",
    "\n",
    "On peut assez facilement sélectionner les deux dernières lignes de la liste de liste avec la _coupe_ `[1:3]`, mais il n'est pas possible de directement sélectionner certaines colonnes de la liste. Voyez plutôt : "
   ]
  },
  {
   "cell_type": "code",
   "execution_count": null,
   "metadata": {},
   "outputs": [],
   "source": [
    "mylist_of_lists = [[1,7,2],[3,4,5],[6,7,8]]\n",
    "\n",
    "print(mylist_of_lists[1:3])                                # Almost, but not quite\n",
    "print(mylist_of_lists[1:3][1:3])                           # Does not work"
   ]
  },
  {
   "cell_type": "markdown",
   "metadata": {},
   "source": [
    "Pour faire une sélection sur les colonnes, il nous faudra examiner un par les deux derniers élements de la liste de listes (c'est à dire les deux dernières lignes de la matrice $3\\times 3$) et pour chacune de ces deux lignes (ou _sous-listes_), ne garder que les deux derniers nombres. On ne peut effectuer une telle opération qu'avec une boucle `for` :"
   ]
  },
  {
   "cell_type": "code",
   "execution_count": null,
   "metadata": {},
   "outputs": [],
   "source": [
    "mylist_of_lists = [[1,7,2],[3,4,5],[6,7,8]]\n",
    "sub_list_of_lists = []\n",
    "for row in mylist_of_lists[1:]:\n",
    "    sub_list_of_lists.append(row[1:])\n",
    "print(sub_list_of_lists)                                           # Too Complicated ! "
   ]
  },
  {
   "cell_type": "markdown",
   "metadata": {},
   "source": [
    "_NumPy_ va ici grandement nous aider, car il permet de faire des coupes selon plusieurs dimensions en utilisant la syntaxe \n",
    "```\n",
    "sub_matrix = my_matrix[a:b,c:d,e:f, ...]\n",
    "```\n",
    "Ce qui va sélectionner \n",
    "* les _lignes_ $a$ à $b-1$ dans la première dimension\n",
    "* les _colonnes_ $c$ à $d-1$ dans la deuxième dimension\n",
    "* les _couches_ $e$ à $f-1$ dans la troisième dimension\n",
    "* etc. etc. pour les dimensions suivantes \n",
    "\n",
    "Pour le cas de l'exemple précédent : "
   ]
  },
  {
   "cell_type": "code",
   "execution_count": null,
   "metadata": {},
   "outputs": [],
   "source": [
    "mylist_of_lists = [[1,7,2],[3,4,5],[6,7,8]]\n",
    "my_matrix = np.array(mylist_of_lists)\n",
    "print(my_matrix[1:3,1:3])   # Quick and easy ! "
   ]
  },
  {
   "cell_type": "markdown",
   "metadata": {},
   "source": [
    "#### Sommes et multiplications /!\\\\\n",
    "\n",
    "__Contrairement__ aux listes à nouveau, la multiplication et l'addition de scalaires à un `np.ndarray` fonctionnent également comme sous MATLAB, et ce quel que soit la 'dimension' du tableau: \n",
    "* Pour `+` et `-`, on ajoute (soustrait) donc à chacun des éléments du tableau le scalaire en question\n",
    "* Pour `*` et `/`, on multiplie (divise) donc chacun des éléments du tableau par le scalaire en question\n",
    "* Pour `**`, on met chacun des éléments du tableau à la puissance en question (__le `.^` de MATLAB__ !)"
   ]
  },
  {
   "cell_type": "code",
   "execution_count": null,
   "metadata": {},
   "outputs": [],
   "source": [
    "vector = np.array([3,6,1])\n",
    "matrix = np.array([[1,2,3],[4,5,6],[7,8,9]])\n",
    "\n",
    "print(vector + 3.15)\n",
    "print(-5.7*vector)\n",
    "print(-2.1*matrix + 6.32)\n",
    "print(matrix**2)"
   ]
  },
  {
   "cell_type": "markdown",
   "metadata": {},
   "source": [
    "Quand les tableaux ont des dimensions compatibles, on peut les multiplier entre eux, et par défaut cette multiplication se fait _élément par élément_ (le `.*` préféré des amateurs de MATLAB) : \n"
   ]
  },
  {
   "cell_type": "code",
   "execution_count": null,
   "metadata": {},
   "outputs": [],
   "source": [
    "vector_1 = np.array([3,6,2])\n",
    "vector_2 = np.array([6,4,1])\n",
    "matrix = np.array([[1,1,1],[1,1,1],[1,1,1],[2,2,2]])\n",
    "\n",
    "print(vector_1*vector_2)\n",
    "print(vector_1*matrix)"
   ]
  },
  {
   "cell_type": "markdown",
   "metadata": {},
   "source": [
    "* Dans le premier cas, le comportement est assez logique, on multiplie les éléments de chaque vecteur 'un par un'.\n",
    "* Dans le deuxième cas, NumPy a automatiquement cherché une dimension de `matrix` dont la longueur (3) est compatible avec celle (3) de `vector_1`, et ici, c'est la dimension n°2 (les colonnes). NumPy va ensuite _étendre_ `vector_1` dans l'autre dimension (ou les autres dimensions) pour obtenir la même forme que `matrix`, et enfin multiplier un par un les éléments de `matrix` et de `vector_1` étendu. \n",
    "\n",
    "#### Opérations sur les dimensions\n",
    "\n",
    "##### Listage\n",
    "\n",
    "On peut demander à NumPy de renvoyer les propriétés de forme des objets `np.ndarray` en utilisant les fonctions : \n",
    "* `np.shape()` : va renvoyer la longueur d'un tableau dans chacune des dimensions de celui-ci\n",
    "* `np.size()` : va renvoyer le nombre d'éléments total du tableau\n",
    "* `np.ndim()` : va renvoyer le nombre de dimensions du tableau "
   ]
  },
  {
   "cell_type": "code",
   "execution_count": null,
   "metadata": {},
   "outputs": [],
   "source": [
    "tensor = np.array([[[1,2],[2,3]],[[12,14],[15,19]],[[-2,-1],[-3,-6]]])\n",
    "print(np.shape(tensor))\n",
    "print(np.size(tensor))\n",
    "print(np.ndim(tensor))"
   ]
  },
  {
   "cell_type": "markdown",
   "metadata": {},
   "source": [
    "__Mini-quiz__: \n",
    "* Que renvoie la commande `len(tensor)` ? Comment interprétez-vous le résultat ?\n",
    "* Essayez de re-créer les fonctions `np.size()` et `np.ndim()` à partir de `np.shape()` en utilisant des fonctions Python et des fonctions Numpy, par ex. `np.sum()`\n",
    "\n",
    "##### Rajouter des dimensions\n",
    "\n",
    "On peut assez facilement rajouter des dimensions en exécutant la fonction `np.atleast_nd()` (avec $n = 1,2,3$). En fonction de la dimension de votre tableau initial, les dimensions _en plus_ ne seront pas forcément rajoutées là où vous vous y attendez ! Voyez par exemple, pour un tableau à une dimension (un vecteur) transformé en tableau à trois dimensions :"
   ]
  },
  {
   "cell_type": "code",
   "execution_count": null,
   "metadata": {},
   "outputs": [],
   "source": [
    "x = np.array([1,2,6,8,2])\n",
    "y = np.atleast_2d(x)\n",
    "z = np.atleast_3d(x)\n",
    "print(np.shape(x))\n",
    "print(np.shape(y))\n",
    "print(np.shape(z))"
   ]
  },
  {
   "cell_type": "markdown",
   "metadata": {},
   "source": [
    "Vous pouvez également rajouter _à la main_ des dimensions en plus dans votre tableau en l'indexant avec une coupe qui renverrait normalement la matrice entière `[:,...,:]` et en rajoutant un `np.newaxis` à l'endroit de la dimension que vous souhaitez rajouter. Par exemple, on peut ici rajouter une troisième dimension à une matrice 'en premier', ou même 'au milieu' de la matrice initiale !"
   ]
  },
  {
   "cell_type": "code",
   "execution_count": null,
   "metadata": {},
   "outputs": [],
   "source": [
    "matrix = np.array([[1,2,3],[6,5,4]])\n",
    "bigger_matrix = matrix[:,np.newaxis,:]\n",
    "other_bigger_matrix = matrix[np.newaxis,:,:]\n",
    "print(np.shape(bigger_matrix))\n",
    "print(np.shape(other_bigger_matrix))"
   ]
  },
  {
   "cell_type": "markdown",
   "metadata": {},
   "source": [
    "##### Permuter des dimensions\n",
    "\n",
    "Vous pouvez également permuter certaines dimensions, et les déplacer avec les fonctions :\n",
    "* `np.moveaxis()` qui déplace un ou plusieurs axes vers une ou plusieurs positions données,\n",
    "* `np.swapaxes()` qui échange deux listes d'axes\n",
    "* `np.transpose()` qui, enfin, inverse les axes (les axes 0,1,2,...,n deviennent les axes n,n-1,...,0). La fonction `np.transpose()` fonctionne comme la transposée _normale_ pour des tableaux de dimension 2.\n",
    "\n",
    "Le résultat fait souvent mal à la tête :-), voyez donc :  "
   ]
  },
  {
   "cell_type": "code",
   "execution_count": 7,
   "metadata": {},
   "outputs": [
    {
     "name": "stdout",
     "output_type": "stream",
     "text": [
      "Initial, shape = (4, 2, 3)\n",
      "[[[ 1  2  3]\n",
      "  [ 4  5  6]]\n",
      "\n",
      " [[ 7  8  9]\n",
      "  [10 11 12]]\n",
      "\n",
      " [[13 14 15]\n",
      "  [16 17 18]]\n",
      "\n",
      " [[19 20 21]\n",
      "  [22 23 24]]]\n",
      "-------\n",
      "Moved, shape = (4, 3, 2)\n",
      "[[[ 1  4]\n",
      "  [ 2  5]\n",
      "  [ 3  6]]\n",
      "\n",
      " [[ 7 10]\n",
      "  [ 8 11]\n",
      "  [ 9 12]]\n",
      "\n",
      " [[13 16]\n",
      "  [14 17]\n",
      "  [15 18]]\n",
      "\n",
      " [[19 22]\n",
      "  [20 23]\n",
      "  [21 24]]]\n",
      "-------\n",
      "Swapped, shape = (2, 4, 3)\n",
      "[[[ 1  2  3]\n",
      "  [ 7  8  9]\n",
      "  [13 14 15]\n",
      "  [19 20 21]]\n",
      "\n",
      " [[ 4  5  6]\n",
      "  [10 11 12]\n",
      "  [16 17 18]\n",
      "  [22 23 24]]]\n",
      "-------\n",
      "Transposed, shape = (3, 2, 4)\n",
      "[[[ 1  7 13 19]\n",
      "  [ 4 10 16 22]]\n",
      "\n",
      " [[ 2  8 14 20]\n",
      "  [ 5 11 17 23]]\n",
      "\n",
      " [[ 3  9 15 21]\n",
      "  [ 6 12 18 24]]]\n"
     ]
    }
   ],
   "source": [
    "tensor = np.array([[[1,2,3],[4,5,6]],[[7,8,9],[10,11,12]],[[13,14,15],[16,17,18]],[[19,20,21],[22,23,24]]])\n",
    "\n",
    "print('Initial, shape = ' + str(np.shape(tensor)))\n",
    "print(tensor)\n",
    "\n",
    "moved = np.moveaxis(tensor, 1, -1) # Moving the second axis (index 1, columns) to third axis (index -1, layers)\n",
    "print('-------')\n",
    "print('Moved, shape = ' + str(np.shape(moved)))\n",
    "print(moved)\n",
    "\n",
    "swapped = np.swapaxes(tensor, 0,1) # Exchanging the first (index 0, rows) and the last axes (index -1, layers)\n",
    "print('-------')\n",
    "print('Swapped, shape = ' + str(np.shape(swapped)))\n",
    "print(swapped)\n",
    "\n",
    "transposed = np.transpose(tensor) # NOTE : tensor.T also works\n",
    "print('-------')\n",
    "print('Transposed, shape = ' + str(np.shape(transposed)))\n",
    "print(transposed)"
   ]
  },
  {
   "cell_type": "markdown",
   "metadata": {},
   "source": [
    "_Note_ : Pour les habitués de MATLAB, la fonction `np.transpose()` ne fonctionne pas avec les vecteurs. En effet, sous MATLAB, tous les objets ont au moins 2 dimensions par défaut, mais pas sous NumPy, où les objets à 0 et 1 dimensions existent vraiment. Pour effectuer une réelle transposition d'un vecteur, il faudra utiliser _d'abord_ la fonction `np.atleast_2d()` sur votre vecteur pour que la transposition se fasse correctement."
   ]
  },
  {
   "cell_type": "code",
   "execution_count": 8,
   "metadata": {},
   "outputs": [
    {
     "name": "stdout",
     "output_type": "stream",
     "text": [
      "Original, shape = (5,)\n",
      "[1 2 6 2 1]\n",
      "Transposed --- Naive, shape : (5,)\n",
      "[1 2 6 2 1]\n",
      "Transposed --- OK, shape : (5, 1)\n",
      "[[1]\n",
      " [2]\n",
      " [6]\n",
      " [2]\n",
      " [1]]\n"
     ]
    }
   ],
   "source": [
    "vector = np.array([1,2,6,2,1])\n",
    "\n",
    "print('Original, shape = ' + str(np.shape(vector)))\n",
    "print(vector)\n",
    "\n",
    "print('Transposed --- Naive, shape : ' + str(np.shape(np.transpose(vector))))\n",
    "print(np.transpose(vector))\n",
    "\n",
    "print('Transposed --- OK, shape : ' + str(np.shape(np.transpose(np.atleast_2d(vector)))))\n",
    "print(np.transpose(np.atleast_2d(vector)))"
   ]
  },
  {
   "cell_type": "markdown",
   "metadata": {},
   "source": [
    "##### Redimensionner des `np.ndarray`\n",
    "\n",
    "Vous pouvez enfin redimensionner les tableaux en question. Par exemple, vous pouvez transformer une matrice $n \\times m$ en une autre matrice de taille $p \\times q$, à condition bien entendu que $n\\times m = p\\times q$. Pour cela, on utilisera la fonction `np.reshape()`. Celle-ci prend en première entrée le tableau à redimensionner, et en deuxième les entiers correspondant à la nouvelle forme attendue pour la matrice. \n",
    "\n",
    "_Quelques remarques_\n",
    "\n",
    "* Les nouvelles dimensions doivent être transmises sous forme de liste ou de tuple, c'est pourquoi on doit mettre ces dimensions entre parenthèses `(`,`)` ou crochets `[`,`]`.\n",
    "* Il est possible de rajouter une dimension au passage, si $n \\times m = p \\times q \\times r$ ! En supprimer une est également possible.\n",
    "* Si l'ordre dans lequel les éléments de la matrice ne vous conviennent pas, vous pouvez toujours essayer de la _transposer_ ou de _bouger ses dimensions_ avant de la redimensionner !"
   ]
  },
  {
   "cell_type": "code",
   "execution_count": 11,
   "metadata": {},
   "outputs": [
    {
     "name": "stdout",
     "output_type": "stream",
     "text": [
      "[[ 1  2  3]\n",
      " [ 4  5  6]\n",
      " [ 7  8  9]\n",
      " [10 11 12]]\n",
      "[[ 1  2  3  4  5  6]\n",
      " [ 7  8  9 10 11 12]]\n",
      "[[ 1  4  7 10  2  5]\n",
      " [ 8 11  3  6  9 12]]\n",
      "[[[ 1  2  3]\n",
      "  [ 4  5  6]]\n",
      "\n",
      " [[ 7  8  9]\n",
      "  [10 11 12]]]\n"
     ]
    }
   ],
   "source": [
    "my_matrix = np.array([[1,2,3],[4,5,6],[7,8,9],[10,11,12]])\n",
    "\n",
    "print(my_matrix)\n",
    "print(np.reshape(my_matrix,[2,6]))          \n",
    "print(np.reshape(np.transpose(my_matrix),[2,6]))\n",
    "print(np.reshape(my_matrix, [2,2,3]))"
   ]
  },
  {
   "cell_type": "markdown",
   "metadata": {},
   "source": [
    "Vous pouvez enfin aplatir un tableau complètement de deux manières différentes. Pour cela, vous pourrez utiliser les _méthodes_ `.flatten()` ou `.ravel()` disponibles pour les tableaux `np.ndarray`. La différence entre ces deux méthodes est que l'objet créé par `.ravel()` va rester lié à la matrice initiale, et va par exemple permettre de la mettre à jour, tandis que celui créé par `.flatten()` sera complètement distinct de la matrice initiale. C'est du chinois ? Allez voir le [Tutoriel 2](./Tutorial_2_ListsTuplesDicts.ipynb#Python-et-la-mutabilité) !"
   ]
  },
  {
   "cell_type": "code",
   "execution_count": null,
   "metadata": {},
   "outputs": [],
   "source": [
    "my_matrix = np.array([[1,2,3],[4,5,6],[7,8,9],[10,11,12]])\n",
    "\n",
    "flattened = my_matrix.flatten()\n",
    "unraveled = my_matrix.ravel()\n",
    "\n",
    "print('Flattened :')\n",
    "print(flattened)\n",
    "\n",
    "print('Unraveled : ')\n",
    "print(unraveled)\n",
    "\n",
    "print('-Modifying flattened-')\n",
    "flattened[3] = -5\n",
    "print(my_matrix) # my_matrix not impacted by changes of flattened\n",
    "\n",
    "print('-Modifying Unraveled-')\n",
    "unraveled[3] = -7\n",
    "print(my_matrix) # my_matrix not impacted by changes of flattened\n"
   ]
  },
  {
   "cell_type": "markdown",
   "metadata": {},
   "source": [
    "#### Remplir des `np.ndarray` efficacement\n",
    "\n",
    "##### Vecteurs\n",
    "\n",
    "Remplir les tableaux avec la commande `np.array()` est particulièrement fastidieux. Il serait par exemple intéressant de pouvoir emplir un vecteur avec des valeurs régulièrement espacées entre deux valeurs $a$ et $b$\n",
    "\n",
    "Obtenir des valeurs espacées régulièrement entre $a$ et $b$ est possible, et ce de plusieurs manières, grâce aux fonctions : \n",
    "\n",
    "* `np.arange(a, b, r)`, qui crée un tableau de valeurs correspondant à $a, a+r, a+2r, \\ldots ...$ jusqu'à atteindre $b$ (exclus)\n",
    "* `np.linspace(a, b, N)`, qui crée un tableau 1d contenant $N$ valeurs régulièrement espacées linéairement entre $a$ et $b$ (__les deux inclus__)\n",
    "* `np.logspace(a, b, N)`, qui crée un tableau 1d contenant $N$ valeurs régulièrement et __logarithmiquement__ espacées entre $\\log_{10}(a)$ et $\\log_{10}(b)$. \n",
    "\n",
    "Ces fonctions sont particulièrement pratiques pour créer des valeurs d'abscisse (l'axe $x$ des graphes) sur lesquels vous allez ensuite appliquer des fonctions mathématiques pour obtenir des valeurs d'ordonnée (l'axe $y$ des graphes).\n",
    "\n",
    "Voyez plutôt : "
   ]
  },
  {
   "cell_type": "code",
   "execution_count": 18,
   "metadata": {},
   "outputs": [
    {
     "name": "stdout",
     "output_type": "stream",
     "text": [
      "[ 1.2  4.7  8.2 11.7 15.2 18.7 22.2]\n",
      "[ 0.  2.  4.  6.  8. 10. 12. 14. 16. 18. 20. 22. 24.]\n",
      "[1.00000000e-05 3.16227766e-05 1.00000000e-04 3.16227766e-04\n",
      " 1.00000000e-03 3.16227766e-03 1.00000000e-02 3.16227766e-02\n",
      " 1.00000000e-01 3.16227766e-01 1.00000000e+00]\n"
     ]
    }
   ],
   "source": [
    "print(np.arange(1.2,23,3.5))\n",
    "print(np.linspace(0,24,13))\n",
    "print(np.logspace(-5,0,11))"
   ]
  },
  {
   "cell_type": "markdown",
   "metadata": {},
   "source": [
    "##### Matrices \n",
    "\n",
    "De nombreuses fonctions permettent de créer des matrices de tailles arbitraires. \n",
    "\n",
    "* La plus simple d'entre elles, `np.zeros()`, va créer une matrice remplie de zéros de la taille qui nous intéresse. Cette taille sera spécifiée sous la forme d'une liste ou de tuple. \n",
    "* De la même manière, `np.ones()` va créer une matrice remplie de 1, en lui spécifiant en entrée une liste de dimensions.\n",
    "* La fonction `np.eye()` va créer une matrice identité de taille donnée. Cette fois-ci, comme c'est une matrice identité, on ne lui donne en entrée qu'un entier.\n",
    "\n",
    "Cela donne : "
   ]
  },
  {
   "cell_type": "code",
   "execution_count": 25,
   "metadata": {},
   "outputs": [
    {
     "name": "stdout",
     "output_type": "stream",
     "text": [
      "[[0. 0.]\n",
      " [0. 0.]\n",
      " [0. 0.]]\n",
      "[[1. 1.]\n",
      " [1. 1.]\n",
      " [1. 1.]\n",
      " [1. 1.]]\n",
      "[[1. 0. 0. 0. 0.]\n",
      " [0. 1. 0. 0. 0.]\n",
      " [0. 0. 1. 0. 0.]\n",
      " [0. 0. 0. 1. 0.]\n",
      " [0. 0. 0. 0. 1.]]\n"
     ]
    }
   ],
   "source": [
    "requested_size = (3,2)\n",
    "print(np.zeros(requested_size))\n",
    "print(np.ones([4,2]))\n",
    "print(np.eye(5))\n"
   ]
  },
  {
   "cell_type": "code",
   "execution_count": null,
   "metadata": {},
   "outputs": [],
   "source": []
  }
 ],
 "metadata": {
  "kernelspec": {
   "display_name": "Python 3 (ipykernel)",
   "language": "python",
   "name": "python3"
  },
  "language_info": {
   "codemirror_mode": {
    "name": "ipython",
    "version": 3
   },
   "file_extension": ".py",
   "mimetype": "text/x-python",
   "name": "python",
   "nbconvert_exporter": "python",
   "pygments_lexer": "ipython3",
   "version": "3.9.7"
  },
  "vscode": {
   "interpreter": {
    "hash": "cb9c252e610b593a3421828f92740a33c32c552b9658c846af1824aa6c7c0cc9"
   }
  }
 },
 "nbformat": 4,
 "nbformat_minor": 4
}
