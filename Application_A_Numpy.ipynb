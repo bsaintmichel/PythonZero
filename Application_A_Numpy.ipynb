{
 "cells": [
  {
   "cell_type": "markdown",
   "metadata": {},
   "source": [
    "## NumPy\n",
    "\n",
    "### Généralités\n",
    "\n",
    "Nous avons brièvement importé le paquet Numpy dans le [tutoriel 4](./Tutorial_4_Imports_functions.ipynb) afin de permettre de diviser une liste d'entiers par un nombre de manière efficace et pratique, alors que ces opérations ne fonctionnent pas sur des objets `list`. Mais NumPy est un très gros module et Python et contient un très grand nombre de fonctions permettant de travailler avec les nombres, entre autres : \n",
    "\n",
    "* [Des méthodes permettant de créer et manipuler des vecteurs et des matrices, généralisés sous la forme de `np.ndarray()`](#Les-objets-np.ndarray). Les amateurs de MATLAB seront heureux de les retrouver :-)\n",
    "* [Des définitions pour quasiment toutes constantes et les fonctions mathématiques usuelles](#Constantes-et-fonctions-mathematiques), y compris les fonctions hyperboliques et leurs réciproques (par exemple `arctanh`)\n",
    "* [Des fonctions d'intérêt pour manipuler les valeurs de vos tableaux](#Fonctions-utilitaires-de-Numpy) \n",
    "  * Calculer des sommes des intégrales et des dérivées \n",
    "  * Trier des tableaux par ordre croissant ou selon l'ordre d'un autre tableau\n",
    "  * Arrondir des valeurs ou des tableaux entiers\n",
    "  * Calculer la moyenne et la variance d'une série de données, et créer des histogrammes \n",
    "  \n",
    "Je conseille aux étudiants de faire une pause après avoir vu ces trois premières parties, car c'est déjà un très gros morceau, équivalent à au moins un tutoriel complet précédent. Ils pourront ensuite se pencher sur les sous-modules suivants de Numpy : \n",
    "\n",
    "* Des fonctions associées à l'algèbre linéaire et les matrices, le sous-module `numpy.linalg`.\n",
    "* Quelques fonctions d'intérêt pour les statistiques et les nombres aléatoires avec le sous-module `numpy.random`.\n",
    "* Et les fonctions et la syntaxe associée aux _transformées de Fourier_, `numpy.fft`.\n",
    "\n",
    "Sachez qu'une grande partie du code de NumPy est en fait écrit en C, avec une sur-couche de Python par-dessus. Les fonctions NumPy sont donc bien optimisées pour le travail avec les grandes matrices, et peuvent être encore _accélérées_ si le besoin s'en ressent en utilisant des modules supplémentaires, par exemple [Numba](https://numba.pydata.org/) qui va compiler votre code et éventuellement le _paralléliser_ sur les coeurs de votre processeur, ou même votre carte graphique. "
   ]
  },
  {
   "cell_type": "markdown",
   "metadata": {},
   "source": [
    "-------------------------------\n",
    "\n",
    "### Les objets `np.ndarray`\n",
    "\n",
    "Nous l'avons brièvement aperçue précédemment. Quand les éléments des `np.ndarray` sont des nombres, les `np.ndarray` représentent des vecteurs, des matrices ou même des tenseurs d'ordre (de dimension) plus élevée. Ils fonctionnent presque comme les listes, et toute la syntaxe associée va donc leur ressembler fortement, __hormis leur comportement avec les opérateurs usuels (+, *, -, / et **) et leur indexation__. On crée de tels objets assez simplement par exemple à partir d'une liste et de la fonction `np.array()`: "
   ]
  },
  {
   "cell_type": "code",
   "execution_count": null,
   "metadata": {},
   "outputs": [],
   "source": [
    "import numpy as np\n",
    "x = np.array([3,4,5])\n",
    "\n",
    "print(x)\n",
    "print(type(x))"
   ]
  },
  {
   "cell_type": "markdown",
   "metadata": {},
   "source": [
    "#### Indexation et _coupes_ /!\\\\\n"
   ]
  },
  {
   "cell_type": "markdown",
   "metadata": {},
   "source": [
    "##### Indexation et coupes simples (à un indice)\n",
    "\n",
    "Les `np.ndarray` s'indexent d'une manière différente que les objets `list` en Python. Pour les tableaux à une dimension, toutefois, rien de bien méchant, on peut facilement récupérer un élément, ou une _coupe_ ([cf Tutoriel 2](./Tutorial_2_ListsTuplesDicts.ipynb#Coupes)) et les résultats sont identiques à ceux obtenus pour les listes :"
   ]
  },
  {
   "cell_type": "code",
   "execution_count": null,
   "metadata": {},
   "outputs": [],
   "source": [
    "my_list = [1,2,6,9,11,-3]\n",
    "my_array = np.array(my_list)\n",
    "print(my_list[5])\n",
    "print(my_array[5])\n",
    "print(my_list[2:4])\n",
    "print(my_array[2:4])"
   ]
  },
  {
   "cell_type": "markdown",
   "metadata": {},
   "source": [
    "Construisons une liste de 3 listes contenant chacune 3 nombres appelée `mylist_of_lists` (cf ci-dessous). Ma liste de listes peut être vue comme une matrice $3 \\times 3$. Regardons ce qui arrive lorsque j'essaie d'indicer ma liste de liste et le tableau de manière 'simple', c'est à dire juste avec un indice : "
   ]
  },
  {
   "cell_type": "code",
   "execution_count": null,
   "metadata": {},
   "outputs": [],
   "source": [
    "mylist_of_lists = [[1,7,2],[3,4,5],[6,7,8]]\n",
    "my_matrix = np.array(mylist_of_lists)\n",
    "\n",
    "print(mylist_of_lists[1])\n",
    "print(my_matrix[1])"
   ]
  },
  {
   "cell_type": "markdown",
   "metadata": {},
   "source": [
    "Les résultats sont identiques, ce qui est pour l'instant plutôt rassurant ! Il est d'ailleurs possible de faire la même chose avec une coupe, par exemple en remplaçant le `[1]` par `[:]`, et les résultats seront (aux détails de l'affichage près) identiques. \n"
   ]
  },
  {
   "cell_type": "markdown",
   "metadata": {},
   "source": [
    "\n",
    "##### Coupes multi-dimensionnelles des tableaux à d > 1  /!\\\\\n",
    "\n",
    "Supposons maintenant que Je voudrais faire une _coupe multidimensionnelle_ de cette matrice : dans mon cas précis, je souhaiterais ne garder que le bloc $2\\times 2$ correspondant au nombres 'en bas à droite' de la matrice initiale. On peut assez facilement sélectionner les deux dernières lignes de la liste de liste avec la _coupe_ `[1:3]`, mais il n'est pas possible de directement sélectionner certaines 'colonnes de la matrice' dans la liste de listes. Voyez plutôt : "
   ]
  },
  {
   "cell_type": "code",
   "execution_count": null,
   "metadata": {},
   "outputs": [],
   "source": [
    "mylist_of_lists = [[1,7,2],[3,9,4],[11,-7,0]]\n",
    "\n",
    "print(mylist_of_lists[1:3])                                # Almost, but not quite\n",
    "print(mylist_of_lists[1:3][1:3])                           # Does not do what we want ..."
   ]
  },
  {
   "cell_type": "markdown",
   "metadata": {},
   "source": [
    "Pour faire une sélection sur les colonnes, il nous faudra examiner un par les deux derniers élements de la liste de listes (c'est à dire les deux dernières lignes de la matrice $3\\times 3$) et pour chacune de ces deux lignes (ou _sous-listes_), ne garder que les deux derniers nombres. On ne peut effectuer une telle opération qu'avec une boucle `for` :"
   ]
  },
  {
   "cell_type": "code",
   "execution_count": null,
   "metadata": {},
   "outputs": [],
   "source": [
    "mylist_of_lists = [[1,7,2],[3,9,4],[11,-7,0]]\n",
    "\n",
    "sub_list_of_lists = []\n",
    "for row in mylist_of_lists[1:]:\n",
    "    sub_list_of_lists.append(row[1:])\n",
    "print(sub_list_of_lists)                                           # Too Complicated ! "
   ]
  },
  {
   "cell_type": "markdown",
   "metadata": {},
   "source": [
    "_NumPy_ va ici grandement nous aider, car il permet de faire des coupes selon plusieurs dimensions en utilisant la syntaxe \n",
    "```\n",
    "sub_matrix = my_matrix[a:b,c:d:e,f:g, ...]\n",
    "```\n",
    "Ce qui va sélectionner \n",
    "* les _lignes_ $a$ à $b-1$ dans la première dimension\n",
    "* les _colonnes_ $c, c+e, c+2e, \\ldots, d-1$ dans la deuxième dimension\n",
    "* les _couches_ $f$ à $g-1$ dans la troisième dimension\n",
    "* etc. etc. pour les dimensions suivantes \n",
    "\n",
    "Pour le cas de l'exemple précédent : "
   ]
  },
  {
   "cell_type": "code",
   "execution_count": null,
   "metadata": {},
   "outputs": [],
   "source": [
    "mylist_of_lists = [[1,7,2],[3,9,4],[11,-7,0]]\n",
    "my_matrix = np.array(mylist_of_lists)\n",
    "print(my_matrix[1:3,1:3])   # Quick and easy ! "
   ]
  },
  {
   "cell_type": "markdown",
   "metadata": {},
   "source": [
    "##### Indexation logique\n",
    "\n",
    "Il existe des [méthodes plus avancées pour indicer vos tableaux](https://numpy.org/doc/stable/user/basics.indexing.html#advanced-indexing). Je ne vais pas toutes les détailler ici, car ces méthodes vont rendre ce cours vraiment confus, et je pense qu'il y a déjà beaucoup d'informations dans ce long module. N'hésitez pas toutefois à aller lire la page de documentation ci-dessus si vous avez besoin d'effectuer un indiçage bien particulier qui n'est pas décrit ici :-) . \n",
    "\n",
    "Je vais me borner à expliquer l'indiçage _logique_ (ou booléen), qui est possible sous NumPy comme sous MATLAB. Le principe est le suivant : plutôt d'indicer ou de découper un tableau avec des _indices_ `[i,j,k]` ou des coupes `[a:b:c, d:e, ...]`, on va 'indicer' un tableau `x` avec un autre tableau `cond` (pour _condition_) de la même taille que `x` et qui va contenir des [_booléens_](./Tutorial_1_SimpleThings.ipynb#La-vérité-est-ailleurs-:-Booléens-et-expressions). En évaluant l'expression `x[cond]`, on va filtrer les éléments de `x` et ne garder que ceux qui correspondent à `cond == True`. Si cela vous fait mal à la tête, essayez plutôt le schéma et l'exemple suivants :-)\n",
    "\n",
    "![img](./resources/Boolean%20Indexing.png)"
   ]
  },
  {
   "cell_type": "code",
   "execution_count": null,
   "metadata": {},
   "outputs": [],
   "source": [
    "x    = np.array([7   , 12   ,0    ,66    ,23    , 1   , 9   , 46   , -7   , -89])\n",
    "cond = np.array([True, False, True, False, False, True, True, False, False, False])\n",
    "\n",
    "print(x[cond])"
   ]
  },
  {
   "cell_type": "markdown",
   "metadata": {},
   "source": [
    "Vous pouvez donc voir que le tableau `cond` agit en fait comme un _filtre de sélection_ des valeurs de x. J'aime beaucoup utiliser ce genre d'indexation, qui est très compacte et quand même assez lisible. \n",
    "\n",
    "Il est également possible de combiner les conditions _une-par-une_ entre deux tableaux grâce aux fonctions Numpy `np.logical_or()`, `np.logical_and()`, et `np.logical_xor()`. Il va donc être possible de _combiner_ deux ou plusieurs conditions pour indicer un tableau !"
   ]
  },
  {
   "cell_type": "code",
   "execution_count": 57,
   "metadata": {},
   "outputs": [
    {
     "name": "stdout",
     "output_type": "stream",
     "text": [
      "1    : [ True False  True  True False]\n",
      "2    : [False  True  True False False]\n",
      "AND  : [False False  True False False]\n",
      "OR   : [ True  True  True  True False]\n",
      "XOR  : [ True  True False  True False]\n"
     ]
    }
   ],
   "source": [
    "cond_1 = np.array([True , False, True, True,  False])\n",
    "cond_2 = np.array([False, True , True, False, False])\n",
    "\n",
    "print('1    : ' + str(cond_1))\n",
    "print('2    : ' + str(cond_2))\n",
    "print('AND  : ' + str(np.logical_and(cond_1,cond_2)))\n",
    "print('OR   : ' + str(np.logical_or(cond_1,cond_2)))\n",
    "print('XOR  : ' + str(np.logical_xor(cond_1,cond_2)))"
   ]
  },
  {
   "cell_type": "markdown",
   "metadata": {},
   "source": [
    "__Exercices__ : \n",
    "\n",
    "* En utilisant une coupe multidimensionnelle, extrayez les quatres valeurs des 'coins' de la matrice `my_matrix` ci-dessus.\n",
    "* Reprenez le vecteur `x` ci-dessus, et utilisez l'indiçage logique pour créer un tableau `xpos` ne contenant que des valeurs positives.\n",
    "* Essayez ensuite de ne garder que les valeurs de `x` comprises entre -10 et 10. "
   ]
  },
  {
   "cell_type": "markdown",
   "metadata": {},
   "source": [
    "#### Additions et multiplications /!\\\\\n",
    "\n",
    "__Contrairement__ aux listes à nouveau, la multiplication et l'addition de scalaires à un `np.ndarray` fonctionnent également comme sous MATLAB, et ce quel que soit la 'dimension' du tableau: \n",
    "* Pour `+` et `-`, on ajoute (soustrait) donc à chacun des éléments du tableau le scalaire en question\n",
    "* Pour `*` et `/`, on multiplie (divise) donc chacun des éléments du tableau par le scalaire en question\n",
    "* Pour `**`, on met chacun des éléments du tableau à la puissance en question (__le `.^` de MATLAB__ !)"
   ]
  },
  {
   "cell_type": "code",
   "execution_count": null,
   "metadata": {},
   "outputs": [],
   "source": [
    "vector = np.array([3,6,1])\n",
    "matrix = np.array([[1,2,3],[4,5,6],[7,8,9]])\n",
    "\n",
    "print(vector + 3.15)\n",
    "print(-5.7*vector)\n",
    "print(-2.1*matrix + 6.32)\n",
    "print(matrix**2)"
   ]
  },
  {
   "cell_type": "markdown",
   "metadata": {},
   "source": [
    "Quand les tableaux ont des dimensions compatibles, on peut les multiplier entre eux, et par défaut cette multiplication se fait _élément par élément_ (le `.*` préféré des amateurs de MATLAB) : \n"
   ]
  },
  {
   "cell_type": "code",
   "execution_count": null,
   "metadata": {},
   "outputs": [],
   "source": [
    "vector_1 = np.array([3,6,2])\n",
    "vector_2 = np.array([6,4,1])\n",
    "matrix = np.array([[1,1,1],[1,1,1],[1,1,1],[2,2,2]])\n",
    "\n",
    "print(vector_1*vector_2)\n",
    "print(vector_1*matrix)"
   ]
  },
  {
   "cell_type": "markdown",
   "metadata": {},
   "source": [
    "* Dans le premier cas, le comportement est assez logique, on multiplie les éléments de chaque vecteur 'un par un'.\n",
    "* Dans le deuxième cas, NumPy a automatiquement cherché une dimension de `matrix` dont la longueur (3) est compatible avec celle (3) de `vector_1`, et ici, c'est la dimension n°2 (les colonnes). NumPy va ensuite _étendre_ `vector_1` dans l'autre dimension (ou les autres dimensions) pour obtenir la même forme que `matrix`, et enfin multiplier un par un les éléments de `matrix` et de `vector_1` étendu. \n",
    "\n",
    "#### Opérations sur les dimensions\n",
    "\n",
    "##### Listage\n",
    "\n",
    "On peut demander à NumPy de renvoyer les propriétés de forme des objets `np.ndarray` en utilisant les fonctions : \n",
    "* `np.shape()` : va renvoyer la longueur d'un tableau dans chacune des dimensions de celui-ci\n",
    "* `np.size()` : va renvoyer le nombre d'éléments total du tableau\n",
    "* `np.ndim()` : va renvoyer le nombre de dimensions du tableau "
   ]
  },
  {
   "cell_type": "code",
   "execution_count": null,
   "metadata": {},
   "outputs": [],
   "source": [
    "tensor = np.array([[[1,2],[2,3]],[[12,14],[15,19]],[[-2,-1],[-3,-6]]])\n",
    "print(np.shape(tensor))\n",
    "print(np.size(tensor))\n",
    "print(np.ndim(tensor))"
   ]
  },
  {
   "cell_type": "markdown",
   "metadata": {},
   "source": [
    "__Mini-quiz__: \n",
    "* Que renvoie la commande `len(tensor)` ? Comment interprétez-vous le résultat ?\n",
    "* Essayez de re-créer les fonctions `np.size()` et `np.ndim()` à partir de `np.shape()` en utilisant des fonctions Python et des fonctions Numpy, par ex. `np.sum()`\n",
    "\n",
    "##### Rajouter des dimensions\n",
    "\n",
    "On peut assez facilement rajouter des dimensions en exécutant la fonction `np.atleast_nd()` (avec $n = 1,2,3$). En fonction de la dimension de votre tableau initial, les dimensions _en plus_ ne seront pas forcément rajoutées là où vous vous y attendez ! Voyez par exemple, pour un tableau à une dimension (un vecteur) transformé en tableau à trois dimensions :"
   ]
  },
  {
   "cell_type": "code",
   "execution_count": null,
   "metadata": {},
   "outputs": [],
   "source": [
    "x = np.array([1,2,6,8,2])\n",
    "y = np.atleast_2d(x)\n",
    "z = np.atleast_3d(x)\n",
    "print(np.shape(x))\n",
    "print(np.shape(y))\n",
    "print(np.shape(z))"
   ]
  },
  {
   "cell_type": "markdown",
   "metadata": {},
   "source": [
    "Vous pouvez également rajouter _à la main_ des dimensions en plus dans votre tableau en l'indexant avec une coupe qui renverrait normalement la matrice entière `[:,...,:]` et en rajoutant un `np.newaxis` à l'endroit de la dimension que vous souhaitez rajouter. Par exemple, on peut ici rajouter une troisième dimension à une matrice 'en premier', ou même 'au milieu' de la matrice initiale !"
   ]
  },
  {
   "cell_type": "code",
   "execution_count": null,
   "metadata": {},
   "outputs": [],
   "source": [
    "matrix = np.array([[1,2,3],[6,5,4]])\n",
    "bigger_matrix = matrix[:,np.newaxis,:]\n",
    "other_bigger_matrix = matrix[np.newaxis,:,:]\n",
    "print(np.shape(bigger_matrix))\n",
    "print(np.shape(other_bigger_matrix))"
   ]
  },
  {
   "cell_type": "markdown",
   "metadata": {},
   "source": [
    "##### Permuter des dimensions\n",
    "\n",
    "Si vous avez le malheur de travailler avec des objets à plus de deux dimensions (j'en suis navré par avance), sachez que tout n'est pas perdu et vous pouvez échanger et déplacer les _dimensions_ de vos objets de manière efficace :\n",
    "* `np.moveaxis()` qui déplace un ou plusieurs axes vers une ou plusieurs positions données,\n",
    "* `np.swapaxes()` qui échange deux listes d'axes\n",
    "* `np.transpose()` qui, enfin, inverse les axes (les axes 0,1,2,...,n deviennent les axes n,n-1,...,0). __La fonction `np.transpose()` fonctionne comme la transposée _normale_ pour des tableaux de dimension 2__.\n",
    "\n",
    "Le résultat fait souvent mal à la tête :-), voyez donc :  "
   ]
  },
  {
   "cell_type": "code",
   "execution_count": null,
   "metadata": {},
   "outputs": [],
   "source": [
    "tensor = np.array([[[1,2,3],[4,5,6]],[[7,8,9],[10,11,12]],[[13,14,15],[16,17,18]],[[19,20,21],[22,23,24]]])\n",
    "\n",
    "print('Initial, shape = ' + str(np.shape(tensor)))\n",
    "print(tensor)\n",
    "\n",
    "moved = np.moveaxis(tensor, 0, -1) # Moving the first axis (index 0, rows) to third axis (index -1, layers)\n",
    "print('-------')\n",
    "print('Moved, shape = ' + str(np.shape(moved)))\n",
    "print(moved)\n",
    "\n",
    "swapped = np.swapaxes(tensor, 0, -1) # Exchanging the first (index 0, rows) and the last axis (index -1, layers)\n",
    "print('-------')\n",
    "print('Swapped, shape = ' + str(np.shape(swapped)))\n",
    "print(swapped)\n",
    "\n",
    "transposed = np.transpose(tensor) # NOTE : tensor.T also works\n",
    "print('-------')\n",
    "print('Transposed, shape = ' + str(np.shape(transposed)))\n",
    "print(transposed)"
   ]
  },
  {
   "cell_type": "markdown",
   "metadata": {},
   "source": [
    "_Note_ : Pour les habitués de MATLAB, la fonction `np.transpose()` ne fonctionne pas avec les vecteurs. En effet, sous MATLAB, tous les objets ont au moins 2 dimensions par défaut, mais pas sous NumPy, où les objets à 0 et 1 dimensions existent vraiment, et ... il est difficile de permuter les dimensions d'objets n'ayant qu'une seule dimension ! Pour effectuer une réelle transposition d'un vecteur, il faudra utiliser _d'abord_ la fonction `np.atleast_2d()` sur votre vecteur pour que la transposition se fasse correctement."
   ]
  },
  {
   "cell_type": "code",
   "execution_count": null,
   "metadata": {},
   "outputs": [],
   "source": [
    "vector = np.array([1,2,6,2,1])\n",
    "\n",
    "print('Original, shape = ' + str(np.shape(vector)))\n",
    "print(vector)\n",
    "\n",
    "print('Transposed --- Naive, shape : ' + str(np.shape(np.transpose(vector))))\n",
    "print(np.transpose(vector))\n",
    "\n",
    "print('Transposed --- OK, shape : ' + str(np.shape(np.transpose(np.atleast_2d(vector)))))\n",
    "print(np.transpose(np.atleast_2d(vector)))"
   ]
  },
  {
   "cell_type": "markdown",
   "metadata": {},
   "source": [
    "##### Redimensionner des `np.ndarray`\n",
    "\n",
    "Vous pouvez enfin redimensionner les tableaux en question. Par exemple, vous pouvez transformer une matrice $n \\times m$ en une autre matrice de taille $p \\times q$, à condition bien entendu que $n\\times m = p\\times q$. Pour cela, on utilisera la fonction `np.reshape()`. Celle-ci prend en première entrée le tableau à redimensionner, et en deuxième les entiers correspondant à la nouvelle forme attendue pour la matrice. \n",
    "\n",
    "_Quelques remarques_\n",
    "\n",
    "* Les nouvelles dimensions doivent être transmises sous forme de liste ou de tuple, c'est pourquoi on doit mettre ces dimensions entre parenthèses `(`,`)` ou crochets `[`,`]`.\n",
    "* Il est possible de rajouter une dimension au passage, si $n \\times m = p \\times q \\times r$ ! En supprimer une est également possible.\n",
    "* Si l'ordre dans lequel les éléments de la matrice sont réarrangés ne vous convient pas, vous pouvez toujours essayer de _transposer_ ou de _bouger des dimensions_ de la matrice avant de la redimensionner !\n",
    "* Il est possible d'omettre une dimension et laisser NumPy calculer combien d'éléments doivent être _placés_ dans cette dimension. Dans ce cas, mettez un $-1$ au lieu de $p$ ou $q$."
   ]
  },
  {
   "cell_type": "code",
   "execution_count": null,
   "metadata": {},
   "outputs": [],
   "source": [
    "my_matrix = np.array([[1,2,3],[4,5,6],[7,8,9],[10,11,12]])\n",
    "\n",
    "print('---- Original')\n",
    "print(my_matrix)\n",
    "print('---- Reshaped')\n",
    "print(np.reshape(my_matrix,[2,6]))  \n",
    "print('---- Transposed Reshaped')        \n",
    "print(np.reshape(np.transpose(my_matrix),[2,6]))\n",
    "print('---- 3d Reshape')\n",
    "print(np.reshape(my_matrix, [2,2,3]))"
   ]
  },
  {
   "cell_type": "markdown",
   "metadata": {},
   "source": [
    "Vous pouvez enfin aplatir un tableau complètement de deux manières différentes. Pour cela, vous pourrez utiliser les _méthodes_ `.flatten()` ou `.ravel()` disponibles pour les tableaux `np.ndarray`. La différence entre ces deux méthodes est que l'objet créé par `.ravel()` va rester lié à la matrice initiale, et va par exemple permettre de la mettre à jour, tandis que celui créé par `.flatten()` sera complètement distinct de la matrice initiale. C'est du chinois ? Allez voir le [Tutoriel 2](./Tutorial_2_ListsTuplesDicts.ipynb#Python-et-la-mutabilité) !"
   ]
  },
  {
   "cell_type": "code",
   "execution_count": null,
   "metadata": {},
   "outputs": [],
   "source": [
    "my_matrix = np.array([[1,2,3],[4,5,6],[7,8,9],[10,11,12]])\n",
    "\n",
    "flattened = my_matrix.flatten()\n",
    "unraveled = my_matrix.ravel()\n",
    "\n",
    "print('Flattened :')\n",
    "print(flattened)\n",
    "\n",
    "print('Unraveled : ')\n",
    "print(unraveled)\n",
    "\n",
    "print('-Modifying flattened-')\n",
    "flattened[3] = -5\n",
    "print(my_matrix) # my_matrix not impacted by changes of flattened\n",
    "\n",
    "print('-Modifying Unraveled-')\n",
    "unraveled[3] = -7\n",
    "print(my_matrix) # my_matrix not impacted by changes of flattened"
   ]
  },
  {
   "cell_type": "markdown",
   "metadata": {},
   "source": [
    "__Exercice__ : \n",
    "\n",
    "* En utilisant les fonctions `np.reshape()`, `np.flatten()` et  `np.transpose()`, essayez de transformer le vecteur $v$ ci-dessous en un autre vecteur dont les éléments impairs sont au début et les éléments pairs à la fin.\n",
    "* Horreur ! Ma matrice $m$ a tous ses éléments dans le désordre. Essayez de déplacer ou d'échanger des axes avec `np.transpose()`, `np.swapaxes()`, `np.moveaxis()` puis aplatissez la matrice en question afin d'avoir des élements bien ordonnés."
   ]
  },
  {
   "cell_type": "code",
   "execution_count": null,
   "metadata": {},
   "outputs": [],
   "source": [
    "v = np.array([3,4,5,6,7,8,9,10,11,12])\n",
    "m = np.array([[[1,10,19],[2,11,20],[3,12,21]],[[4,13,22],[5,14,23],[6,15,24]], [[7,16,25],[8,17,24],[9,18,27]]])"
   ]
  },
  {
   "cell_type": "markdown",
   "metadata": {},
   "source": [
    "#### Remplir des `np.ndarray` efficacement\n",
    "\n",
    "##### Vecteurs\n",
    "\n",
    "Remplir les tableaux avec la commande `np.array()` est particulièrement fastidieux. Il serait par exemple intéressant de pouvoir emplir un vecteur avec des valeurs régulièrement espacées entre deux valeurs $a$ et $b$. C'est le cas, par exemple, si vous voulez avoir une idée de ce qu'une fonction $f$ vaut sur un intervalle $[a,b]$. Nous traçons de tels graphes dans [l'Application B](./Application_B_Plotting.ipynb).\n",
    "\n",
    "##### Ici -> MATPLOTLIB\n",
    "\n",
    "Obtenir des valeurs espacées régulièrement entre $a$ et $b$ est possible, et ce de plusieurs manières, grâce aux fonctions : \n",
    "\n",
    "* `np.arange(a, b, r)`, qui crée un tableau de valeurs correspondant à $a, a+r, a+2r, \\ldots ...$ jusqu'à atteindre $b$ (exclus)\n",
    "* `np.linspace(a, b, N)`, qui crée un tableau 1d contenant $N$ valeurs régulièrement espacées linéairement entre $a$ et $b$ (__les deux inclus__)\n",
    "* `np.logspace(a, b, N)`, qui crée un tableau 1d contenant $N$ valeurs régulièrement et __logarithmiquement__ espacées entre $\\log_{10}(a)$ et $\\log_{10}(b)$. \n",
    "\n",
    "Ces fonctions sont particulièrement pratiques pour créer des valeurs d'abscisse (l'axe $x$ des graphes) sur lesquels vous allez ensuite appliquer des fonctions mathématiques pour obtenir des valeurs d'ordonnée (l'axe $y$ des graphes).\n",
    "\n",
    "Voyez plutôt : "
   ]
  },
  {
   "cell_type": "code",
   "execution_count": null,
   "metadata": {},
   "outputs": [],
   "source": [
    "print(np.arange(1.2,23,3.5))\n",
    "print(np.linspace(0,24,13))\n",
    "print(np.logspace(-5,0,11))"
   ]
  },
  {
   "cell_type": "markdown",
   "metadata": {},
   "source": [
    "Vous aurez probablement besoin de quelques essais avant de tomber sur ce qu'il vous faut exactement, mais je vous fais confiance :-).\n",
    "\n",
    "##### Matrices : initialisation\n",
    "\n",
    "De nombreuses fonctions permettent de créer et de remplir des matrices de tailles arbitraires. \n",
    "\n",
    "* La plus simple d'entre elles, `np.zeros()`, va créer une matrice remplie de zéros de la taille qui nous intéresse. Cette taille sera spécifiée sous la forme d'une liste ou de tuple. \n",
    "* De la même manière, `np.ones()` va créer une matrice remplie de 1, en lui spécifiant en entrée une liste de dimensions.\n",
    "* La fonction `np.eye()` va créer une matrice identité de taille donnée. Cette fois-ci, comme c'est une matrice identité, on ne lui donne en entrée qu'un entier."
   ]
  },
  {
   "cell_type": "code",
   "execution_count": null,
   "metadata": {},
   "outputs": [],
   "source": [
    "requested_size = (3,2)\n",
    "print(np.zeros(requested_size))\n",
    "print(np.ones([4,2]))\n",
    "print(np.eye(5))"
   ]
  },
  {
   "cell_type": "markdown",
   "metadata": {},
   "source": [
    "##### Matrices : pavage et empilement \n",
    "\n",
    "Vous pouvez également concaténer, empiler des matrices ou bien répéter leurs lignes et colonnes dans les dimensions qui vous intéressent. Il est notamment possible de (d') :\n",
    "\n",
    "1. Empiler des matrices verticalement (empiler leurs _lignes_) grâce à la commande `np.vstack`, qui prend en entrée une séquence (`tuple` ou `list`) de matrices qui ont donc toutes le même nombre de colonnes.\n",
    "2. Faire la même chose horizontalement avec `np.hstack`. Les matrices de la séquence en entrée doivent alors toutes avoir le même nombre de lignes !\n",
    "3. _Paver_ une matrice ou un vecteur dans une ou plusieurs directions avec la commande `np.tile`. La commande prend en entrée une matrice, puis une liste d'entiers $[a,b,c,\\ldots]$, qui va spécifier qu'on répète la matrice entière $a$ fois au niveau des lignes, $b$ fois au niveau des colonnes, $c$ fois au niveau des couches, etc.\n",
    "4. _Répéter_ votre tableau _ligne par ligne_ avec la commande `np.repeat`. Cette fonction va répéter $a$ fois des lignes, des colonnes ou des couches d'une matrice $M$. On doit donc lui spécifier une matrice en entrée, puis un nombre de répétitions, et enfin un axe le long duquel répéter les valeurs avec la clé `axis=...`. __Si cet axe n'est pas précisé, la matrice est _aplatie_ avant que `np.repeat() ne s'effectue !__"
   ]
  },
  {
   "cell_type": "code",
   "execution_count": null,
   "metadata": {},
   "outputs": [],
   "source": [
    "print('Vstack ---')\n",
    "first_matrix = np.array([[1,2,3],[4,5,6]])    # Size 2 (rows) x3 (columns)\n",
    "second_matrix = np.eye(3)                     # Size 3 (rows) x3 (columns)\n",
    "print(np.vstack((first_matrix,second_matrix)))\n",
    "\n",
    "print('Hstack ---')\n",
    "third_matrix = np.ones((2,2))                 # Size 2 (rows) x 2 (columns)\n",
    "fourth_matrix = np.zeros((2,1))               # Size 2 (rows) x 1 (columns)\n",
    "print(np.hstack((first_matrix,third_matrix,fourth_matrix)))\n",
    "\n",
    "print('Tile ---')\n",
    "print(np.tile(first_matrix, [1, 3]))            # Repeat matrix 1x along lines and 3x along columns\n",
    "\n",
    "print('Repeat ---')\n",
    "print(np.repeat(first_matrix, 3, axis=0))       # Repeat each row 3x"
   ]
  },
  {
   "cell_type": "markdown",
   "metadata": {},
   "source": [
    "__Exercices__ : \n",
    "\n",
    "* À partir des deux tableaux 1d de coordonnées $x$ et $y$ ci_dessous, créez un tableau à deux lignes $XY$ contenant tous les couples de coordonnées $(x,y)$ possibles.\n",
    "* Créez une [matrice de _Vandermonde_](https://fr.wikipedia.org/wiki/Matrice_de_Vandermonde) carrée à partir d'une boucle `for` et du vecteur `vdm` spécifié ci-dessous. "
   ]
  },
  {
   "cell_type": "code",
   "execution_count": null,
   "metadata": {},
   "outputs": [],
   "source": [
    "x = np.arange(0,7)\n",
    "y = np.linspace(-5,0,10)\n",
    "\n",
    "vdm = np.array([2,-1,3,-2,-3,0])                              # This is not 'vie de m----' :-)"
   ]
  },
  {
   "cell_type": "markdown",
   "metadata": {},
   "source": [
    "------------------------------------------\n",
    "\n",
    "### Constantes et fonctions mathematiques"
   ]
  },
  {
   "cell_type": "markdown",
   "metadata": {},
   "source": [
    "\n",
    "#### Constantes mathématiques \n",
    "\n",
    "NumPy contient également des constantes utiles en mathématiques et non présentes en Python, notamment $\\pi, e, \\gamma, \\pm \\infty$ (appelé `inf` par NumPy) et `NaN` (pour _not a number_ en anglais). Les premiers objets seront assez familiers aux mathématiciens, et NumPy effectue correctement la plupart des opérations arithmétiques dessus (cf. ci-dessous). Le `np.NaN` va servir à remplacer les formes indéterminées (du type $0/0$ ou $\\infty - \\infty$, ou des valeurs de tableaux dont ont sait _a priori_ qu'elles sont incorrectes ou qu'elles ont des problèmes. Les `NaN` ont une tendance à se `propager` dans les tableaux, car toutes les opérations les impliquant renvoient `NaN`.\n",
    "\n",
    "_Notes_: \n",
    "\n",
    "* Pour NumPy, tous les infinis sont les mêmes donc `np.inf == np.inf` va renvoyer `True`\n",
    "* Par contre, les `Nan` ne sont pas tous identiques, donc `np.nan == np.nan` va renvoyer `False`"
   ]
  },
  {
   "cell_type": "code",
   "execution_count": null,
   "metadata": {},
   "outputs": [],
   "source": [
    "import numpy as np\n",
    "\n",
    "print('pi = ' + str(np.pi))\n",
    "print('Inf - any number = ' + str(np.inf - 100000)) # Choose any number here\n",
    "print('Inf/Inf = ' + str(np.inf/np.inf))            # Indeterminate form --> NaN\n",
    "print('Nan+Inf = ' + str(np.nan+np.inf))            # Operations involving NaN almost always result in NaN\n",
    "print('Inf == Inf test : ' + str(np.inf == np.inf)) # Comparisons between Inf and itself\n",
    "print('Nan == Nan test : ' + str(np.nan == np.nan)) # Comparisons between NaN and itself"
   ]
  },
  {
   "cell_type": "markdown",
   "metadata": {},
   "source": [
    "Deux fonctions NumPy sont spécifiquement pensées pour travailler avec $\\infty$ et `NaN`:  \n",
    "* `np.isfinite()` va renvoyer, pour chaque élément d'un tableau, `False` si cet élément est $\\pm\\infty$ ou `NaN`\n",
    "* `np.isnan()` renvoie, de la même manière, `True` seulement pour les élements du tableaux qui valent `NaN` \n",
    "\n",
    "Avec l'exemple ci-dessous, vous pourrez également constater que quand vous additionnez, multipliez, etc. des tableaux contenant des valeurs infinies ou `NaN`, NumPy vous renvoie généralement un avertissement (_warning_) et que vous feriez bien de jeter un oeil au résultat."
   ]
  },
  {
   "cell_type": "code",
   "execution_count": null,
   "metadata": {},
   "outputs": [],
   "source": [
    "u = np.array([7 , np.inf, -np.inf, -np.inf, np.nan])\n",
    "v = np.array([23, 28    , -np.inf, +np.inf, +np.inf])\n",
    "\n",
    "print('Finiteness : ' + str(np.isfinite(u + v)))\n",
    "print('Nan-ness   : ' + str(np.isnan(u + v)))"
   ]
  },
  {
   "cell_type": "markdown",
   "metadata": {},
   "source": [
    "__Exercices__: \n",
    "\n",
    "* Que valent $0/0$ ;  $0 \\times$ `np.nan` ;  $0 /$ `np.nan` sous NumPy ?\n",
    "* Essayez de créer une fonction `nanmean` qui va moyenner toutes les valeurs de `dirty_table`, mais en ignorant les `np.nan`* . Vous pouvez par exemple vous aider de l'[indexation logique](#Indexation-logique). \n",
    "\n",
    "<small>* Cette fonction existe en NumPy, [`np.nanmean`](https://numpy.org/doc/stable/reference/generated/numpy.nanmean.html) !</small>"
   ]
  },
  {
   "cell_type": "code",
   "execution_count": null,
   "metadata": {},
   "outputs": [],
   "source": [
    "dirty_table = np.array([np.nan, 7, 3, 0, -5, -9, -183, np.nan, 28, 256, np.nan])"
   ]
  },
  {
   "cell_type": "markdown",
   "metadata": {},
   "source": [
    "#### Fonctions mathématiques usuelles\n",
    "\n",
    "Nous les avons déjà entre-aperçues dans le [Tutorial 4](./Tutorial_4_Imports_functions.ipynb), et elles sont bien là : \n",
    "\n",
    "* Les fonctions exponentielles et logarithme avec `np.exp()` et `np.log()`, également en base 10 : `np.log10()`\n",
    "* Les fonctions trigonométriques `np.sin()`, `np.cos()`, `np.tan()`, et leurs réciproques `np.arccos()`, `np.arcsin()`, `np.arctan()`. Il existe notamment une fonction `np.arctan2(y,x)`, qui est l'équivalent de l'_argument_ des nombres complexes $z = x + iy$ et permet de retrouver l'angle d'un point $M=(x,y)$ dans un plan à deux dimensions. \n",
    "* Les fonctions hyperboliques `np.sinh()`, `np.cosh()` et `np.tanh()` et également leurs réciproques `np.arccosh()`, ...\n",
    "* La fonction racine carrée, `np.sqrt()`, même si l'utilisation de la puissance 0.5 `**(1/2)` était déjà possible.\n",
    "\n",
    "##### ICI --> Scipy\n",
    " \n",
    "Si votre fonction préférée n'est pas disponible dans NumPy (elle doit être dans ce cas assez spécifique ou vraiment alambiquée), ne perdez pas espoir, le paquet [_SciPy_](./Application_C_Scipy.ipynb) en contient encore plus."
   ]
  },
  {
   "cell_type": "code",
   "execution_count": null,
   "metadata": {},
   "outputs": [],
   "source": [
    "print(np.sin(np.pi/6))\n",
    "print(np.log(2*3) == np.log(2) + np.log(3))\n",
    "print(np.tanh(np.inf))  # Behaves nicely at x -> +inf"
   ]
  },
  {
   "cell_type": "markdown",
   "metadata": {},
   "source": [
    "__Exercices__ : \n",
    "\n",
    "* Calculez les valeurs de ${\\rm sinc}(t) = \\sin(t)/t$ pour 50 valeurs de $t$ allant de $0$ (inclus) à $\\pi$ (inclus). À quelle valeur vous attendez-vous en $t=0$ ? Cela correspond-il à la limite mathématique de la fonction ? Que se passe-t-il pour $t\\to \\infty$ (c'est à dire `x = np.inf` en NumPy) ? Essayez d'interpréter le résultat.\n",
    "* (difficile !) À partir des coordonnées $(x,y)$ ci-dessous de points $M_i$ (par exemple le centre de particules), déterminez les distances et les angles entre couples de points $(M_i, M_{j\\neq i})$. _Indice_ : commencez par construire des matrices $[d_x]_{ij} = x_j - x_i$ et $[d_y]_{ij} = y_j - y_i$ en utilisant les fonctions abordées dans [une des sections précédentes](#Remplir-des-np.ndarray-efficacement)."
   ]
  },
  {
   "cell_type": "code",
   "execution_count": null,
   "metadata": {},
   "outputs": [],
   "source": [
    "# Cardinal function sinc\n",
    "\n",
    "# Coordinates to be investigated:\n",
    "x = np.array([+2,+5,+3,+4,+6,+3,+4,+5])\n",
    "y = np.array([+5,+6,+4,+7,+5,+6,+5,+4])"
   ]
  },
  {
   "cell_type": "markdown",
   "metadata": {},
   "source": [
    "--------------------------------------\n",
    "\n",
    "### Fonctions utilitaires de NumPy\n",
    "\n",
    "Nous avons déjà vu beaucoup de méthodes et de fonctions offertes par NumPy, principalement pour _créer_ des tableau `np.ndarray` et leur appliquer des fonctions mathématiques. Il nous manque encore des 'briques' mathématiques, par exemple pour effectuer des intégrales, dériver des fonctions, trier des objets `np.ndarray`, ...\n",
    "\n",
    "J'appelle ces fonctions des _utilitaires_ NumPy, et bon nombre d'entre elles vont vous simplifier grandement la vie. "
   ]
  },
  {
   "cell_type": "markdown",
   "metadata": {},
   "source": [
    "#### Sommes, intégrales, différentielles\n",
    "\n",
    "Numpy, comme Python, n'est pas capable d'effectuer formellement des intégrations et des dérivations _formellement_, mais permet comme Python : \n",
    "\n",
    "* de sommer les éléments d'un tableau avec `np.sum()`, qui se comporte comme la fonction Python `sum()`\n",
    "* d'utiliser la [méthode des trapèzes](https://fr.wikipedia.org/wiki/M%C3%A9thode_des_trap%C3%A8zes) pour calculer l'intégrale d'une fonction $y$ dont on connaît la valeur pour des abscisses $x$ avec `np.trapz()`\n",
    "* de faire des sommes partielles sur des listes avec `np.cumsum()`, ce qui est l'équivalent de calculer la 'primitive' d'une fonction $y$\n",
    "* d'effectuer des différences finies (une 'dérivée' numérique) d'un tableau avec `np.diff()`"
   ]
  },
  {
   "cell_type": "markdown",
   "metadata": {},
   "source": [
    "Comparons tout d'abord les méthodes `np.sum()` et `np.trapz()` et notamment leur précision pour calculer une intégrale dont on _connaît_ la valeur, mais qui est un peu piégeuse :-). Je choisis : \n",
    "\n",
    "$$ y(x) = \\sin (x)$$\n",
    "\n",
    "$$ \\int_{0}^{t} y(x)\\,{\\rm d}x = 1 - \\cos(t)$$\n",
    "\n",
    "Et ne pose pas de problème particulier en $t\\to 0$. Comparons la précision du résultat obtenu avec les deux méthodes concurrentes pour calculer cette intégrale pour $t = 7\\pi/2$ (c'est à dire où l'intégrale doit valoir 1). "
   ]
  },
  {
   "cell_type": "code",
   "execution_count": 11,
   "metadata": {},
   "outputs": [
    {
     "name": "stdout",
     "output_type": "stream",
     "text": [
      "Direct sum : 1.0391420398565074\n",
      "Trapezoidal sum : 0.9994754659475455\n"
     ]
    }
   ],
   "source": [
    "import numpy as np\n",
    "\n",
    "N = 100\n",
    "x = np.linspace(0,5/2*np.pi,N)    # I avoid zero\n",
    "y = np.sin(x) # Its integral should be equal to x^(1/2)\n",
    "dx = x[1] - x[0]\n",
    "\n",
    "print('Direct sum : ' + str(dx*np.sum(y)))             # Integral is  np.sum(y) * dx, should be 2\n",
    "print('Trapezoidal sum : ' + str(np.trapz(y, x=x)))    # np.trapz is Y first, then X, should also be 2"
   ]
  },
  {
   "cell_type": "markdown",
   "metadata": {},
   "source": [
    "Dans ce cas précis, la fonction `np.trapz()` est plus précise que la fonction `np.sum()`, mais sachez qu'en pratique ce n'est pas toujours le cas. On ne tombe donc pas nécessairement sur le résultat exact de l'intégrale, à moins d'avoir un très grand nombre d'échantillons $N$ (sur lequel vous pouvez jouer !).\n",
    "\n",
    "La fonction `np.cumsum()` discrète renvoie un tableau de même taille que celui donné en entrée. Le premier élément de `X = np.cumsum(x)` est `X[0] = x[0]`, et non $0$ comme ce à quoi on peut s'attendre pour une intégrale. Cette fonction ne permet pas en outre de prendre directement en compte des échantillonnages irréguliers. Pour s'en sortir, il faudra utiliser la fonction [cumulative_trapezoid](https://docs.scipy.org/doc/scipy/reference/generated/scipy.integrate.cumulative_trapezoid.html) du paquet SciPy.\n",
    "\n",
    "##### Ici >>> Scipy"
   ]
  },
  {
   "cell_type": "code",
   "execution_count": 29,
   "metadata": {},
   "outputs": [
    {
     "name": "stdout",
     "output_type": "stream",
     "text": [
      "[ 0  1  2  3  4  5  6  7  8  9 10 11 12]\n",
      "[ 0  1  3  6 10 15 21 28 36 45 55 66 78]\n"
     ]
    }
   ],
   "source": [
    "f = np.arange(0,13)\n",
    "print(f)\n",
    "print(np.cumsum(f))            # Finite sampling explain why this is not equal to 1/2*f**2"
   ]
  },
  {
   "cell_type": "markdown",
   "metadata": {},
   "source": [
    "Pour `np.diff()`, le tableau résultant _perd_ un élément par rapport au tableau initial. Le premier élément de `gprime = np.diff(g)` vaut en effet `gprime[0] = g[1] - g[0]`, et si `g` est de longueur $n$, on ne pourra pas évaluer `g[n+1]` et donc calculer `gprime[n]` : "
   ]
  },
  {
   "cell_type": "code",
   "execution_count": 32,
   "metadata": {},
   "outputs": [
    {
     "name": "stdout",
     "output_type": "stream",
     "text": [
      "[ 1  3  5  7  9 11 13 15 17]\n"
     ]
    }
   ],
   "source": [
    "g = np.arange(0,10)**2\n",
    "print(np.diff(g))"
   ]
  },
  {
   "cell_type": "markdown",
   "metadata": {},
   "source": [
    "Il est tout à fait possible, cependant, d'écrire des choses comme `hprime = np.diff(h)/np.diff(x)` si vous n'êtes pas sûr de votre échantillonnage en $x$ !"
   ]
  },
  {
   "cell_type": "markdown",
   "metadata": {},
   "source": [
    "#### Faites régner l'ordre avec `np.sort()` et `np.argsort()`\n",
    "\n",
    "Les `np.ndarray` sont des objets un peu différents des listes, mais ils possèdent également une méthode `.sort()`, qui les trie _sur place_. Il existe, cela dit, une fonction `np.sort()` qui fait le même travail, mais laisse le tableau inchangé et renvoie un nouveau tableau trié en sortie. "
   ]
  },
  {
   "cell_type": "code",
   "execution_count": 42,
   "metadata": {},
   "outputs": [
    {
     "name": "stdout",
     "output_type": "stream",
     "text": [
      "Sort in place with x.sort()\n",
      "[-6 -2  0  3  3  5  8 16]\n",
      "Sort out of place with np.sort(y)\n",
      "[  3   2  -1   6   8   1  -1 -24   0]\n",
      "[-24  -1  -1   0   1   2   3   6   8]\n"
     ]
    }
   ],
   "source": [
    "x = np.array([3,5,8,16,3,0,-2,-6])\n",
    "x.sort()\n",
    "print('Sort in place with x.sort()')\n",
    "print(x)\n",
    "\n",
    "y = np.array([3,2,-1,6,8,1,-1,-24,0])\n",
    "print('Sort out of place with np.sort(y)')\n",
    "ys = np.sort(y)\n",
    "print(y)\n",
    "print(ys)"
   ]
  },
  {
   "cell_type": "markdown",
   "metadata": {},
   "source": [
    "Il existe également une fonction absolument _merveilleuse_ permettant de donner la liste des indices qui permettraient de trier le tableau, la fonction `np.argsort`. Hein ? \n",
    "\n",
    "Un exemple vaut mieux que mille discours. Rappelez-vous notre groupe de TD. Nous aurions été dans l'embarras pour déterminer le nom du _minor_ et du _major_ de TD. Pauvre TD-man mal intentionné, encore pétri de l'esprit prépa ... :"
   ]
  },
  {
   "cell_type": "code",
   "execution_count": 54,
   "metadata": {},
   "outputs": [
    {
     "name": "stdout",
     "output_type": "stream",
     "text": [
      "Best student is Marco\n",
      "Worst student is Lyes\n"
     ]
    }
   ],
   "source": [
    "grades_list = np.array([11,7,12,13,6,10,9,11,14,16,10,11,9,13,17,12])\n",
    "names_list  = np.array(['Mathilde', 'Antoine', 'Yacine', 'Xavier', 'Lyes', 'Paul', 'Roberto', 'Siddartha', 'Bruno', 'Elin', 'Artyom', 'Benjamin', 'Gary', 'Yanyan', 'Marco', 'Akaki', 'Diego'])\n",
    "\n",
    "grade_order = np.argsort(grades_list)\n",
    "sorted_grades = grades_list[grade_order]            # Yes, so what ?\n",
    "sorted_students = names_list[grade_order]         # OOOOOOOHHHHHH ! \n",
    "\n",
    "worst_student = sorted_students[0]\n",
    "best_student = sorted_students[-1]\n",
    "\n",
    "print('Best student is ' + best_student)\n",
    "print('Worst student is ' + worst_student)"
   ]
  },
  {
   "cell_type": "markdown",
   "metadata": {},
   "source": [
    "Grâce à `np.argsort()`, on peut en fait trier un tableau $A$ _selon l'ordre_ donné par un autre tableau $B$, et ce, très facilement. C'est pourquoi je trouve cette fonction fabuleuse."
   ]
  },
  {
   "cell_type": "markdown",
   "metadata": {},
   "source": [
    "#### Quelques statistiques de base\n",
    "\n",
    "Les amateurs de statistiques, jusque là très inquiets du manque cruel de fonctions associées, pourront enfin être rassurés. Il existe bien des fonctions permettant de calculer la moyenne, l'écart-type (_standard deviation_) par rapport à celle-ci, et de faire des histogrammes sur des ensembles. Commençons !"
   ]
  },
  {
   "cell_type": "markdown",
   "metadata": {},
   "source": [
    "##### Moyenne, variance\n",
    "\n",
    "Entre le début de la lecture de cette introduction à Numpy et maintenant, j'ai eu le temps de devenir professeur ! J'ai corrigé les copies de mon examen de séchage de matière molle durable, et je voudrais savoir comment l'examen a été reçu par les élèves. Je peux commencer par regarder la moyenne et la variance des notes avec `np.mean()` et `np.std()` : "
   ]
  },
  {
   "cell_type": "code",
   "execution_count": 11,
   "metadata": {},
   "outputs": [
    {
     "name": "stdout",
     "output_type": "stream",
     "text": [
      "10.6375\n",
      "4.293144971929087\n"
     ]
    }
   ],
   "source": [
    "grades = [7,13,6,14,6,12,11,10,6,9,14,5,5,14,10,10,11,12,\n",
    "            6,8,20,16,6,6,11,13,12,11,9,18,9,9,11,18,20,11,\n",
    "            14,12,12,11,12,11,10,4,12,18,10,5,7,6,10,14,15,17,\n",
    "            4,10,7,20,17,6,5,0,9,10,6,12,20,12,10,12,8,14,\n",
    "            16,8,11,14,13,4,10,4]\n",
    "\n",
    "print(np.mean(grades))\n",
    "print(np.std(grades))"
   ]
  },
  {
   "cell_type": "markdown",
   "metadata": {},
   "source": [
    "Sachez que si votre liste de note contient des `np.nan`, vous pouvez les ignorer dans vos calculs statistiques en utilisant les fonctions `np.nanmean()` et `np.nanstd()`."
   ]
  },
  {
   "cell_type": "markdown",
   "metadata": {},
   "source": [
    "#### Médiane et centiles \n",
    "\n",
    "Je peux examiner la note médiane en utilisant la fonction ... `np.median()` et `np.nanmedian()` si vous avez des `nan`. Si vous voulez aller plus loin et obtenir des valeurs associées à des déciles, centiles, etc., la fonction `np.percentile()` est là pour vous. Elle prend deux arguments en entrée, le tableau de valeurs et un pourcentage (de 0 à 100). On a donc :  "
   ]
  },
  {
   "cell_type": "code",
   "execution_count": 24,
   "metadata": {},
   "outputs": [
    {
     "name": "stdout",
     "output_type": "stream",
     "text": [
      "Median grade : 11.0\n",
      "Bottom 10% : below 5.0\n",
      "   Top 10% : above 17.0\n"
     ]
    }
   ],
   "source": [
    "print('Median grade : ' + str(np.median(grades)))\n",
    "print('Bottom 10% : below ' + str(np.percentile(grades, 10))) #  0 < percentage < 100\n",
    "print('   Top 10% : above ' + str(np.percentile(grades, 90)))"
   ]
  },
  {
   "cell_type": "code",
   "execution_count": null,
   "metadata": {},
   "outputs": [],
   "source": []
  }
 ],
 "metadata": {
  "kernelspec": {
   "display_name": "Python 3 (ipykernel)",
   "language": "python",
   "name": "python3"
  },
  "language_info": {
   "codemirror_mode": {
    "name": "ipython",
    "version": 3
   },
   "file_extension": ".py",
   "mimetype": "text/x-python",
   "name": "python",
   "nbconvert_exporter": "python",
   "pygments_lexer": "ipython3",
   "version": "3.9.7"
  },
  "vscode": {
   "interpreter": {
    "hash": "cb9c252e610b593a3421828f92740a33c32c552b9658c846af1824aa6c7c0cc9"
   }
  }
 },
 "nbformat": 4,
 "nbformat_minor": 4
}
