{
 "cells": [
  {
   "cell_type": "markdown",
   "metadata": {},
   "source": [
    "## Bibliothèques, imports, fonctions\n",
    "\n",
    "![image](resources/imports.png)\n",
    "\n",
    "(Récupéré sur [xkcd](www.xkcd.com), le site de _Randall Munroe_)\n",
    "\n",
    "Python contient une immense liste de _bibliothèques_, qui sont en fait des paquets contenant de nombreuses fonctions utiles. Vous l'aurez remarqué, Python ne permet pas de faire grand-chose par lui-même, et ce _minimalisme_ est un choix délibéré. Dans ce chapitre, nous allons voir comment _importer_ ces bibliothèques (également appelés _modules_) pour utiliser leurs fonctions. Nous allons nous pencher sur un cas bien connu,  \n",
    "\n",
    "\n",
    "Il existe donc des librairies effectuant des tâches assez _élémentaires_\n",
    "\n",
    "* la gestion d'_expressions régulières_ ([re](https://docs.python.org/fr/3/library/re.html))\n",
    "* l'interaction avec l'ordinateur ([os](https://docs.python.org/fr/3/library/os.html))\n",
    "* la recherche de fichiers _via_ des expressions régulières, encore ([glob](https://docs.python.org/3/library/glob.html))\n",
    "* les fonctions mathématiques ([NumPy](https://numpy.org/))\n",
    "* la gestion des fichiers Image simples ([PIL](https://he-arc.github.io/livre-python/pillow/index.html))\n",
    "\n",
    "Mais également des librairies plus costaudes qui ont des fonctionnalités plus avancées !\n",
    "\n",
    "* le traitement d'images et la _machine vision_ ([OpenCV](https://opencv.org/) ou [Scikit-Image](https://scikit-image.org/))\n",
    "* la gestion des fichiers image _bio-formats_ ([PIMS](http://soft-matter.github.io/pims/v0.6.1/))\n",
    "* le traitement de signal, la résolution numérique d'équations ([SciPy](https://scipy.org/))\n",
    "* l'import et export de données dans un format _tableur_ avancé, ([Pandas](https://pandas.pydata.org/))\n",
    "* l'affichage de graphiques ([MatPlotLib](https://matplotlib.org) ou [Bokeh](https://bokeh.org))\n",
    "* l'apprentissage statistique et non supervisé ([TensorFlow](https://www.tensorflow.org/learn?hl=fr) ou [Pytorch](https://pytorch.org/))\n",
    "\n",
    "### Modules (bibliothèques de fonctions)\n",
    "\n",
    "#### Import : généralités\n",
    "\n",
    "Importer un module `X` est on ne peut plus simple. Si celui-ci est déjà installé dans Python, on peut alors l'invoquer avec la commande `import X`. \n",
    "\n",
    "Supposons que je veuille importer le module `numpy` et que je veuille ensuite utiliser la fonction cosinus `cos()` de NumPy. Pour appeler une fonction existant dans le module `numpy`, on va donc écrire `numpy.fonction()`, et cette syntaxe est similaire à celle des méthodes pour les objets en Python ([cf. Leçon n°2](./Tutorial_2_ListsTuplesDicts.ipynb)). Mais, comme ici `numpy` est une bibliothèque, et non un `str` ou une `liste`, on parlera quand même de fonction. Mon code devrait alors ressembler à :"
   ]
  },
  {
   "cell_type": "code",
   "execution_count": null,
   "metadata": {},
   "outputs": [],
   "source": [
    "import numpy\n",
    "numpy.cos(pi/3)"
   ]
  },
  {
   "cell_type": "markdown",
   "metadata": {},
   "source": [
    "Aaaargh ! $\\pi$ n'existe pas non plus en Python, ce qui est assez agaçant ! Mais, soyez rassuré, une fois de plus, NumPy va vous aider, car il possède en plus la constante $\\pi$, qu'on va trouver en écrivant :"
   ]
  },
  {
   "cell_type": "code",
   "execution_count": null,
   "metadata": {},
   "outputs": [],
   "source": [
    "numpy.cos(numpy.pi/3)"
   ]
  },
  {
   "cell_type": "markdown",
   "metadata": {},
   "source": [
    "Fort bien ! Vous aurez remarqué que je n'ai pas eu besoin de ré-importer le module `numpy` : une fois que celui-ci est chargé dans notre _classeur_ (c'est à dire l'ensemble de nos cellules de Python), il l'est pour de bon ! \n",
    "\n",
    "Maintenant, vous vous posez probablement quelques questions : \n",
    "\n",
    "1. Est-on condamné à écrire _tout le temps_ `numpy.truc()` à chaque fois qu'on veut utiliser la fonction `truc()` ?\n",
    "2. Est-ce que je peux simplement importer certaines parties d'un module ?\n",
    "3. Comment est-ce que je sais ce que contient le module `numpy` ?\n",
    "\n",
    "#### Donner un _alias_ à vos paquets avec `as` : \n",
    "\n",
    "Il est tout à fait possible de renommer un module à l'import, afin d'éviter d'avoir des noms à rallonge. Voyez plutôt : "
   ]
  },
  {
   "cell_type": "code",
   "execution_count": null,
   "metadata": {},
   "outputs": [],
   "source": [
    "import numpy as np # A very classic shorthand for numpy\n",
    "np.cos(np.pi/3)"
   ]
  },
  {
   "cell_type": "markdown",
   "metadata": {},
   "source": [
    "#### Importer des parties de modules avec `from`\n",
    "\n",
    "Les imports de fonctions peuvent prendre du temps et de la place en mémoire, ce qui ralentira l'exécution de vos programmes. Si vous êtes un fana de l'optimisation de code (_on n'en est pas encore là, normalement !_), vous ne souhaiterez importer que le strict nécessaire. Pour `piocher` des fonctions ou des variables (comme $\\pi$) dans un module `X`, on peut utiliser le mot-clé `from` combiné à un `import`. Par exemple, pour notre cosinus préféré : "
   ]
  },
  {
   "cell_type": "code",
   "execution_count": null,
   "metadata": {},
   "outputs": [],
   "source": [
    "from numpy import cos, pi\n",
    "print(cos(pi/3))"
   ]
  },
  {
   "cell_type": "markdown",
   "metadata": {},
   "source": [
    "Vous pouvez donc lister après import toutes les fonctions qui vous intéressent à importer. Si vous n'êtes pas très subtil, vous pouvez décider d'importer toutes les fonctions d'un module `X` en utilisant la syntaxe suivante : "
   ]
  },
  {
   "cell_type": "code",
   "execution_count": null,
   "metadata": {},
   "outputs": [],
   "source": [
    "from numpy import *\n",
    "2*(arctan(1/10) + arctan(10))/pi"
   ]
  },
  {
   "cell_type": "markdown",
   "metadata": {},
   "source": [
    "Cela peut toutefois poser des problèmes, si, par exemple, deux modules ont les mêmes fonctions. Voyez par exemple : "
   ]
  },
  {
   "cell_type": "code",
   "execution_count": null,
   "metadata": {},
   "outputs": [],
   "source": [
    "from numpy import * # Contains sin(), cos(), pi\n",
    "from math import * # Also contains sin(), cos(), pi\n",
    "\n",
    "cos(pi/2)\n"
   ]
  },
  {
   "cell_type": "markdown",
   "metadata": {},
   "source": [
    "Dans un tel cas, c'est le dernier import qui va _primer_ sur le premier, mais cela n'est pas toujours vrai, comme nous allons le voir plus tard dans ce tutoriel. \n",
    "\n",
    "On peut enfin combiner tous nos mots-clés ensemble pour encore plus de flexibilité ... mais attention à ne pas rendre votre code trop confus :-) :\n"
   ]
  },
  {
   "cell_type": "code",
   "execution_count": null,
   "metadata": {},
   "outputs": [],
   "source": [
    "from numpy import cos as bonjour\n",
    "from numpy import pi as madame\n",
    "bonjour(madame/3)"
   ]
  },
  {
   "cell_type": "markdown",
   "metadata": {},
   "source": [
    "#### Dé-référencement : oublier un module en cours de route\n",
    "\n",
    "Examinons maintenant le code suivant, qui ne devrait _a priori_ pas fonctionner vu qu'on n'a pas effectué d'imports."
   ]
  },
  {
   "cell_type": "code",
   "execution_count": null,
   "metadata": {},
   "outputs": [],
   "source": [
    "print(numpy.cos(numpy.pi/3))\n",
    "print(np.cos(np.pi/3))\n",
    "print(cos(pi/3))\n",
    "print(bonjour(madame/3))"
   ]
  },
  {
   "cell_type": "markdown",
   "metadata": {},
   "source": [
    "\n",
    "Le résultat de ces lignes de code peuvent vous paraître bizarres, mais rappelez-vous que nous avons déjà écrit plus haut `import numpy` et `import numpy as np`, ce dont notre Python _interactif_ se souvient encore lorsqu'on effectue le troisième import avec `from`. Pour oublier un import, il va falloir redémarrer notre _noyau_ (Kernel) Python en utilisant le bouton suivant de votre interface :\n",
    "\n",
    "![img](./resources/restart_kernel.png)\n",
    "\n",
    "Vous pouvez également demander à Python de dé-référencer votre module en utilisant le mot-clé `del` suivi de votre module `X`. Le code suivant n'a donc aucune chance de fonctionner jusqu'au bout. La première fois que vous l'exécuterez, Python va dé-référencer `numpy` et ne pourra plus appeler la fonction `cos`. Les fois suivantes, il ne reconnaîtra même plus le module `numpy` et sera donc incapable de le dé-référencer :"
   ]
  },
  {
   "cell_type": "code",
   "execution_count": null,
   "metadata": {},
   "outputs": [],
   "source": [
    "del numpy\n",
    "print(numpy.cos(10))"
   ]
  },
  {
   "cell_type": "markdown",
   "metadata": {},
   "source": [
    "_Note_ : Le mot-clé Python [`del`](https://www.w3schools.com/python/python_ref_keywords.asp) fonctionne également sur toutes les variables et tous les objets, son usage est donc très très général. \n",
    "\n",
    "#### Connaître les fonctions d'un module\n",
    "\n",
    "Que contient au juste le module numpy ? Il n'est en effet pas évident de savoir quelles sont les fonctions qu'il contient. Vous vous douterez qu'en plus, NumPy en contient beaucoup. Les bons modules possèdent bien souvent de la documentation, que l'on peut trouver de différentes manières. \n",
    "\n",
    "1. Via l'API du site internet du module \n",
    "\n",
    "Bien souvent, vous pouvez aller sur le site de votre module (par exemple [ici](https://numpy.org) pour NumPy) et en cliquant un peu, vous tomberez sur l'API, l'interface de programmation du module (_Application Programming Interface_). Le nom est un peu barbare, mais il représente en gros une liste documentée de toutes les fonctions, classes, objets présents dans le module. [L'API de NumPy](https://numpy.org/doc/stable/reference/index.html), comme bien d'autres, possède une barre de recherche qui vous permettra de savoir si, par exemple, la fonction $W$ de Lambert est présente dans le module.\n",
    "\n",
    "2. Par la documentation du code et la fonction Python `help`\n",
    "\n",
    "Les modules possèdent généralement une documentation détaillée, hormis pour les plus expérimentaux d'entre eux. On peut demander de l'aide à propos d'un paquet de nombreuses manières différentes. Voyons l'exemple avec un autre module, `Pandas`. Avec la fonction native `help` de Python, on peut lui demander par exemple s'il existe une fonction `pandas.bamboo`, et dans la foulée, savoir comment elle fonctionne. "
   ]
  },
  {
   "cell_type": "code",
   "execution_count": null,
   "metadata": {},
   "outputs": [],
   "source": [
    "import pandas\n",
    "help(pandas.bamboo)"
   ]
  },
  {
   "cell_type": "markdown",
   "metadata": {},
   "source": [
    "Contrairement à l'API du site internet d'un module, qui fonctionne comme un moteur de recherche, ici vous devrez déjà avoir une bonne idée du nom de la fonction que vous recherchez pour appeler à l'aide. Si vous n'êtes pas sûr, et que votre connexion internet ne fonctionne pas, vous pourrez toujours essayer l'aide du module lui-même et vous laisser guider : "
   ]
  },
  {
   "cell_type": "code",
   "execution_count": null,
   "metadata": {},
   "outputs": [],
   "source": [
    "help(pandas)"
   ]
  },
  {
   "cell_type": "markdown",
   "metadata": {},
   "source": [
    "Le fichier d'aide en question est ici _colossal_, donc je ne recommande clairment pas de l'utiliser.\n",
    "\n",
    "3. Directement sur votre éditeur de code _via IntelliSense®_\n",
    "\n",
    "Nombre d'entre vous n'êtes probablement pas fanatiques de Microsoft, mais leur éditeur de code [Visual Studio Code](https://code.visualstudio.com/), disponible pour toutes les plateformes, possède de nombreuses fonctionnalités qui vous simplifieront la vie en Python. En particulier, il permet d'afficher dans une fenêtre d'aide contextuelle toutes les fonctions et sous-modules associées à un module, toutes les méthodes associées à un objet, et affiche dans une fenêtre contextuelle la documentation associée (formatée). Par exemple, si je recherche une fonction pour choisir des nombres au harsard avec NumPy, je peux laisser l'éditeur me prendre par la main. Voyez plutôt :\n",
    "\n",
    "![img](./resources/intellisense_import.gif)\n",
    "\n",
    "J'économise donc _beaucoup_ de temps à ne pas ouvrir mon navigateur internet et lire la documentation de fonctionnalités qui ne m'intéressent pas ! Sachez également que ces aides contextuelles fonctionnent pour n'importe quel objet Python, ce qui permet de rapidement savoir, par exemple, quelles sont les méthodes disponibles pour l'objet avec lequel vous travaillez, ou même quels sont les modules que vous pouvez importer dans Python.\n",
    "\n",
    "Pour l'instant, vous ne parcourez pas ces tutoriels Python avec Visual Studio Code, mais cela peut s'arranger si vous êtes motivés pour [installer Python et VSCode sur votre machine](https://code.visualstudio.com/docs/python/python-tutorial) ! (en anglais) \n",
    "\n",
    "----------------------------------------------\n",
    "\n",
    "### Devenez vous-même votre propre fonction ou module !\n",
    "\n",
    "#### Définir ses propres fonctions\n",
    "\n",
    "Supposons que vous avez régulièrement à exécuter un bout de code qui correspond à une \"tâche\" bien précise. Par exemple, j'aimerais pouvoir rapidement estimer la viscosité d'une suspension à partir de sa concentration en particules $\\phi$, la viscosité du fluide suspendant $\\eta_0$ et une valeur de la fraction d'empilement maximal $\\phi_{\\rm m}$ (correspondant à un coefficient de friction $\\mu$ microscopique entre particules, cf. [les papiers de Romain Mari _et al_](https://doi.org/10.1122/1.4890747).). Il existe plusieurs modèles à ce sujet, par exemple le modèle d'Einstein (vrai pour faibles $\\phi$) et deux modèles empiriques à plus haut $\\phi$, celui de Maron & Pierce et celui de Krieger & Dougherty :\n",
    "\n",
    "$$\n",
    "\\left \\{ \\begin{array}{rll} \\eta &= \\eta_0 \\left (1 + \\frac{5}{2} \\phi \\right ) & \\text{Einstein} \\\\ \n",
    "                            \\eta &= \\eta_0 \\left (1 - \\frac{\\phi}{\\phi_{\\rm m}} \\right )^{-2} & \\text{Maron-Pierce} \\\\\n",
    "                            \\eta &= \\eta_0 \\left (1 - \\frac{\\phi}{\\phi_{\\rm m}} \\right)^{-2.5 \\phi_{\\rm m}} &\\text{Krieger-Dougherty} \\end{array} \\right .\n",
    "$$\n",
    "\n",
    "Vous vous rendez peut-être compte qu'il sera assez pénible de mettre en place un tel bout de code dans une boucle, et que le résultat sera peu lisible. Une solution est donc de définir une fonction qui va renvoyer $\\eta$ quand on lui envoie les bons paramètres. Commençons assez simplement. Une fonction se définit avec le mot-clé `def`, et la syntaxe suivante qui ressemble à celle des boucles et des instructions conditionnelles. Il faut en outre définir ce que la fonction va renvoyer à l'utilisateur, ce qui s'effectue en fin de fonction avec l'instruction `return`. "
   ]
  },
  {
   "cell_type": "code",
   "execution_count": null,
   "metadata": {},
   "outputs": [],
   "source": [
    "def my_function(argument_1, argument_2): # A dummy function\n",
    "    result = argument_1 + argument_2 \n",
    "    return result\n",
    "\n",
    "def krieger_dougherty(phi, phi_m, eta_0): # Krieger-Dougherty model\n",
    "    return eta_0*(1-phi/phi_m)**(-2.5*phi_m)\n",
    "\n",
    "krieger_dougherty(0.2,0.64,0.001) # phi = 20 %, phi_max ~ random close packing, eta_0 ~ that of water"
   ]
  },
  {
   "cell_type": "markdown",
   "metadata": {},
   "source": [
    "Les fonctions sont très __flexibles__ et permettent de définir des valeurs par défaut pour vos variables. Par exemple, je peux décider que si je ne précise pas $\\phi_{\\rm m}$ ou la viscosité du solvant $\\eta_0$, ils doivent prendre respectivement les valeurs $0.64$ et $1$ (dans ce cas, on obtient la viscosité _relative_ de la suspension). Pour cela, on indique juste `argument = value` dans la ligne où le `def` est présent. On peut toujours 'écraser' ces valeurs lors de l'appel à la fonction :"
   ]
  },
  {
   "cell_type": "code",
   "execution_count": null,
   "metadata": {},
   "outputs": [],
   "source": [
    "def krieger_dougherty_mieux(phi, phi_m=0.64, eta_0=1.0):\n",
    "    return eta_0*(1-phi/phi_m)**(-2.5*phi_m)\n",
    "\n",
    "print(krieger_dougherty_mieux(0.3))      # Only one argument _needed_\n",
    "print(krieger_dougherty_mieux(0.3,0.5))  # You can still specify multiple arguments (by default, in the original order)\n",
    "print(krieger_dougherty_mieux(0.3, eta_0=0.02))"
   ]
  },
  {
   "cell_type": "markdown",
   "metadata": {},
   "source": [
    "Dans le dernier cas, on a appelé la fonction avec un argument 'sans nom' qui va donc correspondre à $\\phi$, alors que nous avons explicitement nommé notre deuxième argument, qui va donc être 'considéré' comme $\\eta_0$. \n",
    "\n",
    "Il n'y a pas de type de variables pré-supposé en entrée. On pourrait essayer de donner en entrée une liste, mais rappelez-vous, les objets `list` ne fonctionnent pas bien avec les opérations de base (c'était le [Tutoriel 2](./Tutorial_2_ListsTuplesDicts.ipynb))). On va plutôt utiliser un tableau NumPy."
   ]
  },
  {
   "cell_type": "code",
   "execution_count": null,
   "metadata": {},
   "outputs": [],
   "source": [
    "phis = [0.01,0.02,0.05,0.1,0.2,0.5]\n",
    "krieger_dougherty_mieux(phis)"
   ]
  },
  {
   "cell_type": "markdown",
   "metadata": {},
   "source": []
  },
  {
   "cell_type": "code",
   "execution_count": null,
   "metadata": {},
   "outputs": [],
   "source": []
  }
 ],
 "metadata": {
  "kernelspec": {
   "display_name": "Python 3.9.7 64-bit",
   "language": "python",
   "name": "python3"
  },
  "language_info": {
   "codemirror_mode": {
    "name": "ipython",
    "version": 3
   },
   "file_extension": ".py",
   "mimetype": "text/x-python",
   "name": "python",
   "nbconvert_exporter": "python",
   "pygments_lexer": "ipython3",
   "version": "3.9.7"
  },
  "orig_nbformat": 4,
  "vscode": {
   "interpreter": {
    "hash": "cb9c252e610b593a3421828f92740a33c32c552b9658c846af1824aa6c7c0cc9"
   }
  }
 },
 "nbformat": 4,
 "nbformat_minor": 2
}
