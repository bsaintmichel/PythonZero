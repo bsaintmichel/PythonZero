{
 "cells": [
  {
   "cell_type": "markdown",
   "metadata": {},
   "source": [
    "## Scikit Image : Traitement d'images\n",
    "\n",
    "### Généralités\n"
   ]
  },
  {
   "attachments": {},
   "cell_type": "markdown",
   "metadata": {},
   "source": [
    "`Scikit-image` est un module qui vous permet d'effectuer de nombreuses tâches de traitement d'image sous Python, comme : \n",
    "\n",
    "* le filtrage d'image, avec ses flous gaussiens et ses détections de contour (par exemple avec le filtre de Sobel)\n",
    "* les opérations de seuillage à la main ou non, par exemple avec la méthode d'Otsu\n",
    "* les opérations logiques sur les images binaires (ou non) permettant d'éroder des images ou de les dilater, et à partir de ces opérations d'ouvrir ou de fermer les 'trous' de certains motifs\n",
    "* l'étiquetage (_labelling_) de données permettant de compter par exemple des objets et d'extraire leurs caractéristiques à partir d'une image binaire. \n",
    "\n",
    "Pour l'instant, ce tutoriel n'existe pas vraiment, car je n'ai pas le temps de le rédiger au propre, mais également car il existe déjà un tutoriel proposé par les développeurs de `scikit-image` qui est [disponible sur internet](https://scikit-image.org/skimage-tutorials/) notamment [en version interactive](https://github.com/scikit-image/skimage-tutorials). Pour accéder à la version interactive -- qui n'est plus complètement à jour, mais toujours utile --  cliquez sur le lien `Binder`, comme pour ce tutoriel, et allez ouvrir les fichiers dans le dossier `lectures`. Les éléments-clé du module sont assez bien expliqués. \n",
    "\n",
    "![img](./resources/scikit_image_tutorials_load_cropped.gif)"
   ]
  }
 ],
 "metadata": {
  "kernelspec": {
   "display_name": "Python 3 (ipykernel)",
   "language": "python",
   "name": "python3"
  },
  "language_info": {
   "codemirror_mode": {
    "name": "ipython",
    "version": 3
   },
   "file_extension": ".py",
   "mimetype": "text/x-python",
   "name": "python",
   "nbconvert_exporter": "python",
   "pygments_lexer": "ipython3",
   "version": "3.9.7"
  },
  "vscode": {
   "interpreter": {
    "hash": "cb9c252e610b593a3421828f92740a33c32c552b9658c846af1824aa6c7c0cc9"
   }
  }
 },
 "nbformat": 4,
 "nbformat_minor": 4
}
