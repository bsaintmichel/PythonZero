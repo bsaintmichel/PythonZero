{
 "cells": [
  {
   "cell_type": "markdown",
   "metadata": {},
   "source": [
    "# NumPy, SciPy\n",
    "\n",
    "Les paquets NumPy et Scipy permettent de faire de nombreuses opérations sur les nombres, sur les tableaux, etc. \n",
    "\n",
    "* NumPy contient énormément de fonctions de base pour manipuler des nombres, des vecteurs, des matrices, ... elle définit notamment beaucoup de fonctions mathématiques usuelles, `sin`, `cos`, `exp`, etc.\n",
    "* SciPy est plus axé sur les fonctions spéciales (Bessel, Lambert, Zeta de Riemann, ...) et le traitement de signal ; ce module vous permettra de faire des interpolations linéaires, des filtrages, etc.\n",
    "\n",
    "## NumPy\n",
    "\n",
    "### Généralités\n",
    "\n",
    "Nous avons brièvement importé le paquet Numpy dans le [tutoriel 4](./Tutorial_4_Imports_functions.ipynb) afin de permettre de diviser une liste d'entiers par un nombre de manière efficace et pratique, alors que ces opérations ne fonctionnent pas sur des objets `list`. Mais NumPy contient beaucoup d'autres choses, notamment : \n",
    "\n",
    "* Des définitions pour quasiment toutes les fonctions usuelles, y compris les fonctions hyperboliques et leurs réciproques (par exemple `arctanh`)\n",
    "* Des méthodes permettant de créer des vecteurs et des matrices, puis ensuite de les manipuler. Les amateurs de MATLAB seront heureux de les retrouver :-)\n",
    "* Quelques \n",
    "\n",
    "### Les objets `np.ndarray`\n",
    "\n",
    "Nous l'avons brièvement aperçue précédemment. Quand les éléments des `np.ndarray` sont des nombres, les `np.ndarray` représentent des vecteurs, des matrices ou même des tenseurs d'ordre (de dimension) plus élevée. Ils fonctionnent presque comme les listes, et toute la syntaxe associée va donc leur ressembler fortement, __hormis leur comportement avec les opérateurs usuels (+, *, -, / et **) et leur indexation__. On crée de tels objets assez simplement par exemple à partir d'une liste et de la fonction `np.array()`: \n"
   ]
  },
  {
   "cell_type": "code",
   "execution_count": 20,
   "metadata": {},
   "outputs": [
    {
     "name": "stdout",
     "output_type": "stream",
     "text": [
      "[3 4 5]\n",
      "<class 'numpy.ndarray'>\n"
     ]
    }
   ],
   "source": [
    "import numpy as np\n",
    "x = np.array([3,4,5])\n",
    "\n",
    "print(x)\n",
    "print(type(x))"
   ]
  },
  {
   "cell_type": "markdown",
   "metadata": {},
   "source": [
    "#### Indexation et _coupes_\n",
    "\n",
    "Les `np.ndarray` s'indexent d'une manière différente que les objets `list` en Python. Pour les tableaux à une dimension, toutefois, rien de bien méchant, on peut facilement récupérer un élément, ou une _coupe_ ([cf Tutoriel 2](./Tutorial_2_ListsTuplesDicts.ipynb#Coupes)) et les résultats sont identiques à ceux obtenus pour les listes :"
   ]
  },
  {
   "cell_type": "code",
   "execution_count": 68,
   "metadata": {},
   "outputs": [
    {
     "name": "stdout",
     "output_type": "stream",
     "text": [
      "-3\n",
      "-3\n",
      "[6, 9]\n",
      "[6 9]\n"
     ]
    }
   ],
   "source": [
    "my_list = [1,2,6,9,11,-3]\n",
    "my_array = np.array(my_list)\n",
    "print(my_list[5])\n",
    "print(my_array[5])\n",
    "print(my_list[2:4])\n",
    "print(my_array[2:4])"
   ]
  },
  {
   "cell_type": "markdown",
   "metadata": {},
   "source": [
    "Maintenant, _supposons_ que j'aie une liste de 3 listes contenant chacune 3 nombres. Ma liste de listes peut être vue comme une matrice $3 \\times 3$. Je voudrais faire une _coupe_  de cette matrice et ne garder que le bloc $2\\times 2$ correspondant au nombres 'en bas à droite' de la matrice initiale. Il sera difficile pour moi d'extraire l"
   ]
  },
  {
   "cell_type": "code",
   "execution_count": 64,
   "metadata": {},
   "outputs": [
    {
     "name": "stdout",
     "output_type": "stream",
     "text": [
      "[[3, 4, 5], [6, 7, 8]]\n"
     ]
    }
   ],
   "source": [
    "mylist_of_lists = [[1,7,2],[3,4,5],[6,7,8]]\n",
    "my_matrix = np.array(mylist_of_lists)\n",
    "\n",
    "print(mylist_of_lists[1:3])"
   ]
  },
  {
   "cell_type": "markdown",
   "metadata": {},
   "source": [
    "#### Attention avec les opérations avec les scalaires !\n",
    "\n",
    "__Contrairement__ aux listes à nouveau, la multiplication et l'addition de scalaires à un `np.ndarray` fonctionnent également comme sous MATLAB, et ce quel que soit la 'dimension' du tableau: \n",
    "* Pour `+` et `-`, on ajoute (soustrait) donc à chacun des éléments du tableau le scalaire en question\n",
    "* Pour `*` et `/`, on multiplie (divise) donc chacun des éléments du tableau par le scalaire en question\n",
    "* Pour `**`, on met chacun des éléments du tableau à la puissance en question (__le `.^` de MATLAB__ !)"
   ]
  },
  {
   "cell_type": "code",
   "execution_count": 23,
   "metadata": {},
   "outputs": [
    {
     "name": "stdout",
     "output_type": "stream",
     "text": [
      "[6.15 9.15 4.15 8.15 5.15]\n",
      "[-17.1 -34.2  -5.7 -28.5 -11.4]\n",
      "[[  4.22   2.12   0.02]\n",
      " [ -2.08  -4.18  -6.28]\n",
      " [ -8.38 -10.48 -12.58]]\n",
      "[[ 1  4  9]\n",
      " [16 25 36]\n",
      " [49 64 81]]\n"
     ]
    }
   ],
   "source": [
    "vector = np.array([3,6,1])\n",
    "matrix = np.array([[1,2,3],[4,5,6],[7,8,9]])\n",
    "\n",
    "print(vector + 3.15)\n",
    "print(-5.7*vector)\n",
    "print(-2.1*matrix + 6.32)\n",
    "print(matrix**2)"
   ]
  },
  {
   "cell_type": "markdown",
   "metadata": {},
   "source": [
    "Quand les tableaux ont des dimensions compatibles, on peut les multiplier entre eux, et par défaut cette multiplication se fait _élément par élément_ (le `.*` préféré des amateurs de MATLAB) : \n"
   ]
  },
  {
   "cell_type": "code",
   "execution_count": 39,
   "metadata": {},
   "outputs": [
    {
     "name": "stdout",
     "output_type": "stream",
     "text": [
      "[18 24  2]\n",
      "[[ 3  6  2]\n",
      " [ 3  6  2]\n",
      " [ 3  6  2]\n",
      " [ 6 12  4]]\n"
     ]
    }
   ],
   "source": [
    "vector_1 = np.array([3,6,2])\n",
    "vector_2 = np.array([6,4,1])\n",
    "matrix = np.array([[1,1,1],[1,1,1],[1,1,1],[2,2,2]])\n",
    "\n",
    "print(vector_1*vector_2)\n",
    "print(vector_1*matrix)"
   ]
  },
  {
   "cell_type": "markdown",
   "metadata": {},
   "source": [
    "* Dans le premier cas, le comportement est assez logique, on multiplie les éléments de chaque vecteur 'un par un'.\n",
    "* Dans le deuxième cas, NumPy a automatiquement cherché une dimension de `matrix` dont la longueur (3) est compatible avec celle (3) de `vector_1`, et ici, c'est la dimension n°2 (les colonnes). NumPy va ensuite _étendre_ `vector_1` dans l'autre dimension (ou les autres dimensions) pour obtenir la même forme que `matrix`, et enfin multiplier un par un les éléments de `matrix` et de `vector_1` étendu. \n",
    "\n",
    "#### Dimensions \n",
    "\n",
    "On peut demander à NumPy de renvoyer les propriétés de forme de ces objets en question, en utilisant les fonctions : \n",
    "* `np.shape()` : va renvoyer la longueur d'un tableau dans chacune des dimensions de celui-ci\n",
    "* `np.size()` : va renvoyer le nombre d'éléments total du tableau\n",
    "* `np.ndim()` : va renvoyer le nombre de dimensions du tableau "
   ]
  },
  {
   "cell_type": "code",
   "execution_count": 42,
   "metadata": {},
   "outputs": [
    {
     "name": "stdout",
     "output_type": "stream",
     "text": [
      "(3, 2, 2)\n",
      "12\n",
      "3\n"
     ]
    }
   ],
   "source": [
    "tensor = np.array([[[1,2],[2,3]],[[12,14],[15,19]],[[-2,-1],[-3,-6]]])\n",
    "print(np.shape(tensor))\n",
    "print(np.size(tensor))\n",
    "print(np.ndim(tensor))"
   ]
  },
  {
   "cell_type": "markdown",
   "metadata": {},
   "source": [
    "__Mini-quiz__: \n",
    "* Que renvoie la commande `len(tensor)` ? Comment interprétez-vous le résultat ?\n",
    "* Essayez de re-créer les fonctions `np.size()` et `np.ndim()` à partir de `np.shape()` en utilisant des fonctions Python et des fonctions Numpy, par ex. `np.sum()`\n",
    "\n",
    "On peut assez facilement rajouter des dimensions en exécutant la fonction `np.atleast_nd()` (avec $n = 1,2,3$). En fonction de la dimension de votre tableau initial, les dimensions _en plus_ ne seront pas forcément rajoutées là où vous vous y attendez ! Voyez par exemple, pour un tableau à une dimension (un vecteur) transformé en tableau à trois dimensions :"
   ]
  },
  {
   "cell_type": "code",
   "execution_count": 49,
   "metadata": {},
   "outputs": [
    {
     "name": "stdout",
     "output_type": "stream",
     "text": [
      "(5,)\n",
      "(1, 5)\n",
      "(1, 5, 1)\n"
     ]
    }
   ],
   "source": [
    "x = np.array([1,2,6,8,2])\n",
    "y = np.atleast_2d(x)\n",
    "z = np.atleast_3d(x)\n",
    "print(np.shape(x))\n",
    "print(np.shape(y))\n",
    "print(np.shape(z))"
   ]
  },
  {
   "cell_type": "markdown",
   "metadata": {},
   "source": [
    "Vous pouvez également rajouter _à la main_ des dimensions en plus dans votre tableau en l'indexant a"
   ]
  },
  {
   "cell_type": "code",
   "execution_count": 51,
   "metadata": {},
   "outputs": [
    {
     "data": {
      "text/plain": [
       "array([[[1, 2, 3]],\n",
       "\n",
       "       [[6, 5, 4]]])"
      ]
     },
     "execution_count": 51,
     "metadata": {},
     "output_type": "execute_result"
    }
   ],
   "source": [
    "matrix = np.array([[1,2,3],[6,5,4]])\n",
    "matrix[:,np.newaxis,:]"
   ]
  },
  {
   "cell_type": "code",
   "execution_count": 53,
   "metadata": {},
   "outputs": [
    {
     "ename": "TypeError",
     "evalue": "list indices must be integers or slices, not tuple",
     "output_type": "error",
     "traceback": [
      "\u001b[1;31m---------------------------------------------------------------------------\u001b[0m",
      "\u001b[1;31mTypeError\u001b[0m                                 Traceback (most recent call last)",
      "\u001b[1;32mC:\\Users\\SAINT-~1\\AppData\\Local\\Temp/ipykernel_8092/809565330.py\u001b[0m in \u001b[0;36m<module>\u001b[1;34m\u001b[0m\n\u001b[0;32m      1\u001b[0m \u001b[0mx\u001b[0m \u001b[1;33m=\u001b[0m \u001b[1;33m[\u001b[0m\u001b[1;33m[\u001b[0m\u001b[1;36m2\u001b[0m\u001b[1;33m,\u001b[0m\u001b[1;36m3\u001b[0m\u001b[1;33m]\u001b[0m\u001b[1;33m,\u001b[0m\u001b[1;33m[\u001b[0m\u001b[1;36m4\u001b[0m\u001b[1;33m,\u001b[0m\u001b[1;36m5\u001b[0m\u001b[1;33m]\u001b[0m\u001b[1;33m,\u001b[0m\u001b[1;33m[\u001b[0m\u001b[1;36m6\u001b[0m\u001b[1;33m,\u001b[0m\u001b[1;36m7\u001b[0m\u001b[1;33m]\u001b[0m\u001b[1;33m]\u001b[0m\u001b[1;33m\u001b[0m\u001b[1;33m\u001b[0m\u001b[0m\n\u001b[1;32m----> 2\u001b[1;33m \u001b[0mx\u001b[0m\u001b[1;33m[\u001b[0m\u001b[1;33m:\u001b[0m\u001b[1;33m,\u001b[0m\u001b[1;33m:\u001b[0m\u001b[1;33m]\u001b[0m\u001b[1;33m\u001b[0m\u001b[1;33m\u001b[0m\u001b[0m\n\u001b[0m",
      "\u001b[1;31mTypeError\u001b[0m: list indices must be integers or slices, not tuple"
     ]
    }
   ],
   "source": [
    "x = [[2,3],[4,5],[6,7]]\n",
    "x[:,:]"
   ]
  },
  {
   "cell_type": "code",
   "execution_count": null,
   "metadata": {},
   "outputs": [],
   "source": []
  }
 ],
 "metadata": {
  "kernelspec": {
   "display_name": "Python 3 (ipykernel)",
   "language": "python",
   "name": "python3"
  },
  "language_info": {
   "codemirror_mode": {
    "name": "ipython",
    "version": 3
   },
   "file_extension": ".py",
   "mimetype": "text/x-python",
   "name": "python",
   "nbconvert_exporter": "python",
   "pygments_lexer": "ipython3",
   "version": "3.9.7"
  },
  "vscode": {
   "interpreter": {
    "hash": "cb9c252e610b593a3421828f92740a33c32c552b9658c846af1824aa6c7c0cc9"
   }
  }
 },
 "nbformat": 4,
 "nbformat_minor": 4
}
