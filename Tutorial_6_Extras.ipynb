{
 "cells": [
  {
   "cell_type": "markdown",
   "metadata": {},
   "source": [
    "## Quelques astuces en Python\n",
    "\n",
    "Cette section va couvrir plusieurs fonctions et aspects de Python qui ne vous permettront pas de faire plus de choses, mais vont vous simplifier la vie, raccourcir le code, le rendre plus élégant et plus lisible. La plupart de ces astuces et de ces possibilités ont été ajoutées à Python lors de mises à jour récentes du langage de programmation  : \n",
    "\n",
    "* [La joie des affectations multiples](#affectations-multiples-en-python) \n",
    "* [Le formatage de chaînes de caractère](#formatage-de-chaines-de-caracteres), pour enfin afficher ses nombres proprement.\n",
    "* [Les listes en compréhension](#listes-en-compréhension), ou comment se libérer des boucles `for` élégamment.\n",
    "* [Boucler sur plusieurs éléments en même temps](#boucler-efficacement-sur-plusieurs-variables-avec-zip) avec la fonction `zip()`\n",
    "* Enfin, je [vous montre comment installer Python et vscode](#Installer-python-et-vscode) sur votre ordinateur. "
   ]
  },
  {
   "cell_type": "markdown",
   "metadata": {},
   "source": [
    "-------------------------------------------\n",
    "\n",
    "### Affectations multiples en Python\n",
    "\n",
    "Vous l'avez peut-être parfois vu dans l'appel à certaines fonctions qui renvoyaient plusieurs objets, on se retrouve parfois en Python à écrire :\n",
    "``` \n",
    "a, b, c = my_function()\n",
    "```\n",
    "En fait, Python est fort flexible et permet d'affecter plusieurs valeurs à la volée sur une même ligne. Les variables à gauche, dans l'ordre, et les valeurs à droite, dans l'ordre également : "
   ]
  },
  {
   "cell_type": "code",
   "execution_count": null,
   "metadata": {},
   "outputs": [],
   "source": [
    "radius, height, weight = 10, 20, 100 "
   ]
  },
  {
   "cell_type": "markdown",
   "metadata": {},
   "source": [
    "Sachez par contre qu'il n'est pas possible d'utiliser la première des trois variables pour définir la troisième dans la liste. Les affectations se font  d'une certaine manière 'en parallèle' : "
   ]
  },
  {
   "cell_type": "code",
   "execution_count": null,
   "metadata": {},
   "outputs": [],
   "source": [
    "pi = 3.141592\n",
    "radius, area = 10, pi*radius**2 # Does not work "
   ]
  },
  {
   "cell_type": "markdown",
   "metadata": {},
   "source": [
    "On peut bien sûr combiner les affectations multiples avec des appels à des fonctions ! "
   ]
  },
  {
   "cell_type": "code",
   "execution_count": null,
   "metadata": {},
   "outputs": [],
   "source": [
    "import numpy as np\n",
    "area_1, area_2 = 12, 29\n",
    "radius_1, radius_2 = np.sqrt(area_1/np.pi), np.sqrt(area_2/np.pi)"
   ]
  },
  {
   "cell_type": "markdown",
   "metadata": {},
   "source": [
    "----------------------------------\n",
    "\n",
    "### Formatage de chaines de caracteres \n",
    "\n",
    "Nous avions vu plus tôt en Python comment afficher une chaîne de caractères, et même convertir un nombre flottant en chaîne de caractères via l'utilisation de `str(my_number)`. Mais nous n'avons dans ce cas aucun contrôle sur la manière dont Python affiche ce nombre (par exemple, le nombre de chiffres significatifs). Nous allons voir ici comment _formater_ l'affichage de ces nombres. \n",
    "\n",
    "Prenons un exemple concret : je voudrais afficher le rayon d'une particule qui a pour 'aire' 10 pixels sur une image. Notre solution, pour l'instant, consiste à écrire :"
   ]
  },
  {
   "cell_type": "code",
   "execution_count": 11,
   "metadata": {},
   "outputs": [
    {
     "name": "stdout",
     "output_type": "stream",
     "text": [
      "My radius is 1.7841241161527712 µm\n"
     ]
    }
   ],
   "source": [
    "import numpy as np\n",
    "\n",
    "area = 10\n",
    "radius = np.sqrt(area/np.pi) \n",
    "\n",
    "print('My radius is ' + str(radius) + ' µm')"
   ]
  },
  {
   "cell_type": "markdown",
   "metadata": {},
   "source": [
    "Personne n'a réellement besoin de tous ces chiffres significatifs, en fait."
   ]
  },
  {
   "cell_type": "markdown",
   "metadata": {},
   "source": [
    "#### Formatage a l'_ancienne_ "
   ]
  },
  {
   "cell_type": "markdown",
   "metadata": {},
   "source": [
    " La syntaxe _recommandée_ __depuis Python 2.6__ (pas tout neuf !) consiste à utiliser la méthode `.format()` des chaînes de caractères. Son fonctionnement est un peu étrange ... mais examinons-le dans l'exemple suivant. Celui-ci va demander d'afficher le rayon avec au minimum 4 caractères (`'.'` compris) et 2 chiffres significatifs après la virgule. "
   ]
  },
  {
   "cell_type": "code",
   "execution_count": 14,
   "metadata": {},
   "outputs": [
    {
     "name": "stdout",
     "output_type": "stream",
     "text": [
      "My radius is 1.784 µm\n"
     ]
    }
   ],
   "source": [
    "my_str = 'My radius is {:4.3f} µm'\n",
    "print(my_str.format(radius))"
   ]
  },
  {
   "cell_type": "markdown",
   "metadata": {},
   "source": [
    "Je vous avais dit que le code paraîtrait bizarre :-) . \n",
    "* Dans la première ligne, on définit une chaîne de caractères qui inclut du contenu _à convertir et formater en chaînes de caractères_ 'plus tard' selon certaines règles. Ce contenu est représenté par (pour l'instant) du charabia entouré d'accolades `{` et  `}`, à l'intérieur de la chaîne de caractères. On peut mettre du texte avant et après ces accolades dans le reste de la chaîne sans aucun souci.\n",
    "* Dans la deuxième ligne, on va en fait indiquer que le contenu à formater dans la chaîne de caractères est en fait la variable `radius`. Pour cela, on va appeler la _méthode_ `.format()` associée à la chaîne de caractères `my_str`.\n",
    "\n",
    "On a tout a fait le droit de faire ces deux opérations d'une seule traite, même si le code a alors un aspect encore plus étrange 🙃. C'est ce que font de nombreux tutoriels Python en ligne :"
   ]
  },
  {
   "cell_type": "code",
   "execution_count": 16,
   "metadata": {},
   "outputs": [
    {
     "name": "stdout",
     "output_type": "stream",
     "text": [
      "My radius is 1.78 µm\n"
     ]
    }
   ],
   "source": [
    "print('My radius is {:4.3g} µm'.format(radius))"
   ]
  },
  {
   "cell_type": "markdown",
   "metadata": {},
   "source": [
    "##### Type d'affichage pour les nombres\n",
    "\n",
    "À l'intérieur des accolades, on commence par deux points `':'` et on précise ensuite le formatage souhaité. Commençons par la fin, c'est à dire la lettre. J'ai mis ici `'f'`. Pour les nombres flottants, vous disposez de : \n",
    "\n",
    "* Le `'f'` affiche les nombres flottants de manière standard \n",
    "* Un `'e'` affiche les nombres en notation scientifique (par exemple `1.667e4` pour `16670`)\n",
    "* Un `'g'` va afficher un nombre flottant standard si le nombre n'est pas trop gros ($\\geq 10^{-4}$ et $\\leq 10^4$), et une notation scientifique sinon.\n",
    "\n",
    "Pour les nombres entiers, vous pouvez utiliser :\n",
    "\n",
    "* Un `'d'` va afficher les nombres entiers en base 10, c'est à dire celle que tout le monde connaît !\n",
    "µ Un `'x'` va afficher le nombre en hexadécimal avec des 'chiffres' de 0 à F \n",
    "* Un `'o'` va afficher les nombres en base 8 (avec donc des 'chiffres' de 0 à 7)\n",
    "* Un `'b'` va afficher le nombre en binaire (avec des 0 et 1)\n",
    "\n",
    "Je peux donc essayer : "
   ]
  },
  {
   "cell_type": "code",
   "execution_count": 23,
   "metadata": {},
   "outputs": [
    {
     "name": "stdout",
     "output_type": "stream",
     "text": [
      "My radius is 1.784124 µm\n",
      "My area is 10 µm²\n"
     ]
    }
   ],
   "source": [
    "print('My radius is {:f} µm'.format(radius))\n",
    "print('My area is {:d} µm²'.format(area))"
   ]
  },
  {
   "cell_type": "markdown",
   "metadata": {},
   "source": [
    "##### Régler la taille de la chaîne de caractères\n",
    "\n",
    "Si je ne précise rien entre le `':'` et le `'d'`, `'e'` ou `'f'`, Python va se charger tout seul de choisir le nombre de caractères qu'il va utiliser pour afficher votre nombre. Si vous voulez vous charger de cela vous-même, vous pouvez indiquer un nombre entre ces deux éléments. Voyez plutôt :"
   ]
  },
  {
   "cell_type": "code",
   "execution_count": null,
   "metadata": {},
   "outputs": [],
   "source": [
    "print('My area is {:5d} µm²'.format(area))\n",
    "print('My area is {:10d} µm²'.format(area))\n",
    "print('My area is {:20d} µm²'.format(area))"
   ]
  },
  {
   "cell_type": "markdown",
   "metadata": {},
   "source": [
    "Notre valeur `10` (en fait, deux caractères) va être alignée _à droite_, et ce _compte tenu de la longueur de chaîne_ (5, puis 10, puis 20 caractères) que nous avons précisée. Python va donc remplir les 3, 7 ou 17 caractères restants avec des espaces. Cela peut être pratique pour afficher des nombres ayant des 'longueurs' différentes mais en conservant l'alignement : "
   ]
  },
  {
   "cell_type": "code",
   "execution_count": 24,
   "metadata": {},
   "outputs": [
    {
     "name": "stdout",
     "output_type": "stream",
     "text": [
      "Particle 1 is     7 µm\n",
      "Particle 2 is    24 µm\n",
      "Particle 3 is  5846 µm\n",
      "Particle 4 is 32678 µm\n"
     ]
    }
   ],
   "source": [
    "print('Particle 1 is {:5d} µm'.format(7))\n",
    "print('Particle 2 is {:5d} µm'.format(24))\n",
    "print('Particle 3 is {:5d} µm'.format(5846))\n",
    "print('Particle 4 is {:5d} µm'.format(32678)) # That is a big particle"
   ]
  },
  {
   "cell_type": "markdown",
   "metadata": {},
   "source": [
    "Si votre nombre est trop long pour être correctement affiché par vos spécifications, il ne sera pas tronqué et va juste dépasser du format que vous aurez précisé. Dans l'exemple suivant, vous noterez donc que les `'µm'` ne sont plus alignés, car mon grand nombre `266144` possède 6 caractères :"
   ]
  },
  {
   "cell_type": "code",
   "execution_count": 25,
   "metadata": {},
   "outputs": [
    {
     "name": "stdout",
     "output_type": "stream",
     "text": [
      "Particle 4 is 32678 µm\n",
      "Particle 5 is 266144 µm\n"
     ]
    }
   ],
   "source": [
    "print('Particle 4 is {:5d} µm'.format(32678)) # That is a big particle\n",
    "print('Particle 5 is {:5d} µm'.format(266144)) # That is a rock at this point, mate..."
   ]
  },
  {
   "cell_type": "markdown",
   "metadata": {},
   "source": [
    "##### Chiffres significatifs \n",
    "\n",
    "Dans le cas des nombres flottants et à notation scientifique, on peut bien sûr préciser la longueur de la chaîne demandée (celle-ci _inclut_ le point décimal) mais également le nombre de chiffres significatifs que l'on souhaite afficher. Pour cela, on va placer un `'.'` dans les accolades et préciser un chiffre _après_ celui-ci (ici, 3). Dans ce cas précis, comme je n'indique aucun chiffre _avant_ le point `'.'`, cela veut dire que je laisse Python décider de la longueur de la chaîne de caractères associée au nombre : "
   ]
  },
  {
   "cell_type": "code",
   "execution_count": 26,
   "metadata": {},
   "outputs": [
    {
     "name": "stdout",
     "output_type": "stream",
     "text": [
      "My radius is 1.784 µm\n"
     ]
    }
   ],
   "source": [
    "import numpy as np\n",
    "radius = np.sqrt(10/np.pi)\n",
    "\n",
    "print('My radius is {:.3f} µm'.format(radius)) # Three digits after decimal point"
   ]
  },
  {
   "cell_type": "markdown",
   "metadata": {},
   "source": [
    "On peut bien sûr combiner les spécifications de longueur de chaîne et de nombres décimaux : "
   ]
  },
  {
   "cell_type": "code",
   "execution_count": 27,
   "metadata": {},
   "outputs": [
    {
     "name": "stdout",
     "output_type": "stream",
     "text": [
      "My radius is      1.784 µm\n",
      "My radius is  1.784e-06 m\n"
     ]
    }
   ],
   "source": [
    "print('My radius is {:10.3f} µm'.format(radius)) # Three digits after decimal point\n",
    "print('My radius is {:10.3e} m'.format(radius*1e-6)) # Scientific notation (but with meters instead of µm)"
   ]
  },
  {
   "cell_type": "markdown",
   "metadata": {},
   "source": [
    "##### Quelques possibilités en plus :\n",
    "\n",
    "1 . Vous pouvez en fait aligner votre chaîne de caractères à gauche ou au centre si vous n'aimez pas ce que fait Python par défaut. Vous devrez alors utiliser `'<'` et `'^'` et le placer _avant_ le nombre de caractères (ici 10) que vous souhaitez utiliser pour afficher votre nombre. Le caractère `'>'` vient naturellement compléter la liste si vous voulez fayoter et préciser que vous alignez votre texte à droite*:\n",
    "\n",
    "<small>* Nooonnn, en fait il y a une raison et elle vient tout de suite :-)</small>"
   ]
  },
  {
   "cell_type": "code",
   "execution_count": null,
   "metadata": {},
   "outputs": [],
   "source": [
    "area = 100\n",
    "print('My area is {:<10d} µm²'.format(area))\n",
    "print('My area is {:^10d} µm²'.format(area))"
   ]
  },
  {
   "cell_type": "markdown",
   "metadata": {},
   "source": [
    "Si vous précisez un caractère _avant_ les symboles `'>'`,  `'<'` ou  `'^'` , Python va l'utiliser pour remplir le vide au lieu de mettre des espaces :"
   ]
  },
  {
   "cell_type": "code",
   "execution_count": 28,
   "metadata": {},
   "outputs": [
    {
     "name": "stdout",
     "output_type": "stream",
     "text": [
      "My area is 0000000100 µm²\n",
      "My area is ###100#### µm²\n"
     ]
    }
   ],
   "source": [
    "area = 100\n",
    "print('My area is {:0>10d} µm²'.format(area))\n",
    "print('My area is {:#^10d} µm²'.format(area))"
   ]
  },
  {
   "cell_type": "markdown",
   "metadata": {},
   "source": [
    "2. Vous pouvez préciser plusieurs nombres entre différentes accolades `{}`, personne ne vous limite à un nombre affiché par chaîne de caractères. Dans ce cas, passez juste (dans l'ordre) les différentes variables à la méthode `.format()` : "
   ]
  },
  {
   "cell_type": "code",
   "execution_count": null,
   "metadata": {},
   "outputs": [],
   "source": [
    "area = 100\n",
    "zplane = 10\n",
    "eccentricity = 0.665492495\n",
    "\n",
    "print('My area is {:6d} µm², z-plane is {:3d} and eccentricity is {:5.3f}'.format(area, zplane, eccentricity))"
   ]
  },
  {
   "cell_type": "markdown",
   "metadata": {},
   "source": [
    "3. Vous pouvez enfin passer des chaînes de caractères dans les accolades, et pas seulement des nombres. Dans ce cas, pas besoin de préciser un `'d'`, `'e'` ou `'f'`, mais le reste des règles de formatage fonctionne quand même. Comme ça, vous pouvez garder vos bouts de texte alignés !"
   ]
  },
  {
   "cell_type": "code",
   "execution_count": null,
   "metadata": {},
   "outputs": [],
   "source": [
    "def greet(first, last, age):\n",
    "    print('Bien le bonjour {:20} {:25} à votre âge de {:3d} ans ! Comment allez-vous ?'.format(first, last, age))\n",
    "\n",
    "fancy_f, fancy_l, fancy_age = 'Jean-Charles-Hubert', 'de la Tourelle Angevine', 103\n",
    "brief_f, brief_l, brief_age = 'Luc', 'Poix', 26\n",
    "\n",
    "greet(fancy_f, fancy_l, fancy_age)\n",
    "greet(brief_f, brief_l, brief_age)\n"
   ]
  },
  {
   "cell_type": "markdown",
   "metadata": {},
   "source": [
    "#### Nouvelle méthode, les `f-strings`\n",
    "\n",
    "Depuis __Python 3.6__ (c'est le cas chez nous), une nouvelle possibilité existe pour formater vos chaînes de caractères. Pourquoi diable en créer une en plus ? En fait, la méthode `.format()` est sympathique, mais un code du genre :"
   ]
  },
  {
   "cell_type": "code",
   "execution_count": null,
   "metadata": {},
   "outputs": [],
   "source": [
    "print('My area is {:6d} µm², z-plane is {:3d} and eccentricity is {:5.3f}'.format(area, zplane, eccentricity))"
   ]
  },
  {
   "cell_type": "markdown",
   "metadata": {},
   "source": [
    "est assez peu lisible. Ce serait _mieux_ de mettre directement le nom des variables dans les accolades, non ? Comme ça, le code deviendrait bien plus lisible. C'est le concept des `f-strings`. Leur nom l'indique, et vous ne l'aviez peut-être pas compris, comme ça, mais ce sont des chaînes de caractères qui possèdent un `f` avant le premier guillemet ; ce `f` signifie _formatté_. On peut écrire des chaînes de caractères parfaitement normales en mettant juste un `f` devant :"
   ]
  },
  {
   "cell_type": "code",
   "execution_count": 30,
   "metadata": {},
   "outputs": [
    {
     "data": {
      "text/plain": [
       "'Avez-vous déjà vu Toto qui présente la météo ?'"
      ]
     },
     "execution_count": 30,
     "metadata": {},
     "output_type": "execute_result"
    }
   ],
   "source": [
    "my_fstring = f'Avez-vous déjà vu Toto qui présente la météo ?'\n",
    "my_fstring"
   ]
  },
  {
   "cell_type": "markdown",
   "metadata": {},
   "source": [
    " Elle possède les mêmes méthodes que les objets `string` normaux, mais son super-pouvoir réside dans la manière dont elle peut formatter les nombres en son sein. Cette fois-ci, on peut _directement_ inclure le nom des variables entre les accolades `{}` !"
   ]
  },
  {
   "cell_type": "code",
   "execution_count": null,
   "metadata": {},
   "outputs": [],
   "source": [
    "import numpy as np\n",
    "my_radius = np.sqrt(10/np.pi)\n",
    "print(f'Radius is {my_radius} µm')"
   ]
  },
  {
   "cell_type": "markdown",
   "metadata": {},
   "source": [
    "Pour formater ces nombres, vous pouvez utiliser les nombreuses options de formatage que je vous ai présentées ci-dessus. Au niveau de la syntaxe, on va écrire `my_variable:format`, avec `format` les joyeusetés du genre `0<4.3f` que je vous ai présentées dans [la section précédente](#formatage-a-lancienne). On peut une fois de plus ajouter plusieurs variables dans une chaîne, et effectuer des opérations à l'intérieur des accolades, car Python va les interpréter avant de formater le tout. On peut donc écrire : "
   ]
  },
  {
   "cell_type": "code",
   "execution_count": null,
   "metadata": {},
   "outputs": [],
   "source": [
    "print(f'Radius is {my_radius:5.2f} µm')\n",
    "print(f'Radius is {my_radius:_^10.2f} µm and perimeter is {my_radius*2*np.pi:4.3f} µm')"
   ]
  },
  {
   "cell_type": "markdown",
   "metadata": {},
   "source": [
    "### Listes en comprehension\n",
    "\n",
    "Parfois en Python, vous serez amenés à vous dire qu'il serait chouette de pouvoir appliquer une fonction ou une méthode à chacun des éléments d'une liste, puis de renvoyer une liste de ces résultats en retour. Prenons un exemple : j'ai une liste contenant des chaînes de caractères, mais pour une raison mystérieuse (probablement un bug ou un concepteur de tutoriels mal intentionné) elle contient plein d'espaces inutiles au début et à la fin de la chaîne. \n"
   ]
  },
  {
   "cell_type": "code",
   "execution_count": 35,
   "metadata": {},
   "outputs": [
    {
     "name": "stdout",
     "output_type": "stream",
     "text": [
      "Bonjour    je  mappelle   René et mon   chat s'appelle       Médor \n"
     ]
    }
   ],
   "source": [
    "my_dirty_list = ['Bonjour  ', ' je ', 'm''appelle ', ' René', 'et mon ', ' chat s\\'appelle   ',  '   Médor '] # use\\' to print an apostrophe\n",
    "sentence = ' '.join(my_dirty_list)\n",
    "\n",
    "print(sentence)"
   ]
  },
  {
   "cell_type": "markdown",
   "metadata": {},
   "source": [
    "Il existe une méthode `.strip()` qui fonctionne sur les `string` et qui permet de supprimer les espaces au début et à la fin de celle-ci. Mais il n'est pas possible de l'appliquer directement sur la liste sans faire de boucle, malheureusement. En théorie, on doit passer par une autre boucle pour 'nettoyer' la liste avant de repasser par la case affichage : "
   ]
  },
  {
   "cell_type": "code",
   "execution_count": null,
   "metadata": {},
   "outputs": [],
   "source": [
    "my_clean_list = []\n",
    "for word in my_dirty_list:\n",
    "    my_clean_list.append(word.strip())\n",
    "\n",
    "print(my_clean_list)"
   ]
  },
  {
   "cell_type": "markdown",
   "metadata": {},
   "source": [
    "En pratique, les _listes en compréhension_ (traduit de l'anglais _list comprehension_) permet d'effectuer ce genre de tâches en une boucle écrite sur une seule ligne. Leur syntaxe diffère des boucles normales, car elle _commence_ par ce qui est effectué dans la boucle et se termine par le `for ... in` standard des boucles `for`. Et pour placer le résultat de cette _compréhension_ dans une liste, on met le tout entre crochets. Regardons comment cela fonctionne dans notre cas de nettoyage de liste : "
   ]
  },
  {
   "cell_type": "code",
   "execution_count": null,
   "metadata": {},
   "outputs": [],
   "source": [
    "my_clean_list_too = [word.strip() for word in my_dirty_list]\n",
    "my_clean_list_too"
   ]
  },
  {
   "cell_type": "markdown",
   "metadata": {},
   "source": [
    "Vous pouvez donc lire la première ligne du code ci-dessus à partir du `for` : pour chaque mot de `my_dirty_list`, on va appliquer `.rstrip()`, tandis que les crochets servent bien à accumuler les résultats à la manière d'un appel à la méthode `.append()`. Rien ne vous limite au niveau des fonctions que vous pouvez utiliser, bien entendu !\n",
    "\n",
    "__Exercice__ : \n",
    "\n",
    "* Essayez de convertir la liste de nombres `my_french_numbers`, formatée comme une liste de chaînes de caractère _à la francaise_ en une liste de `float` avec une liste en compréhension.\n",
    "* (plus difficile ! ) créez une liste en compréhension ne contenant que les multiples de 3 contenus dans `my_too_long_list`. Vous avez le droit d'écrire une instruction `if ... ` _après_ le `for ... in` dans la liste en compréhension. "
   ]
  },
  {
   "cell_type": "code",
   "execution_count": null,
   "metadata": {},
   "outputs": [],
   "source": [
    "import matplotlib.pyplot as plt\n",
    "\n",
    "my_french_numbers = ['3,78', '26,76', '3,22', '9,32', '3,141592']\n",
    "my_too_long_list = [3, 23, 71, 26, 12, 47, 53, 24, 18, 66]"
   ]
  },
  {
   "cell_type": "markdown",
   "metadata": {},
   "source": [
    "------------------------------\n",
    "\n",
    "### Boucler efficacement sur plusieurs variables avec `zip()`\n",
    "\n",
    "Dans votre vie de programmeur.euse, vous allez parfois être confronté.e à des boucles `for` un peu vexantes où vous aurez besoin de parcourir plusieurs objets dans votre boucle. Prenons un exemple concret, où nous souhaitons effectuer une opération sur les éléments de deux listes (du même indice) et enregistrer le résultat dans une troisième liste. Les habitués de MATLAB sauront qu'il peuvent utiliser un `index` dans une boucle `for` afin de définir les valeurs de `x` et `y` 'actuelles' lors de l'exécution de la boucle. Le code ressemblera donc à cela :  "
   ]
  },
  {
   "cell_type": "code",
   "execution_count": 1,
   "metadata": {},
   "outputs": [],
   "source": [
    "x = list(range(10))\n",
    "y = list(range(0,20,2))\n",
    "z = []\n",
    "\n",
    "for index in range(len(x)):\n",
    "    z.append(x[index]*y[index]**2)"
   ]
  },
  {
   "cell_type": "markdown",
   "metadata": {},
   "source": [
    "En Python, il est possible de se débarrasser des `[index]` disgracieux dans ces boucles en utilisant la fonction `zip()`. Cette fonction va 'combiner' ces deux listes de $N$ `float` en une liste de $N$ `tuple` contenant deux éléments. Pour l'instant, rien de très utile, me direz-vous. _Cependant, cela vous permet de faire une boucle `for` sur le tuple_, en écrivant quelque chose comme ceci :"
   ]
  },
  {
   "cell_type": "code",
   "execution_count": 5,
   "metadata": {},
   "outputs": [],
   "source": [
    "result = []\n",
    "for now in zip(x,y):\n",
    "    (xnow, ynow) = now \n",
    "    result.append(xnow*ynow**2)"
   ]
  },
  {
   "cell_type": "markdown",
   "metadata": {},
   "source": [
    "La forme suivante n'a pas encore trop d'intérêt, mais en fait Python est capable de comprendre qu'il y a deux objets à chaque itération de la boucle, et on a _de facto_ le droit d'écrire directement : "
   ]
  },
  {
   "cell_type": "code",
   "execution_count": null,
   "metadata": {},
   "outputs": [],
   "source": [
    "result = []\n",
    "for xnow, ynow in zip(x,y):\n",
    "    result.append(xnow*ynow**2)"
   ]
  },
  {
   "cell_type": "markdown",
   "metadata": {},
   "source": [
    "Cela est déjà plus concis ! Et, si vous avez vu les affaires de [liste en compréhension](#listes-en-comprehension) ci-dessus, vous savez peut-être que vous pouvez finir avec un code sur une seule ligne : "
   ]
  },
  {
   "cell_type": "code",
   "execution_count": 7,
   "metadata": {},
   "outputs": [],
   "source": [
    "result = [xnow*ynow**2 for xnow, ynow in zip(x,y)] # Nice, eh ?"
   ]
  },
  {
   "cell_type": "markdown",
   "metadata": {},
   "source": [
    "---------------------------\n",
    "\n",
    "### Installer Python et vscode sur votre ordinateur \n",
    "\n",
    "Maintenant que vous êtes un professionnel de Python, vous vous dites peut-être qu'il serait pas mal d'avoir une installation _locale_ de Pyton, car celle-ci vous permettrait d'installer vous-même n'importe quel paquet, extension, et vous auriez également le choix de l'éditeur de code avec lequel vous travaillez. \n",
    "\n",
    "Sachez que tout cela est possible, _même si vous n'êtes pas administrateur de votre ordinateur !_. Je vais vous montrer deux manières d'installer et d'utiliser Python chez vous."
   ]
  },
  {
   "cell_type": "markdown",
   "metadata": {},
   "source": [
    "#### Anaconda \n",
    "\n",
    "[Anaconda](https://www.anaconda.com/products/distribution) est la version 'usine à gaz' de Python pour les scientifiques. Les anacondas sont en effet connus pour être plus gros que les Pythons ... Son principal avantage est qu'il contient déjà de nombreux paquets pré-installés très utiles pour les scientifiques ([Numpy](./Application_A_Numpy.ipynb), [Scipy](./Application_C_Scipy.ipynb), [Matplotlib](./Application_B_Matplotlib.ipynb), [Pandas](./Application_D_Pandas.ipynb) ...) et qu'il inclut des éditeurs de code comme Spyder et Jupyter Notebooks (celui que vous êtes probablement en train d'utiliser en ligne en ce moment !)\n",
    "\n"
   ]
  },
  {
   "cell_type": "markdown",
   "metadata": {},
   "source": []
  }
 ],
 "metadata": {
  "kernelspec": {
   "display_name": "Python 3 (ipykernel)",
   "language": "python",
   "name": "python3"
  },
  "language_info": {
   "codemirror_mode": {
    "name": "ipython",
    "version": 3
   },
   "file_extension": ".py",
   "mimetype": "text/x-python",
   "name": "python",
   "nbconvert_exporter": "python",
   "pygments_lexer": "ipython3",
   "version": "3.9.7"
  },
  "vscode": {
   "interpreter": {
    "hash": "cb9c252e610b593a3421828f92740a33c32c552b9658c846af1824aa6c7c0cc9"
   }
  }
 },
 "nbformat": 4,
 "nbformat_minor": 4
}
