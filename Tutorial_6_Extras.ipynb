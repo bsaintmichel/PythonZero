{
 "cells": [
  {
   "cell_type": "markdown",
   "metadata": {},
   "source": [
    "## Quelques astuces en Python\n",
    "\n",
    "Cette section va couvrir plusieurs fonctions et aspects de Python qui ne vous permettront pas de faire plus de choses, mais vont vous simplifier la vie, raccourcir le code, le rendre plus élégant et plus lisible. La plupart de ces astuces et de ces possibilités ont été ajoutées à Python lors de mises à jour récentes du langage de programmation  : \n",
    "\n",
    "* [La joie des affectations multiples](#affectations-multiples-en-python) \n",
    "* [Le formatage de chaînes de caractère](#formatage-de-chaines-de-caracteres), pour enfin afficher ses nombres proprement.\n",
    "* [Les listes en compréhension](#listes-en-compréhension), ou comment se libérer des boucles `for` élégamment.\n",
    "* [Boucler sur plusieurs éléments en même temps](#boucler-efficacement-sur-plusieurs-variables-avec-zip) avec la fonction `zip()`\n",
    "* Enfin, je [vous montre comment installer Anaconda, ou python et vscode](#Python-sur-votre-ordinateur) sur votre ordinateur pour travailler de manière locale et installer vous-même des nouveaux modules."
   ]
  },
  {
   "cell_type": "markdown",
   "metadata": {},
   "source": [
    "-------------------------------------------\n",
    "\n",
    "### Affectations multiples en Python\n",
    "\n",
    "Vous l'avez peut-être parfois vu dans l'appel à certaines fonctions qui renvoyaient plusieurs objets, on se retrouve parfois en Python à écrire :\n",
    "``` \n",
    "a, b, c = my_function()\n",
    "```\n",
    "En fait, Python est fort flexible et permet d'affecter plusieurs valeurs à la volée sur une même ligne. Les variables à gauche, dans l'ordre, et les valeurs à droite, dans l'ordre également : "
   ]
  },
  {
   "cell_type": "code",
   "execution_count": null,
   "metadata": {},
   "outputs": [],
   "source": [
    "radius, height, weight = 10, 20, 100 "
   ]
  },
  {
   "cell_type": "markdown",
   "metadata": {},
   "source": [
    "Sachez par contre qu'il n'est pas possible d'utiliser la première des trois variables pour définir la troisième dans la liste. Les affectations se font  d'une certaine manière 'en parallèle' : "
   ]
  },
  {
   "cell_type": "code",
   "execution_count": null,
   "metadata": {},
   "outputs": [],
   "source": [
    "pi = 3.141592\n",
    "radius, area = 10, pi*radius**2 # Does not work "
   ]
  },
  {
   "cell_type": "markdown",
   "metadata": {},
   "source": [
    "On peut bien sûr combiner les affectations multiples avec des appels à des fonctions ! "
   ]
  },
  {
   "cell_type": "code",
   "execution_count": null,
   "metadata": {},
   "outputs": [],
   "source": [
    "import numpy as np\n",
    "area_1, area_2 = 12, 29\n",
    "radius_1, radius_2 = np.sqrt(area_1/np.pi), np.sqrt(area_2/np.pi)"
   ]
  },
  {
   "cell_type": "markdown",
   "metadata": {},
   "source": [
    "----------------------------------\n",
    "\n",
    "### Formatage de chaines de caracteres \n",
    "\n",
    "Nous avions vu plus tôt en Python comment afficher une chaîne de caractères, et même convertir un nombre flottant en chaîne de caractères via l'utilisation de `str(my_number)`. Mais nous n'avons dans ce cas aucun contrôle sur la manière dont Python affiche ce nombre (par exemple, le nombre de chiffres significatifs). Nous allons voir ici comment _formater_ l'affichage de ces nombres. \n",
    "\n",
    "Prenons un exemple concret : je voudrais afficher le rayon d'une particule qui a pour 'aire' 10 pixels sur une image. Notre solution, pour l'instant, consiste à écrire :"
   ]
  },
  {
   "cell_type": "code",
   "execution_count": null,
   "metadata": {},
   "outputs": [],
   "source": [
    "import numpy as np\n",
    "\n",
    "area = 10\n",
    "radius = np.sqrt(area/np.pi) \n",
    "\n",
    "print('My radius is ' + str(radius) + ' µm')"
   ]
  },
  {
   "cell_type": "markdown",
   "metadata": {},
   "source": [
    "Personne n'a réellement besoin de tous ces chiffres significatifs, en fait."
   ]
  },
  {
   "cell_type": "markdown",
   "metadata": {},
   "source": [
    "#### Formatage a l'_ancienne_ "
   ]
  },
  {
   "cell_type": "markdown",
   "metadata": {},
   "source": [
    " La syntaxe _recommandée_ __depuis Python 2.6__ (pas tout neuf !) consiste à utiliser la méthode `.format()` des chaînes de caractères. Son fonctionnement est un peu étrange ... mais examinons-le dans l'exemple suivant. Celui-ci va demander d'afficher le rayon avec au minimum 4 caractères (`'.'` compris) et 2 chiffres significatifs après la virgule. "
   ]
  },
  {
   "cell_type": "code",
   "execution_count": null,
   "metadata": {},
   "outputs": [],
   "source": [
    "my_str = 'My radius is {:4.3f} µm'\n",
    "print(my_str.format(radius))"
   ]
  },
  {
   "cell_type": "markdown",
   "metadata": {},
   "source": [
    "Je vous avais dit que le code paraîtrait bizarre :-) . \n",
    "* Dans la première ligne, on définit une chaîne de caractères qui inclut du contenu _à convertir et formater en chaînes de caractères_ 'plus tard' selon certaines règles. Ce contenu est représenté par (pour l'instant) du charabia entouré d'accolades `{` et  `}`, à l'intérieur de la chaîne de caractères. On peut mettre du texte avant et après ces accolades dans le reste de la chaîne sans aucun souci.\n",
    "* Dans la deuxième ligne, on va en fait indiquer que le contenu à formater dans la chaîne de caractères est en fait la variable `radius`. Pour cela, on va appeler la _méthode_ `.format()` associée à la chaîne de caractères `my_str`.\n",
    "\n",
    "On a tout a fait le droit de faire ces deux opérations d'une seule traite, même si le code a alors un aspect encore plus étrange 🙃. C'est ce que font de nombreux tutoriels Python en ligne :"
   ]
  },
  {
   "cell_type": "code",
   "execution_count": null,
   "metadata": {},
   "outputs": [],
   "source": [
    "print('My radius is {:4.3g} µm'.format(radius))"
   ]
  },
  {
   "cell_type": "markdown",
   "metadata": {},
   "source": [
    "##### Type d'affichage pour les nombres\n",
    "\n",
    "À l'intérieur des accolades, on commence par deux points `':'` et on précise ensuite le formatage souhaité. Commençons par la fin, c'est à dire la lettre. J'ai mis ici `'f'`. Pour les nombres flottants, vous disposez de : \n",
    "\n",
    "* Le `'f'` affiche les nombres flottants de manière standard \n",
    "* Un `'e'` affiche les nombres en notation scientifique (par exemple `1.667e4` pour `16670`)\n",
    "* Un `'g'` va afficher un nombre flottant standard si le nombre n'est pas trop gros ($\\geq 10^{-4}$ et $\\leq 10^4$), et une notation scientifique sinon.\n",
    "\n",
    "Pour les nombres entiers, vous pouvez utiliser :\n",
    "\n",
    "* Un `'d'` va afficher les nombres entiers en base 10, c'est à dire celle que tout le monde connaît !\n",
    "µ Un `'x'` va afficher le nombre en hexadécimal avec des 'chiffres' de 0 à F \n",
    "* Un `'o'` va afficher les nombres en base 8 (avec donc des 'chiffres' de 0 à 7)\n",
    "* Un `'b'` va afficher le nombre en binaire (avec des 0 et 1)\n",
    "\n",
    "Je peux donc essayer : "
   ]
  },
  {
   "cell_type": "code",
   "execution_count": null,
   "metadata": {},
   "outputs": [],
   "source": [
    "print('My radius is {:f} µm'.format(radius))\n",
    "print('My area is {:d} µm²'.format(area))"
   ]
  },
  {
   "cell_type": "markdown",
   "metadata": {},
   "source": [
    "##### Régler la taille de la chaîne de caractères\n",
    "\n",
    "Si je ne précise rien entre le `':'` et le `'d'`, `'e'` ou `'f'`, Python va se charger tout seul de choisir le nombre de caractères qu'il va utiliser pour afficher votre nombre. Si vous voulez vous charger de cela vous-même, vous pouvez indiquer un nombre entre ces deux éléments. Voyez plutôt :"
   ]
  },
  {
   "cell_type": "code",
   "execution_count": null,
   "metadata": {},
   "outputs": [],
   "source": [
    "print('My area is {:5d} µm²'.format(area))\n",
    "print('My area is {:10d} µm²'.format(area))\n",
    "print('My area is {:20d} µm²'.format(area))"
   ]
  },
  {
   "cell_type": "markdown",
   "metadata": {},
   "source": [
    "Notre valeur `10` (en fait, deux caractères) va être alignée _à droite_, et ce _compte tenu de la longueur de chaîne_ (5, puis 10, puis 20 caractères) que nous avons précisée. Python va donc remplir les 3, 7 ou 17 caractères restants avec des espaces. Cela peut être pratique pour afficher des nombres ayant des 'longueurs' différentes mais en conservant l'alignement : "
   ]
  },
  {
   "cell_type": "code",
   "execution_count": null,
   "metadata": {},
   "outputs": [],
   "source": [
    "print('Particle 1 is {:5d} µm'.format(7))\n",
    "print('Particle 2 is {:5d} µm'.format(24))\n",
    "print('Particle 3 is {:5d} µm'.format(5846))\n",
    "print('Particle 4 is {:5d} µm'.format(32678)) # That is a big particle"
   ]
  },
  {
   "cell_type": "markdown",
   "metadata": {},
   "source": [
    "Si votre nombre est trop long pour être correctement affiché par vos spécifications, il ne sera pas tronqué et va juste dépasser du format que vous aurez précisé. Dans l'exemple suivant, vous noterez donc que les `'µm'` ne sont plus alignés, car mon grand nombre `266144` possède 6 caractères :"
   ]
  },
  {
   "cell_type": "code",
   "execution_count": null,
   "metadata": {},
   "outputs": [],
   "source": [
    "print('Particle 4 is {:5d} µm'.format(32678)) # That is a big particle\n",
    "print('Particle 5 is {:5d} µm'.format(266144)) # That is a rock at this point, mate..."
   ]
  },
  {
   "cell_type": "markdown",
   "metadata": {},
   "source": [
    "##### Chiffres significatifs \n",
    "\n",
    "Dans le cas des nombres flottants et à notation scientifique, on peut bien sûr préciser la longueur de la chaîne demandée (celle-ci _inclut_ le point décimal) mais également le nombre de chiffres significatifs que l'on souhaite afficher. Pour cela, on va placer un `'.'` dans les accolades et préciser un chiffre _après_ celui-ci (ici, 3). Dans ce cas précis, comme je n'indique aucun chiffre _avant_ le point `'.'`, cela veut dire que je laisse Python décider de la longueur de la chaîne de caractères associée au nombre : "
   ]
  },
  {
   "cell_type": "code",
   "execution_count": null,
   "metadata": {},
   "outputs": [],
   "source": [
    "import numpy as np\n",
    "radius = np.sqrt(10/np.pi)\n",
    "\n",
    "print('My radius is {:.3f} µm'.format(radius)) # Three digits after decimal point"
   ]
  },
  {
   "cell_type": "markdown",
   "metadata": {},
   "source": [
    "On peut bien sûr combiner les spécifications de longueur de chaîne et de nombres décimaux : "
   ]
  },
  {
   "cell_type": "code",
   "execution_count": null,
   "metadata": {},
   "outputs": [],
   "source": [
    "print('My radius is {:10.3f} µm'.format(radius)) # Three digits after decimal point\n",
    "print('My radius is {:10.3e} m'.format(radius*1e-6)) # Scientific notation (but with meters instead of µm)"
   ]
  },
  {
   "cell_type": "markdown",
   "metadata": {},
   "source": [
    "##### Quelques possibilités en plus :\n",
    "\n",
    "1 . Vous pouvez en fait aligner votre chaîne de caractères à gauche ou au centre si vous n'aimez pas ce que fait Python par défaut. Vous devrez alors utiliser `'<'` et `'^'` et le placer _avant_ le nombre de caractères (ici 10) que vous souhaitez utiliser pour afficher votre nombre. Le caractère `'>'` vient naturellement compléter la liste si vous voulez fayoter et préciser que vous alignez votre texte à droite*:\n",
    "\n",
    "<small>* Nooonnn, en fait il y a une raison et elle vient tout de suite :-)</small>"
   ]
  },
  {
   "cell_type": "code",
   "execution_count": null,
   "metadata": {},
   "outputs": [],
   "source": [
    "area = 100\n",
    "print('My area is {:<10d} µm²'.format(area))\n",
    "print('My area is {:^10d} µm²'.format(area))"
   ]
  },
  {
   "cell_type": "markdown",
   "metadata": {},
   "source": [
    "Si vous précisez un caractère _avant_ les symboles `'>'`,  `'<'` ou  `'^'` , Python va l'utiliser pour remplir le vide au lieu de mettre des espaces :"
   ]
  },
  {
   "cell_type": "code",
   "execution_count": null,
   "metadata": {},
   "outputs": [],
   "source": [
    "area = 100\n",
    "print('My area is {:0>10d} µm²'.format(area))\n",
    "print('My area is {:#^10d} µm²'.format(area))"
   ]
  },
  {
   "cell_type": "markdown",
   "metadata": {},
   "source": [
    "2. Vous pouvez préciser plusieurs nombres entre différentes accolades `{}`, personne ne vous limite à un nombre affiché par chaîne de caractères. Dans ce cas, passez juste (dans l'ordre) les différentes variables à la méthode `.format()` : "
   ]
  },
  {
   "cell_type": "code",
   "execution_count": null,
   "metadata": {},
   "outputs": [],
   "source": [
    "area = 100\n",
    "zplane = 10\n",
    "eccentricity = 0.665492495\n",
    "\n",
    "print('My area is {:6d} µm², z-plane is {:3d} and eccentricity is {:5.3f}'.format(area, zplane, eccentricity))"
   ]
  },
  {
   "cell_type": "markdown",
   "metadata": {},
   "source": [
    "3. Vous pouvez enfin passer des chaînes de caractères dans les accolades, et pas seulement des nombres. Dans ce cas, pas besoin de préciser un `'d'`, `'e'` ou `'f'`, mais le reste des règles de formatage fonctionne quand même. Comme ça, vous pouvez garder vos bouts de texte alignés !"
   ]
  },
  {
   "cell_type": "code",
   "execution_count": null,
   "metadata": {},
   "outputs": [],
   "source": [
    "def greet(first, last, age):\n",
    "    print('Bien le bonjour {:20} {:25} à votre âge de {:3d} ans ! Comment allez-vous ?'.format(first, last, age))\n",
    "\n",
    "fancy_f, fancy_l, fancy_age = 'Jean-Charles-Hubert', 'de la Tourelle Angevine', 103\n",
    "brief_f, brief_l, brief_age = 'Luc', 'Poix', 26\n",
    "\n",
    "greet(fancy_f, fancy_l, fancy_age)\n",
    "greet(brief_f, brief_l, brief_age)\n"
   ]
  },
  {
   "cell_type": "markdown",
   "metadata": {},
   "source": [
    "#### Nouvelle méthode, les `f-strings`\n",
    "\n",
    "Depuis __Python 3.6__ (c'est le cas chez nous), une nouvelle possibilité existe pour formater vos chaînes de caractères. Pourquoi diable en créer une en plus ? En fait, la méthode `.format()` est sympathique, mais un code du genre :"
   ]
  },
  {
   "cell_type": "code",
   "execution_count": null,
   "metadata": {},
   "outputs": [],
   "source": [
    "print('My area is {:6d} µm², z-plane is {:3d} and eccentricity is {:5.3f}'.format(area, zplane, eccentricity))"
   ]
  },
  {
   "cell_type": "markdown",
   "metadata": {},
   "source": [
    "est assez peu lisible. Ce serait _mieux_ de mettre directement le nom des variables dans les accolades, non ? Comme ça, le code deviendrait bien plus lisible. C'est le concept des `f-strings`. Leur nom l'indique, et vous ne l'aviez peut-être pas compris, comme ça, mais ce sont des chaînes de caractères qui possèdent un `f` avant le premier guillemet ; ce `f` signifie _formatté_. On peut écrire des chaînes de caractères parfaitement normales en mettant juste un `f` devant :"
   ]
  },
  {
   "cell_type": "code",
   "execution_count": null,
   "metadata": {},
   "outputs": [],
   "source": [
    "my_fstring = f'Avez-vous déjà vu Toto qui présente la météo ?'\n",
    "my_fstring"
   ]
  },
  {
   "cell_type": "markdown",
   "metadata": {},
   "source": [
    " Elle possède les mêmes méthodes que les objets `string` normaux, mais son super-pouvoir réside dans la manière dont elle peut formatter les nombres en son sein. Cette fois-ci, on peut _directement_ inclure le nom des variables entre les accolades `{}` !"
   ]
  },
  {
   "cell_type": "code",
   "execution_count": null,
   "metadata": {},
   "outputs": [],
   "source": [
    "import numpy as np\n",
    "my_radius = np.sqrt(10/np.pi)\n",
    "print(f'Radius is {my_radius} µm')"
   ]
  },
  {
   "cell_type": "markdown",
   "metadata": {},
   "source": [
    "Pour formater ces nombres, vous pouvez utiliser les nombreuses options de formatage que je vous ai présentées ci-dessus. Au niveau de la syntaxe, on va écrire `my_variable:format`, avec `format` les joyeusetés du genre `0<4.3f` que je vous ai présentées dans [la section précédente](#formatage-a-lancienne). On peut une fois de plus ajouter plusieurs variables dans une chaîne, et effectuer des opérations à l'intérieur des accolades, car Python va les interpréter avant de formater le tout. On peut donc écrire : "
   ]
  },
  {
   "cell_type": "code",
   "execution_count": null,
   "metadata": {},
   "outputs": [],
   "source": [
    "print(f'Radius is {my_radius:5.2f} µm')\n",
    "print(f'Radius is {my_radius:_^10.2f} µm and perimeter is {my_radius*2*np.pi:4.3f} µm')"
   ]
  },
  {
   "cell_type": "markdown",
   "metadata": {},
   "source": [
    "### Listes en comprehension\n",
    "\n",
    "Parfois en Python, vous serez amenés à vous dire qu'il serait chouette de pouvoir appliquer une fonction ou une méthode à chacun des éléments d'une liste, puis de renvoyer une liste de ces résultats en retour. Prenons un exemple : j'ai une liste contenant des chaînes de caractères, mais pour une raison mystérieuse (probablement un bug ou un concepteur de tutoriels mal intentionné) elle contient plein d'espaces inutiles au début et à la fin de la chaîne. \n"
   ]
  },
  {
   "cell_type": "code",
   "execution_count": null,
   "metadata": {},
   "outputs": [],
   "source": [
    "my_dirty_list = ['Bonjour  ', ' je ', 'm''appelle ', ' René', 'et mon ', ' chat s\\'appelle   ',  '   Médor '] # use\\' to print an apostrophe\n",
    "sentence = ' '.join(my_dirty_list)\n",
    "\n",
    "print(sentence)"
   ]
  },
  {
   "cell_type": "markdown",
   "metadata": {},
   "source": [
    "Il existe une méthode `.strip()` qui fonctionne sur les `string` et qui permet de supprimer les espaces au début et à la fin de celle-ci. Mais il n'est pas possible de l'appliquer directement sur la liste sans faire de boucle, malheureusement. En théorie, on doit passer par une autre boucle pour 'nettoyer' la liste avant de repasser par la case affichage : "
   ]
  },
  {
   "cell_type": "code",
   "execution_count": null,
   "metadata": {},
   "outputs": [],
   "source": [
    "my_clean_list = []\n",
    "for word in my_dirty_list:\n",
    "    my_clean_list.append(word.strip())\n",
    "\n",
    "print(my_clean_list)"
   ]
  },
  {
   "cell_type": "markdown",
   "metadata": {},
   "source": [
    "En pratique, les _listes en compréhension_ (traduit de l'anglais _list comprehension_) permet d'effectuer ce genre de tâches en une boucle écrite sur une seule ligne. Leur syntaxe diffère des boucles normales, car elle _commence_ par ce qui est effectué dans la boucle et se termine par le `for ... in` standard des boucles `for`. Et pour placer le résultat de cette _compréhension_ dans une liste, on met le tout entre crochets. Regardons comment cela fonctionne dans notre cas de nettoyage de liste : "
   ]
  },
  {
   "cell_type": "code",
   "execution_count": null,
   "metadata": {},
   "outputs": [],
   "source": [
    "my_clean_list_too = [word.strip() for word in my_dirty_list]\n",
    "my_clean_list_too"
   ]
  },
  {
   "cell_type": "markdown",
   "metadata": {},
   "source": [
    "Vous pouvez donc lire la première ligne du code ci-dessus à partir du `for` : pour chaque mot de `my_dirty_list`, on va appliquer `.rstrip()`, tandis que les crochets servent bien à accumuler les résultats à la manière d'un appel à la méthode `.append()`. Rien ne vous limite au niveau des fonctions que vous pouvez utiliser, bien entendu !\n",
    "\n",
    "__Exercice__ : \n",
    "\n",
    "* Essayez de convertir la liste de nombres `my_french_numbers`, formatée comme une liste de chaînes de caractère _à la francaise_ en une liste de `float` avec une liste en compréhension.\n",
    "* (plus difficile ! ) créez une liste en compréhension ne contenant que les multiples de 3 contenus dans `my_too_long_list`. Vous avez le droit d'écrire une instruction `if ... ` _après_ le `for ... in` dans la liste en compréhension. "
   ]
  },
  {
   "cell_type": "code",
   "execution_count": null,
   "metadata": {},
   "outputs": [],
   "source": [
    "my_french_numbers = ['3,78', '26,76', '3,22', '9,32', '3,141592']\n",
    "my_too_long_list = [3, 23, 71, 26, 12, 47, 53, 24, 18, 66]\n",
    "\n",
    "# You can do this !"
   ]
  },
  {
   "cell_type": "markdown",
   "metadata": {},
   "source": [
    "------------------------------\n",
    "\n",
    "### Boucler efficacement sur plusieurs variables avec `zip()`\n",
    "\n",
    "Dans votre vie de programmeur.euse, vous allez parfois être confronté.e à des boucles `for` un peu vexantes où vous aurez besoin de parcourir plusieurs objets dans votre boucle. Prenons un exemple concret, où nous souhaitons effectuer une opération sur les éléments de deux listes (du même indice) et enregistrer le résultat dans une troisième liste. Les habitués de MATLAB sauront qu'il peuvent utiliser un `index` dans une boucle `for` afin de définir les valeurs de `x` et `y` 'actuelles' lors de l'exécution de la boucle. Le code ressemblera donc à cela :  "
   ]
  },
  {
   "cell_type": "code",
   "execution_count": null,
   "metadata": {},
   "outputs": [],
   "source": [
    "x = list(range(10))\n",
    "y = list(range(0,20,2))\n",
    "z = []\n",
    "\n",
    "for index in range(len(x)):\n",
    "    z.append(x[index]*y[index]**2)"
   ]
  },
  {
   "cell_type": "markdown",
   "metadata": {},
   "source": [
    "En Python, il est possible de se débarrasser des `[index]` disgracieux dans ces boucles en utilisant la fonction `zip()`. Cette fonction va 'combiner' ces deux listes de $N$ `float` en une liste de $N$ `tuple` contenant deux éléments*. Pour l'instant, rien de très utile, me direz-vous. _Cependant, cela vous permet de faire une boucle `for` sur le tuple_, en écrivant quelque chose comme ceci :\n",
    "\n",
    "<small>* En fait, si on veut vraiment obtenir la liste, il faut faire `list(zip(...))`, mais utiliser `zip()` tout seul fonctionne très bien dans la plupart des cas. Vous pouvez également demander au résultat d'être un `tuple` plutôt qu'une liste, auquel cas vous écrirez `tuple(zip(...))` ... </small>"
   ]
  },
  {
   "cell_type": "code",
   "execution_count": null,
   "metadata": {},
   "outputs": [],
   "source": [
    "result = []\n",
    "for now in zip(x,y):\n",
    "    (xnow, ynow) = now \n",
    "    result.append(xnow*ynow**2)"
   ]
  },
  {
   "cell_type": "markdown",
   "metadata": {},
   "source": [
    "La forme suivante n'a pas encore trop d'intérêt, mais en fait Python est capable de comprendre qu'il y a deux objets à chaque itération de la boucle, et on a _de facto_ le droit d'écrire directement : "
   ]
  },
  {
   "cell_type": "code",
   "execution_count": null,
   "metadata": {},
   "outputs": [],
   "source": [
    "result = []\n",
    "for xnow, ynow in zip(x,y):\n",
    "    result.append(xnow*ynow**2)"
   ]
  },
  {
   "cell_type": "markdown",
   "metadata": {},
   "source": [
    "Cela est déjà plus concis ! Et, si vous avez vu les affaires de [liste en compréhension](#listes-en-comprehension) ci-dessus, vous savez peut-être que vous pouvez finir avec un code sur une seule ligne : "
   ]
  },
  {
   "cell_type": "code",
   "execution_count": null,
   "metadata": {},
   "outputs": [],
   "source": [
    "result = [xnow*ynow**2 for xnow, ynow in zip(x,y)] # Nice, eh ?"
   ]
  },
  {
   "cell_type": "markdown",
   "metadata": {},
   "source": [
    "__Quiz__ : \n",
    "\n",
    "* Essayez de créer un dictionnaire avec la commande `dict()` et un appel à `zip()` à partir des listes `name` et `grades`.\n",
    "* Que se passe-t-il si une des listes dans mon `zip()` est plus courte que l'autre ?"
   ]
  },
  {
   "cell_type": "code",
   "execution_count": null,
   "metadata": {},
   "outputs": [],
   "source": [
    "names = ['Brian', 'Lupita', 'Yanyan', 'Valeria', 'Giorgios', 'Roberto', 'Tomoko']\n",
    "grades = [10,17,18,16,15,17,13]\n",
    "\n",
    "# OOOhhh, boy. "
   ]
  },
  {
   "cell_type": "markdown",
   "metadata": {},
   "source": [
    "---------------------------\n",
    "\n",
    "### Python sur votre ordinateur \n",
    "\n",
    "Maintenant que vous êtes un professionnel de Python, vous vous dites peut-être qu'il serait pas mal d'avoir une installation _locale_ de Pyton, car celle-ci vous permettrait d'installer vous-même n'importe quel paquet, extension, et vous auriez également le choix de l'éditeur de code avec lequel vous travaillez. \n",
    "\n",
    "Sachez que tout cela est possible, _même si vous n'êtes pas administrateur de votre ordinateur !_ Je vais vous montrer deux manières d'installer et d'utiliser Python chez vous."
   ]
  },
  {
   "cell_type": "markdown",
   "metadata": {},
   "source": [
    "#### Anaconda \n",
    "\n",
    "[Anaconda](https://www.anaconda.com/products/distribution) est la version 'usine à gaz' de Python pour les scientifiques. Les anacondas sont en effet connus pour être plus gros que les Pythons :-) . Son principal avantage est qu'il contient déjà de nombreux paquets pré-installés très utiles pour les scientifiques ([Numpy](./Application_A_Numpy.ipynb), [Scipy](./Application_C_Scipy.ipynb), [Matplotlib](./Application_B_Matplotlib.ipynb), [Pandas](./Application_D_Pandas.ipynb) ...) et qu'il inclut des éditeurs de code comme Spyder et JupyterLab (celui que vous êtes probablement en train d'utiliser en ligne en ce moment !)\n"
   ]
  },
  {
   "cell_type": "markdown",
   "metadata": {},
   "source": [
    "##### Installation et démarrage\n",
    "\n",
    "Tout d'abord, téléchargez puis exécutez l'installeur Anaconda disponible à l'adresse [suivante](https://www.anaconda.com/products/distribution). Une fois Anaconda installé, lancez simplement le Navigateur Anaconda depuis votre menu démarrer ou vos applications. Vous pouvez alors directement exécuter JupyterLab depuis ce Navigateur, et enfin vous retrouver en terrain familier :-) : \n",
    "\n",
    "![img](./resources/jupyter_lab_anaconda.gif)\n",
    "\n",
    "Depuis le navigateur, vous pouvez également lancer [Spyder](https://www.spyder-ide.org/) qui est une forme de MATLAB basée en Python. Celui-ci travaille principalement avec des fichiers Python 'bruts' en `.py`. "
   ]
  },
  {
   "cell_type": "markdown",
   "metadata": {},
   "source": [
    "##### Lister et installer des modules\n",
    "\n",
    "Pour installer de nouveaux modules, vous allez devoir passer par la ... _ligne de commande_ ! C'est le début de votre carrière de hackeur informatique. Démarrez le navigateur Anaconda, et lancez le `Powershell Prompt` qu'il propose. _Note_ : je ne sais pas trop quel est l'équivalent sous Mac et Linux, mais quelque chose comme `shell` est normalement une bonne idée. Vous devriez être accueilli sur une fenêtre du genre :\n",
    "\n",
    "![img](./resources/hack_fbi.gif)\n",
    "\n",
    "Depuis cette fenêtre, vous pouvez taper des commandes associées à Anaconda avec la commande __`conda`__. \n",
    "\n",
    "Par exemple, je peux _lister_ les modules additionnels déjà installés sur mon ordinateur avec :\n",
    "```\n",
    "conda list \n",
    "```\n",
    "\n",
    "Il est possible de _mettre à jour_ des modules déjà installés en invoquant la commande :\n",
    "```\n",
    "conda update mon_module\n",
    "```\n",
    "\n",
    "Vous pouvez supprimer des paquets en écrivant : \n",
    "```\n",
    "conda uninstall mon_module\n",
    "```\n",
    "\n",
    "Vous pouvez enfin installer des nouveaux modules en utilisant :\n",
    "```\n",
    "conda install mon_module\n",
    "``` \n",
    "Cela installera `mon_module` (cela peut prendre du temps) dans votre distribution Anaconda. Vous devrez confirmer en tapant `Y` que vous voulez bien installer le paquet, tandis que l'installateur vous précisera ce qui va être téléchargé, ajouté, modifié et supprimé dans vos paquets. Parfois, le paquet n'est pas trouvé, par exemple pour [trackpy](http://soft-matter.github.io/trackpy/v0.5.0/index.html). Dans un tel cas, je vous conseille (en fait, `Trackpy` et de nombreux paquets un peu plus _artisanaux_ vous conseillent) de mettre d'abord à jour `conda` en écrivant \n",
    "\n",
    "``` \n",
    "conda update conda\n",
    "```\n",
    "\n",
    "On va ensuite forcer `conda` à installer le paquet depuis un _canal_ bien précis (spécifié par un `-c`), nommé `conda-forge`. Pour installer trackpy, on va alors écrire :\n",
    "\n",
    "``` \n",
    "conda install -c conda-forge trackpy\n",
    "```\n",
    "\n",
    "Si vous voulez installer une version particulière d'un paquet, par exemple ici trackpy 0.3.1, vous pouvez le préciser avec l'opérateur `=`\n",
    "\n",
    "```\n",
    "conda install -c conda-forge trackpy=0.3.1\n",
    "```"
   ]
  },
  {
   "cell_type": "markdown",
   "metadata": {},
   "source": [
    "#### Python avec VSCode\n",
    "\n",
    "Pour ceux qui n'aiment pas trop le format 'tout-en-un' d'Anaconda, il est possible d'installer Python tout simplement depuis ... [le site de Python](https://www.python.org/) :-) . Dans ce cas, vous installerez une version plus minimale et flexible de Python, mais elle sera peut-être un peu moins intuitive qu'Anaconda. Une fois de plus, __aucun besoin d'être administrateur de votre ordinateur__ pour installer tous les programmes ici."
   ]
  },
  {
   "cell_type": "markdown",
   "metadata": {},
   "source": [
    "##### Installer Python tout seul\n",
    "\n",
    "Allez tout d'abord sur la page des [téléchargements de Python](https://www.python.org/downloads/). Celle-ci liste les branches majeures (3.8, 3.11, etc.) de Python actuellement en développement, ou toujours maintenues dans une liste en haut de la page. Dans le bas de la page, Python vous propose de télécharger les _versions à jour_ correspondant à chaque branche majeure de Python (à l'heure où j'écris ce tutorial, c'est 3.11.__0__, 3.10.__8__, 3.9.__15__ et 3.8.__15__). Je vous conseille de télécharger une _branche_ de Python qui a déjà un peu de la bouteille, par exemple __3.10__ fin 2022, et de télécharger la _version à jour_ correspondant à cette _branche_, donc __3.10.8__. Je les ai ici encadrés en rouge.\n",
    "\n",
    "![img](./resources/install_python.png)\n",
    "\n",
    "Lorsque vous avez cliqué sur ce lien, allez en bas de la page suivante afin de télécharger l'installeur de Python correspondant à votre système d'exploitation. \n",
    "\n",
    "![img](./resources/install_python_suite.png)\n",
    "\n",
    "Lancez ensuite l'installeur. Une installation standard est tout à fait adaptée à nos besoins. Mais faites bien attention à ajouter Python à vos variables d'environnement en cochant la case du bas !\n",
    "\n",
    "![img](./resources/install_python_next.png)\n"
   ]
  },
  {
   "cell_type": "markdown",
   "metadata": {},
   "source": [
    "##### Installer et configurer Visual Studio Code\n",
    "\n",
    "Rien de très compliqué cette fois-ci pour installer [Visual Studio Code](https://code.visualstudio.com/), également appelé vscode. Allez sur la page de l'éditeur et lancez l'installeur. Vous pouvez laisser tous les paramètres par défaut, aucun souci là-dessus. Une fois le logiciel installé, lancez-le, vous tomberez sur une page d'accueil qui vous demandera de choisir certains paramètres, par exemple le thème de votre éditeur. N'hésitez pas à passer un peu de temps pour trouver le thème qui vous convient le mieux ! Vous pourrez également changer la langue par défaut du logiciel, une petite fenêtre vous le suggèrera si elle détecte que votre ordinateur est français. \n",
    "\n",
    "![img](./resources/vscode_welcome.png)\n",
    "\n",
    "Essayons maintenant d'ouvrir un fichier Python. Vous pouvez simplement créer un nouveau fichier et l'enregistrer simplement en `.py`, vous pouvez ouvrir un fichier `.py` déjà existant. VScode va alors reconnaître le format du fichier et vous proposer d'installer des _extensions_ Python. Acceptez d'installer ces extensions :\n",
    "\n",
    "![img](./resources/vscode_install_python.png)\n",
    "\n",
    "Si vous avez raté le bouton, allez dans le volet 'Extensions' de vscode (encadré vert de la première image) et recherchez Python avant de l'installer. On y est presque !\n",
    "\n",
    "Si vous avez créé ou ouvert un fichier `.py`, vous pouvez vérifier dans la barre d'état du logiciel que votre version de Python est bien détectée :\n",
    "\n",
    "![img](./resources/vscode_choose_python_version.gif)\n",
    "\n",
    "Si vous avez ouvert un fichier `.ipynb`, vous pouvez vérifier également que votre _noyau_ est bien créé avec votre version de Python :\n",
    "\n",
    "![img](./resources/vscode_choose_jupyter_version.gif)\n",
    "\n",
    "J'aime beaucoup ce logiciel, car comme nous l'avons déjà vu dans le [Tutoriel 4](./Tutorial_4_Imports_functions.ipynb), vscode reconnaît automatiquement les fichiers, méthodes, balises, etc. qui sont accessibles à l'utilisateur et les affiche dans des vignettes contextuelles, qui sont une aide extrêmement précieuse. Vous pouvez également placer votre curseur sur le nom des fonctions que vous appelez afin d'ouvrir une autre fenêtre d'aide contextuelle qui, elle, va détailler la syntaxe de la fonction. Très pratique pour jeter un rapide coup d'oeil aux arguments obligatoires à donner à manger à ces fonctions et aux éventuels arguments optionnels. "
   ]
  },
  {
   "cell_type": "markdown",
   "metadata": {},
   "source": [
    "##### Installer et gérer les modules avec `pip`\n",
    "\n",
    "Pour installer des modules supplémentaires sur votre ordinateur, vous allez devoir utiliser à nouveau la ligne de commande, cette fois-ci appairée au module Python `pip` qui gère l'installation des autres modules."
   ]
  },
  {
   "cell_type": "markdown",
   "metadata": {},
   "source": [
    "* Sous Windows, la manière la plus simple d'ouvrir un terminal en ligne de commande est d'appuyer sur la touche Windows `⊞` puis de taper `powershell` et d'appuyer sur `Entrée`. Sa syntaxe est très proche de celle de `conda` : \n",
    "\n",
    "![img](./resources/powershell.png)\n",
    "\n",
    "* Vous pouvez également appuyer sur `Ctrl + ù` (sur les claviers AZERTY) afin d'ouvrir un terminal du même type directement depuis VScode. Chouette, non ?"
   ]
  },
  {
   "cell_type": "markdown",
   "metadata": {},
   "source": [
    "Vous pouvez ensuite effectuer les commandes traditionnelles, par exemple pour lister les modules : \n",
    "\n",
    "``` pip list```\n",
    "\n",
    "Pour montrer la version d'un module `my_module`: \n",
    "\n",
    "``` pip show my_module ```\n",
    "\n",
    "Pour installer un module :\n",
    "\n",
    "``` pip install my_module ```\n",
    "\n",
    "Parfois, `pip` plantera lors de l'installation de certains modules car vous n'êtes pas administrateur de l'ordinateur. Vous pouvez alors rajouter `--user` pour éviter ces messages d'erreur.\n",
    "\n",
    "Pour mettre à jour un module, vous pouvez écrire : \n",
    "\n",
    "``` pip install my_module --upgrade```\n",
    "\n",
    "Et pour installer une version spécifique d'un paquet, vous pouvez la préciser avec `==` (cette fois-ci, __deux__ signes égal) : \n",
    "\n",
    "``` pip install my_module==0.3.1``` \n",
    "\n",
    "Ici, pas vraiment besoin d'utiliser un _canal_ de distribution des paquets. Sachez qu'un _index_ des modules que `pip` est capable d'aller chercher est disponible [sur un site dédié, Pypi](https://pypi.org/)."
   ]
  },
  {
   "cell_type": "markdown",
   "metadata": {},
   "source": [
    "----------------------------------------\n",
    "\n",
    "🏆 🏆 🏆\n",
    "\n",
    "__Voilà !__ C'est la fin des tutoriels obligatoires. Vous êtes maintenant prêt.e à coder en Python avec un bel éditeur, et ce directement depuis votre ordinateur. Et vous pouvez enfin rajouter une ligne `Python` dans votre CV. Guido serait fier de vous ! \n",
    "\n",
    "![img](./resources/Guido.jpg)\n",
    "\n",
    "🏆 🏆 🏆\n",
    "\n",
    "------------------------------------------"
   ]
  },
  {
   "cell_type": "markdown",
   "metadata": {},
   "source": []
  }
 ],
 "metadata": {
  "kernelspec": {
   "display_name": "Python 3 (ipykernel)",
   "language": "python",
   "name": "python3"
  },
  "language_info": {
   "codemirror_mode": {
    "name": "ipython",
    "version": 3
   },
   "file_extension": ".py",
   "mimetype": "text/x-python",
   "name": "python",
   "nbconvert_exporter": "python",
   "pygments_lexer": "ipython3",
   "version": "3.9.7"
  },
  "vscode": {
   "interpreter": {
    "hash": "cb9c252e610b593a3421828f92740a33c32c552b9658c846af1824aa6c7c0cc9"
   }
  }
 },
 "nbformat": 4,
 "nbformat_minor": 4
}
