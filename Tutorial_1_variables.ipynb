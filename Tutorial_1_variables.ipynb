{
 "cells": [
  {
   "cell_type": "markdown",
   "metadata": {},
   "source": [
    "## Premiers Pas : variables et opérations de base\n",
    "\n",
    "-------------------------------------------------------------\n",
    "\n",
    "### `Hello World` \n",
    "\n",
    "Commençons par le standard `Hello World`. Nous allons demander à Python d'afficher du texte pour l'utilisateur (c'est vous !). Sélectionnez la cellule ci-dessous en cliquant dessus, puis appuyez sur `Shift` (`Maj` en bon françois) et `Enter` (`Entrée` en bon françois) en même temps pour lancer (on dit _exécuter_) la cellule et obtenir le résultat :"
   ]
  },
  {
   "cell_type": "code",
   "execution_count": null,
   "metadata": {},
   "outputs": [],
   "source": [
    "print('Bonjour tout le monde')"
   ]
  },
  {
   "cell_type": "markdown",
   "metadata": {},
   "source": [
    "La fonction `print` est une des fonctions [_natives_](https://docs.python.org/3/library/functions.html) de Python, c'est à dire qu'elle est automatiquement reconnue par Python. \n",
    "\n",
    "-------------------------------------------------------\n",
    "\n",
    "### Opérations de base\n",
    "\n",
    "#### Additions\n",
    "\n",
    "Maintenant, effectuons des additions, et regardons ce que cela produit : "
   ]
  },
  {
   "cell_type": "code",
   "execution_count": null,
   "metadata": {},
   "outputs": [],
   "source": [
    "1 + 1"
   ]
  },
  {
   "cell_type": "markdown",
   "metadata": {},
   "source": [
    "Vous voyez ici deux choses:  déjà, l'addition s'effectue correctement. Cela veut dire que Python a reconnu que les `1` que nous avons tapés sont bien des entiers (ou des nombres à virgule), ce qui n'est pas le cas dans tous les langages (par exemple le C).\n",
    "\n",
    "Mais en plus ... le résultat de l'opération s'affiche même sans avoir appelé la fonction \"print\" ! C'est une des spécificités du Python 'en cellules' que nous utilisons ici. Nous y reviendrons plus tard. Essayons maintenant d'ajouter des _pommes_ et des _poires_, et regardons si cela est possible :"
   ]
  },
  {
   "cell_type": "code",
   "execution_count": null,
   "metadata": {},
   "outputs": [],
   "source": [
    "1 + 'toto'"
   ]
  },
  {
   "cell_type": "markdown",
   "metadata": {},
   "source": [
    "Vous voyez ici qu'il n'est pas possible d'ajouter `1` et `'toto'` à la fois ; vous vous doutez qu'ils ont une nature différente. En effet, `1` est un entier (`int`), tandis que `'toto'` est une chaîne de caractères (`str` pour string). Vous avez déjà peut-être remarqué que notre `'Bonjour tout le monde'` était entouré de guillemets, comme `'toto'`: c'est ainsi qu'on définit des chaînes de caractère, et que Python les reconnaît. Les nombres simples n'ont, eux, rien du tout.\n",
    "\n",
    " On peut, par contre, tout à fait ajouter des chaînes de caractère ensemble ; le résultat vous surprendra peut-être :"
   ]
  },
  {
   "cell_type": "code",
   "execution_count": null,
   "metadata": {},
   "outputs": [],
   "source": [
    "'Je suis' + 'assez content'"
   ]
  },
  {
   "cell_type": "markdown",
   "metadata": {},
   "source": [
    "Vous voyez ici que le résultat est un 'collage' (on parle de _concaténation_) des chaînes de caractère ensemble. Le résultat ici est un peu approximatif, car il manque une espace entre les deux parties du texte. On peut la rajouter dans le bout de chaîne initial ou final, ou même rajouter un troisième bout de chaîne seulement avec l'espace, par exemple en tapant `'Je suis'`  + `' '` + `'très content'`.\n",
    "\n",
    "#### Multiplications\n",
    "\n",
    "Essayons maintenant d'effectuer des multiplications, à l'aide de `*` et faisons volontairement des bêtises : "
   ]
  },
  {
   "cell_type": "code",
   "execution_count": null,
   "metadata": {},
   "outputs": [],
   "source": [
    "3*3\n",
    "3*'toto'"
   ]
  },
  {
   "cell_type": "markdown",
   "metadata": {},
   "source": [
    "D'une part, vous voyez que Python ne vous renvoie que le résultat de la dernière ligne, et en plus, on arrive à multiplier des _pommes_ et des _poires_ ! En effet, il est possible de multiplier les chaînes de caractères par un entier, cela va alors _répéter_ la chaîne `n` fois puis vous la renvoyer. Les fonctions en Python peuvent _fonctionner_ de manière différente en fonction des types de variables qu'on leur donne en entrée, et c'est le cas à la fois pour les fonctions `+` et `*` ! On dit que ces opérateurs sont _surchargés_.\n",
    "\n",
    "#### Divisions, exposants, etc.\n",
    "\n",
    "Il est également possible avec Python d'effectuer d'autres opérations. \n",
    "\n",
    "- `/` représente la division exacte\n",
    "- `//` représente le quotient de la division Euclidienne\n",
    "- `%` représente la fonction _modulo_, qui renvoie le reste de la division Euclidienne\n",
    "- `**` ( __et non__ `^`) représente la fonction puissance\n",
    "\n",
    "Vous pourrez vérifier si ces fonctions donnent des résultats avec des chaînes de caractère en entrée !"
   ]
  },
  {
   "cell_type": "code",
   "execution_count": null,
   "metadata": {},
   "outputs": [],
   "source": [
    "print(2/3)\n",
    "print(7//3)\n",
    "print(2**3)\n",
    "print(2^4)"
   ]
  },
  {
   "cell_type": "markdown",
   "metadata": {},
   "source": [
    "-----------------------------------------------------\n",
    "\n",
    "### Nommer ses variables pour réutiliser ses résultats\n",
    "\n",
    "Pour l'instant, nous n'avons jamais demandé à Python de retenir le nom de nos objets, qu'on appelle des _variables_. Désormais, on va leur donner un nom. Les architectes de Python souhaiteraient que vous donniez à vos variables des noms explicites (évitez `truc1`), qui représentent ce que vous faites, et en anglais. Par exemple, `nb_particles` est un bon nom de variable si vous essayez de compter des particules ; `avg_volume_particles` pourrait être une autre variable avec laquelle vous travaillez. Essayons : "
   ]
  },
  {
   "cell_type": "code",
   "execution_count": null,
   "metadata": {},
   "outputs": [],
   "source": [
    "n_particles = 12\n",
    "avg_volume_particles = 3\n",
    "\n",
    "volume_total = n_particles*avg_volume_particles"
   ]
  },
  {
   "cell_type": "markdown",
   "metadata": {},
   "source": [
    "Cette fois-ci, Python n'affiche pas le résultat ! Vous pouvez rajouter une ligne contenant simplement `volume_total` pour avoir une idée du volume total, ou vous pouvez imprimer le résultat sans lui donner de nom en remplaçant la dernière ligne par :"
   ]
  },
  {
   "cell_type": "code",
   "execution_count": null,
   "metadata": {},
   "outputs": [],
   "source": [
    "print(n_particles*avg_volume_particles)"
   ]
  },
  {
   "cell_type": "markdown",
   "metadata": {},
   "source": [
    "Vous aurez constaté ici que Python s'est souvenu du nom des variables déclarées dans la cellule ci-dessus. Pratique ! \n",
    "\n",
    "Revenons à nos variables. Bien que `n_particles` soit un nombre, `avg_volume_particles` a, pour les physiciens, une unité, mais il est difficile de l'ajouter dans les variables Python. Une bonne idée pour ne pas se tromper dans nos applications est de rajouter un petit commentaire à côté de la variable, qui sera ignoré par la partie qui exécute le code Python, mais qui sera utile à quiconque relira votre code :-). Les commentaires courts s'incluent en ajoutant un caractère `#`. N'hésitez pas à mettre ce commentaire en anglais ! "
   ]
  },
  {
   "cell_type": "code",
   "execution_count": null,
   "metadata": {},
   "outputs": [],
   "source": [
    "n_particles = 12\n",
    "avg_volume_particles = 3        # Volume in m^3\n",
    "total_available_volume = 1718   # Volume in ft^3"
   ]
  },
  {
   "cell_type": "markdown",
   "metadata": {},
   "source": [
    "__Mini quiz__ : \n",
    "1. Calculez, puis affichez la fraction volumique des particules dans cet exemple. Quelle valeur obtenez-vous ? Cela correspond-il à un arrangement particulier ?\n",
    "2. Que se passerait-il si vous essayiez d'ajouter `'5'` à `'douze'` ?\n",
    "\n",
    "-------------------------------------------------\n",
    "\n",
    "### Transformer ses variables : changer de _type_ !\n",
    "\n",
    "Il est possible de forcer ses variables à changer d'un type à un autre ! Prenons un exemple concret. J'initialise un nombre à une valeur donnée `number = 3`, et je veux ensuite afficher un message du genre `'Le nombre choisi est' + number`. Comme on l'a vu précédemment, Python ne va pas vouloir qu'on ajoute un _int_ à un _str_ ! Pour résoudre notre problème, on va alors forcer l'entier à devenir une chaîne de caractères ! On peut alors tout simplement écrire : "
   ]
  },
  {
   "cell_type": "code",
   "execution_count": 1,
   "metadata": {},
   "outputs": [
    {
     "name": "stdout",
     "output_type": "stream",
     "text": [
      "Le nombre choisi est : 3\n"
     ]
    }
   ],
   "source": [
    "number = 3\n",
    "print('Le nombre choisi est : ' + str(number))"
   ]
  },
  {
   "cell_type": "markdown",
   "metadata": {},
   "source": [
    "On peut également forcer une chaîne de caractères à devenir un nombre en faisant l'opération inverse :"
   ]
  },
  {
   "cell_type": "code",
   "execution_count": 3,
   "metadata": {},
   "outputs": [
    {
     "name": "stdout",
     "output_type": "stream",
     "text": [
      "19\n"
     ]
    }
   ],
   "source": [
    "text_number = '12'\n",
    "number = 7\n",
    "result = int(text_number) + number\n",
    "print(result)"
   ]
  },
  {
   "cell_type": "markdown",
   "metadata": {},
   "source": [
    "Vous ne l'avez probablement pas remarqué, mais la fonction `print(variable)` fonctionne avec à la fois des nombres et des chaînes de caractère. En fait, la fonction va automatiquement détecter la nature de la variable qu'on lui passe en entrée, et agir en conséquence. La fonction `print` est donc assez _intelligente_, et nous pouvons l'être aussi, en demandant à Python de nous renvoyer le _type_ d'une variable avec la fonction ... `type` ! Le résultat de cette fonction n'est pas une chaîne de caractères, il faut donc le convertir pour l'afficher :"
   ]
  },
  {
   "cell_type": "code",
   "execution_count": 10,
   "metadata": {},
   "outputs": [
    {
     "name": "stdout",
     "output_type": "stream",
     "text": [
      "Text is of type : <class 'str'>\n",
      "Number is of type : <class 'int'>\n"
     ]
    }
   ],
   "source": [
    "text = 'I am not a string ... or am I ?'\n",
    "number = 13 + 12**7\n",
    "print('Text is of type : ' + str(type(text)))\n",
    "print('Number is of type : ' + str(type(number)))"
   ]
  },
  {
   "cell_type": "markdown",
   "metadata": {},
   "source": [
    "_Note_: Le _type_ ou la _classe_ d'une variable est essentiellement la même chose. \n",
    "\n",
    "Vous voyez dans un premier temps qu'il est tout à fait possible d'imbriquer les fonctions `str` et `type`, si tant est que la sortie d'une fonction (par exemple `type`) est d'un type compatible avec l'entrée de la fonction qui appelle cette sortie (ici, `str`). \n",
    "\n",
    "Parfois, le type d'une variable change tout seul ! C'est par exemple le cas si nous effectuons l'opération suivante : "
   ]
  },
  {
   "cell_type": "code",
   "execution_count": 16,
   "metadata": {},
   "outputs": [
    {
     "name": "stdout",
     "output_type": "stream",
     "text": [
      "Number 1 is of class :<class 'int'>\n",
      "Number 1 is of class :<class 'float'>\n",
      "Sum is of class :<class 'float'>\n"
     ]
    }
   ],
   "source": [
    "number_1 = 12\n",
    "number_2 = 1.53286794\n",
    "sum_of_numbers = number_1 + number_2\n",
    "print('Number 1 is of class : ' + str(type(number_1)))\n",
    "print('Number 1 is of class : ' + str(type(number_2)))\n",
    "print('Sum is of class : '      + str(type(sum_of_numbers)))"
   ]
  },
  {
   "cell_type": "markdown",
   "metadata": {},
   "source": [
    "On a ici introduit le concept de nombre à virgule _flottante_, également appelé `float`. \n",
    "\n",
    "Vous aurez également remarqué que Python est capable d'ajouter des _pommes_ `int` à des _bananes_ `float`, ce qui n'était pas possible avec les _poires_ `str`. En fait, Python suit notre intuition mathématique, qui sait très bien ajouter des nombres entiers à des nombres non entiers. \n",
    "\n",
    "__Mini-quiz__ (difficile) : d'après vous, quelle est le type (ou classe) des objets suivants ? Vous pouvez les tester un par un en utilisant la fonction `type` !"
   ]
  },
  {
   "cell_type": "code",
   "execution_count": 11,
   "metadata": {},
   "outputs": [
    {
     "ename": "ValueError",
     "evalue": "invalid literal for int() with base 10: 'seventy-five'",
     "output_type": "error",
     "traceback": [
      "\u001b[1;31m---------------------------------------------------------------------------\u001b[0m",
      "\u001b[1;31mValueError\u001b[0m                                Traceback (most recent call last)",
      "\u001b[1;32mC:\\Users\\SAINT-~1\\AppData\\Local\\Temp/ipykernel_5828/1231342991.py\u001b[0m in \u001b[0;36m<module>\u001b[1;34m\u001b[0m\n\u001b[0;32m      1\u001b[0m \u001b[0mvariable_1\u001b[0m \u001b[1;33m=\u001b[0m \u001b[1;34m'12'\u001b[0m\u001b[1;33m\u001b[0m\u001b[1;33m\u001b[0m\u001b[0m\n\u001b[0;32m      2\u001b[0m \u001b[0mvariable_2\u001b[0m \u001b[1;33m=\u001b[0m \u001b[1;36m50.75\u001b[0m\u001b[1;33m\u001b[0m\u001b[1;33m\u001b[0m\u001b[0m\n\u001b[1;32m----> 3\u001b[1;33m \u001b[0mvariable_3\u001b[0m \u001b[1;33m=\u001b[0m \u001b[0mint\u001b[0m\u001b[1;33m(\u001b[0m\u001b[1;34m'seventy-five'\u001b[0m\u001b[1;33m)\u001b[0m\u001b[1;33m\u001b[0m\u001b[1;33m\u001b[0m\u001b[0m\n\u001b[0m",
      "\u001b[1;31mValueError\u001b[0m: invalid literal for int() with base 10: 'seventy-five'"
     ]
    }
   ],
   "source": [
    "variable_1 = '12'\n",
    "variable_3 = int('seventy-five')\n",
    "variable_4 = type(72)"
   ]
  },
  {
   "cell_type": "markdown",
   "metadata": {},
   "source": [
    "Il y avait pas mal de pièges dans cette sélection :-) . \n",
    "* Le premier résultat est entre guillemets, c'est donc une chaîne de caractères (`str`).\n",
    "* Le deuxième ne fonctionne pas, car Python n'est pas encore capable de convertir un nombre écrit 'en toutes lettres' en un `int` \n",
    "* Le troisième est encore plus retors : la fonction `type()` renvoie une variable de type `type`, qui existe bel et bien, comme les `int` ou les `str`, même si cela nous donne mal à la tête !"
   ]
  },
  {
   "cell_type": "markdown",
   "metadata": {},
   "source": [
    "--------------------------------------\n",
    "\n",
    "### Listes, tuples et dictionnaires\n",
    "\n",
    "Nos variables, pour l'instant, sont un peu limitées. Supposons maintenant que je veuille entrer la taille de nombreuses particules ou les notes de chaque élève du dernier TD. Comment peut-on faire ? La solution réside dans de nouveaux types de données, les listes (`list`), tuples (`tuples`) et les dictionnaires (`dict`).\n",
    "\n",
    "#### Les listes\n",
    "\n",
    "Elles sont des __collections d'objets tous du même type__, par exemple uniquement des nombres, ou uniquement des chaînes de caractère, ou même ... d'autres listes ! On les repère facilement par la présence de crochets `[` et `]` qui entourent les éléments de la liste, qui sont séparés par des virgules (__attention donc aux habitués de MATLAB !__) :"
   ]
  },
  {
   "cell_type": "code",
   "execution_count": 14,
   "metadata": {},
   "outputs": [],
   "source": [
    "grades_list = [18,11,7,12,13,6,10,9,11,14,16,10,11,9,13,17,12]\n",
    "song_word_list = ['a', 'gadou', 'dou', 'dou', 'pousse', 'la', 'banane']"
   ]
  },
  {
   "cell_type": "markdown",
   "metadata": {},
   "source": [
    "Pour l'instant, nos listes ne sont pas très utiles, car nous ne savons pas comment extraire un élément de celles-ci ! Pour cela, on va _indexer_ la liste en question. L'indice de chaque objet est son 'numéro d'ordre' dans la liste, le premier élément ayant pour indice 0. Indexer un tableau s'effectue en appelant la variable puis en mettant l'indice souhaité entre crochets, ce qui donne : "
   ]
  },
  {
   "cell_type": "code",
   "execution_count": 10,
   "metadata": {},
   "outputs": [
    {
     "name": "stdout",
     "output_type": "stream",
     "text": [
      "7\n",
      "dou\n"
     ]
    }
   ],
   "source": [
    "third_grade = grades_list[2]\n",
    "third_word = song_word_list[2]\n",
    "print(third_grade)\n",
    "print(third_word)"
   ]
  },
  {
   "cell_type": "markdown",
   "metadata": {},
   "source": [
    "Pour connaître le nombre d'éléments d'une liste, on peut utiliser la fonction native de Python [`len`](https://docs.python.org/3/library/functions.html#len). Pratique pour vérifier que vous n'avez pas oublié les notes d'un étudiant :-). Encore plus fort, vous pouvez sommer tous les éléments d'une liste avec la fonction [`sum`](https://docs.python.org/3/library/functions.html#sum). Comme cela, vous pouvez rapidement calculer la moyenne de vos élèves. Pour notre douce chanson, la fonction `sum` ne fonctionne pas, et on devra procéder autrement :"
   ]
  },
  {
   "cell_type": "code",
   "execution_count": 18,
   "metadata": {},
   "outputs": [
    {
     "name": "stdout",
     "output_type": "stream",
     "text": [
      "11.705882352941176\n"
     ]
    },
    {
     "ename": "TypeError",
     "evalue": "unsupported operand type(s) for +: 'int' and 'str'",
     "output_type": "error",
     "traceback": [
      "\u001b[1;31m---------------------------------------------------------------------------\u001b[0m",
      "\u001b[1;31mTypeError\u001b[0m                                 Traceback (most recent call last)",
      "\u001b[1;32mC:\\Users\\SAINT-~1\\AppData\\Local\\Temp/ipykernel_11496/1977513099.py\u001b[0m in \u001b[0;36m<module>\u001b[1;34m\u001b[0m\n\u001b[0;32m      2\u001b[0m \u001b[0maverage_grade\u001b[0m \u001b[1;33m=\u001b[0m \u001b[0msum\u001b[0m\u001b[1;33m(\u001b[0m\u001b[0mgrades_list\u001b[0m\u001b[1;33m)\u001b[0m\u001b[1;33m/\u001b[0m\u001b[0mnumber_of_students\u001b[0m\u001b[1;33m\u001b[0m\u001b[1;33m\u001b[0m\u001b[0m\n\u001b[0;32m      3\u001b[0m \u001b[0mprint\u001b[0m\u001b[1;33m(\u001b[0m\u001b[0maverage_grade\u001b[0m\u001b[1;33m)\u001b[0m\u001b[1;33m\u001b[0m\u001b[1;33m\u001b[0m\u001b[0m\n\u001b[1;32m----> 4\u001b[1;33m \u001b[0msum\u001b[0m\u001b[1;33m(\u001b[0m\u001b[0msong_word_list\u001b[0m\u001b[1;33m)\u001b[0m\u001b[1;33m\u001b[0m\u001b[1;33m\u001b[0m\u001b[0m\n\u001b[0m",
      "\u001b[1;31mTypeError\u001b[0m: unsupported operand type(s) for +: 'int' and 'str'"
     ]
    }
   ],
   "source": [
    "number_of_students = len(grades_list)\n",
    "average_grade = sum(grades_list)/number_of_students\n",
    "print(average_grade)\n",
    "sum(song_word_list)"
   ]
  },
  {
   "cell_type": "markdown",
   "metadata": {},
   "source": [
    "Pour des longues listes, il n'est jamais très difficile d'extraire le dernier élément de celle-ci, mais cela est un petit peu fastidieux. Les programmeurs de Python étant particulièrement paresseux, ils ont mis en place un raccourci pour demander les derniers éléments d'une liste _via des indices négatifs_ ! Cela donne en pratique : \n",
    "\n",
    "grades_list     | 8  | 11 | 7  | 12 | 13 | 6  | 10 | ... | 11 | 9  | 13 | 17 | 12 |\n",
    "---------------:|---:|---:|---:|---:|---:|---:|---:|----:|---:|---:|---:|---:|---:|\n",
    "indices positifs| 0  | 1  | 2  | 3  | 4  | 5  | 6  | ... | 12 | 13 | 14 | 15 | 16 |\n",
    "indices négatifs|-17 |-16 |-15 |-14 |-13 |-12 |-11 | ... | -5 | -4 | -3 | -2 | -1 |\n",
    "\n",
    "On peut alors tout à fait demander : "
   ]
  },
  {
   "cell_type": "code",
   "execution_count": 22,
   "metadata": {},
   "outputs": [
    {
     "data": {
      "text/plain": [
       "17"
      ]
     },
     "execution_count": 22,
     "metadata": {},
     "output_type": "execute_result"
    }
   ],
   "source": [
    "grades_list[-2]"
   ]
  },
  {
   "cell_type": "markdown",
   "metadata": {},
   "source": [
    "Supposons maintenant que ma classe de TD était divisée en deux groupes d'étudiants (par exemple, les étudiants 0 à 8 dans un groupe, et les autres de 9 à 16), et que je veux connaître rapidement la moyenne de chaque sous-groupe. On peut demander à Python de nous retourner des sous-parties de notre tableau initial en l'indexant avec une _coupe_ [(un `slice`)](https://stackoverflow.com/questions/509211/understanding-slicing) `a:b` avec `a` l'indice de départ (inclus) et `b` l'indice final (__exclus__). \n",
    "\n",
    "_Notes_ : \n",
    "\n",
    "* On peut omettre l'indice `a` s'il correspond au premier élément de la liste initiale.\n",
    "* De même, on peut omettre l'indice `b` si on veut renvoyer les éléments jusqu'au dernier de la liste initiale.\n",
    "* Renvoyer une sous-liste qui commence à `a`, finit à `b` et prend un élément parmi `n` dans cet intervalle est également possible. Pour cela, on va l'indexer par `a:b:n` !\n",
    "* Il est tout à fait possible de renvoyer un sous-tableau avec des indices négatifs ! Il faudra dans ce cas faire attention à préciser que `n` vaut -1, ou n'importe quel entier négatif, à vrai dire..."
   ]
  },
  {
   "cell_type": "code",
   "execution_count": 26,
   "metadata": {},
   "outputs": [
    {
     "name": "stdout",
     "output_type": "stream",
     "text": [
      "10.75\n",
      "12.75\n"
     ]
    }
   ],
   "source": [
    "group_1_avg = sum(grades_list[:8])/len(grades_list[:8])\n",
    "group_2_avg = sum(grades_list[9:])/len(grades_list[9:])\n",
    "print(group_1_avg)\n",
    "print(group_2_avg)"
   ]
  },
  {
   "cell_type": "markdown",
   "metadata": {},
   "source": [
    "#### Les tuples\n",
    "\n",
    "Les tuples sont des objets un peu plus étranges : contrairement aux listes, ces _conteneurs_ ne sont pas trop regardants sur leur contenu, chaque élément pouvant être d'un type différent. On les crée en utilisant des parenthèses simples `(` et `)` et, une fois de plus, on sépare les éléments contenus dans le tuple par des virgules : "
   ]
  },
  {
   "cell_type": "code",
   "execution_count": 29,
   "metadata": {},
   "outputs": [],
   "source": [
    "my_tuple = (13, 'toto', [1,2,3,4,5], ('abra', 'cadabra'), len(grades_list), sum)"
   ]
  },
  {
   "cell_type": "markdown",
   "metadata": {},
   "source": [
    "Vous vous douterez bien que l'opération `sum` ne va pas très bien fonctionner sur les tuples, mais on peut toujours leur demander leur taille avec la fonction `len`, et on peut les indexer comme des listes avec des indices positifs, négatifs ou des _slices_ plus compliqués du type `a:b:n`. \n",
    "\n",
    "Pour l'instant, la différence entre un tuple et une liste n'est pas très claire, car il semblerait que les listes sont juste _moins flexibles_ que ces derniers. Nous verrons plus tard que les listes permettent de faire des choses qui ne sont pas permises par les tuples. \n",
    "\n",
    "Note : à l'instar des listes qui peuvent contenir d'autres listes, les tuples peuvent eux-mêmes contenir des tuples, ce n'est pas interdit.\n",
    "\n",
    "#### Les dictionnaires\n",
    "\n",
    "Revenons à notre classe d'étudiants. Pour l'instant, nous n'avons pas beaucoup d'empathie pour nos élèves qui ne sont que des numéros, ce qui n'est pas très pratique pour les identifier. Il serait pratique d'associer un nom à la note, voire aux notes de l'élève ! Pour cela, on peut utiliser des _dictionnaires_. Examinons l'exemple suivant : "
   ]
  },
  {
   "cell_type": "code",
   "execution_count": 45,
   "metadata": {},
   "outputs": [
    {
     "data": {
      "text/plain": [
       "14"
      ]
     },
     "execution_count": 45,
     "metadata": {},
     "output_type": "execute_result"
    }
   ],
   "source": [
    "my_grades = {'Mathilde':8 , 'Lyes':11, 'Yacine':7, 'Xavier':12, 'Antoine':13, 'Paul':6, 'Roberto':10, 'Siddartha':9, 'Bruno':11, 'Elin':14, 'Artyom':16, 'Benjamin':10, 'Gary':11, 'Yanyan':9, 'Marco':13, 'Akaki':17, 'Diego':12}\n",
    "my_grades['Elin']"
   ]
  },
  {
   "cell_type": "markdown",
   "metadata": {},
   "source": [
    "On a ici indexé le dictionnaire avec la chaîne de caractères `'Elin'`, qui est une des _clés_ (`keys` en anglais) du dictionnaire. On peut également construire le dictionnaire 'dans l'autre sens', par exemple comme ceci, ce qui est ici plus pratique par exemple pour calculer la moyenne de la classe : "
   ]
  },
  {
   "cell_type": "code",
   "execution_count": 46,
   "metadata": {},
   "outputs": [
    {
     "data": {
      "text/plain": [
       "11.705882352941176"
      ]
     },
     "execution_count": 46,
     "metadata": {},
     "output_type": "execute_result"
    }
   ],
   "source": [
    "my_classroom = {'Students ' : ['Mathilde', 'Lyes', 'Yacine', 'Xavier', 'Antoine', 'Paul', 'Roberto', 'Siddartha', 'Bruno', 'Elin', 'Artyom', 'Benjamin', 'Gary', 'Yanyan', 'Marco', 'Akaki', 'Diego'],\n",
    "                'Grades'    : grades_list}\n",
    "sum(my_classroom['Grades'])/len(my_classroom['Grades'])"
   ]
  },
  {
   "cell_type": "markdown",
   "metadata": {},
   "source": [
    "--------------------------------------------\n",
    "\n",
    "### Manipuler efficacement nos variables avec leurs méthodes associées\n",
    "\n",
    "#### Chaînes de caractères : quelques exemples\n",
    "\n",
    "Les chaînes de caractères, les listes, les tuples et les dictionnaires sont des types de variables plus sophistiqués que des simples nombres entiers ou flottants. Ils possèdent des \"propriétés\" qui vont nous rendre la vie bien pratique. \n",
    "\n",
    "Prenons un exemple concret avec une chaîne de caractères nommée `date_str` qui est en fait une date au format YYYY/mm/dd. Je voudrais obtenir l'année, le mois et le jour correspondant à cette chaîne de caractères. L'objet `date_str` contient en lui-même des \"fonctions\" (appelées _méthodes_) qui agissent sur l'objet en lui-même et renvoient diverses choses qui pourront nous intéresser. L'une d'entre elles s'appelle `split` et elle est particulièrement intéressante, car elle permet de découper ma chaîne de caractères à chaque fois qu'on 'tombe' sur un caractère bien particulier. La méthode _split_ renvoie donc une _liste_ à partir d'une chaîne de caractères. \n",
    "\n",
    "On appelle une méthode d'un objet avec un point `.`, ce qui donne au final : "
   ]
  },
  {
   "cell_type": "code",
   "execution_count": 42,
   "metadata": {},
   "outputs": [
    {
     "data": {
      "text/plain": [
       "23"
      ]
     },
     "execution_count": 42,
     "metadata": {},
     "output_type": "execute_result"
    }
   ],
   "source": [
    "date_str = '2022/12/23'\n",
    "\n",
    "elements = date_str.split('/')\n",
    "year = int(elements[0])\n",
    "month = int(elements[1])\n",
    "day = int(elements[2])\n",
    "day"
   ]
  },
  {
   "cell_type": "markdown",
   "metadata": {},
   "source": [
    "On pourrait également avoir envie de mettre une chaîne de caractères en majuscules, afin de crier votre message sur les toits. Pour cela, on peut utiliser la méthode `upper` qui est 'disponible' pour les chaînes de caractère : "
   ]
  },
  {
   "cell_type": "code",
   "execution_count": 47,
   "metadata": {},
   "outputs": [
    {
     "data": {
      "text/plain": [
       "'THIS IS A SOFT MURMUR ... EVERYTHING IS QUIET'"
      ]
     },
     "execution_count": 47,
     "metadata": {},
     "output_type": "execute_result"
    }
   ],
   "source": [
    "quiet_str = 'a soft murmur ... everything is so quiet here !'\n",
    "quiet_str.upper()"
   ]
  },
  {
   "cell_type": "markdown",
   "metadata": {},
   "source": [
    "De manière assez surprenante, la méthode `upper` ne prend aucun argument, mais comme elle 'fonctionne' comme une fonction, il faut bien veiller à l'appeler avec des parenthèses. \n",
    "\n",
    "La liste complète des _méthodes_ associées aux chaînes de caractère est visible, par exemple [sur ce site](https://www.w3schools.com/python/python_ref_string.asp).\n",
    "\n",
    "#### Listes : quelques exemples\n",
    "\n"
   ]
  }
 ],
 "metadata": {
  "kernelspec": {
   "display_name": "Python 3 (ipykernel)",
   "language": "python",
   "name": "python3"
  },
  "language_info": {
   "codemirror_mode": {
    "name": "ipython",
    "version": 3
   },
   "file_extension": ".py",
   "mimetype": "text/x-python",
   "name": "python",
   "nbconvert_exporter": "python",
   "pygments_lexer": "ipython3",
   "version": "3.9.7"
  },
  "vscode": {
   "interpreter": {
    "hash": "cb9c252e610b593a3421828f92740a33c32c552b9658c846af1824aa6c7c0cc9"
   }
  }
 },
 "nbformat": 4,
 "nbformat_minor": 2
}
