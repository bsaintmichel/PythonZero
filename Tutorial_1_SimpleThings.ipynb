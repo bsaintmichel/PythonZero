{
 "cells": [
  {
   "cell_type": "markdown",
   "metadata": {},
   "source": [
    "## Premiers Pas : classes et opérations de base, booléens\n",
    "\n",
    "-------------------------------------------------------------\n",
    "\n",
    "### `Hello World` \n",
    "\n",
    "Commençons par le standard `Hello World`. Nous allons demander à Python d'afficher du texte pour l'utilisateur (c'est vous !). Sélectionnez la cellule ci-dessous en cliquant dessus, puis appuyez sur `Shift` (`Maj` en bon françois) et `Enter` (`Entrée` en bon françois) en même temps pour lancer (on dit _exécuter_) la cellule et obtenir le résultat :"
   ]
  },
  {
   "cell_type": "code",
   "execution_count": null,
   "metadata": {},
   "outputs": [],
   "source": [
    "print('Bonjour tout le monde')"
   ]
  },
  {
   "cell_type": "markdown",
   "metadata": {},
   "source": [
    "La fonction `print` est une des fonctions [_natives_](https://docs.python.org/3/library/functions.html) de Python, c'est à dire qu'elle est automatiquement reconnue par Python. \n",
    "\n",
    "-------------------------------------------------------\n",
    "\n",
    "### Opérations de base\n",
    "\n",
    "#### Additions\n",
    "\n",
    "Maintenant, effectuons des additions, et regardons ce que cela produit : "
   ]
  },
  {
   "cell_type": "code",
   "execution_count": null,
   "metadata": {},
   "outputs": [],
   "source": [
    "1 + 1"
   ]
  },
  {
   "cell_type": "markdown",
   "metadata": {},
   "source": [
    "Vous voyez ici deux choses:  déjà, l'addition s'effectue correctement. Cela veut dire que Python a reconnu que les `1` que nous avons tapés sont bien des entiers (ou des nombres à virgule), ce qui n'est pas le cas dans tous les langages (par exemple le C).\n",
    "\n",
    "Mais en plus ... le résultat de l'opération s'affiche même sans avoir appelé la fonction \"print\" ! C'est une des spécificités du Python 'en cellules' que nous utilisons ici. Nous y reviendrons plus tard. Essayons maintenant d'ajouter des _pommes_ et des _poires_, et regardons si cela est possible :"
   ]
  },
  {
   "cell_type": "code",
   "execution_count": null,
   "metadata": {},
   "outputs": [],
   "source": [
    "1 + 'toto'"
   ]
  },
  {
   "cell_type": "markdown",
   "metadata": {},
   "source": [
    "Vous voyez ici qu'il n'est pas possible d'ajouter `1` et `'toto'` à la fois ; vous vous doutez qu'ils ont une nature différente. Vous avez déjà peut-être remarqué que notre `'Bonjour tout le monde'` était entouré de guillemets, comme `'toto'`: c'est ainsi qu'on définit des chaînes de caractère, et que Python les reconnaît. Les nombres simples n'ont, eux, rien du tout. On peut, par contre, tout à fait ajouter des bouts de texte ensemble ; le résultat vous surprendra peut-être :"
   ]
  },
  {
   "cell_type": "code",
   "execution_count": null,
   "metadata": {},
   "outputs": [],
   "source": [
    "'Je suis' + 'assez content'"
   ]
  },
  {
   "cell_type": "markdown",
   "metadata": {},
   "source": [
    "Vous voyez ici que le résultat est un 'collage' (on parle de _concaténation_) des chaînes de caractère ensemble. Le résultat ici est un peu approximatif, car il manque une espace entre les deux parties du texte. On peut la rajouter dans le bout de chaîne initial ou final, ou même rajouter un troisième bout de chaîne seulement avec l'espace, par exemple en tapant `'Je suis'`  + `' '` + `'très content'`.\n",
    "\n",
    "#### Multiplications\n",
    "\n",
    "Essayons maintenant d'effectuer des multiplications, à l'aide de `*` et faisons volontairement des bêtises : "
   ]
  },
  {
   "cell_type": "code",
   "execution_count": null,
   "metadata": {},
   "outputs": [],
   "source": [
    "3*3\n",
    "3*'toto'"
   ]
  },
  {
   "cell_type": "markdown",
   "metadata": {},
   "source": [
    "D'une part, vous voyez que Python ne vous renvoie que le résultat de la dernière ligne, et en plus, on arrive à multiplier des _pommes_ et des _poires_ ! En effet, il est possible de multiplier les chaînes de caractères par un entier, cela va alors _répéter_ la chaîne `n` fois puis vous la renvoyer. Les fonctions en Python peuvent _fonctionner_ de manière différente en fonction des types de variables qu'on leur donne en entrée, et c'est le cas à la fois pour les fonctions `+` et `*` ! On dit que ces opérateurs sont _surchargés_.\n",
    "\n",
    "#### Divisions, exposants, etc.\n",
    "\n",
    "Il est également possible avec Python d'effectuer d'autres opérations sur les entiers e \n",
    "\n",
    "- `/` représente la division exacte\n",
    "- `//` représente le quotient de la division Euclidienne\n",
    "- `%` représente la fonction _modulo_, qui renvoie le reste de la division Euclidienne\n",
    "- `**` ( __et non__ `^`) représente la fonction puissance\n",
    "\n",
    "Vous pourrez vérifier si ces fonctions donnent des résultats avec des chaînes de caractère en entrée !"
   ]
  },
  {
   "cell_type": "code",
   "execution_count": 1,
   "metadata": {},
   "outputs": [
    {
     "name": "stdout",
     "output_type": "stream",
     "text": [
      "0.6666666666666666\n",
      "2\n",
      "8\n",
      "6\n"
     ]
    }
   ],
   "source": [
    "print(2/3)\n",
    "print(7//3)\n",
    "print(2**3)\n",
    "print(2^4)"
   ]
  },
  {
   "cell_type": "markdown",
   "metadata": {},
   "source": [
    "-----------------------------------------------------\n",
    "\n",
    "### Nommer ses variables pour réutiliser ses résultats\n",
    "\n",
    "Pour l'instant, nous n'avons jamais demandé à Python de retenir le nom de nos objets, qu'on appelle des _variables_. Désormais, on va leur donner un nom. Les architectes de Python souhaiteraient que vous donniez à vos variables des noms explicites (évitez `truc1`), qui représentent ce que vous faites, et en anglais. Par exemple, `nb_particles` est un bon nom de variable si vous essayez de compter des particules ; `avg_volume_particles` pourrait être une autre variable avec laquelle vous travaillez. Essayons : "
   ]
  },
  {
   "cell_type": "code",
   "execution_count": null,
   "metadata": {},
   "outputs": [],
   "source": [
    "n_particles = 12\n",
    "avg_volume_particles = 3\n",
    "\n",
    "volume_total = n_particles*avg_volume_particles"
   ]
  },
  {
   "cell_type": "markdown",
   "metadata": {},
   "source": [
    "Cette fois-ci, Python n'affiche pas le résultat ! Vous pouvez rajouter une ligne contenant simplement `volume_total` pour avoir une idée du volume total, ou vous pouvez imprimer le résultat sans lui donner de nom en remplaçant la dernière ligne par :"
   ]
  },
  {
   "cell_type": "code",
   "execution_count": null,
   "metadata": {},
   "outputs": [],
   "source": [
    "print(n_particles*avg_volume_particles)"
   ]
  },
  {
   "cell_type": "markdown",
   "metadata": {},
   "source": [
    "Vous aurez constaté ici que Python s'est souvenu du nom des variables déclarées dans la cellule ci-dessus. Pratique ! \n",
    "\n",
    "Revenons à nos variables. Bien que `n_particles` soit un nombre, `avg_volume_particles` a, pour les physiciens, une unité, mais il est difficile de l'ajouter dans les variables Python. Une bonne idée pour ne pas se tromper dans nos applications est de rajouter un petit commentaire à côté de la variable, qui sera ignoré par la partie qui exécute le code Python, mais qui sera utile à quiconque relira votre code :-). Les commentaires courts s'incluent en ajoutant un caractère `#`. N'hésitez pas à mettre ce commentaire en anglais ! "
   ]
  },
  {
   "cell_type": "code",
   "execution_count": null,
   "metadata": {},
   "outputs": [],
   "source": [
    "n_particles = 12\n",
    "avg_volume_particles = 3        # Volume in m^3\n",
    "total_available_volume = 1718   # Volume in ft^3"
   ]
  },
  {
   "cell_type": "markdown",
   "metadata": {},
   "source": [
    "__Mini quiz__ : \n",
    "1. Calculez, puis affichez la fraction volumique des particules dans cet exemple. Quelle valeur obtenez-vous ? Cela correspond-il à un arrangement particulier ?\n",
    "2. Que se passerait-il si vous essayiez d'ajouter `'5'` à `'douze'` ?\n",
    "\n",
    "-------------------------------------------------\n",
    "\n",
    "### Transformer ses variables : changer de _type_ !\n",
    "\n",
    "Il est possible de forcer ses variables à changer d'un type à un autre ! Prenons un exemple concret. J'initialise un nombre à une valeur donnée `number = 3`, et je veux ensuite afficher un message du genre `'Le nombre choisi est' + number`. Comme on l'a vu précédemment, Python ne va pas vouloir qu'on ajoute un _int_ à un _str_ ! Pour résoudre notre problème, on va alors forcer l'entier à devenir une chaîne de caractères ! On peut alors tout simplement écrire : "
   ]
  },
  {
   "cell_type": "code",
   "execution_count": null,
   "metadata": {},
   "outputs": [],
   "source": [
    "number = 3\n",
    "print('Le nombre choisi est : ' + str(number))"
   ]
  },
  {
   "cell_type": "markdown",
   "metadata": {},
   "source": [
    "On peut également forcer une chaîne de caractères à devenir un nombre en faisant l'opération inverse :"
   ]
  },
  {
   "cell_type": "code",
   "execution_count": null,
   "metadata": {},
   "outputs": [],
   "source": [
    "text_number = '12'\n",
    "number = 7\n",
    "result = int(text_number) + number\n",
    "print(result)"
   ]
  },
  {
   "cell_type": "markdown",
   "metadata": {},
   "source": [
    "Vous ne l'avez probablement pas remarqué, mais la fonction `print(variable)` fonctionne avec à la fois des nombres et des chaînes de caractère. En fait, la fonction va automatiquement détecter la nature de la variable qu'on lui passe en entrée, et agir en conséquence. La fonction `print` est donc assez _intelligente_, et nous pouvons l'être aussi, en demandant à Python de nous renvoyer le _type_ d'une variable avec la fonction ... `type` ! Le résultat de cette fonction n'est pas une chaîne de caractères, il faut donc le convertir pour l'afficher :"
   ]
  },
  {
   "cell_type": "code",
   "execution_count": null,
   "metadata": {},
   "outputs": [],
   "source": [
    "text = 'I am not a string ... or am I ?'\n",
    "number = 13 + 12**7\n",
    "print('Text is of type : ' + str(type(text)))\n",
    "print('Number is of type : ' + str(type(number)))"
   ]
  },
  {
   "cell_type": "markdown",
   "metadata": {},
   "source": [
    "_Note_: Le _type_ ou la _classe_ d'une variable est essentiellement la même chose. \n",
    "\n",
    "Vous voyez dans un premier temps qu'il est tout à fait possible d'imbriquer les fonctions `str` et `type`, si tant est que la sortie d'une fonction (par exemple `type`) est d'un type compatible avec l'entrée de la fonction qui appelle cette sortie (ici, `str`). \n",
    "\n",
    "Parfois, le type d'une variable change tout seul ! C'est par exemple le cas si nous effectuons l'opération suivante : "
   ]
  },
  {
   "cell_type": "code",
   "execution_count": null,
   "metadata": {},
   "outputs": [],
   "source": [
    "number_1 = 12\n",
    "number_2 = 1.53286794\n",
    "sum_of_numbers = number_1 + number_2\n",
    "print('Number 1 is of class : ' + str(type(number_1)))\n",
    "print('Number 1 is of class : ' + str(type(number_2)))\n",
    "print('Sum is of class : '      + str(type(sum_of_numbers)))"
   ]
  },
  {
   "cell_type": "markdown",
   "metadata": {},
   "source": [
    "On a ici introduit le concept de nombre à virgule _flottante_, également appelé `float`. \n",
    "\n",
    "Vous aurez également remarqué que Python est capable d'ajouter des _pommes_ `int` à des _bananes_ `float`, ce qui n'était pas possible avec les _poires_ `str`. En fait, Python suit notre intuition mathématique, qui sait très bien ajouter des nombres entiers à des nombres non entiers. \n",
    "\n",
    "__Mini-quiz__ (difficile) : d'après vous, quelle est le type (ou classe) des objets suivants ? Vous pouvez les tester un par un en utilisant la fonction `type` !"
   ]
  },
  {
   "cell_type": "code",
   "execution_count": null,
   "metadata": {},
   "outputs": [],
   "source": [
    "variable_1 = '12'\n",
    "variable_3 = int('seventy-five')\n",
    "variable_4 = type(72)"
   ]
  },
  {
   "cell_type": "markdown",
   "metadata": {},
   "source": [
    "Il y avait pas mal de pièges dans cette sélection :-) . \n",
    "* Le premier résultat est entre guillemets, c'est donc une chaîne de caractères (`str`).\n",
    "* Le deuxième ne fonctionne pas, car Python n'est pas encore capable de convertir un nombre écrit 'en toutes lettres' en un `int` \n",
    "* Le troisième est encore plus retors : la fonction `type()` renvoie une variable de type `type`, qui existe bel et bien, comme les `int` ou les `str`, même si cela nous donne mal à la tête !\n",
    "\n",
    "----------------------------\n",
    "\n",
    "### Booléens et comparaisons, à la recherche de la vérité\n",
    "\n",
    "#### Booléens \n",
    "\n",
    "Les variables [booléenes](https://fr.wikipedia.org/wiki/George_Boole) (`bool`) sont un type de variable très simple, et très importante en Python. Elles peuvent être soient vraies (`True` avec une majuscule à T en Python) ou fausses (`False` avec une majuscule à F en Python). C'est l'équivalent d'un `bit` qui peut simplement prendre les valeurs $0$ et $1$. D'ailleurs ce lien est plutôt explicite en Python : on peut s'en rendre compte si on essaie d'ajouter des variables booléennes ensemble, par exemple comme ceci :"
   ]
  },
  {
   "cell_type": "code",
   "execution_count": 9,
   "metadata": {},
   "outputs": [
    {
     "name": "stdout",
     "output_type": "stream",
     "text": [
      "1\n",
      "0\n",
      "2\n"
     ]
    }
   ],
   "source": [
    "a = False\n",
    "b = True \n",
    "print(a + b)\n",
    "print(a + b + b)\n",
    "print(a * b)"
   ]
  },
  {
   "cell_type": "markdown",
   "metadata": {},
   "source": [
    "Le résultat de ces opérations n'est d'ailleurs plus un booléen, mais un entier (`int`). Vous pouvez vous en convaincre en examinant le `type` de `a` et `b` et de `a + b` par exemple. \n",
    "\n",
    "#### Comparaisons\n",
    "\n",
    "En Python, comme en mathématiques, il existe de nombreux opérateurs permettant de comparer des nombres ou des objets entre eux: le résultat étant _vrai_ ou _faux_, ils vont renvoyer des _booléens_. Il est par exemple possible d'utiliser : \n",
    "* `==`, qui examine si deux variables possèdent les mêmes valeurs\n",
    "* `!=`, qui examine si deux variables possèdent des valeurs différentes\n",
    "* `>` et `<`, qui examinent si une variable est strictement plus grande (ou plus petite) qu'une autre\n",
    "* `>=` et `<=`, qui examinent si une variable est plus grande ou égale (ou plus petite ou égale) qu'une autre\n",
    "\n",
    "Par exemple, nous avons :"
   ]
  },
  {
   "cell_type": "code",
   "execution_count": 17,
   "metadata": {},
   "outputs": [
    {
     "name": "stdout",
     "output_type": "stream",
     "text": [
      "False\n",
      "True\n",
      "False\n",
      "True\n"
     ]
    }
   ],
   "source": [
    "print(3 + 2 > 6)\n",
    "print(5 < float('6'))\n",
    "print(6 == '6')\n",
    "print(7*2 > True)"
   ]
  },
  {
   "cell_type": "markdown",
   "metadata": {},
   "source": [
    "Vous l'aurez constaté, Python privilégie le renvoi d'un résultat un peu _coûte que coûte_, même si parfois on ne sait pas trop d'où il sort, comme par exemple dans le dernier cas. Il faut donc faire attention en particulier quand on utilise `>`,`<`,`<=` et `>=` pour comparer deux objets de types différents. Il existe enfin des opérateurs qui sont pensés pour fonctionner sur les _booléens_ : \n",
    "\n",
    "* `or` : c'est l'équivalent du _ou_ inclusif entre deux booléens\n",
    "* `and` : c'est léquivalent du _et_ entre deux booléens\n",
    "* `not` : transforme un `True` en `False` et vice versa\n",
    "* `^` : c'est l'équivalent d'un _ou exclusif_, __et qui ne fonctionne que sur les booléens__\n",
    "\n",
    "On peut combiner presque à l'infini ces diverses possibilités :"
   ]
  },
  {
   "cell_type": "code",
   "execution_count": 34,
   "metadata": {},
   "outputs": [
    {
     "name": "stdout",
     "output_type": "stream",
     "text": [
      "True\n",
      "False\n",
      "True\n",
      "False\n"
     ]
    }
   ],
   "source": [
    "print(not not True)\n",
    "print(True == False and True == True)\n",
    "print(True > False )\n",
    "print(True ^ True)"
   ]
  },
  {
   "cell_type": "markdown",
   "metadata": {},
   "source": [
    "En fait, `and` et `or` fonctionnent également avec autre chose que des booléens, [même si leur comportement est différent](https://python.developpez.com/cours/DiveIntoPython/php/frdiveintopython/power_of_introspection/and_or.php). Je vous laisse essayer par exemple de voir ce qui arrive, par exemple, quand vous écrivez :"
   ]
  },
  {
   "cell_type": "code",
   "execution_count": 37,
   "metadata": {},
   "outputs": [
    {
     "name": "stdout",
     "output_type": "stream",
     "text": [
      "potato\n",
      "apples\n"
     ]
    }
   ],
   "source": [
    "print('tomato' and 'potato')\n",
    "print('apples' or 'pears')"
   ]
  },
  {
   "cell_type": "markdown",
   "metadata": {},
   "source": [
    "__Mini-quiz__ : Essayez maintenant de prédire ce que valent : "
   ]
  },
  {
   "cell_type": "code",
   "execution_count": 42,
   "metadata": {},
   "outputs": [
    {
     "data": {
      "text/plain": [
       "False"
      ]
     },
     "execution_count": 42,
     "metadata": {},
     "output_type": "execute_result"
    }
   ],
   "source": [
    "True == 5\n",
    "(True == False) == (True < True)\n",
    "(not False and False) or (False != False)\n",
    "('tomato' > 'toto') + (5 >= 2) == 1"
   ]
  }
 ],
 "metadata": {
  "kernelspec": {
   "display_name": "Python 3 (ipykernel)",
   "language": "python",
   "name": "python3"
  },
  "language_info": {
   "codemirror_mode": {
    "name": "ipython",
    "version": 3
   },
   "file_extension": ".py",
   "mimetype": "text/x-python",
   "name": "python",
   "nbconvert_exporter": "python",
   "pygments_lexer": "ipython3",
   "version": "3.9.7"
  },
  "vscode": {
   "interpreter": {
    "hash": "cb9c252e610b593a3421828f92740a33c32c552b9658c846af1824aa6c7c0cc9"
   }
  }
 },
 "nbformat": 4,
 "nbformat_minor": 2
}
