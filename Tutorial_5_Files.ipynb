{
 "cells": [
  {
   "cell_type": "markdown",
   "metadata": {},
   "source": [
    "## Fichiers et dossiers avec Python\n",
    "\n",
    "### Généralités\n",
    "\n",
    "Les ordinateurs sont assez merveilleux, mais ils le seraient moins s'ils n'étaient pas capables d'enregistrer des données et de ne pas les perdre une fois que le programme (ou l'ordinateur) est éteint. Dans ce (court) tutoriel, je vais vous apprendre à \n",
    "\n",
    "* [Manipuler des fichiers](#manipuler-des-fichiers) : les ouvrir, les lire, et écrire dedans grâce à la fonction `open()` et le mot-clé `with`\n",
    "* [Gérer et trouver des fichiers et dossiers](#gerez-et-trouvez-vos-fichiers-et-dossiers-avec-glob-et-os) : changer de dossier, en créer, en supprimer avec les mini-modules `os` et `shutil`, puis trouver des fichiers dans une arborescence avec le mini-module `glob`."
   ]
  },
  {
   "cell_type": "markdown",
   "metadata": {},
   "source": [
    "### Manipuler des fichiers \n",
    "\n",
    "Dans cette section, on va ouvrir des fichiers, lire dedans et écrire dedans également. Vous verrez, c'est en fait _très_ simple !"
   ]
  },
  {
   "cell_type": "markdown",
   "metadata": {},
   "source": [
    "#### Ouverture et fermeture\n",
    "\n",
    "Supposons que je veux lire un fichier (bien nommé `toto` dans la tradition française) dans le sous-dossier `files` de mon dossier actuel. Rien de plus simple, j'utilise simplement la fonction Python native `open()`. Une fois que le fichier est ouvert, je peux utiliser la _méthode_ `.close()` associée au fichier pour le fermer.\n",
    "\n",
    "_Note_ Pour accéder à votre sous-dossier `files` et les fichiers qui s'y trouvent, vous devrez utiliser une barre oblique `'/'` (sous Mac, Unix et en fait même sous Windows), mais si vous êtes un fana de Windows, sachez que les barres obliques inverses de Windows (`'\\'`) doivent être doublées (`'\\\\'`) pour être correctement interprétées. "
   ]
  },
  {
   "cell_type": "code",
   "execution_count": null,
   "metadata": {},
   "outputs": [],
   "source": [
    "my_file = open('files/toto')\n",
    "my_file.close()                 # A very discreet peek !"
   ]
  },
  {
   "cell_type": "markdown",
   "metadata": {},
   "source": [
    "Une possibilité alternative consiste à ouvrir mon fichier dans un bloc `with open(...) as ...:` de la manière suivante :"
   ]
  },
  {
   "cell_type": "code",
   "execution_count": null,
   "metadata": {},
   "outputs": [],
   "source": [
    "with open('files/toto') as my_file:\n",
    "    print('File is open !')"
   ]
  },
  {
   "cell_type": "markdown",
   "metadata": {},
   "source": [
    "La principale différence, ici, est que pour un nom de fichier _incorrect_, la première version du code va renvoyer une erreur, tandis que la version construite avec `with .. as ..`, elle, ne va pas renvoyer une erreur. Essayez, par exemple, d'ouvrir un fichier `titi` qui, lui, n'existe pas ... encore :-)"
   ]
  },
  {
   "cell_type": "markdown",
   "metadata": {},
   "source": [
    "#### Accès en lecture et écriture\n",
    "\n",
    "Par défaut, Python vous laisse lire un fichier, c'est l'accès `'r'` des amateurs d'Unix. Vous pouvez décider à la place que vous souhaitez créer un nouveau fichier et écrire dedans. Dans ce cas, on va préciser un argument à `open()` nommé `mode`. Il existe [bien des modes](https://docs.python.org/3/library/functions.html#open), les principaux étant : \n",
    "\n",
    "* `'r'` : accès en _lecture seule_. Va planter si le fichier n'existe pas\n",
    "* `'w'` : accès en _écriture_ pour un fichier. __Va écraser le fichier existant__. Ne plante pas si le fichier n'existe pas.\n",
    "* `'a'` : accès en _écriture_ pour un fichier. __Ajoute le contenu à la suite du fichier__. Ne plante pas si le fichier n'existe pas.\n",
    "* `'x'` : création d'un nouveau fichier, et accès _en écriture_ de celui-ci. Plante si le fichier existe déjà.\n",
    "\n",
    "Tous ces modes d'ouverture correspondent à des fichiers qui contiennent du _texte_."
   ]
  },
  {
   "cell_type": "markdown",
   "metadata": {},
   "source": [
    "##### Lecture avec `read()`, `readlines()` et `readlines()` et `for`\n",
    "\n",
    "Pour lire l'intégralité d'un fichier, on va simplement utiliser la méthode `.read()` du fichier, sans argument. Dans un tel cas, Python va lire tout le fichier et nous le renvoyer dans une variable. Cela donne : "
   ]
  },
  {
   "cell_type": "code",
   "execution_count": null,
   "metadata": {},
   "outputs": [],
   "source": [
    "with open('files/toto') as my_file:\n",
    "    txt = my_file.read()\n",
    "print(txt)"
   ]
  },
  {
   "cell_type": "markdown",
   "metadata": {},
   "source": [
    "Vous l'aurez peut-être remarqué, ma variable `txt` est une simple chaîne de caractères. On a parfois besoin de lire le code ligne par ligne, ou de séparer les lignes en question durant la lecture. La méthode `.readlines()` va lire tout le fichier et renvoyer une liste dont chaque élément corresond à une ligne du fichier. On peut alors demander à Python de n'imprimer qu'une ligne (au choix) du fichier.\n",
    "\n",
    "_Note_ : cette fonction est __bien entendu déconseillée__ pour les très gros fichiers qui dépassent les centaines de milliers de lignes. "
   ]
  },
  {
   "cell_type": "code",
   "execution_count": null,
   "metadata": {},
   "outputs": [],
   "source": [
    "with open('files/toto') as my_file:\n",
    "    lst = my_file.readlines()\n",
    "\n",
    "print(lst[0])\n",
    "print(lst[-1])"
   ]
  },
  {
   "cell_type": "markdown",
   "metadata": {},
   "source": [
    "Vous pouvez enfin demander à Python de ne lire qu'une seule ligne et d' 'aller à la ligne suivante' ensuite avec la méthode `.readline()`. Celle-ci se combine bien avec une boucle `while` : "
   ]
  },
  {
   "cell_type": "code",
   "execution_count": null,
   "metadata": {},
   "outputs": [],
   "source": [
    "with open('files/toto') as my_file:\n",
    "    txt = my_file.readline()\n",
    "    is_file_finished = False\n",
    "    while not is_file_finished:\n",
    "        print(txt)\n",
    "        txt = my_file.readline()\n",
    "        is_file_finished = (txt == '')"
   ]
  },
  {
   "cell_type": "markdown",
   "metadata": {},
   "source": [
    "Pour savoir si la lecture du fichier est terminée ou non, on examine le résultat de `my_file.readline()`. Si celui-ci est une chaîne de caractères vide: `''`, alors le fichier est terminé. \n",
    "\n",
    "Si vous êtes _encore plus paresseux_ (et c'est une bonne chose), vous pouvez même directement utiliser une boucle `for` du type `for x in my_file` pour que votre variable `x` 'devienne' chacune des lignes du fichier, à la manière d'un `.readline()`. Le code devient alors limpide, même si on peut se demander pourquoi on a le droit d'effectuer une telle diablerie :"
   ]
  },
  {
   "cell_type": "code",
   "execution_count": null,
   "metadata": {},
   "outputs": [],
   "source": [
    "with open('files/toto') as my_file:\n",
    "    for line in enumerate(my_file):            # Such ... beauty ...\n",
    "        print(line)"
   ]
  },
  {
   "cell_type": "markdown",
   "metadata": {},
   "source": [
    "__Exercice__ :\n",
    "*  Lisez dans le fichier `toto` précédent et affichez chacune des lignes du fichier, mais avec le numéro de la ligne à gauche de chacune d'entre elles. \n",
    "* Supprimez le caractère de retour chariot `\\n` à la fin de chaque ligne du fichier pour _condenser_ l'affichage avec `print`."
   ]
  },
  {
   "cell_type": "code",
   "execution_count": null,
   "metadata": {},
   "outputs": [],
   "source": [
    "# Pfff, super easy "
   ]
  },
  {
   "cell_type": "markdown",
   "metadata": {},
   "source": [
    "##### _Verba volent, scripta manent_ : écrire dans les fichiers avec `write`\n",
    "\n",
    "Cette fois-ci, vous y êtes. Vous avez obtenu un magnifique jeu de données, tapé au clavier la plus belle phrase de la langue de Molière ou déchiffré le manuscrit de Voynich. Vous souhaitez maintenant pérenniser ces efforts et demander à Python d'écrire ces résultats _dans le marbre_, c'est à dire de les sauver. \n",
    "\n",
    "Une fois de plus, Python nous rend la vie facile. Vous avez un bloc de texte et vous voulez l'écrire dans un fichier ? Utilisez la méthode `.write()`, pardi : "
   ]
  },
  {
   "cell_type": "code",
   "execution_count": null,
   "metadata": {},
   "outputs": [],
   "source": [
    "with open('files/tutu', 'w') as my_file:\n",
    "    my_file.write('I am a legend')      # We all are."
   ]
  },
  {
   "cell_type": "markdown",
   "metadata": {},
   "source": [
    "En écrivant ce code, vous avez donc à la fois créé un nouveau fichier, qui doit apparaître dans votre sous-dossier `files`, et écrit une ligne de texte dans ce fichier. Si vous avez une `list` de chaînes de caractères à la place d'une simple chaîne, vous pouvez également utiliser la méthode `.writelines()`. Ça y est, vous êtes prêt à remplir votre disque dur ! \n"
   ]
  },
  {
   "cell_type": "markdown",
   "metadata": {},
   "source": [
    "##### Écrire des variables _vraiment_ complexes en JSON\n",
    "\n",
    "À l'avenir, vous aurez certainement besoin d'écrire des données dans des fichiers. Dans de nombreux cas, ces fichiers pourront être enregistrés sous forme de tableau, par exemple sous [Numpy](./Application_A_Numpy.ipynb) ou [Pandas](./Application_D_Pandas.ipynb). Il est possible d'écrire des fichiers _texte_ formatés de telle sorte que vous pourrez ré-importer ces fichiers directement en Python comme variables. Numpy et Pandas proposent des solution pour enregistrer des longs tableaux efficacement comme fichiers texte, mais parfois, vous tomberez sur un type de variable qui est un peu trop complexe pour que ces routines fonctionnent, et vous serez peut-être amenés à vouloir l'enregistrer. \n",
    "\n",
    "Il existe une solution, c'est la sauvegarde au format [`JSON`](https://www.json.org/json-fr.html). Créons donc une variable `data` particulièrement retorse, qui est un `tuple` contenant, notamment, un dictionnaire qui lui-même inclut une liste. On va importer le module Python `json` et enregistrer notre variable avec la fonction `json.dump()`. Celle-ci va formater l'objet `data` (premier argument) et écrire sa version formatée dans un fichier (deuxième argument). Voyez plutôt :   "
   ]
  },
  {
   "cell_type": "code",
   "execution_count": null,
   "metadata": {},
   "outputs": [],
   "source": [
    "import json\n",
    "\n",
    "x = [[1,2,3],[9,11,24]]\n",
    "y = {'my':8, 'oh':[7.72], 'myyy':'george takei'}\n",
    "z = (['x', 'y'], [12,24,[7,28]], )\n",
    "data = (x, y, z)\n",
    "\n",
    "with open('files/my_data.json', 'w') as myfile:\n",
    "    json.dump(data, myfile)"
   ]
  },
  {
   "cell_type": "markdown",
   "metadata": {},
   "source": [
    "On peut ensuite lire à loisir dans le fichier avec la fonction `json.load()`, et ré-affecter le résultat rapidement si vous connaissez la _structure_ de votre objet initial. \n",
    "\n",
    "__/!\\\\ Attention /!\\\\__ Jetez toujours un oeil dans les fichiers JSON avant de les lire, car ils pourraient avoir été programmés malicieusement. Il n'est pas possible pour eux d'injecter du code, mais ils peuvent quand même faire planter votre ordinateur s'ils ont été volontairement écrits de manière surchargée."
   ]
  },
  {
   "cell_type": "code",
   "execution_count": null,
   "metadata": {},
   "outputs": [],
   "source": [
    "import json\n",
    "\n",
    "del((x,y,z)) # So that they are forgotten by Python\n",
    "\n",
    "with open('files/my_data.json') as myfile:\n",
    "    x,y,z = json.load(myfile)\n",
    "    print(x)"
   ]
  },
  {
   "cell_type": "markdown",
   "metadata": {},
   "source": [
    "### Gerez et trouvez vos fichiers et dossiers avec `glob` et `os`\n",
    "\n",
    "Les modules Python `os` et `glob` vont vous aider à trouver des fichiers existants dans votre ordinateur. Le premier, nommé d'après l'`Operating System` constitue en fait un _pont_ entre votre ordinateur et Python, et le second, bien que de nom mystérieux, peut effectuer des recherches sur des noms de fichiers. Avec ces deux paquets, on va donc pouvoir efficacement se déplacer dans les dossiers et localiser des fichiers !"
   ]
  },
  {
   "cell_type": "markdown",
   "metadata": {},
   "source": [
    "#### Navigation dans les dossiers, création et destruction avec `os` : \n",
    "\n",
    "Ce module permet d'effectuer des tâches assez fondamentales sur votre ordinateur. Nous allons principalement nous intéresser à deux d'entre elles, afin de pouvoir changer de dossier de travail et créer des dossiers en Python. "
   ]
  },
  {
   "cell_type": "markdown",
   "metadata": {},
   "source": [
    "##### Changer de dossier avec `os.chdir()` et s'y retrouver avec `os.getcwd()`\n",
    "\n",
    "Vous connaissez probablement la commande `cd` en ligne de commande (bash, etc.) qui vous permet de changer de dossier. Je vous en mets un exemple sous Windows :\n",
    "\n",
    "![img](resources/cmd.png)\n",
    "\n",
    "__Par défaut, Python démarre dans le dossier qui contient votre fichier `.py`, `.ipynb`, etc. que vous êtes en train d'exécuter__, de la même manière que pour les modules Python. Si vous voulez savoir où vous vous trouvez, vous pouvez exécuter la commande `os.getcwd()` (_get Current Working Directory_, le dossier de travail actuel). \n",
    "\n",
    "Affichons le dossier dans lequel on travaille, et essayons de changer de dossier."
   ]
  },
  {
   "cell_type": "code",
   "execution_count": 9,
   "metadata": {},
   "outputs": [
    {
     "name": "stdout",
     "output_type": "stream",
     "text": [
      "Current Directory is : d:\\\n"
     ]
    },
    {
     "ename": "FileNotFoundError",
     "evalue": "[WinError 2] Le fichier spécifié est introuvable: './files/'",
     "output_type": "error",
     "traceback": [
      "\u001b[1;31m---------------------------------------------------------------------------\u001b[0m",
      "\u001b[1;31mFileNotFoundError\u001b[0m                         Traceback (most recent call last)",
      "\u001b[1;32mC:\\Users\\SAINT-~1\\AppData\\Local\\Temp/ipykernel_14472/954342619.py\u001b[0m in \u001b[0;36m<module>\u001b[1;34m\u001b[0m\n\u001b[0;32m      2\u001b[0m \u001b[1;33m\u001b[0m\u001b[0m\n\u001b[0;32m      3\u001b[0m \u001b[0mprint\u001b[0m\u001b[1;33m(\u001b[0m\u001b[1;34m'Current Directory is : '\u001b[0m \u001b[1;33m+\u001b[0m \u001b[0mos\u001b[0m\u001b[1;33m.\u001b[0m\u001b[0mgetcwd\u001b[0m\u001b[1;33m(\u001b[0m\u001b[1;33m)\u001b[0m\u001b[1;33m)\u001b[0m\u001b[1;33m\u001b[0m\u001b[1;33m\u001b[0m\u001b[0m\n\u001b[1;32m----> 4\u001b[1;33m \u001b[0mos\u001b[0m\u001b[1;33m.\u001b[0m\u001b[0mchdir\u001b[0m\u001b[1;33m(\u001b[0m\u001b[1;34m'./files/'\u001b[0m\u001b[1;33m)\u001b[0m\u001b[1;33m\u001b[0m\u001b[1;33m\u001b[0m\u001b[0m\n\u001b[0m\u001b[0;32m      5\u001b[0m \u001b[1;33m\u001b[0m\u001b[0m\n\u001b[0;32m      6\u001b[0m \u001b[1;32mwith\u001b[0m \u001b[0mopen\u001b[0m\u001b[1;33m(\u001b[0m\u001b[1;34m'new_file'\u001b[0m\u001b[1;33m,\u001b[0m \u001b[1;34m'w'\u001b[0m\u001b[1;33m)\u001b[0m \u001b[1;32mas\u001b[0m \u001b[0mmyfile\u001b[0m\u001b[1;33m:\u001b[0m\u001b[1;33m\u001b[0m\u001b[1;33m\u001b[0m\u001b[0m\n",
      "\u001b[1;31mFileNotFoundError\u001b[0m: [WinError 2] Le fichier spécifié est introuvable: './files/'"
     ]
    }
   ],
   "source": [
    "import os\n",
    "\n",
    "print('Current Directory is : ' + os.getcwd())\n",
    "os.chdir('./files/')\n",
    "\n",
    "with open('new_file', 'w') as myfile:\n",
    "    myfile.write('Where am I ?')\n"
   ]
  },
  {
   "attachments": {},
   "cell_type": "markdown",
   "metadata": {},
   "source": [
    "Le code ci-dessus fonctionne _une fois_, puis ensuite plante. On demande en effet à Python de rentrer dans un sous-dossier `/files` du dossier actuel, que j'ai écrit comme `'.'` (ce qui est une pratique courante en programmation). La deuxième fois que j'exécute ce code, Python essaie de chercher un sous-dossier `[...]/files/files`, qui, lui, n'existe pas. Python n'est alors pas très content. \n",
    "\n",
    "Si vous voulez remonter d'un dossier, vous pouvez utiliser la chaîne de caractères `'..'` ; que l'on peut combiner avec d'autres dossiers. Ici, on va par exemple aller directement depuis `/files` jusque `/resources`.\n",
    "\n",
    "Vous pouvez enfin préciser un chemin _absolu_ (du type `C:/Users/Beaugosse/.../` sur Windows ou `/home/bellegosse/.../` sous Unix) dans votre déplacement. Dans ce cas, le code ne plantera pas."
   ]
  },
  {
   "cell_type": "code",
   "execution_count": 8,
   "metadata": {},
   "outputs": [
    {
     "name": "stdout",
     "output_type": "stream",
     "text": [
      "Current Directory is now : d:\\\n"
     ]
    }
   ],
   "source": [
    "# We have to start in sub-folder `files` to correctly go to `resources`\n",
    "\n",
    "import os\n",
    "os.chdir('..')\n",
    "print('Current Directory is now : ' + os.getcwd())"
   ]
  },
  {
   "cell_type": "markdown",
   "metadata": {},
   "source": [
    "Si votre code ne fonctionne plus, n'hésitez pas à redémarrer Python via l'icône de redémarrage : \n",
    "\n",
    "![img](./resources/restart_kernel.png)"
   ]
  },
  {
   "cell_type": "markdown",
   "metadata": {},
   "source": [
    "##### Créer des dossiers avec `os.mkdir()` et `os.makedirs()`\n",
    "\n",
    "Deux fonctions pour des tâches assez similaires ! Commençons par `mkdir()`. Vous lui donnez un nom de dossier à créer, et cette fonction le crée. Pour un sous-dossier `results` inclus dans `files`, alors qu'on démarre dans le dossier racine de ce tutoriel (celui qui contient ce fichier), on va devoir écrire : "
   ]
  },
  {
   "cell_type": "code",
   "execution_count": null,
   "metadata": {},
   "outputs": [],
   "source": [
    "import os\n",
    "os.mkdir('./files/results/')"
   ]
  },
  {
   "cell_type": "markdown",
   "metadata": {},
   "source": [
    "La fonction, renvoie une erreur si le dossier existe déjà. Si vous ne voulez pas vous embarrasser de ce problème, vous pouvez utiliser à la place la fonction `os.makedirs()` et lui passer l'argument `exist_ok=True` en plus : "
   ]
  },
  {
   "cell_type": "code",
   "execution_count": null,
   "metadata": {},
   "outputs": [],
   "source": [
    "os.makedirs('./files/results/', exist_ok=True)"
   ]
  },
  {
   "cell_type": "markdown",
   "metadata": {},
   "source": [
    "Sachez qu'en fait, la fonction `os.makedirs()` est définie pour faire bien plus que juste ignorer les dossiers déjà existants. Elle est capable d'aller créer tous les sous-dossiers nécessaires si vous voulez, par exemple, créer un sous-sous-sous-dossier du type `/files/test/2022/november/30/` d'une seule traite :"
   ]
  },
  {
   "cell_type": "code",
   "execution_count": null,
   "metadata": {},
   "outputs": [],
   "source": [
    "os.makedirs('./files/test/2022/november/30', exist_ok=True)"
   ]
  },
  {
   "cell_type": "markdown",
   "metadata": {},
   "source": [
    "__Exercice__ : \n",
    "\n",
    "* Que se passe-t-il si vous essayez d'effectuer plein de fois `os.chdir('..')` et que vous essayez de sortir du dossier du tutoriel ? Affichez les résultats avec `os.getcwd()` !"
   ]
  },
  {
   "cell_type": "markdown",
   "metadata": {},
   "source": [
    "##### Supprimer des fichiers avec `os.remove()` et des dossiers avec `os.rmdir()` \n",
    "\n",
    "La création de fichiers a bien entendu sa contrepartie destructrice, et nous allons donc voir comment supprimer des fichiers et des dossiers. Débutons en créant un fichier `titi` puis en essayant de le supprimer avec `os.remove()`. À nouveau, on donne à ces fonctions un chemin vers le fichier. Vous aurez donc peut-être l'intuition d'écrire ceci : "
   ]
  },
  {
   "cell_type": "code",
   "execution_count": null,
   "metadata": {},
   "outputs": [],
   "source": [
    "import os \n",
    "\n",
    "with open('./files/titi', 'w') as myfile: \n",
    "    myfile.write('Hello !')\n",
    "os.remove('./files/titi')"
   ]
  },
  {
   "cell_type": "markdown",
   "metadata": {},
   "source": [
    "Votre système vous indique ici que le fichier est utilisé et ne peut donc pas être supprimé. En effet, on ne l'a pas encore fermé, vu qu'on était à l'intérieur du bloc de code `with`. Sortez la ligne correspondant à `os.remove()` du bloc en le dé-indentant, et regardez si le code ne renvoie plus d'erreur. Au final, le code, quand il fonctionne, ne fait _rien_ car il détruit ce qu'il a créé. C'est la vie ! \n",
    "La fonction renverra également des erreurs si le fichier n'existe pas, bien entendu.\n",
    "\n",
    "Si vous voulez maintenant utiliser la manière forte et supprimer un dossier entier, il faut utiliser `os.rmdir()`. Créons tout d'abord un nouveau dossier de test, et mettons un fichier dedans pour qu'il ne soit pas vide. "
   ]
  },
  {
   "cell_type": "code",
   "execution_count": null,
   "metadata": {},
   "outputs": [],
   "source": [
    "import os\n",
    "\n",
    "os.makedirs('./test', exist_ok=True)\n",
    "with open('./test/tutu', 'w') as myfile:\n",
    "    myfile.write(\"Hey, I don't want to disappear\")"
   ]
  },
  {
   "cell_type": "markdown",
   "metadata": {},
   "source": [
    "Le dossier et le fichier devraient apparaître dans votre arborescence. Détruisons maintenant le tout : "
   ]
  },
  {
   "cell_type": "code",
   "execution_count": null,
   "metadata": {},
   "outputs": [],
   "source": [
    "os.rmdir('./test/')"
   ]
  },
  {
   "cell_type": "markdown",
   "metadata": {},
   "source": [
    "Le répertoire n'est pas vide ! `os.rmdir()` n'a donc pas super envie de vous voir détruire votre chef d'oeuvre de fichier. Vous devrez vider le dossier de son contenu avant de le supprimer. Si vous êtes _vraiment_ pressé, il faudra passer par un autre module nommé `shutil` et sa fonction `rmtree()` :"
   ]
  },
  {
   "cell_type": "code",
   "execution_count": null,
   "metadata": {},
   "outputs": [],
   "source": [
    "import shutil\n",
    "\n",
    "shutil.rmtree('./test')"
   ]
  },
  {
   "cell_type": "markdown",
   "metadata": {},
   "source": [
    "#### Trouver des fichiers avec `glob`\n",
    "\n",
    "`glob` est un petit module qui vous permet de trouver des fichiers. Ce module contient principalement la fonction `glob()`, qui fonctionne _grosso modo_ comme la fonction \"recherche\" sous Windows et le `ls` en ligne de commande sous Unix. Commençons par lui demander de trouver un fichier bien précis, notre fichier `toto` : "
   ]
  },
  {
   "cell_type": "code",
   "execution_count": null,
   "metadata": {},
   "outputs": [],
   "source": [
    "import glob\n",
    "\n",
    "glob.glob('./files/toto')"
   ]
  },
  {
   "cell_type": "markdown",
   "metadata": {},
   "source": [
    "Le fonctionnement de ce programme va vous paraître un peu idiot. Mais sachez qu'il existe un caractère spécial, `'*'`, lorsque vous n'êtes pas sûr de ce que vous cherchez. Par exemple, si je veux chercher tous les tutoriels dans le dossier racine, j'écris : "
   ]
  },
  {
   "cell_type": "code",
   "execution_count": null,
   "metadata": {},
   "outputs": [],
   "source": [
    "glob.glob('Tutorial*')"
   ]
  },
  {
   "cell_type": "markdown",
   "metadata": {},
   "source": [
    "`glob()` renvoie bien tous les fichiers commençant par `Tutorial` (attention aux majuscules et minuscules, appelée _casse_ en français et _case_ en anglais), peu importe comment leur nom se termine. On peut donc lister tous les fichiers d'un dossier en écrivant simplement, par exemple pour `./files` :  "
   ]
  },
  {
   "cell_type": "code",
   "execution_count": null,
   "metadata": {},
   "outputs": [],
   "source": [
    "glob.glob('./files/*')"
   ]
  },
  {
   "cell_type": "markdown",
   "metadata": {},
   "source": [
    "Le caractère  `'*'` fonctionne également au début des fichiers. Si je ne veux garder que les fichiers ayant une extension `.png` (des images) dans le dossier `resources`, je peux écrire : "
   ]
  },
  {
   "cell_type": "code",
   "execution_count": null,
   "metadata": {},
   "outputs": [],
   "source": [
    "glob.glob('./resources/*.png')"
   ]
  },
  {
   "cell_type": "markdown",
   "metadata": {},
   "source": [
    "Il fonctionne enfin pour les dossiers. Si je veux trouver tous les fichiers `.csv` dans les sous-dossiers _directs_ de mon dossier racine, je peux écrire : "
   ]
  },
  {
   "cell_type": "code",
   "execution_count": null,
   "metadata": {},
   "outputs": [],
   "source": [
    "glob.glob('./*/*.csv')"
   ]
  },
  {
   "cell_type": "markdown",
   "metadata": {},
   "source": [
    "Bon, cette fois je n'ai qu'un fichier, donc le résultat n'est peut-être pas super impressionnant. \n",
    "\n",
    "Pour les plus avertis d'entre nous, savhez que cette commande ne renverra pas les fichiers qui se trouvent dans un sous-sous dossier du dossier racine : "
   ]
  },
  {
   "cell_type": "code",
   "execution_count": null,
   "metadata": {},
   "outputs": [],
   "source": [
    "import os \n",
    "\n",
    "os.makedirs('./files/morefiles/', exist_ok=True)\n",
    "with open('./files/morefiles/test.csv', 'w') as myfile:\n",
    "    myfile.write('eeehh')\n",
    "\n",
    "glob.glob('./*/*.csv')"
   ]
  },
  {
   "cell_type": "markdown",
   "metadata": {},
   "source": [
    "Dans un tel cas, on peut s'en sortir (depuis Python 3.5) en utilisant le caractère _encore plus spécial_ `'**'` ! Celui-ci va vous permettre d'aller fouiller dans tous les sous-sous-dossiers _à l'infini_ pour trouver un fichier bien particulier. Il ne fonctionne donc que pour les dossiers. Si vous voulez l'utiliser, il faudra ajouter en plus des `'**'` de l'arborescence l'option `recursive=True` dans l'appel à notre fonction. Cela donne, pour nos fichiers `.csv` : "
   ]
  },
  {
   "cell_type": "code",
   "execution_count": null,
   "metadata": {},
   "outputs": [],
   "source": [
    "glob.glob('./**/*.csv', recursive=True)"
   ]
  },
  {
   "cell_type": "markdown",
   "metadata": {},
   "source": [
    "__Exercices__ : Le code suivant crée un dossier `exercise` contenant des fichiers. \n",
    "* _Sans_ utiliser la fonction `rmtree()`, ajoutez du code utilisant `glob` et `os` et une boucle `for` (par exemple) afin de vider automatiquement le dossier puis de le supprimer. \n",
    "* Essayez ensuite de ne supprimer que les fichiers `.txt` du dossier de manière également automatique, en utilisant également les fonctions du module `os`, `glob` et une autre boucle `for`."
   ]
  },
  {
   "cell_type": "code",
   "execution_count": null,
   "metadata": {},
   "outputs": [],
   "source": [
    "import os \n",
    "\n",
    "os.makedirs('./exercise/', exist_ok=True)\n",
    "\n",
    "with open('./exercise/file.txt', 'w') as f:\n",
    "    f.write('Noooo')\n",
    "with open('./exercise/grump.txt', 'w') as g:\n",
    "    g.write('Please')\n",
    "with open('./exercise/secret.dat', 'w') as h:\n",
    "    h.write('The answer to the ultimate question about life, etc. is ... *argh*')\n",
    "\n",
    "# Your code here !"
   ]
  }
 ],
 "metadata": {
  "kernelspec": {
   "display_name": "Python 3 (ipykernel)",
   "language": "python",
   "name": "python3"
  },
  "language_info": {
   "codemirror_mode": {
    "name": "ipython",
    "version": 3
   },
   "file_extension": ".py",
   "mimetype": "text/x-python",
   "name": "python",
   "nbconvert_exporter": "python",
   "pygments_lexer": "ipython3",
   "version": "3.9.7"
  },
  "vscode": {
   "interpreter": {
    "hash": "cb9c252e610b593a3421828f92740a33c32c552b9658c846af1824aa6c7c0cc9"
   }
  }
 },
 "nbformat": 4,
 "nbformat_minor": 4
}
