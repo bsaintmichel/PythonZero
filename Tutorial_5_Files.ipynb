{
 "cells": [
  {
   "cell_type": "markdown",
   "metadata": {},
   "source": [
    "## Gérer des fichiers avec Python\n",
    "\n",
    "### Généralités\n",
    "\n",
    "Les ordinateurs sont assez merveilleux, mais ils le seraient moins s'ils n'étaient pas capables d'enregistrer des données et de ne pas les perdre une fois que le programme (ou l'ordinateur) est éteint. Dans ce (court) tutoriel, je vais vous apprendre à \n",
    "\n",
    "* Ouvrir un fichier, le lire, et écrire dedans grâce à la fonction `open()` et le mot-clé `with`\n",
    "* Trouver des fichiers dans une arborescence avec le mini-module `glob`, et changer de dossier avec le mini-module `os`\n",
    "* Faire un peu d'_analyse syntaxique_ (parsing) avec l'infernal mini-module `re` "
   ]
  },
  {
   "cell_type": "markdown",
   "metadata": {},
   "source": [
    "### Manipulation des fichiers \n",
    "\n",
    "En Python, manipuler des fichiers est vraiment aisé. En même temps, cela n'est pas non plus si difficile que ça dans les autres langages de progammation... \n",
    "\n",
    "#### Ouverture et fermeture\n",
    "\n",
    "Supposons que je veux lire un fichier (bien nommé `toto` dans la tradition française) dans le sous-dossier `files` de mon dossier actuel. Rien de plus simple, j'utilise simplement la fonction Python native `open()`. Une fois que le fichier est ouvert, je peux utiliser la _méthode_ `.close()` associée au fichier pour le fermer.\n",
    "\n",
    "_Note_ Pour accéder à votre sous-dossier `files` et les fichiers qui s'y trouvent, vous devrez utiliser une barre oblique `/` (sous Mac, Unix et en fait même sous Windows), mais si vous êtes un fana de Windows, sachez que les barres obliques inverses de Windows `\\` doivent être doublées `\\\\` pour être correctement interprétées. "
   ]
  },
  {
   "cell_type": "code",
   "execution_count": 6,
   "metadata": {},
   "outputs": [],
   "source": [
    "my_file = open('files/toto')\n",
    "my_file.close()                 # A very discreet peek !"
   ]
  },
  {
   "cell_type": "markdown",
   "metadata": {},
   "source": [
    "Une possibilité alternative consiste à ouvrir mon fichier dans bloc `with ... as ...` de la manière suivante :"
   ]
  },
  {
   "cell_type": "code",
   "execution_count": 11,
   "metadata": {},
   "outputs": [
    {
     "name": "stdout",
     "output_type": "stream",
     "text": [
      "File is open !\n"
     ]
    }
   ],
   "source": [
    "with open('files/toto') as my_file:\n",
    "    print('File is open !')\n"
   ]
  },
  {
   "cell_type": "markdown",
   "metadata": {},
   "source": [
    "La principale différence, ici, est que pour un nom de fichier _incorrect_, la première version du code va renvoyer une erreur, tandis que la version construite avec `with .. as ..`, elle, ne va pas renvoyer une erreur. Essayez, par exemple, d'ouvrir un fichier `titi` qui, lui, n'existe pas ... encore :-)"
   ]
  },
  {
   "cell_type": "markdown",
   "metadata": {},
   "source": [
    "#### Accès en lecture et écriture\n",
    "\n",
    "Par défaut, Python vous laisse lire un fichier, c'est l'accès `'r'` des amateurs d'Unix. Vous pouvez décider à la place que vous souhaitez créer un nouveau fichier et écrire dedans. Dans ce cas, on va préciser un argument à `open()` nommé `mode`. Il existe [bien des modes](https://docs.python.org/3/library/functions.html#open), les principaux étant : \n",
    "\n",
    "* `'r'` : accès en _lecture seule_. Va planter si le fichier n'existe pas\n",
    "* `'w'` : accès en _écriture_ pour un fichier. __Va écraser le fichier existant__. Ne plante pas si le fichier n'existe pas.\n",
    "* `'a'` : accès en _écriture_ pour un fichier. __Ajoute le contenu à la suite du fichier__. Ne plante pas si le fichier n'existe pas.\n",
    "* `'x'` : création d'un nouveau fichier, et accès _en écriture_ de celui-ci. Plante si le fichier existe déjà.\n",
    "\n",
    "Tous ces modes d'ouverture correspondent à des fichiers qui contiennent du _texte_."
   ]
  },
  {
   "cell_type": "markdown",
   "metadata": {},
   "source": [
    "##### Lecture avec `read()`, `readlines()` et `readlines()` et `for`\n",
    "\n",
    "Pour lire l'intégralité d'un fichier, on va simplement utiliser la méthode `.read()` du fichier, sans argument. Dans un tel cas, Python va lire tout le fichier et nous le renvoyer dans une variable. Cela donne : "
   ]
  },
  {
   "cell_type": "code",
   "execution_count": 19,
   "metadata": {},
   "outputs": [
    {
     "name": "stdout",
     "output_type": "stream",
     "text": [
      "This file is named 'toto'\n",
      "It is a very nice file\n",
      "How are you doing today ? \n",
      "Is the weather nice ?\n",
      "Here is my shopping list for this week \n",
      "-----------------------\n",
      "Beetroots   1 kg\n",
      "Potatoes    2 kg\n",
      "Leeks   1 kg\n",
      "Pasta   2 kg\n",
      "Hummus  3 kg\n",
      "Milk    2 litres\n",
      "Tea 2 litres\n",
      "Butter  500 g\n",
      "-----------------------\n",
      "We are dangerously approaching the end of the file\n",
      "Hope you are still having a nice day !\n"
     ]
    }
   ],
   "source": [
    "with open('files/toto') as my_file:\n",
    "    txt = my_file.read()\n",
    "print(txt)"
   ]
  },
  {
   "cell_type": "markdown",
   "metadata": {},
   "source": [
    "Vous l'aurez peut-être remarqué, ma variable `txt` est une simple chaîne de caractères. On a parfois besoin de lire le code ligne par ligne, ou de séparer les lignes en question durant la lecture. La méthode `.readlines()` va lire tout le fichier et renvoyer une liste dont chaque élément corresond à une ligne du fichier. On peut alors demander à Python de n'imprimer qu'une ligne (au choix) du fichier.\n",
    "\n",
    "_Note_ : cette fonction est __bien entendu déconseillée__ pour les très gros fichiers qui dépassent les centaines de milliers de lignes. "
   ]
  },
  {
   "cell_type": "code",
   "execution_count": 21,
   "metadata": {},
   "outputs": [
    {
     "name": "stdout",
     "output_type": "stream",
     "text": [
      "This file is named 'toto'\n",
      "\n",
      "Hope you are still having a nice day !\n"
     ]
    }
   ],
   "source": [
    "with open('files/toto') as my_file:\n",
    "    lst = my_file.readlines()\n",
    "\n",
    "print(lst[0])\n",
    "print(lst[-1])"
   ]
  },
  {
   "cell_type": "markdown",
   "metadata": {},
   "source": [
    "Vous pouvez enfin demander à Python de ne lire qu'une seule ligne et d' 'aller à la ligne suivante' ensuite avec la méthode `.readline()`. Celle-ci se combine bien avec une boucle `while` : "
   ]
  },
  {
   "cell_type": "code",
   "execution_count": 27,
   "metadata": {},
   "outputs": [
    {
     "name": "stdout",
     "output_type": "stream",
     "text": [
      "This file is named 'toto'\n",
      "\n",
      "It is a very nice file\n",
      "\n",
      "How are you doing today ? \n",
      "\n",
      "Is the weather nice ?\n",
      "\n",
      "Here is my shopping list for this week \n",
      "\n",
      "-----------------------\n",
      "\n",
      "Beetroots   1 kg\n",
      "\n",
      "Potatoes    2 kg\n",
      "\n",
      "Hummus  3 kg\n",
      "\n",
      "Milk    2 litres\n",
      "\n",
      "Tea 2 litres\n",
      "\n",
      "Butter  500 g\n",
      "\n",
      "-----------------------\n",
      "\n",
      "We are dangerously approaching the end of the file\n",
      "\n",
      "Hope you are still having a nice day !\n"
     ]
    }
   ],
   "source": [
    "with open('files/toto') as my_file:\n",
    "    txt = my_file.readline()\n",
    "    is_file_finished = False\n",
    "    while not is_file_finished:\n",
    "        print(txt)\n",
    "        txt = my_file.readline()\n",
    "        is_file_finished = (txt == '')"
   ]
  },
  {
   "cell_type": "markdown",
   "metadata": {},
   "source": [
    "Pour savoir si le fichier est terminé ou non, on examine le résultat de `my_file.readline()`. Si celui-ci est une chaîne de caractères vide: `''`, alors le fichier est terminé. \n",
    "\n",
    "Si vous êtes _encore plus paresseux_ (et c'est une bonne chose), vous pouvez même directement utiliser une boucle `for` du type `for x in my_file` pour que votre variable `x` 'devienne' chacune des lignes du fichier, à la manière d'un `.readline()`. Le code devient alors limpide, même si on peut se demander pourquoi on a le droit d'effectuer une telle diablerie :"
   ]
  },
  {
   "cell_type": "code",
   "execution_count": 28,
   "metadata": {},
   "outputs": [
    {
     "name": "stdout",
     "output_type": "stream",
     "text": [
      "This file is named 'toto'\n",
      "\n",
      "It is a very nice file\n",
      "\n",
      "How are you doing today ? \n",
      "\n",
      "Is the weather nice ?\n",
      "\n",
      "Here is my shopping list for this week \n",
      "\n",
      "-----------------------\n",
      "\n",
      "Beetroots   1 kg\n",
      "\n",
      "Potatoes    2 kg\n",
      "\n",
      "Hummus  3 kg\n",
      "\n",
      "Milk    2 litres\n",
      "\n",
      "Tea 2 litres\n",
      "\n",
      "Butter  500 g\n",
      "\n",
      "-----------------------\n",
      "\n",
      "We are dangerously approaching the end of the file\n",
      "\n",
      "Hope you are still having a nice day !\n"
     ]
    }
   ],
   "source": [
    "with open('files/toto') as my_file:\n",
    "    for line in my_file:\n",
    "        print(line)"
   ]
  },
  {
   "cell_type": "code",
   "execution_count": null,
   "metadata": {},
   "outputs": [],
   "source": []
  }
 ],
 "metadata": {
  "kernelspec": {
   "display_name": "Python 3 (ipykernel)",
   "language": "python",
   "name": "python3"
  },
  "language_info": {
   "codemirror_mode": {
    "name": "ipython",
    "version": 3
   },
   "file_extension": ".py",
   "mimetype": "text/x-python",
   "name": "python",
   "nbconvert_exporter": "python",
   "pygments_lexer": "ipython3",
   "version": "3.9.7"
  },
  "vscode": {
   "interpreter": {
    "hash": "cb9c252e610b593a3421828f92740a33c32c552b9658c846af1824aa6c7c0cc9"
   }
  }
 },
 "nbformat": 4,
 "nbformat_minor": 4
}
